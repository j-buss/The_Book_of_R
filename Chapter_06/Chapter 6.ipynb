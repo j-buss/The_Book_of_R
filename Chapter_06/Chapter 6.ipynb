{
 "cells": [
  {
   "cell_type": "markdown",
   "id": "df1915e0",
   "metadata": {},
   "source": [
    "## 6.1"
   ]
  },
  {
   "cell_type": "markdown",
   "id": "08502650",
   "metadata": {},
   "source": [
    "### a"
   ]
  },
  {
   "cell_type": "code",
   "execution_count": 3,
   "id": "5d1344fc",
   "metadata": {},
   "outputs": [],
   "source": [
    "foo <- c(13563, -14156, -14319, 16981, 12921, 11979, 9568, 8833, -12968, 8133)"
   ]
  },
  {
   "cell_type": "code",
   "execution_count": 7,
   "id": "e2fc3ff9",
   "metadata": {},
   "outputs": [
    {
     "data": {
      "text/html": [
       "<style>\n",
       ".list-inline {list-style: none; margin:0; padding: 0}\n",
       ".list-inline>li {display: inline-block}\n",
       ".list-inline>li:not(:last-child)::after {content: \"\\00b7\"; padding: 0 .5ex}\n",
       "</style>\n",
       "<ol class=list-inline><li>11979</li><li>9568</li><li>8833</li><li>8133</li></ol>\n"
      ],
      "text/latex": [
       "\\begin{enumerate*}\n",
       "\\item 11979\n",
       "\\item 9568\n",
       "\\item 8833\n",
       "\\item 8133\n",
       "\\end{enumerate*}\n"
      ],
      "text/markdown": [
       "1. 11979\n",
       "2. 9568\n",
       "3. 8833\n",
       "4. 8133\n",
       "\n",
       "\n"
      ],
      "text/plain": [
       "[1] 11979  9568  8833  8133"
      ]
     },
     "metadata": {},
     "output_type": "display_data"
    }
   ],
   "source": [
    "#i\n",
    "foo[is.finite(foo^75)]"
   ]
  },
  {
   "cell_type": "code",
   "execution_count": 14,
   "id": "472abf4a",
   "metadata": {},
   "outputs": [
    {
     "data": {
      "text/html": [
       "<style>\n",
       ".list-inline {list-style: none; margin:0; padding: 0}\n",
       ".list-inline>li {display: inline-block}\n",
       ".list-inline>li:not(:last-child)::after {content: \"\\00b7\"; padding: 0 .5ex}\n",
       "</style>\n",
       "<ol class=list-inline><li>13563</li><li>16981</li><li>12921</li><li>11979</li><li>9568</li><li>8833</li><li>8133</li></ol>\n"
      ],
      "text/latex": [
       "\\begin{enumerate*}\n",
       "\\item 13563\n",
       "\\item 16981\n",
       "\\item 12921\n",
       "\\item 11979\n",
       "\\item 9568\n",
       "\\item 8833\n",
       "\\item 8133\n",
       "\\end{enumerate*}\n"
      ],
      "text/markdown": [
       "1. 13563\n",
       "2. 16981\n",
       "3. 12921\n",
       "4. 11979\n",
       "5. 9568\n",
       "6. 8833\n",
       "7. 8133\n",
       "\n",
       "\n"
      ],
      "text/plain": [
       "[1] 13563 16981 12921 11979  9568  8833  8133"
      ]
     },
     "metadata": {},
     "output_type": "display_data"
    }
   ],
   "source": [
    "#ii\n",
    "foo[!(abs(foo^75) != (foo^75))]"
   ]
  },
  {
   "cell_type": "markdown",
   "id": "66ad6d0f",
   "metadata": {},
   "source": [
    "### b"
   ]
  },
  {
   "cell_type": "code",
   "execution_count": 16,
   "id": "b1f21f94",
   "metadata": {},
   "outputs": [],
   "source": [
    "bar <- matrix(\n",
    "    c(77875.40,-35466.25,-39803.81, 27551.45, -73333.85, 55976.34, \n",
    "      23764.30, 36599.69, 76694.82, -36478.88, -70585.69, 47032.00),\n",
    "    nrow = 3, \n",
    "    ncol = 4\n",
    ")"
   ]
  },
  {
   "cell_type": "code",
   "execution_count": 17,
   "id": "acb79291",
   "metadata": {},
   "outputs": [
    {
     "data": {
      "text/html": [
       "<table class=\"dataframe\">\n",
       "<caption>A matrix: 3 × 4 of type dbl</caption>\n",
       "<tbody>\n",
       "\t<tr><td> 77875.40</td><td> 27551.45</td><td>23764.30</td><td>-36478.88</td></tr>\n",
       "\t<tr><td>-35466.25</td><td>-73333.85</td><td>36599.69</td><td>-70585.69</td></tr>\n",
       "\t<tr><td>-39803.81</td><td> 55976.34</td><td>76694.82</td><td> 47032.00</td></tr>\n",
       "</tbody>\n",
       "</table>\n"
      ],
      "text/latex": [
       "A matrix: 3 × 4 of type dbl\n",
       "\\begin{tabular}{llll}\n",
       "\t  77875.40 &  27551.45 & 23764.30 & -36478.88\\\\\n",
       "\t -35466.25 & -73333.85 & 36599.69 & -70585.69\\\\\n",
       "\t -39803.81 &  55976.34 & 76694.82 &  47032.00\\\\\n",
       "\\end{tabular}\n"
      ],
      "text/markdown": [
       "\n",
       "A matrix: 3 × 4 of type dbl\n",
       "\n",
       "|  77875.40 |  27551.45 | 23764.30 | -36478.88 |\n",
       "| -35466.25 | -73333.85 | 36599.69 | -70585.69 |\n",
       "| -39803.81 |  55976.34 | 76694.82 |  47032.00 |\n",
       "\n"
      ],
      "text/plain": [
       "     [,1]      [,2]      [,3]     [,4]     \n",
       "[1,]  77875.40  27551.45 23764.30 -36478.88\n",
       "[2,] -35466.25 -73333.85 36599.69 -70585.69\n",
       "[3,] -39803.81  55976.34 76694.82  47032.00"
      ]
     },
     "metadata": {},
     "output_type": "display_data"
    }
   ],
   "source": [
    "bar"
   ]
  },
  {
   "cell_type": "code",
   "execution_count": 25,
   "id": "ef3d1ac5",
   "metadata": {},
   "outputs": [
    {
     "data": {
      "text/html": [
       "<style>\n",
       ".list-inline {list-style: none; margin:0; padding: 0}\n",
       ".list-inline>li {display: inline-block}\n",
       ".list-inline>li:not(:last-child)::after {content: \"\\00b7\"; padding: 0 .5ex}\n",
       "</style>\n",
       "<ol class=list-inline><li>1</li><li>5</li><li>6</li><li>9</li><li>11</li></ol>\n"
      ],
      "text/latex": [
       "\\begin{enumerate*}\n",
       "\\item 1\n",
       "\\item 5\n",
       "\\item 6\n",
       "\\item 9\n",
       "\\item 11\n",
       "\\end{enumerate*}\n"
      ],
      "text/markdown": [
       "1. 1\n",
       "2. 5\n",
       "3. 6\n",
       "4. 9\n",
       "5. 11\n",
       "\n",
       "\n"
      ],
      "text/plain": [
       "[1]  1  5  6  9 11"
      ]
     },
     "metadata": {},
     "output_type": "display_data"
    }
   ],
   "source": [
    "#i\n",
    "which(x=is.nan((bar^65) / Inf))"
   ]
  },
  {
   "cell_type": "code",
   "execution_count": 37,
   "id": "315bc908",
   "metadata": {},
   "outputs": [
    {
     "data": {
      "text/html": [
       "<style>\n",
       ".list-inline {list-style: none; margin:0; padding: 0}\n",
       ".list-inline>li {display: inline-block}\n",
       ".list-inline>li:not(:last-child)::after {content: \"\\00b7\"; padding: 0 .5ex}\n",
       "</style>\n",
       "<ol class=list-inline><li>1</li><li>2</li><li>3</li><li>4</li><li>6</li><li>7</li><li>8</li><li>9</li><li>10</li><li>12</li></ol>\n"
      ],
      "text/latex": [
       "\\begin{enumerate*}\n",
       "\\item 1\n",
       "\\item 2\n",
       "\\item 3\n",
       "\\item 4\n",
       "\\item 6\n",
       "\\item 7\n",
       "\\item 8\n",
       "\\item 9\n",
       "\\item 10\n",
       "\\item 12\n",
       "\\end{enumerate*}\n"
      ],
      "text/markdown": [
       "1. 1\n",
       "2. 2\n",
       "3. 3\n",
       "4. 4\n",
       "5. 6\n",
       "6. 7\n",
       "7. 8\n",
       "8. 9\n",
       "9. 10\n",
       "10. 12\n",
       "\n",
       "\n"
      ],
      "text/plain": [
       " [1]  1  2  3  4  6  7  8  9 10 12"
      ]
     },
     "metadata": {},
     "output_type": "display_data"
    }
   ],
   "source": [
    "#ii\n",
    "which(x=!is.nan(bar^67 + Inf))"
   ]
  },
  {
   "cell_type": "code",
   "execution_count": 38,
   "id": "2616cb51",
   "metadata": {},
   "outputs": [
    {
     "data": {
      "text/html": [
       "<style>\n",
       ".list-inline {list-style: none; margin:0; padding: 0}\n",
       ".list-inline>li {display: inline-block}\n",
       ".list-inline>li:not(:last-child)::after {content: \"\\00b7\"; padding: 0 .5ex}\n",
       "</style>\n",
       "<ol class=list-inline><li>1</li><li>2</li><li>3</li><li>4</li><li>6</li><li>7</li><li>8</li><li>9</li><li>10</li><li>12</li></ol>\n"
      ],
      "text/latex": [
       "\\begin{enumerate*}\n",
       "\\item 1\n",
       "\\item 2\n",
       "\\item 3\n",
       "\\item 4\n",
       "\\item 6\n",
       "\\item 7\n",
       "\\item 8\n",
       "\\item 9\n",
       "\\item 10\n",
       "\\item 12\n",
       "\\end{enumerate*}\n"
      ],
      "text/markdown": [
       "1. 1\n",
       "2. 2\n",
       "3. 3\n",
       "4. 4\n",
       "5. 6\n",
       "6. 7\n",
       "7. 8\n",
       "8. 9\n",
       "9. 10\n",
       "10. 12\n",
       "\n",
       "\n"
      ],
      "text/plain": [
       " [1]  1  2  3  4  6  7  8  9 10 12"
      ]
     },
     "metadata": {},
     "output_type": "display_data"
    }
   ],
   "source": [
    "which(x=bar^67!=-Inf)"
   ]
  },
  {
   "cell_type": "code",
   "execution_count": 41,
   "id": "a505e8fb",
   "metadata": {},
   "outputs": [
    {
     "data": {
      "text/html": [
       "<style>\n",
       ".list-inline {list-style: none; margin:0; padding: 0}\n",
       ".list-inline>li {display: inline-block}\n",
       ".list-inline>li:not(:last-child)::after {content: \"\\00b7\"; padding: 0 .5ex}\n",
       "</style>\n",
       "<ol class=list-inline><li>2</li><li>3</li><li>4</li><li>5</li><li>7</li><li>8</li><li>10</li><li>11</li></ol>\n"
      ],
      "text/latex": [
       "\\begin{enumerate*}\n",
       "\\item 2\n",
       "\\item 3\n",
       "\\item 4\n",
       "\\item 5\n",
       "\\item 7\n",
       "\\item 8\n",
       "\\item 10\n",
       "\\item 11\n",
       "\\end{enumerate*}\n"
      ],
      "text/markdown": [
       "1. 2\n",
       "2. 3\n",
       "3. 4\n",
       "4. 5\n",
       "5. 7\n",
       "6. 8\n",
       "7. 10\n",
       "8. 11\n",
       "\n",
       "\n"
      ],
      "text/plain": [
       "[1]  2  3  4  5  7  8 10 11"
      ]
     },
     "metadata": {},
     "output_type": "display_data"
    }
   ],
   "source": [
    "#iii\n",
    "which(x=!(bar^67==Inf))"
   ]
  },
  {
   "cell_type": "markdown",
   "id": "9f0a2ca7",
   "metadata": {},
   "source": [
    "## 6.2"
   ]
  },
  {
   "cell_type": "markdown",
   "id": "98b89a03",
   "metadata": {},
   "source": [
    "### a"
   ]
  },
  {
   "cell_type": "code",
   "execution_count": 44,
   "id": "d39df60b",
   "metadata": {},
   "outputs": [],
   "source": [
    "foo <- c(4.3, 2.2, NULL, 2.4, NaN, 3.3, 3.1, NULL, 3.4, NA)"
   ]
  },
  {
   "cell_type": "code",
   "execution_count": 46,
   "id": "24652fef",
   "metadata": {},
   "outputs": [
    {
     "data": {
      "text/html": [
       "8"
      ],
      "text/latex": [
       "8"
      ],
      "text/markdown": [
       "8"
      ],
      "text/plain": [
       "[1] 8"
      ]
     },
     "metadata": {},
     "output_type": "display_data"
    }
   ],
   "source": [
    "#i\n",
    "length(foo)"
   ]
  },
  {
   "cell_type": "code",
   "execution_count": 47,
   "id": "4dd30526",
   "metadata": {},
   "outputs": [
    {
     "data": {
      "text/html": [
       "<style>\n",
       ".list-inline {list-style: none; margin:0; padding: 0}\n",
       ".list-inline>li {display: inline-block}\n",
       ".list-inline>li:not(:last-child)::after {content: \"\\00b7\"; padding: 0 .5ex}\n",
       "</style>\n",
       "<ol class=list-inline><li>4</li><li>8</li></ol>\n"
      ],
      "text/latex": [
       "\\begin{enumerate*}\n",
       "\\item 4\n",
       "\\item 8\n",
       "\\end{enumerate*}\n"
      ],
      "text/markdown": [
       "1. 4\n",
       "2. 8\n",
       "\n",
       "\n"
      ],
      "text/plain": [
       "[1] 4 8"
      ]
     },
     "metadata": {},
     "output_type": "display_data"
    }
   ],
   "source": [
    "#ii\n",
    "which(x=is.na(x=foo))"
   ]
  },
  {
   "cell_type": "code",
   "execution_count": 48,
   "id": "dee837cf",
   "metadata": {},
   "outputs": [
    {
     "data": {
      "text/html": [
       "FALSE"
      ],
      "text/latex": [
       "FALSE"
      ],
      "text/markdown": [
       "FALSE"
      ],
      "text/plain": [
       "[1] FALSE"
      ]
     },
     "metadata": {},
     "output_type": "display_data"
    }
   ],
   "source": [
    "#iii\n",
    "is.null(x=foo)"
   ]
  },
  {
   "cell_type": "code",
   "execution_count": 55,
   "id": "ee41ab8e",
   "metadata": {},
   "outputs": [
    {
     "data": {
      "text/html": [],
      "text/latex": [],
      "text/markdown": [],
      "text/plain": [
       "numeric(0)"
      ]
     },
     "metadata": {},
     "output_type": "display_data"
    }
   ],
   "source": [
    "#iv\n",
    "is.na(x=foo[8])+4/NULL"
   ]
  },
  {
   "cell_type": "markdown",
   "id": "385b75a8",
   "metadata": {},
   "source": [
    "### b"
   ]
  },
  {
   "cell_type": "code",
   "execution_count": null,
   "id": "422cb6ed",
   "metadata": {},
   "outputs": [],
   "source": []
  }
 ],
 "metadata": {
  "kernelspec": {
   "display_name": "R",
   "language": "R",
   "name": "ir"
  },
  "language_info": {
   "codemirror_mode": "r",
   "file_extension": ".r",
   "mimetype": "text/x-r-source",
   "name": "R",
   "pygments_lexer": "r",
   "version": "3.6.3"
  }
 },
 "nbformat": 4,
 "nbformat_minor": 5
}
