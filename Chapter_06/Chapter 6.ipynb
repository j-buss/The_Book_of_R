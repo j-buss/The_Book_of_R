{
 "cells": [
  {
   "cell_type": "markdown",
   "id": "df1915e0",
   "metadata": {},
   "source": [
    "## 6.1"
   ]
  },
  {
   "cell_type": "markdown",
   "id": "08502650",
   "metadata": {},
   "source": [
    "### a"
   ]
  },
  {
   "cell_type": "code",
   "execution_count": 1,
   "id": "5d1344fc",
   "metadata": {},
   "outputs": [],
   "source": [
    "foo <- c(13563, -14156, -14319, 16981, 12921, 11979, 9568, 8833, -12968, 8133)"
   ]
  },
  {
   "cell_type": "code",
   "execution_count": 20,
   "id": "e2fc3ff9",
   "metadata": {},
   "outputs": [
    {
     "data": {
      "text/html": [
       "<style>\n",
       ".list-inline {list-style: none; margin:0; padding: 0}\n",
       ".list-inline>li {display: inline-block}\n",
       ".list-inline>li:not(:last-child)::after {content: \"\\00b7\"; padding: 0 .5ex}\n",
       "</style>\n",
       "<ol class=list-inline><li>4.3</li><li>2.2</li><li>2.4</li><li>3.3</li><li>3.1</li><li>3.4</li></ol>\n"
      ],
      "text/latex": [
       "\\begin{enumerate*}\n",
       "\\item 4.3\n",
       "\\item 2.2\n",
       "\\item 2.4\n",
       "\\item 3.3\n",
       "\\item 3.1\n",
       "\\item 3.4\n",
       "\\end{enumerate*}\n"
      ],
      "text/markdown": [
       "1. 4.3\n",
       "2. 2.2\n",
       "3. 2.4\n",
       "4. 3.3\n",
       "5. 3.1\n",
       "6. 3.4\n",
       "\n",
       "\n"
      ],
      "text/plain": [
       "[1] 4.3 2.2 2.4 3.3 3.1 3.4"
      ]
     },
     "metadata": {},
     "output_type": "display_data"
    }
   ],
   "source": [
    "#i\n",
    "foo[is.finite(foo^75)]"
   ]
  },
  {
   "cell_type": "code",
   "execution_count": 3,
   "id": "472abf4a",
   "metadata": {},
   "outputs": [
    {
     "data": {
      "text/html": [
       "<style>\n",
       ".list-inline {list-style: none; margin:0; padding: 0}\n",
       ".list-inline>li {display: inline-block}\n",
       ".list-inline>li:not(:last-child)::after {content: \"\\00b7\"; padding: 0 .5ex}\n",
       "</style>\n",
       "<ol class=list-inline><li>13563</li><li>16981</li><li>12921</li><li>11979</li><li>9568</li><li>8833</li><li>8133</li></ol>\n"
      ],
      "text/latex": [
       "\\begin{enumerate*}\n",
       "\\item 13563\n",
       "\\item 16981\n",
       "\\item 12921\n",
       "\\item 11979\n",
       "\\item 9568\n",
       "\\item 8833\n",
       "\\item 8133\n",
       "\\end{enumerate*}\n"
      ],
      "text/markdown": [
       "1. 13563\n",
       "2. 16981\n",
       "3. 12921\n",
       "4. 11979\n",
       "5. 9568\n",
       "6. 8833\n",
       "7. 8133\n",
       "\n",
       "\n"
      ],
      "text/plain": [
       "[1] 13563 16981 12921 11979  9568  8833  8133"
      ]
     },
     "metadata": {},
     "output_type": "display_data"
    }
   ],
   "source": [
    "#ii\n",
    "foo[!(abs(foo^75) != (foo^75))]"
   ]
  },
  {
   "cell_type": "markdown",
   "id": "66ad6d0f",
   "metadata": {},
   "source": [
    "### b"
   ]
  },
  {
   "cell_type": "code",
   "execution_count": 4,
   "id": "b1f21f94",
   "metadata": {},
   "outputs": [],
   "source": [
    "bar <- matrix(\n",
    "    c(77875.40,-35466.25,-39803.81, 27551.45, -73333.85, 55976.34, \n",
    "      23764.30, 36599.69, 76694.82, -36478.88, -70585.69, 47032.00),\n",
    "    nrow = 3, \n",
    "    ncol = 4\n",
    ")"
   ]
  },
  {
   "cell_type": "code",
   "execution_count": 5,
   "id": "acb79291",
   "metadata": {},
   "outputs": [
    {
     "data": {
      "text/html": [
       "<table class=\"dataframe\">\n",
       "<caption>A matrix: 3 × 4 of type dbl</caption>\n",
       "<tbody>\n",
       "\t<tr><td> 77875.40</td><td> 27551.45</td><td>23764.30</td><td>-36478.88</td></tr>\n",
       "\t<tr><td>-35466.25</td><td>-73333.85</td><td>36599.69</td><td>-70585.69</td></tr>\n",
       "\t<tr><td>-39803.81</td><td> 55976.34</td><td>76694.82</td><td> 47032.00</td></tr>\n",
       "</tbody>\n",
       "</table>\n"
      ],
      "text/latex": [
       "A matrix: 3 × 4 of type dbl\n",
       "\\begin{tabular}{llll}\n",
       "\t  77875.40 &  27551.45 & 23764.30 & -36478.88\\\\\n",
       "\t -35466.25 & -73333.85 & 36599.69 & -70585.69\\\\\n",
       "\t -39803.81 &  55976.34 & 76694.82 &  47032.00\\\\\n",
       "\\end{tabular}\n"
      ],
      "text/markdown": [
       "\n",
       "A matrix: 3 × 4 of type dbl\n",
       "\n",
       "|  77875.40 |  27551.45 | 23764.30 | -36478.88 |\n",
       "| -35466.25 | -73333.85 | 36599.69 | -70585.69 |\n",
       "| -39803.81 |  55976.34 | 76694.82 |  47032.00 |\n",
       "\n"
      ],
      "text/plain": [
       "     [,1]      [,2]      [,3]     [,4]     \n",
       "[1,]  77875.40  27551.45 23764.30 -36478.88\n",
       "[2,] -35466.25 -73333.85 36599.69 -70585.69\n",
       "[3,] -39803.81  55976.34 76694.82  47032.00"
      ]
     },
     "metadata": {},
     "output_type": "display_data"
    }
   ],
   "source": [
    "bar"
   ]
  },
  {
   "cell_type": "code",
   "execution_count": 6,
   "id": "ef3d1ac5",
   "metadata": {},
   "outputs": [
    {
     "data": {
      "text/html": [
       "<style>\n",
       ".list-inline {list-style: none; margin:0; padding: 0}\n",
       ".list-inline>li {display: inline-block}\n",
       ".list-inline>li:not(:last-child)::after {content: \"\\00b7\"; padding: 0 .5ex}\n",
       "</style>\n",
       "<ol class=list-inline><li>1</li><li>5</li><li>6</li><li>9</li><li>11</li></ol>\n"
      ],
      "text/latex": [
       "\\begin{enumerate*}\n",
       "\\item 1\n",
       "\\item 5\n",
       "\\item 6\n",
       "\\item 9\n",
       "\\item 11\n",
       "\\end{enumerate*}\n"
      ],
      "text/markdown": [
       "1. 1\n",
       "2. 5\n",
       "3. 6\n",
       "4. 9\n",
       "5. 11\n",
       "\n",
       "\n"
      ],
      "text/plain": [
       "[1]  1  5  6  9 11"
      ]
     },
     "metadata": {},
     "output_type": "display_data"
    }
   ],
   "source": [
    "#i\n",
    "which(x=is.nan((bar^65) / Inf))"
   ]
  },
  {
   "cell_type": "code",
   "execution_count": 7,
   "id": "315bc908",
   "metadata": {},
   "outputs": [
    {
     "data": {
      "text/html": [
       "<style>\n",
       ".list-inline {list-style: none; margin:0; padding: 0}\n",
       ".list-inline>li {display: inline-block}\n",
       ".list-inline>li:not(:last-child)::after {content: \"\\00b7\"; padding: 0 .5ex}\n",
       "</style>\n",
       "<ol class=list-inline><li>1</li><li>2</li><li>3</li><li>4</li><li>6</li><li>7</li><li>8</li><li>9</li><li>10</li><li>12</li></ol>\n"
      ],
      "text/latex": [
       "\\begin{enumerate*}\n",
       "\\item 1\n",
       "\\item 2\n",
       "\\item 3\n",
       "\\item 4\n",
       "\\item 6\n",
       "\\item 7\n",
       "\\item 8\n",
       "\\item 9\n",
       "\\item 10\n",
       "\\item 12\n",
       "\\end{enumerate*}\n"
      ],
      "text/markdown": [
       "1. 1\n",
       "2. 2\n",
       "3. 3\n",
       "4. 4\n",
       "5. 6\n",
       "6. 7\n",
       "7. 8\n",
       "8. 9\n",
       "9. 10\n",
       "10. 12\n",
       "\n",
       "\n"
      ],
      "text/plain": [
       " [1]  1  2  3  4  6  7  8  9 10 12"
      ]
     },
     "metadata": {},
     "output_type": "display_data"
    }
   ],
   "source": [
    "#ii\n",
    "which(x=!is.nan(bar^67 + Inf))"
   ]
  },
  {
   "cell_type": "code",
   "execution_count": 8,
   "id": "2616cb51",
   "metadata": {},
   "outputs": [
    {
     "data": {
      "text/html": [
       "<style>\n",
       ".list-inline {list-style: none; margin:0; padding: 0}\n",
       ".list-inline>li {display: inline-block}\n",
       ".list-inline>li:not(:last-child)::after {content: \"\\00b7\"; padding: 0 .5ex}\n",
       "</style>\n",
       "<ol class=list-inline><li>1</li><li>2</li><li>3</li><li>4</li><li>6</li><li>7</li><li>8</li><li>9</li><li>10</li><li>12</li></ol>\n"
      ],
      "text/latex": [
       "\\begin{enumerate*}\n",
       "\\item 1\n",
       "\\item 2\n",
       "\\item 3\n",
       "\\item 4\n",
       "\\item 6\n",
       "\\item 7\n",
       "\\item 8\n",
       "\\item 9\n",
       "\\item 10\n",
       "\\item 12\n",
       "\\end{enumerate*}\n"
      ],
      "text/markdown": [
       "1. 1\n",
       "2. 2\n",
       "3. 3\n",
       "4. 4\n",
       "5. 6\n",
       "6. 7\n",
       "7. 8\n",
       "8. 9\n",
       "9. 10\n",
       "10. 12\n",
       "\n",
       "\n"
      ],
      "text/plain": [
       " [1]  1  2  3  4  6  7  8  9 10 12"
      ]
     },
     "metadata": {},
     "output_type": "display_data"
    }
   ],
   "source": [
    "which(x=bar^67!=-Inf)"
   ]
  },
  {
   "cell_type": "code",
   "execution_count": 9,
   "id": "a505e8fb",
   "metadata": {},
   "outputs": [
    {
     "data": {
      "text/html": [
       "<style>\n",
       ".list-inline {list-style: none; margin:0; padding: 0}\n",
       ".list-inline>li {display: inline-block}\n",
       ".list-inline>li:not(:last-child)::after {content: \"\\00b7\"; padding: 0 .5ex}\n",
       "</style>\n",
       "<ol class=list-inline><li>2</li><li>3</li><li>4</li><li>5</li><li>7</li><li>8</li><li>10</li><li>11</li></ol>\n"
      ],
      "text/latex": [
       "\\begin{enumerate*}\n",
       "\\item 2\n",
       "\\item 3\n",
       "\\item 4\n",
       "\\item 5\n",
       "\\item 7\n",
       "\\item 8\n",
       "\\item 10\n",
       "\\item 11\n",
       "\\end{enumerate*}\n"
      ],
      "text/markdown": [
       "1. 2\n",
       "2. 3\n",
       "3. 4\n",
       "4. 5\n",
       "5. 7\n",
       "6. 8\n",
       "7. 10\n",
       "8. 11\n",
       "\n",
       "\n"
      ],
      "text/plain": [
       "[1]  2  3  4  5  7  8 10 11"
      ]
     },
     "metadata": {},
     "output_type": "display_data"
    }
   ],
   "source": [
    "#iii\n",
    "which(x=!(bar^67==Inf))"
   ]
  },
  {
   "cell_type": "markdown",
   "id": "9f0a2ca7",
   "metadata": {},
   "source": [
    "## 6.2"
   ]
  },
  {
   "cell_type": "markdown",
   "id": "98b89a03",
   "metadata": {},
   "source": [
    "### a"
   ]
  },
  {
   "cell_type": "code",
   "execution_count": 15,
   "id": "d39df60b",
   "metadata": {},
   "outputs": [],
   "source": [
    "foo <- c(4.3, 2.2, NULL, 2.4, NaN, 3.3, 3.1, NULL, 3.4, NA)"
   ]
  },
  {
   "cell_type": "code",
   "execution_count": 16,
   "id": "24652fef",
   "metadata": {},
   "outputs": [
    {
     "data": {
      "text/html": [
       "8"
      ],
      "text/latex": [
       "8"
      ],
      "text/markdown": [
       "8"
      ],
      "text/plain": [
       "[1] 8"
      ]
     },
     "metadata": {},
     "output_type": "display_data"
    }
   ],
   "source": [
    "#i\n",
    "length(foo)"
   ]
  },
  {
   "cell_type": "code",
   "execution_count": 17,
   "id": "4dd30526",
   "metadata": {},
   "outputs": [
    {
     "data": {
      "text/html": [
       "<style>\n",
       ".list-inline {list-style: none; margin:0; padding: 0}\n",
       ".list-inline>li {display: inline-block}\n",
       ".list-inline>li:not(:last-child)::after {content: \"\\00b7\"; padding: 0 .5ex}\n",
       "</style>\n",
       "<ol class=list-inline><li>4</li><li>8</li></ol>\n"
      ],
      "text/latex": [
       "\\begin{enumerate*}\n",
       "\\item 4\n",
       "\\item 8\n",
       "\\end{enumerate*}\n"
      ],
      "text/markdown": [
       "1. 4\n",
       "2. 8\n",
       "\n",
       "\n"
      ],
      "text/plain": [
       "[1] 4 8"
      ]
     },
     "metadata": {},
     "output_type": "display_data"
    }
   ],
   "source": [
    "#ii\n",
    "which(x=is.na(x=foo))"
   ]
  },
  {
   "cell_type": "code",
   "execution_count": 18,
   "id": "dee837cf",
   "metadata": {},
   "outputs": [
    {
     "data": {
      "text/html": [
       "FALSE"
      ],
      "text/latex": [
       "FALSE"
      ],
      "text/markdown": [
       "FALSE"
      ],
      "text/plain": [
       "[1] FALSE"
      ]
     },
     "metadata": {},
     "output_type": "display_data"
    }
   ],
   "source": [
    "#iii\n",
    "is.null(x=foo)"
   ]
  },
  {
   "cell_type": "code",
   "execution_count": 19,
   "id": "ee41ab8e",
   "metadata": {},
   "outputs": [
    {
     "data": {
      "text/html": [],
      "text/latex": [],
      "text/markdown": [],
      "text/plain": [
       "numeric(0)"
      ]
     },
     "metadata": {},
     "output_type": "display_data"
    }
   ],
   "source": [
    "#iv\n",
    "is.na(x=foo[8])+4/NULL"
   ]
  },
  {
   "cell_type": "markdown",
   "id": "385b75a8",
   "metadata": {},
   "source": [
    "### b"
   ]
  },
  {
   "cell_type": "code",
   "execution_count": 21,
   "id": "422cb6ed",
   "metadata": {},
   "outputs": [],
   "source": [
    "al <- c(7,7,NA,3,NA,1,1,5,NA)"
   ]
  },
  {
   "cell_type": "code",
   "execution_count": 26,
   "id": "dbb68041",
   "metadata": {},
   "outputs": [],
   "source": [
    "b_list <- list(alpha=al)"
   ]
  },
  {
   "cell_type": "code",
   "execution_count": 27,
   "id": "52bb2e72",
   "metadata": {},
   "outputs": [
    {
     "data": {
      "text/html": [
       "<strong>$alpha</strong> = <style>\n",
       ".list-inline {list-style: none; margin:0; padding: 0}\n",
       ".list-inline>li {display: inline-block}\n",
       ".list-inline>li:not(:last-child)::after {content: \"\\00b7\"; padding: 0 .5ex}\n",
       "</style>\n",
       "<ol class=list-inline><li>7</li><li>7</li><li>&lt;NA&gt;</li><li>3</li><li>&lt;NA&gt;</li><li>1</li><li>1</li><li>5</li><li>&lt;NA&gt;</li></ol>\n"
      ],
      "text/latex": [
       "\\textbf{\\$alpha} = \\begin{enumerate*}\n",
       "\\item 7\n",
       "\\item 7\n",
       "\\item <NA>\n",
       "\\item 3\n",
       "\\item <NA>\n",
       "\\item 1\n",
       "\\item 1\n",
       "\\item 5\n",
       "\\item <NA>\n",
       "\\end{enumerate*}\n"
      ],
      "text/markdown": [
       "**$alpha** = 1. 7\n",
       "2. 7\n",
       "3. &lt;NA&gt;\n",
       "4. 3\n",
       "5. &lt;NA&gt;\n",
       "6. 1\n",
       "7. 1\n",
       "8. 5\n",
       "9. &lt;NA&gt;\n",
       "\n",
       "\n"
      ],
      "text/plain": [
       "$alpha\n",
       "[1]  7  7 NA  3 NA  1  1  5 NA\n"
      ]
     },
     "metadata": {},
     "output_type": "display_data"
    }
   ],
   "source": [
    "b_list"
   ]
  },
  {
   "cell_type": "code",
   "execution_count": 31,
   "id": "5c7fa27e",
   "metadata": {},
   "outputs": [
    {
     "data": {
      "text/html": [
       "<style>\n",
       ".list-inline {list-style: none; margin:0; padding: 0}\n",
       ".list-inline>li {display: inline-block}\n",
       ".list-inline>li:not(:last-child)::after {content: \"\\00b7\"; padding: 0 .5ex}\n",
       "</style>\n",
       "<ol class=list-inline><li>7</li><li>7</li><li>&lt;NA&gt;</li><li>3</li><li>&lt;NA&gt;</li><li>1</li><li>1</li><li>5</li><li>&lt;NA&gt;</li></ol>\n"
      ],
      "text/latex": [
       "\\begin{enumerate*}\n",
       "\\item 7\n",
       "\\item 7\n",
       "\\item <NA>\n",
       "\\item 3\n",
       "\\item <NA>\n",
       "\\item 1\n",
       "\\item 1\n",
       "\\item 5\n",
       "\\item <NA>\n",
       "\\end{enumerate*}\n"
      ],
      "text/markdown": [
       "1. 7\n",
       "2. 7\n",
       "3. &lt;NA&gt;\n",
       "4. 3\n",
       "5. &lt;NA&gt;\n",
       "6. 1\n",
       "7. 1\n",
       "8. 5\n",
       "9. &lt;NA&gt;\n",
       "\n",
       "\n"
      ],
      "text/plain": [
       "[1]  7  7 NA  3 NA  1  1  5 NA"
      ]
     },
     "metadata": {},
     "output_type": "display_data"
    }
   ],
   "source": [
    "#i\n",
    "b_list$alpha"
   ]
  },
  {
   "cell_type": "code",
   "execution_count": 32,
   "id": "6060a5a2",
   "metadata": {},
   "outputs": [
    {
     "data": {
      "text/plain": [
       "NULL"
      ]
     },
     "metadata": {},
     "output_type": "display_data"
    }
   ],
   "source": [
    "#ii\n",
    "b_list$beta"
   ]
  },
  {
   "cell_type": "code",
   "execution_count": 35,
   "id": "10853014",
   "metadata": {},
   "outputs": [],
   "source": [
    "#iii\n",
    "b_list$beta <- which(x=is.na(b_list$alpha))"
   ]
  },
  {
   "cell_type": "code",
   "execution_count": 36,
   "id": "43ddd0ab",
   "metadata": {},
   "outputs": [
    {
     "data": {
      "text/html": [
       "<dl>\n",
       "\t<dt>$alpha</dt>\n",
       "\t\t<dd><style>\n",
       ".list-inline {list-style: none; margin:0; padding: 0}\n",
       ".list-inline>li {display: inline-block}\n",
       ".list-inline>li:not(:last-child)::after {content: \"\\00b7\"; padding: 0 .5ex}\n",
       "</style>\n",
       "<ol class=list-inline><li>7</li><li>7</li><li>&lt;NA&gt;</li><li>3</li><li>&lt;NA&gt;</li><li>1</li><li>1</li><li>5</li><li>&lt;NA&gt;</li></ol>\n",
       "</dd>\n",
       "\t<dt>$beta</dt>\n",
       "\t\t<dd><style>\n",
       ".list-inline {list-style: none; margin:0; padding: 0}\n",
       ".list-inline>li {display: inline-block}\n",
       ".list-inline>li:not(:last-child)::after {content: \"\\00b7\"; padding: 0 .5ex}\n",
       "</style>\n",
       "<ol class=list-inline><li>3</li><li>5</li><li>9</li></ol>\n",
       "</dd>\n",
       "</dl>\n"
      ],
      "text/latex": [
       "\\begin{description}\n",
       "\\item[\\$alpha] \\begin{enumerate*}\n",
       "\\item 7\n",
       "\\item 7\n",
       "\\item <NA>\n",
       "\\item 3\n",
       "\\item <NA>\n",
       "\\item 1\n",
       "\\item 1\n",
       "\\item 5\n",
       "\\item <NA>\n",
       "\\end{enumerate*}\n",
       "\n",
       "\\item[\\$beta] \\begin{enumerate*}\n",
       "\\item 3\n",
       "\\item 5\n",
       "\\item 9\n",
       "\\end{enumerate*}\n",
       "\n",
       "\\end{description}\n"
      ],
      "text/markdown": [
       "$alpha\n",
       ":   1. 7\n",
       "2. 7\n",
       "3. &lt;NA&gt;\n",
       "4. 3\n",
       "5. &lt;NA&gt;\n",
       "6. 1\n",
       "7. 1\n",
       "8. 5\n",
       "9. &lt;NA&gt;\n",
       "\n",
       "\n",
       "\n",
       "$beta\n",
       ":   1. 3\n",
       "2. 5\n",
       "3. 9\n",
       "\n",
       "\n",
       "\n",
       "\n",
       "\n"
      ],
      "text/plain": [
       "$alpha\n",
       "[1]  7  7 NA  3 NA  1  1  5 NA\n",
       "\n",
       "$beta\n",
       "[1] 3 5 9\n"
      ]
     },
     "metadata": {},
     "output_type": "display_data"
    }
   ],
   "source": [
    "b_list"
   ]
  },
  {
   "cell_type": "markdown",
   "id": "435c3d9e",
   "metadata": {},
   "source": [
    "## 6.3"
   ]
  },
  {
   "cell_type": "markdown",
   "id": "dafd2a81",
   "metadata": {},
   "source": [
    "### a"
   ]
  },
  {
   "cell_type": "code",
   "execution_count": 3,
   "id": "7a4837ef",
   "metadata": {},
   "outputs": [
    {
     "data": {
      "text/html": [
       "'array'"
      ],
      "text/latex": [
       "'array'"
      ],
      "text/markdown": [
       "'array'"
      ],
      "text/plain": [
       "[1] \"array\""
      ]
     },
     "metadata": {},
     "output_type": "display_data"
    },
    {
     "data": {
      "text/html": [
       "<strong>$dim</strong> = <style>\n",
       ".list-inline {list-style: none; margin:0; padding: 0}\n",
       ".list-inline>li {display: inline-block}\n",
       ".list-inline>li:not(:last-child)::after {content: \"\\00b7\"; padding: 0 .5ex}\n",
       "</style>\n",
       "<ol class=list-inline><li>3</li><li>3</li><li>4</li></ol>\n"
      ],
      "text/latex": [
       "\\textbf{\\$dim} = \\begin{enumerate*}\n",
       "\\item 3\n",
       "\\item 3\n",
       "\\item 4\n",
       "\\end{enumerate*}\n"
      ],
      "text/markdown": [
       "**$dim** = 1. 3\n",
       "2. 3\n",
       "3. 4\n",
       "\n",
       "\n"
      ],
      "text/plain": [
       "$dim\n",
       "[1] 3 3 4\n"
      ]
     },
     "metadata": {},
     "output_type": "display_data"
    }
   ],
   "source": [
    "#i\n",
    "foo <- array(data=1:36, dim=c(3,3,4))\n",
    "class(foo)\n",
    "attributes(foo)"
   ]
  },
  {
   "cell_type": "code",
   "execution_count": 5,
   "id": "a09f2967",
   "metadata": {},
   "outputs": [
    {
     "data": {
      "text/html": [
       "'integer'"
      ],
      "text/latex": [
       "'integer'"
      ],
      "text/markdown": [
       "'integer'"
      ],
      "text/plain": [
       "[1] \"integer\""
      ]
     },
     "metadata": {},
     "output_type": "display_data"
    },
    {
     "data": {
      "text/plain": [
       "NULL"
      ]
     },
     "metadata": {},
     "output_type": "display_data"
    }
   ],
   "source": [
    "#ii\n",
    "bar <- as.vector(foo)\n",
    "class(bar)\n",
    "attributes(bar)"
   ]
  },
  {
   "cell_type": "code",
   "execution_count": 9,
   "id": "04e5ecb5",
   "metadata": {},
   "outputs": [
    {
     "data": {
      "text/html": [
       "'character'"
      ],
      "text/latex": [
       "'character'"
      ],
      "text/markdown": [
       "'character'"
      ],
      "text/plain": [
       "[1] \"character\""
      ]
     },
     "metadata": {},
     "output_type": "display_data"
    },
    {
     "data": {
      "text/plain": [
       "NULL"
      ]
     },
     "metadata": {},
     "output_type": "display_data"
    }
   ],
   "source": [
    "#iii\n",
    "baz <- as.character(bar)\n",
    "class(baz)\n",
    "attributes(baz)"
   ]
  },
  {
   "cell_type": "code",
   "execution_count": 12,
   "id": "7b832f3e",
   "metadata": {},
   "outputs": [
    {
     "data": {
      "text/html": [
       "'factor'"
      ],
      "text/latex": [
       "'factor'"
      ],
      "text/markdown": [
       "'factor'"
      ],
      "text/plain": [
       "[1] \"factor\""
      ]
     },
     "metadata": {},
     "output_type": "display_data"
    },
    {
     "data": {
      "text/html": [
       "<dl>\n",
       "\t<dt>$levels</dt>\n",
       "\t\t<dd><style>\n",
       ".list-inline {list-style: none; margin:0; padding: 0}\n",
       ".list-inline>li {display: inline-block}\n",
       ".list-inline>li:not(:last-child)::after {content: \"\\00b7\"; padding: 0 .5ex}\n",
       "</style>\n",
       "<ol class=list-inline><li>'1'</li><li>'10'</li><li>'11'</li><li>'12'</li><li>'13'</li><li>'14'</li><li>'15'</li><li>'16'</li><li>'17'</li><li>'18'</li><li>'19'</li><li>'2'</li><li>'20'</li><li>'21'</li><li>'22'</li><li>'23'</li><li>'24'</li><li>'25'</li><li>'26'</li><li>'27'</li><li>'28'</li><li>'29'</li><li>'3'</li><li>'30'</li><li>'31'</li><li>'32'</li><li>'33'</li><li>'34'</li><li>'35'</li><li>'36'</li><li>'4'</li><li>'5'</li><li>'6'</li><li>'7'</li><li>'8'</li><li>'9'</li></ol>\n",
       "</dd>\n",
       "\t<dt>$class</dt>\n",
       "\t\t<dd>'factor'</dd>\n",
       "</dl>\n"
      ],
      "text/latex": [
       "\\begin{description}\n",
       "\\item[\\$levels] \\begin{enumerate*}\n",
       "\\item '1'\n",
       "\\item '10'\n",
       "\\item '11'\n",
       "\\item '12'\n",
       "\\item '13'\n",
       "\\item '14'\n",
       "\\item '15'\n",
       "\\item '16'\n",
       "\\item '17'\n",
       "\\item '18'\n",
       "\\item '19'\n",
       "\\item '2'\n",
       "\\item '20'\n",
       "\\item '21'\n",
       "\\item '22'\n",
       "\\item '23'\n",
       "\\item '24'\n",
       "\\item '25'\n",
       "\\item '26'\n",
       "\\item '27'\n",
       "\\item '28'\n",
       "\\item '29'\n",
       "\\item '3'\n",
       "\\item '30'\n",
       "\\item '31'\n",
       "\\item '32'\n",
       "\\item '33'\n",
       "\\item '34'\n",
       "\\item '35'\n",
       "\\item '36'\n",
       "\\item '4'\n",
       "\\item '5'\n",
       "\\item '6'\n",
       "\\item '7'\n",
       "\\item '8'\n",
       "\\item '9'\n",
       "\\end{enumerate*}\n",
       "\n",
       "\\item[\\$class] 'factor'\n",
       "\\end{description}\n"
      ],
      "text/markdown": [
       "$levels\n",
       ":   1. '1'\n",
       "2. '10'\n",
       "3. '11'\n",
       "4. '12'\n",
       "5. '13'\n",
       "6. '14'\n",
       "7. '15'\n",
       "8. '16'\n",
       "9. '17'\n",
       "10. '18'\n",
       "11. '19'\n",
       "12. '2'\n",
       "13. '20'\n",
       "14. '21'\n",
       "15. '22'\n",
       "16. '23'\n",
       "17. '24'\n",
       "18. '25'\n",
       "19. '26'\n",
       "20. '27'\n",
       "21. '28'\n",
       "22. '29'\n",
       "23. '3'\n",
       "24. '30'\n",
       "25. '31'\n",
       "26. '32'\n",
       "27. '33'\n",
       "28. '34'\n",
       "29. '35'\n",
       "30. '36'\n",
       "31. '4'\n",
       "32. '5'\n",
       "33. '6'\n",
       "34. '7'\n",
       "35. '8'\n",
       "36. '9'\n",
       "\n",
       "\n",
       "\n",
       "$class\n",
       ":   'factor'\n",
       "\n",
       "\n"
      ],
      "text/plain": [
       "$levels\n",
       " [1] \"1\"  \"10\" \"11\" \"12\" \"13\" \"14\" \"15\" \"16\" \"17\" \"18\" \"19\" \"2\"  \"20\" \"21\" \"22\"\n",
       "[16] \"23\" \"24\" \"25\" \"26\" \"27\" \"28\" \"29\" \"3\"  \"30\" \"31\" \"32\" \"33\" \"34\" \"35\" \"36\"\n",
       "[31] \"4\"  \"5\"  \"6\"  \"7\"  \"8\"  \"9\" \n",
       "\n",
       "$class\n",
       "[1] \"factor\"\n"
      ]
     },
     "metadata": {},
     "output_type": "display_data"
    }
   ],
   "source": [
    "#iv\n",
    "qux <- as.factor(baz)\n",
    "class(qux)\n",
    "attributes(qux)"
   ]
  },
  {
   "cell_type": "code",
   "execution_count": 13,
   "id": "6b11bb19",
   "metadata": {},
   "outputs": [
    {
     "data": {
      "text/html": [
       "'numeric'"
      ],
      "text/latex": [
       "'numeric'"
      ],
      "text/markdown": [
       "'numeric'"
      ],
      "text/plain": [
       "[1] \"numeric\""
      ]
     },
     "metadata": {},
     "output_type": "display_data"
    },
    {
     "data": {
      "text/plain": [
       "NULL"
      ]
     },
     "metadata": {},
     "output_type": "display_data"
    }
   ],
   "source": [
    "#v\n",
    "quux <- bar+c(-0.1,0.1)\n",
    "class(quux)\n",
    "attributes(quux)"
   ]
  },
  {
   "cell_type": "markdown",
   "id": "dacd1275",
   "metadata": {},
   "source": [
    "### b"
   ]
  },
  {
   "cell_type": "code",
   "execution_count": 16,
   "id": "d20f4176",
   "metadata": {},
   "outputs": [
    {
     "data": {
      "text/html": [
       "2"
      ],
      "text/latex": [
       "2"
      ],
      "text/markdown": [
       "2"
      ],
      "text/plain": [
       "[1] 2"
      ]
     },
     "metadata": {},
     "output_type": "display_data"
    }
   ],
   "source": [
    "#i\n",
    "is.numeric(foo)+is.integer(foo)"
   ]
  },
  {
   "cell_type": "code",
   "execution_count": 17,
   "id": "bc266f24",
   "metadata": {},
   "outputs": [
    {
     "data": {
      "text/html": [
       "2"
      ],
      "text/latex": [
       "2"
      ],
      "text/markdown": [
       "2"
      ],
      "text/plain": [
       "[1] 2"
      ]
     },
     "metadata": {},
     "output_type": "display_data"
    }
   ],
   "source": [
    "#ii\n",
    "is.numeric(bar)+is.integer(bar)"
   ]
  },
  {
   "cell_type": "code",
   "execution_count": 18,
   "id": "e572e5dc",
   "metadata": {},
   "outputs": [
    {
     "data": {
      "text/html": [
       "0"
      ],
      "text/latex": [
       "0"
      ],
      "text/markdown": [
       "0"
      ],
      "text/plain": [
       "[1] 0"
      ]
     },
     "metadata": {},
     "output_type": "display_data"
    }
   ],
   "source": [
    "#iii\n",
    "is.numeric(baz)+is.integer(baz)"
   ]
  },
  {
   "cell_type": "code",
   "execution_count": 19,
   "id": "42ab5963",
   "metadata": {},
   "outputs": [
    {
     "data": {
      "text/html": [
       "0"
      ],
      "text/latex": [
       "0"
      ],
      "text/markdown": [
       "0"
      ],
      "text/plain": [
       "[1] 0"
      ]
     },
     "metadata": {},
     "output_type": "display_data"
    }
   ],
   "source": [
    "#iv\n",
    "is.numeric(qux)+is.integer(qux)"
   ]
  },
  {
   "cell_type": "code",
   "execution_count": 20,
   "id": "4899a434",
   "metadata": {},
   "outputs": [
    {
     "data": {
      "text/html": [
       "1"
      ],
      "text/latex": [
       "1"
      ],
      "text/markdown": [
       "1"
      ],
      "text/plain": [
       "[1] 1"
      ]
     },
     "metadata": {},
     "output_type": "display_data"
    }
   ],
   "source": [
    "#v\n",
    "is.numeric(quux)+is.integer(quux)"
   ]
  },
  {
   "cell_type": "code",
   "execution_count": 21,
   "id": "78bd3aae",
   "metadata": {},
   "outputs": [],
   "source": [
    "b_vec <- c(\n",
    "    is.numeric(foo)+is.integer(foo), \n",
    "    is.numeric(bar)+is.integer(bar),\n",
    "    is.numeric(baz)+is.integer(baz), \n",
    "    is.numeric(qux)+is.integer(qux), \n",
    "    is.numeric(quux)+is.integer(quux)\n",
    ")"
   ]
  },
  {
   "cell_type": "code",
   "execution_count": 22,
   "id": "698c2af9",
   "metadata": {},
   "outputs": [],
   "source": [
    "b_vec.fac <- factor(b_vec, levels=c(0,1,2))"
   ]
  },
  {
   "cell_type": "code",
   "execution_count": 23,
   "id": "064e0c7e",
   "metadata": {},
   "outputs": [
    {
     "data": {
      "text/html": [
       "<style>\n",
       ".list-inline {list-style: none; margin:0; padding: 0}\n",
       ".list-inline>li {display: inline-block}\n",
       ".list-inline>li:not(:last-child)::after {content: \"\\00b7\"; padding: 0 .5ex}\n",
       "</style>\n",
       "<ol class=list-inline><li>2</li><li>2</li><li>0</li><li>0</li><li>1</li></ol>\n",
       "\n",
       "<details>\n",
       "\t<summary style=display:list-item;cursor:pointer>\n",
       "\t\t<strong>Levels</strong>:\n",
       "\t</summary>\n",
       "\t<style>\n",
       "\t.list-inline {list-style: none; margin:0; padding: 0}\n",
       "\t.list-inline>li {display: inline-block}\n",
       "\t.list-inline>li:not(:last-child)::after {content: \"\\00b7\"; padding: 0 .5ex}\n",
       "\t</style>\n",
       "\t<ol class=list-inline><li>'0'</li><li>'1'</li><li>'2'</li></ol>\n",
       "</details>"
      ],
      "text/latex": [
       "\\begin{enumerate*}\n",
       "\\item 2\n",
       "\\item 2\n",
       "\\item 0\n",
       "\\item 0\n",
       "\\item 1\n",
       "\\end{enumerate*}\n",
       "\n",
       "\\emph{Levels}: \\begin{enumerate*}\n",
       "\\item '0'\n",
       "\\item '1'\n",
       "\\item '2'\n",
       "\\end{enumerate*}\n"
      ],
      "text/markdown": [
       "1. 2\n",
       "2. 2\n",
       "3. 0\n",
       "4. 0\n",
       "5. 1\n",
       "\n",
       "\n",
       "\n",
       "**Levels**: 1. '0'\n",
       "2. '1'\n",
       "3. '2'\n",
       "\n",
       "\n"
      ],
      "text/plain": [
       "[1] 2 2 0 0 1\n",
       "Levels: 0 1 2"
      ]
     },
     "metadata": {},
     "output_type": "display_data"
    }
   ],
   "source": [
    "b_vec.fac"
   ]
  },
  {
   "cell_type": "code",
   "execution_count": 24,
   "id": "897ca170",
   "metadata": {},
   "outputs": [
    {
     "data": {
      "text/html": [
       "<style>\n",
       ".list-inline {list-style: none; margin:0; padding: 0}\n",
       ".list-inline>li {display: inline-block}\n",
       ".list-inline>li:not(:last-child)::after {content: \"\\00b7\"; padding: 0 .5ex}\n",
       "</style>\n",
       "<ol class=list-inline><li>3</li><li>3</li><li>1</li><li>1</li><li>2</li></ol>\n"
      ],
      "text/latex": [
       "\\begin{enumerate*}\n",
       "\\item 3\n",
       "\\item 3\n",
       "\\item 1\n",
       "\\item 1\n",
       "\\item 2\n",
       "\\end{enumerate*}\n"
      ],
      "text/markdown": [
       "1. 3\n",
       "2. 3\n",
       "3. 1\n",
       "4. 1\n",
       "5. 2\n",
       "\n",
       "\n"
      ],
      "text/plain": [
       "[1] 3 3 1 1 2"
      ]
     },
     "metadata": {},
     "output_type": "display_data"
    }
   ],
   "source": [
    "as.numeric(b_vec.fac)"
   ]
  },
  {
   "cell_type": "markdown",
   "id": "91bb39b9",
   "metadata": {},
   "source": [
    "### c"
   ]
  },
  {
   "cell_type": "code",
   "execution_count": 31,
   "id": "8c16c3e6",
   "metadata": {},
   "outputs": [],
   "source": [
    "c_matrix = matrix(data = c(2:13),nrow = 3, ncol=4)"
   ]
  },
  {
   "cell_type": "code",
   "execution_count": 34,
   "id": "f99585a4",
   "metadata": {},
   "outputs": [
    {
     "data": {
      "text/html": [
       "<table class=\"dataframe\">\n",
       "<caption>A matrix: 3 × 4 of type int</caption>\n",
       "<tbody>\n",
       "\t<tr><td>2</td><td>5</td><td> 8</td><td>11</td></tr>\n",
       "\t<tr><td>3</td><td>6</td><td> 9</td><td>12</td></tr>\n",
       "\t<tr><td>4</td><td>7</td><td>10</td><td>13</td></tr>\n",
       "</tbody>\n",
       "</table>\n"
      ],
      "text/latex": [
       "A matrix: 3 × 4 of type int\n",
       "\\begin{tabular}{llll}\n",
       "\t 2 & 5 &  8 & 11\\\\\n",
       "\t 3 & 6 &  9 & 12\\\\\n",
       "\t 4 & 7 & 10 & 13\\\\\n",
       "\\end{tabular}\n"
      ],
      "text/markdown": [
       "\n",
       "A matrix: 3 × 4 of type int\n",
       "\n",
       "| 2 | 5 |  8 | 11 |\n",
       "| 3 | 6 |  9 | 12 |\n",
       "| 4 | 7 | 10 | 13 |\n",
       "\n"
      ],
      "text/plain": [
       "     [,1] [,2] [,3] [,4]\n",
       "[1,] 2    5     8   11  \n",
       "[2,] 3    6     9   12  \n",
       "[3,] 4    7    10   13  "
      ]
     },
     "metadata": {},
     "output_type": "display_data"
    }
   ],
   "source": [
    "c_matrix"
   ]
  },
  {
   "cell_type": "code",
   "execution_count": 36,
   "id": "6febbcf3",
   "metadata": {},
   "outputs": [
    {
     "data": {
      "text/html": [
       "<style>\n",
       ".list-inline {list-style: none; margin:0; padding: 0}\n",
       ".list-inline>li {display: inline-block}\n",
       ".list-inline>li:not(:last-child)::after {content: \"\\00b7\"; padding: 0 .5ex}\n",
       "</style>\n",
       "<ol class=list-inline><li>'2'</li><li>'3'</li><li>'4'</li><li>'5'</li><li>'6'</li><li>'7'</li><li>'8'</li><li>'9'</li><li>'10'</li><li>'11'</li><li>'12'</li><li>'13'</li></ol>\n"
      ],
      "text/latex": [
       "\\begin{enumerate*}\n",
       "\\item '2'\n",
       "\\item '3'\n",
       "\\item '4'\n",
       "\\item '5'\n",
       "\\item '6'\n",
       "\\item '7'\n",
       "\\item '8'\n",
       "\\item '9'\n",
       "\\item '10'\n",
       "\\item '11'\n",
       "\\item '12'\n",
       "\\item '13'\n",
       "\\end{enumerate*}\n"
      ],
      "text/markdown": [
       "1. '2'\n",
       "2. '3'\n",
       "3. '4'\n",
       "4. '5'\n",
       "5. '6'\n",
       "6. '7'\n",
       "7. '8'\n",
       "8. '9'\n",
       "9. '10'\n",
       "10. '11'\n",
       "11. '12'\n",
       "12. '13'\n",
       "\n",
       "\n"
      ],
      "text/plain": [
       " [1] \"2\"  \"3\"  \"4\"  \"5\"  \"6\"  \"7\"  \"8\"  \"9\"  \"10\" \"11\" \"12\" \"13\""
      ]
     },
     "metadata": {},
     "output_type": "display_data"
    }
   ],
   "source": [
    "as.character(as.vector(c_matrix))"
   ]
  },
  {
   "cell_type": "markdown",
   "id": "909de1c9",
   "metadata": {},
   "source": [
    "### d"
   ]
  },
  {
   "cell_type": "code",
   "execution_count": 39,
   "id": "00820166",
   "metadata": {},
   "outputs": [],
   "source": [
    "d_matrix = matrix(data = c(34,23,33,42,41,0,1,1,0,0,1,2,1,1,2),nrow=5,ncol=3)"
   ]
  },
  {
   "cell_type": "code",
   "execution_count": 40,
   "id": "5ecc9005",
   "metadata": {},
   "outputs": [
    {
     "name": "stdout",
     "output_type": "stream",
     "text": [
      "     [,1] [,2] [,3]\n",
      "[1,]   34    0    1\n",
      "[2,]   23    1    2\n",
      "[3,]   33    1    1\n",
      "[4,]   42    0    1\n",
      "[5,]   41    0    2\n"
     ]
    }
   ],
   "source": [
    "print(d_matrix)"
   ]
  },
  {
   "cell_type": "code",
   "execution_count": 44,
   "id": "3acc971f",
   "metadata": {},
   "outputs": [],
   "source": [
    "#i\n",
    "d_dataframe <- as.data.frame(d_matrix)"
   ]
  },
  {
   "cell_type": "code",
   "execution_count": 46,
   "id": "432cb4f8",
   "metadata": {},
   "outputs": [],
   "source": [
    "d_dataframe$V2 <- as.logical(d_dataframe$V2)"
   ]
  },
  {
   "cell_type": "code",
   "execution_count": 47,
   "id": "6ed0ac14",
   "metadata": {},
   "outputs": [
    {
     "data": {
      "text/html": [
       "<table class=\"dataframe\">\n",
       "<caption>A data.frame: 5 × 3</caption>\n",
       "<thead>\n",
       "\t<tr><th scope=col>V1</th><th scope=col>V2</th><th scope=col>V3</th></tr>\n",
       "\t<tr><th scope=col>&lt;dbl&gt;</th><th scope=col>&lt;lgl&gt;</th><th scope=col>&lt;dbl&gt;</th></tr>\n",
       "</thead>\n",
       "<tbody>\n",
       "\t<tr><td>34</td><td>FALSE</td><td>1</td></tr>\n",
       "\t<tr><td>23</td><td> TRUE</td><td>2</td></tr>\n",
       "\t<tr><td>33</td><td> TRUE</td><td>1</td></tr>\n",
       "\t<tr><td>42</td><td>FALSE</td><td>1</td></tr>\n",
       "\t<tr><td>41</td><td>FALSE</td><td>2</td></tr>\n",
       "</tbody>\n",
       "</table>\n"
      ],
      "text/latex": [
       "A data.frame: 5 × 3\n",
       "\\begin{tabular}{lll}\n",
       " V1 & V2 & V3\\\\\n",
       " <dbl> & <lgl> & <dbl>\\\\\n",
       "\\hline\n",
       "\t 34 & FALSE & 1\\\\\n",
       "\t 23 &  TRUE & 2\\\\\n",
       "\t 33 &  TRUE & 1\\\\\n",
       "\t 42 & FALSE & 1\\\\\n",
       "\t 41 & FALSE & 2\\\\\n",
       "\\end{tabular}\n"
      ],
      "text/markdown": [
       "\n",
       "A data.frame: 5 × 3\n",
       "\n",
       "| V1 &lt;dbl&gt; | V2 &lt;lgl&gt; | V3 &lt;dbl&gt; |\n",
       "|---|---|---|\n",
       "| 34 | FALSE | 1 |\n",
       "| 23 |  TRUE | 2 |\n",
       "| 33 |  TRUE | 1 |\n",
       "| 42 | FALSE | 1 |\n",
       "| 41 | FALSE | 2 |\n",
       "\n"
      ],
      "text/plain": [
       "  V1 V2    V3\n",
       "1 34 FALSE 1 \n",
       "2 23  TRUE 2 \n",
       "3 33  TRUE 1 \n",
       "4 42 FALSE 1 \n",
       "5 41 FALSE 2 "
      ]
     },
     "metadata": {},
     "output_type": "display_data"
    }
   ],
   "source": [
    "d_dataframe"
   ]
  },
  {
   "cell_type": "code",
   "execution_count": 49,
   "id": "c9a880b7",
   "metadata": {},
   "outputs": [],
   "source": [
    "d_dataframe$V3 <- factor(d_dataframe$V3)"
   ]
  },
  {
   "cell_type": "code",
   "execution_count": 50,
   "id": "a5003ae1",
   "metadata": {},
   "outputs": [
    {
     "data": {
      "text/html": [
       "<table class=\"dataframe\">\n",
       "<caption>A data.frame: 5 × 3</caption>\n",
       "<thead>\n",
       "\t<tr><th scope=col>V1</th><th scope=col>V2</th><th scope=col>V3</th></tr>\n",
       "\t<tr><th scope=col>&lt;dbl&gt;</th><th scope=col>&lt;lgl&gt;</th><th scope=col>&lt;fct&gt;</th></tr>\n",
       "</thead>\n",
       "<tbody>\n",
       "\t<tr><td>34</td><td>FALSE</td><td>1</td></tr>\n",
       "\t<tr><td>23</td><td> TRUE</td><td>2</td></tr>\n",
       "\t<tr><td>33</td><td> TRUE</td><td>1</td></tr>\n",
       "\t<tr><td>42</td><td>FALSE</td><td>1</td></tr>\n",
       "\t<tr><td>41</td><td>FALSE</td><td>2</td></tr>\n",
       "</tbody>\n",
       "</table>\n"
      ],
      "text/latex": [
       "A data.frame: 5 × 3\n",
       "\\begin{tabular}{lll}\n",
       " V1 & V2 & V3\\\\\n",
       " <dbl> & <lgl> & <fct>\\\\\n",
       "\\hline\n",
       "\t 34 & FALSE & 1\\\\\n",
       "\t 23 &  TRUE & 2\\\\\n",
       "\t 33 &  TRUE & 1\\\\\n",
       "\t 42 & FALSE & 1\\\\\n",
       "\t 41 & FALSE & 2\\\\\n",
       "\\end{tabular}\n"
      ],
      "text/markdown": [
       "\n",
       "A data.frame: 5 × 3\n",
       "\n",
       "| V1 &lt;dbl&gt; | V2 &lt;lgl&gt; | V3 &lt;fct&gt; |\n",
       "|---|---|---|\n",
       "| 34 | FALSE | 1 |\n",
       "| 23 |  TRUE | 2 |\n",
       "| 33 |  TRUE | 1 |\n",
       "| 42 | FALSE | 1 |\n",
       "| 41 | FALSE | 2 |\n",
       "\n"
      ],
      "text/plain": [
       "  V1 V2    V3\n",
       "1 34 FALSE 1 \n",
       "2 23  TRUE 2 \n",
       "3 33  TRUE 1 \n",
       "4 42 FALSE 1 \n",
       "5 41 FALSE 2 "
      ]
     },
     "metadata": {},
     "output_type": "display_data"
    }
   ],
   "source": [
    "d_dataframe"
   ]
  },
  {
   "cell_type": "code",
   "execution_count": null,
   "id": "d054c087",
   "metadata": {},
   "outputs": [],
   "source": []
  }
 ],
 "metadata": {
  "kernelspec": {
   "display_name": "R",
   "language": "R",
   "name": "ir"
  },
  "language_info": {
   "codemirror_mode": "r",
   "file_extension": ".r",
   "mimetype": "text/x-r-source",
   "name": "R",
   "pygments_lexer": "r",
   "version": "3.6.3"
  }
 },
 "nbformat": 4,
 "nbformat_minor": 5
}
