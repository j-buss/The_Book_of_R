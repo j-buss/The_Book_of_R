{
 "cells": [
  {
   "cell_type": "markdown",
   "id": "23aa9277",
   "metadata": {},
   "source": [
    "## 5.1"
   ]
  },
  {
   "cell_type": "markdown",
   "id": "9a47cb5d",
   "metadata": {},
   "source": [
    "### a"
   ]
  },
  {
   "cell_type": "code",
   "execution_count": 1,
   "id": "359100fb",
   "metadata": {},
   "outputs": [],
   "source": [
    "a.seq <- seq(from = -4, to = 4, length.out = 20)"
   ]
  },
  {
   "cell_type": "code",
   "execution_count": 2,
   "id": "492f4e0b",
   "metadata": {},
   "outputs": [],
   "source": [
    "a.matrix <- matrix(data = c(F,T,T,T,F,T,T,F,F),nrow = 3, ncol = 3)"
   ]
  },
  {
   "cell_type": "code",
   "execution_count": 3,
   "id": "fe7942ce",
   "metadata": {},
   "outputs": [],
   "source": [
    "a.charvector <- c(\"don\",\"quixote\")"
   ]
  },
  {
   "cell_type": "code",
   "execution_count": 4,
   "id": "4efb5976",
   "metadata": {},
   "outputs": [
    {
     "data": {
      "text/html": [
       "<style>\n",
       ".list-inline {list-style: none; margin:0; padding: 0}\n",
       ".list-inline>li {display: inline-block}\n",
       ".list-inline>li:not(:last-child)::after {content: \"\\00b7\"; padding: 0 .5ex}\n",
       "</style>\n",
       "<ol class=list-inline><li>LOW</li><li>MED</li><li>HIGH</li></ol>\n",
       "\n",
       "<details>\n",
       "\t<summary style=display:list-item;cursor:pointer>\n",
       "\t\t<strong>Levels</strong>:\n",
       "\t</summary>\n",
       "\t<style>\n",
       "\t.list-inline {list-style: none; margin:0; padding: 0}\n",
       "\t.list-inline>li {display: inline-block}\n",
       "\t.list-inline>li:not(:last-child)::after {content: \"\\00b7\"; padding: 0 .5ex}\n",
       "\t</style>\n",
       "\t<ol class=list-inline><li>'HIGH'</li><li>'LOW'</li><li>'MED'</li></ol>\n",
       "</details>"
      ],
      "text/latex": [
       "\\begin{enumerate*}\n",
       "\\item LOW\n",
       "\\item MED\n",
       "\\item HIGH\n",
       "\\end{enumerate*}\n",
       "\n",
       "\\emph{Levels}: \\begin{enumerate*}\n",
       "\\item 'HIGH'\n",
       "\\item 'LOW'\n",
       "\\item 'MED'\n",
       "\\end{enumerate*}\n"
      ],
      "text/markdown": [
       "1. LOW\n",
       "2. MED\n",
       "3. HIGH\n",
       "\n",
       "\n",
       "\n",
       "**Levels**: 1. 'HIGH'\n",
       "2. 'LOW'\n",
       "3. 'MED'\n",
       "\n",
       "\n"
      ],
      "text/plain": [
       "[1] LOW  MED  HIGH\n",
       "Levels: HIGH < LOW < MED"
      ]
     },
     "metadata": {},
     "output_type": "display_data"
    }
   ],
   "source": [
    "a.obs.fac <- factor(x = c(\"LOW\",\"MED\",\"HIGH\"),ordered = T)\n",
    "a.obs.fac"
   ]
  },
  {
   "cell_type": "code",
   "execution_count": 6,
   "id": "8fef9223",
   "metadata": {},
   "outputs": [
    {
     "name": "stdout",
     "output_type": "stream",
     "text": [
      "[1] LOW  MED  LOW  MED  MED  HIGH\n",
      "Levels: HIGH LOW MED\n"
     ]
    }
   ],
   "source": [
    "a.obs.fac.vect <- factor(x=c(\"LOW\",\"MED\",\"LOW\",\"MED\",\"MED\",\"HIGH\"), levels=levels(a.obs.fac))\n",
    "print(a.obs.fac.vect)"
   ]
  },
  {
   "cell_type": "code",
   "execution_count": 7,
   "id": "722f4ad6",
   "metadata": {},
   "outputs": [],
   "source": [
    "a_list <- list(a.seq, a.matrix, a.charvector, a.obs.fac.vect)"
   ]
  },
  {
   "cell_type": "code",
   "execution_count": 8,
   "id": "7c4e95ce",
   "metadata": {},
   "outputs": [
    {
     "data": {
      "text/html": [
       "<table class=\"dataframe\">\n",
       "<caption>A matrix: 2 × 2 of type lgl</caption>\n",
       "<tbody>\n",
       "\t<tr><td>FALSE</td><td>FALSE</td></tr>\n",
       "\t<tr><td> TRUE</td><td> TRUE</td></tr>\n",
       "</tbody>\n",
       "</table>\n"
      ],
      "text/latex": [
       "A matrix: 2 × 2 of type lgl\n",
       "\\begin{tabular}{ll}\n",
       "\t FALSE & FALSE\\\\\n",
       "\t  TRUE &  TRUE\\\\\n",
       "\\end{tabular}\n"
      ],
      "text/markdown": [
       "\n",
       "A matrix: 2 × 2 of type lgl\n",
       "\n",
       "| FALSE | FALSE |\n",
       "|  TRUE |  TRUE |\n",
       "\n"
      ],
      "text/plain": [
       "     [,1]  [,2] \n",
       "[1,] FALSE FALSE\n",
       "[2,]  TRUE  TRUE"
      ]
     },
     "metadata": {},
     "output_type": "display_data"
    }
   ],
   "source": [
    "#i\n",
    "a_list[[2]][c(2,1),c(2,3)]"
   ]
  },
  {
   "cell_type": "code",
   "execution_count": 9,
   "id": "1bbd6eb0",
   "metadata": {},
   "outputs": [
    {
     "name": "stdout",
     "output_type": "stream",
     "text": [
      "[1] \"Don\"     \"Quixote\"\n"
     ]
    }
   ],
   "source": [
    "#ii\n",
    "a_list[[3]] <- sub(pattern=\"q\",replacement = \"Q\",x = a_list[[3]])\n",
    "a_list[[3]] <- sub(pattern=\"d\",replacement = \"D\",x = a_list[[3]])\n",
    "print(a_list[[3]])"
   ]
  },
  {
   "cell_type": "code",
   "execution_count": 10,
   "id": "77eb7369",
   "metadata": {},
   "outputs": [
    {
     "name": "stdout",
     "output_type": "stream",
     "text": [
      "\"Windmills! ATTACK!\"\n",
      "    -\\Don Quixote/-"
     ]
    }
   ],
   "source": [
    "cat(\"\\\"Windmills! ATTACK!\\\"\",\"\\n\",\"    -\\\\\",a_list[[3]][1],\" \", a_list[[3]][2], \"/-\",sep=\"\")"
   ]
  },
  {
   "cell_type": "code",
   "execution_count": 11,
   "id": "bb3062f0",
   "metadata": {},
   "outputs": [
    {
     "data": {
      "text/html": [
       "<style>\n",
       ".list-inline {list-style: none; margin:0; padding: 0}\n",
       ".list-inline>li {display: inline-block}\n",
       ".list-inline>li:not(:last-child)::after {content: \"\\00b7\"; padding: 0 .5ex}\n",
       "</style>\n",
       "<ol class=list-inline><li>1.05263157894737</li><li>1.47368421052632</li><li>1.89473684210526</li><li>2.31578947368421</li><li>2.73684210526316</li><li>3.1578947368421</li><li>3.57894736842105</li><li>4</li></ol>\n"
      ],
      "text/latex": [
       "\\begin{enumerate*}\n",
       "\\item 1.05263157894737\n",
       "\\item 1.47368421052632\n",
       "\\item 1.89473684210526\n",
       "\\item 2.31578947368421\n",
       "\\item 2.73684210526316\n",
       "\\item 3.1578947368421\n",
       "\\item 3.57894736842105\n",
       "\\item 4\n",
       "\\end{enumerate*}\n"
      ],
      "text/markdown": [
       "1. 1.05263157894737\n",
       "2. 1.47368421052632\n",
       "3. 1.89473684210526\n",
       "4. 2.31578947368421\n",
       "5. 2.73684210526316\n",
       "6. 3.1578947368421\n",
       "7. 3.57894736842105\n",
       "8. 4\n",
       "\n",
       "\n"
      ],
      "text/plain": [
       "[1] 1.052632 1.473684 1.894737 2.315789 2.736842 3.157895 3.578947 4.000000"
      ]
     },
     "metadata": {},
     "output_type": "display_data"
    }
   ],
   "source": [
    "#iii\n",
    "a_list[[1]][a_list[[1]] > 1]"
   ]
  },
  {
   "cell_type": "code",
   "execution_count": 12,
   "id": "58239f9e",
   "metadata": {},
   "outputs": [
    {
     "data": {
      "text/html": [
       "<style>\n",
       ".list-inline {list-style: none; margin:0; padding: 0}\n",
       ".list-inline>li {display: inline-block}\n",
       ".list-inline>li:not(:last-child)::after {content: \"\\00b7\"; padding: 0 .5ex}\n",
       "</style>\n",
       "<ol class=list-inline><li>2</li><li>4</li><li>5</li></ol>\n"
      ],
      "text/latex": [
       "\\begin{enumerate*}\n",
       "\\item 2\n",
       "\\item 4\n",
       "\\item 5\n",
       "\\end{enumerate*}\n"
      ],
      "text/markdown": [
       "1. 2\n",
       "2. 4\n",
       "3. 5\n",
       "\n",
       "\n"
      ],
      "text/plain": [
       "[1] 2 4 5"
      ]
     },
     "metadata": {},
     "output_type": "display_data"
    }
   ],
   "source": [
    "#iv\n",
    "which(x = a_list[[4]] == \"MED\")"
   ]
  },
  {
   "cell_type": "markdown",
   "id": "764f9776",
   "metadata": {},
   "source": [
    "### b"
   ]
  },
  {
   "cell_type": "code",
   "execution_count": 13,
   "id": "09d4a73a",
   "metadata": {},
   "outputs": [],
   "source": [
    "b_list <- list(\n",
    "    a.obs.fac.vect,\n",
    "    c(3,2.1,3.3,4,1.5,4.9)\n",
    ")"
   ]
  },
  {
   "cell_type": "code",
   "execution_count": 14,
   "id": "8b985bf2",
   "metadata": {},
   "outputs": [],
   "source": [
    "names(b_list) <- c(\n",
    "    \"facs\",\n",
    "    \"nums\"\n",
    ")"
   ]
  },
  {
   "cell_type": "code",
   "execution_count": 15,
   "id": "cd7c8fae",
   "metadata": {},
   "outputs": [],
   "source": [
    "b_list$oldlist <- a_list[1:3]"
   ]
  },
  {
   "cell_type": "code",
   "execution_count": 16,
   "id": "042f433e",
   "metadata": {},
   "outputs": [
    {
     "data": {
      "text/html": [
       "<dl>\n",
       "\t<dt>$facs</dt>\n",
       "\t\t<dd><style>\n",
       ".list-inline {list-style: none; margin:0; padding: 0}\n",
       ".list-inline>li {display: inline-block}\n",
       ".list-inline>li:not(:last-child)::after {content: \"\\00b7\"; padding: 0 .5ex}\n",
       "</style>\n",
       "<ol class=list-inline><li>LOW</li><li>MED</li><li>LOW</li><li>MED</li><li>MED</li><li>HIGH</li></ol>\n",
       "\n",
       "<details>\n",
       "\t<summary style=display:list-item;cursor:pointer>\n",
       "\t\t<strong>Levels</strong>:\n",
       "\t</summary>\n",
       "\t<style>\n",
       "\t.list-inline {list-style: none; margin:0; padding: 0}\n",
       "\t.list-inline>li {display: inline-block}\n",
       "\t.list-inline>li:not(:last-child)::after {content: \"\\00b7\"; padding: 0 .5ex}\n",
       "\t</style>\n",
       "\t<ol class=list-inline><li>'HIGH'</li><li>'LOW'</li><li>'MED'</li></ol>\n",
       "</details></dd>\n",
       "\t<dt>$nums</dt>\n",
       "\t\t<dd><style>\n",
       ".list-inline {list-style: none; margin:0; padding: 0}\n",
       ".list-inline>li {display: inline-block}\n",
       ".list-inline>li:not(:last-child)::after {content: \"\\00b7\"; padding: 0 .5ex}\n",
       "</style>\n",
       "<ol class=list-inline><li>3</li><li>2.1</li><li>3.3</li><li>4</li><li>1.5</li><li>4.9</li></ol>\n",
       "</dd>\n",
       "\t<dt>$oldlist</dt>\n",
       "\t\t<dd><ol>\n",
       "\t<li><style>\n",
       ".list-inline {list-style: none; margin:0; padding: 0}\n",
       ".list-inline>li {display: inline-block}\n",
       ".list-inline>li:not(:last-child)::after {content: \"\\00b7\"; padding: 0 .5ex}\n",
       "</style>\n",
       "<ol class=list-inline><li>-4</li><li>-3.57894736842105</li><li>-3.15789473684211</li><li>-2.73684210526316</li><li>-2.31578947368421</li><li>-1.89473684210526</li><li>-1.47368421052632</li><li>-1.05263157894737</li><li>-0.631578947368421</li><li>-0.210526315789474</li><li>0.210526315789473</li><li>0.631578947368421</li><li>1.05263157894737</li><li>1.47368421052632</li><li>1.89473684210526</li><li>2.31578947368421</li><li>2.73684210526316</li><li>3.1578947368421</li><li>3.57894736842105</li><li>4</li></ol>\n",
       "</li>\n",
       "\t<li><table class=\"dataframe\">\n",
       "<caption>A matrix: 3 × 3 of type lgl</caption>\n",
       "<tbody>\n",
       "\t<tr><td>FALSE</td><td> TRUE</td><td> TRUE</td></tr>\n",
       "\t<tr><td> TRUE</td><td>FALSE</td><td>FALSE</td></tr>\n",
       "\t<tr><td> TRUE</td><td> TRUE</td><td>FALSE</td></tr>\n",
       "</tbody>\n",
       "</table>\n",
       "</li>\n",
       "\t<li><style>\n",
       ".list-inline {list-style: none; margin:0; padding: 0}\n",
       ".list-inline>li {display: inline-block}\n",
       ".list-inline>li:not(:last-child)::after {content: \"\\00b7\"; padding: 0 .5ex}\n",
       "</style>\n",
       "<ol class=list-inline><li>'Don'</li><li>'Quixote'</li></ol>\n",
       "</li>\n",
       "</ol>\n",
       "</dd>\n",
       "</dl>\n"
      ],
      "text/latex": [
       "\\begin{description}\n",
       "\\item[\\$facs] \\begin{enumerate*}\n",
       "\\item LOW\n",
       "\\item MED\n",
       "\\item LOW\n",
       "\\item MED\n",
       "\\item MED\n",
       "\\item HIGH\n",
       "\\end{enumerate*}\n",
       "\n",
       "\\emph{Levels}: \\begin{enumerate*}\n",
       "\\item 'HIGH'\n",
       "\\item 'LOW'\n",
       "\\item 'MED'\n",
       "\\end{enumerate*}\n",
       "\n",
       "\\item[\\$nums] \\begin{enumerate*}\n",
       "\\item 3\n",
       "\\item 2.1\n",
       "\\item 3.3\n",
       "\\item 4\n",
       "\\item 1.5\n",
       "\\item 4.9\n",
       "\\end{enumerate*}\n",
       "\n",
       "\\item[\\$oldlist] \\begin{enumerate}\n",
       "\\item \\begin{enumerate*}\n",
       "\\item -4\n",
       "\\item -3.57894736842105\n",
       "\\item -3.15789473684211\n",
       "\\item -2.73684210526316\n",
       "\\item -2.31578947368421\n",
       "\\item -1.89473684210526\n",
       "\\item -1.47368421052632\n",
       "\\item -1.05263157894737\n",
       "\\item -0.631578947368421\n",
       "\\item -0.210526315789474\n",
       "\\item 0.210526315789473\n",
       "\\item 0.631578947368421\n",
       "\\item 1.05263157894737\n",
       "\\item 1.47368421052632\n",
       "\\item 1.89473684210526\n",
       "\\item 2.31578947368421\n",
       "\\item 2.73684210526316\n",
       "\\item 3.1578947368421\n",
       "\\item 3.57894736842105\n",
       "\\item 4\n",
       "\\end{enumerate*}\n",
       "\n",
       "\\item A matrix: 3 × 3 of type lgl\n",
       "\\begin{tabular}{lll}\n",
       "\t FALSE &  TRUE &  TRUE\\\\\n",
       "\t  TRUE & FALSE & FALSE\\\\\n",
       "\t  TRUE &  TRUE & FALSE\\\\\n",
       "\\end{tabular}\n",
       "\n",
       "\\item \\begin{enumerate*}\n",
       "\\item 'Don'\n",
       "\\item 'Quixote'\n",
       "\\end{enumerate*}\n",
       "\n",
       "\\end{enumerate}\n",
       "\n",
       "\\end{description}\n"
      ],
      "text/markdown": [
       "$facs\n",
       ":   1. LOW\n",
       "2. MED\n",
       "3. LOW\n",
       "4. MED\n",
       "5. MED\n",
       "6. HIGH\n",
       "\n",
       "\n",
       "\n",
       "**Levels**: 1. 'HIGH'\n",
       "2. 'LOW'\n",
       "3. 'MED'\n",
       "\n",
       "\n",
       "\n",
       "$nums\n",
       ":   1. 3\n",
       "2. 2.1\n",
       "3. 3.3\n",
       "4. 4\n",
       "5. 1.5\n",
       "6. 4.9\n",
       "\n",
       "\n",
       "\n",
       "$oldlist\n",
       ":   1. 1. -4\n",
       "2. -3.57894736842105\n",
       "3. -3.15789473684211\n",
       "4. -2.73684210526316\n",
       "5. -2.31578947368421\n",
       "6. -1.89473684210526\n",
       "7. -1.47368421052632\n",
       "8. -1.05263157894737\n",
       "9. -0.631578947368421\n",
       "10. -0.210526315789474\n",
       "11. 0.210526315789473\n",
       "12. 0.631578947368421\n",
       "13. 1.05263157894737\n",
       "14. 1.47368421052632\n",
       "15. 1.89473684210526\n",
       "16. 2.31578947368421\n",
       "17. 2.73684210526316\n",
       "18. 3.1578947368421\n",
       "19. 3.57894736842105\n",
       "20. 4\n",
       "\n",
       "\n",
       "\n",
       "2. \n",
       "A matrix: 3 × 3 of type lgl\n",
       "\n",
       "| FALSE |  TRUE |  TRUE |\n",
       "|  TRUE | FALSE | FALSE |\n",
       "|  TRUE |  TRUE | FALSE |\n",
       "\n",
       "\n",
       "3. 1. 'Don'\n",
       "2. 'Quixote'\n",
       "\n",
       "\n",
       "\n",
       "\n",
       "\n",
       "\n",
       "\n",
       "\n"
      ],
      "text/plain": [
       "$facs\n",
       "[1] LOW  MED  LOW  MED  MED  HIGH\n",
       "Levels: HIGH LOW MED\n",
       "\n",
       "$nums\n",
       "[1] 3.0 2.1 3.3 4.0 1.5 4.9\n",
       "\n",
       "$oldlist\n",
       "$oldlist[[1]]\n",
       " [1] -4.0000000 -3.5789474 -3.1578947 -2.7368421 -2.3157895 -1.8947368\n",
       " [7] -1.4736842 -1.0526316 -0.6315789 -0.2105263  0.2105263  0.6315789\n",
       "[13]  1.0526316  1.4736842  1.8947368  2.3157895  2.7368421  3.1578947\n",
       "[19]  3.5789474  4.0000000\n",
       "\n",
       "$oldlist[[2]]\n",
       "      [,1]  [,2]  [,3]\n",
       "[1,] FALSE  TRUE  TRUE\n",
       "[2,]  TRUE FALSE FALSE\n",
       "[3,]  TRUE  TRUE FALSE\n",
       "\n",
       "$oldlist[[3]]\n",
       "[1] \"Don\"     \"Quixote\"\n",
       "\n"
      ]
     },
     "metadata": {},
     "output_type": "display_data"
    }
   ],
   "source": [
    "b_list"
   ]
  },
  {
   "cell_type": "code",
   "execution_count": 17,
   "id": "decb8e5a",
   "metadata": {},
   "outputs": [
    {
     "data": {
      "text/html": [
       "<style>\n",
       ".list-inline {list-style: none; margin:0; padding: 0}\n",
       ".list-inline>li {display: inline-block}\n",
       ".list-inline>li:not(:last-child)::after {content: \"\\00b7\"; padding: 0 .5ex}\n",
       "</style>\n",
       "<ol class=list-inline><li>LOW</li><li>LOW</li><li>MED</li><li>HIGH</li></ol>\n",
       "\n",
       "<details>\n",
       "\t<summary style=display:list-item;cursor:pointer>\n",
       "\t\t<strong>Levels</strong>:\n",
       "\t</summary>\n",
       "\t<style>\n",
       "\t.list-inline {list-style: none; margin:0; padding: 0}\n",
       "\t.list-inline>li {display: inline-block}\n",
       "\t.list-inline>li:not(:last-child)::after {content: \"\\00b7\"; padding: 0 .5ex}\n",
       "\t</style>\n",
       "\t<ol class=list-inline><li>'HIGH'</li><li>'LOW'</li><li>'MED'</li></ol>\n",
       "</details>"
      ],
      "text/latex": [
       "\\begin{enumerate*}\n",
       "\\item LOW\n",
       "\\item LOW\n",
       "\\item MED\n",
       "\\item HIGH\n",
       "\\end{enumerate*}\n",
       "\n",
       "\\emph{Levels}: \\begin{enumerate*}\n",
       "\\item 'HIGH'\n",
       "\\item 'LOW'\n",
       "\\item 'MED'\n",
       "\\end{enumerate*}\n"
      ],
      "text/markdown": [
       "1. LOW\n",
       "2. LOW\n",
       "3. MED\n",
       "4. HIGH\n",
       "\n",
       "\n",
       "\n",
       "**Levels**: 1. 'HIGH'\n",
       "2. 'LOW'\n",
       "3. 'MED'\n",
       "\n",
       "\n"
      ],
      "text/plain": [
       "[1] LOW  LOW  MED  HIGH\n",
       "Levels: HIGH LOW MED"
      ]
     },
     "metadata": {},
     "output_type": "display_data"
    }
   ],
   "source": [
    "b_list$facs[b_list$nums >= 3]"
   ]
  },
  {
   "cell_type": "code",
   "execution_count": 18,
   "id": "beb78570",
   "metadata": {},
   "outputs": [],
   "source": [
    "#ii\n",
    "b_list$flags <- rep(x=b_list$oldlist[[2]][,3], times=2)"
   ]
  },
  {
   "cell_type": "code",
   "execution_count": 19,
   "id": "6a4c219d",
   "metadata": {},
   "outputs": [
    {
     "data": {
      "text/html": [
       "<style>\n",
       ".list-inline {list-style: none; margin:0; padding: 0}\n",
       ".list-inline>li {display: inline-block}\n",
       ".list-inline>li:not(:last-child)::after {content: \"\\00b7\"; padding: 0 .5ex}\n",
       "</style>\n",
       "<ol class=list-inline><li>TRUE</li><li>FALSE</li><li>FALSE</li><li>TRUE</li><li>FALSE</li><li>FALSE</li></ol>\n"
      ],
      "text/latex": [
       "\\begin{enumerate*}\n",
       "\\item TRUE\n",
       "\\item FALSE\n",
       "\\item FALSE\n",
       "\\item TRUE\n",
       "\\item FALSE\n",
       "\\item FALSE\n",
       "\\end{enumerate*}\n"
      ],
      "text/markdown": [
       "1. TRUE\n",
       "2. FALSE\n",
       "3. FALSE\n",
       "4. TRUE\n",
       "5. FALSE\n",
       "6. FALSE\n",
       "\n",
       "\n"
      ],
      "text/plain": [
       "[1]  TRUE FALSE FALSE  TRUE FALSE FALSE"
      ]
     },
     "metadata": {},
     "output_type": "display_data"
    }
   ],
   "source": [
    "b_list$flags"
   ]
  },
  {
   "cell_type": "code",
   "execution_count": 20,
   "id": "2f55f001",
   "metadata": {},
   "outputs": [
    {
     "data": {
      "text/html": [
       "<style>\n",
       ".list-inline {list-style: none; margin:0; padding: 0}\n",
       ".list-inline>li {display: inline-block}\n",
       ".list-inline>li:not(:last-child)::after {content: \"\\00b7\"; padding: 0 .5ex}\n",
       "</style>\n",
       "<ol class=list-inline><li>2.1</li><li>3.3</li><li>1.5</li><li>4.9</li></ol>\n"
      ],
      "text/latex": [
       "\\begin{enumerate*}\n",
       "\\item 2.1\n",
       "\\item 3.3\n",
       "\\item 1.5\n",
       "\\item 4.9\n",
       "\\end{enumerate*}\n"
      ],
      "text/markdown": [
       "1. 2.1\n",
       "2. 3.3\n",
       "3. 1.5\n",
       "4. 4.9\n",
       "\n",
       "\n"
      ],
      "text/plain": [
       "[1] 2.1 3.3 1.5 4.9"
      ]
     },
     "metadata": {},
     "output_type": "display_data"
    }
   ],
   "source": [
    "#iii\n",
    "b_list$nums[!b_list$flags]"
   ]
  },
  {
   "cell_type": "code",
   "execution_count": 21,
   "id": "08cb499b",
   "metadata": {},
   "outputs": [],
   "source": [
    "#iv\n",
    "b_list$oldlist[[3]] <- \"Don Quixote\""
   ]
  },
  {
   "cell_type": "code",
   "execution_count": 22,
   "id": "db76f0d2",
   "metadata": {},
   "outputs": [
    {
     "data": {
      "text/html": [
       "<dl>\n",
       "\t<dt>$facs</dt>\n",
       "\t\t<dd><style>\n",
       ".list-inline {list-style: none; margin:0; padding: 0}\n",
       ".list-inline>li {display: inline-block}\n",
       ".list-inline>li:not(:last-child)::after {content: \"\\00b7\"; padding: 0 .5ex}\n",
       "</style>\n",
       "<ol class=list-inline><li>LOW</li><li>MED</li><li>LOW</li><li>MED</li><li>MED</li><li>HIGH</li></ol>\n",
       "\n",
       "<details>\n",
       "\t<summary style=display:list-item;cursor:pointer>\n",
       "\t\t<strong>Levels</strong>:\n",
       "\t</summary>\n",
       "\t<style>\n",
       "\t.list-inline {list-style: none; margin:0; padding: 0}\n",
       "\t.list-inline>li {display: inline-block}\n",
       "\t.list-inline>li:not(:last-child)::after {content: \"\\00b7\"; padding: 0 .5ex}\n",
       "\t</style>\n",
       "\t<ol class=list-inline><li>'HIGH'</li><li>'LOW'</li><li>'MED'</li></ol>\n",
       "</details></dd>\n",
       "\t<dt>$nums</dt>\n",
       "\t\t<dd><style>\n",
       ".list-inline {list-style: none; margin:0; padding: 0}\n",
       ".list-inline>li {display: inline-block}\n",
       ".list-inline>li:not(:last-child)::after {content: \"\\00b7\"; padding: 0 .5ex}\n",
       "</style>\n",
       "<ol class=list-inline><li>3</li><li>2.1</li><li>3.3</li><li>4</li><li>1.5</li><li>4.9</li></ol>\n",
       "</dd>\n",
       "\t<dt>$oldlist</dt>\n",
       "\t\t<dd><ol>\n",
       "\t<li><style>\n",
       ".list-inline {list-style: none; margin:0; padding: 0}\n",
       ".list-inline>li {display: inline-block}\n",
       ".list-inline>li:not(:last-child)::after {content: \"\\00b7\"; padding: 0 .5ex}\n",
       "</style>\n",
       "<ol class=list-inline><li>-4</li><li>-3.57894736842105</li><li>-3.15789473684211</li><li>-2.73684210526316</li><li>-2.31578947368421</li><li>-1.89473684210526</li><li>-1.47368421052632</li><li>-1.05263157894737</li><li>-0.631578947368421</li><li>-0.210526315789474</li><li>0.210526315789473</li><li>0.631578947368421</li><li>1.05263157894737</li><li>1.47368421052632</li><li>1.89473684210526</li><li>2.31578947368421</li><li>2.73684210526316</li><li>3.1578947368421</li><li>3.57894736842105</li><li>4</li></ol>\n",
       "</li>\n",
       "\t<li><table class=\"dataframe\">\n",
       "<caption>A matrix: 3 × 3 of type lgl</caption>\n",
       "<tbody>\n",
       "\t<tr><td>FALSE</td><td> TRUE</td><td> TRUE</td></tr>\n",
       "\t<tr><td> TRUE</td><td>FALSE</td><td>FALSE</td></tr>\n",
       "\t<tr><td> TRUE</td><td> TRUE</td><td>FALSE</td></tr>\n",
       "</tbody>\n",
       "</table>\n",
       "</li>\n",
       "\t<li>'Don Quixote'</li>\n",
       "</ol>\n",
       "</dd>\n",
       "\t<dt>$flags</dt>\n",
       "\t\t<dd><style>\n",
       ".list-inline {list-style: none; margin:0; padding: 0}\n",
       ".list-inline>li {display: inline-block}\n",
       ".list-inline>li:not(:last-child)::after {content: \"\\00b7\"; padding: 0 .5ex}\n",
       "</style>\n",
       "<ol class=list-inline><li>TRUE</li><li>FALSE</li><li>FALSE</li><li>TRUE</li><li>FALSE</li><li>FALSE</li></ol>\n",
       "</dd>\n",
       "</dl>\n"
      ],
      "text/latex": [
       "\\begin{description}\n",
       "\\item[\\$facs] \\begin{enumerate*}\n",
       "\\item LOW\n",
       "\\item MED\n",
       "\\item LOW\n",
       "\\item MED\n",
       "\\item MED\n",
       "\\item HIGH\n",
       "\\end{enumerate*}\n",
       "\n",
       "\\emph{Levels}: \\begin{enumerate*}\n",
       "\\item 'HIGH'\n",
       "\\item 'LOW'\n",
       "\\item 'MED'\n",
       "\\end{enumerate*}\n",
       "\n",
       "\\item[\\$nums] \\begin{enumerate*}\n",
       "\\item 3\n",
       "\\item 2.1\n",
       "\\item 3.3\n",
       "\\item 4\n",
       "\\item 1.5\n",
       "\\item 4.9\n",
       "\\end{enumerate*}\n",
       "\n",
       "\\item[\\$oldlist] \\begin{enumerate}\n",
       "\\item \\begin{enumerate*}\n",
       "\\item -4\n",
       "\\item -3.57894736842105\n",
       "\\item -3.15789473684211\n",
       "\\item -2.73684210526316\n",
       "\\item -2.31578947368421\n",
       "\\item -1.89473684210526\n",
       "\\item -1.47368421052632\n",
       "\\item -1.05263157894737\n",
       "\\item -0.631578947368421\n",
       "\\item -0.210526315789474\n",
       "\\item 0.210526315789473\n",
       "\\item 0.631578947368421\n",
       "\\item 1.05263157894737\n",
       "\\item 1.47368421052632\n",
       "\\item 1.89473684210526\n",
       "\\item 2.31578947368421\n",
       "\\item 2.73684210526316\n",
       "\\item 3.1578947368421\n",
       "\\item 3.57894736842105\n",
       "\\item 4\n",
       "\\end{enumerate*}\n",
       "\n",
       "\\item A matrix: 3 × 3 of type lgl\n",
       "\\begin{tabular}{lll}\n",
       "\t FALSE &  TRUE &  TRUE\\\\\n",
       "\t  TRUE & FALSE & FALSE\\\\\n",
       "\t  TRUE &  TRUE & FALSE\\\\\n",
       "\\end{tabular}\n",
       "\n",
       "\\item 'Don Quixote'\n",
       "\\end{enumerate}\n",
       "\n",
       "\\item[\\$flags] \\begin{enumerate*}\n",
       "\\item TRUE\n",
       "\\item FALSE\n",
       "\\item FALSE\n",
       "\\item TRUE\n",
       "\\item FALSE\n",
       "\\item FALSE\n",
       "\\end{enumerate*}\n",
       "\n",
       "\\end{description}\n"
      ],
      "text/markdown": [
       "$facs\n",
       ":   1. LOW\n",
       "2. MED\n",
       "3. LOW\n",
       "4. MED\n",
       "5. MED\n",
       "6. HIGH\n",
       "\n",
       "\n",
       "\n",
       "**Levels**: 1. 'HIGH'\n",
       "2. 'LOW'\n",
       "3. 'MED'\n",
       "\n",
       "\n",
       "\n",
       "$nums\n",
       ":   1. 3\n",
       "2. 2.1\n",
       "3. 3.3\n",
       "4. 4\n",
       "5. 1.5\n",
       "6. 4.9\n",
       "\n",
       "\n",
       "\n",
       "$oldlist\n",
       ":   1. 1. -4\n",
       "2. -3.57894736842105\n",
       "3. -3.15789473684211\n",
       "4. -2.73684210526316\n",
       "5. -2.31578947368421\n",
       "6. -1.89473684210526\n",
       "7. -1.47368421052632\n",
       "8. -1.05263157894737\n",
       "9. -0.631578947368421\n",
       "10. -0.210526315789474\n",
       "11. 0.210526315789473\n",
       "12. 0.631578947368421\n",
       "13. 1.05263157894737\n",
       "14. 1.47368421052632\n",
       "15. 1.89473684210526\n",
       "16. 2.31578947368421\n",
       "17. 2.73684210526316\n",
       "18. 3.1578947368421\n",
       "19. 3.57894736842105\n",
       "20. 4\n",
       "\n",
       "\n",
       "\n",
       "2. \n",
       "A matrix: 3 × 3 of type lgl\n",
       "\n",
       "| FALSE |  TRUE |  TRUE |\n",
       "|  TRUE | FALSE | FALSE |\n",
       "|  TRUE |  TRUE | FALSE |\n",
       "\n",
       "\n",
       "3. 'Don Quixote'\n",
       "\n",
       "\n",
       "\n",
       "$flags\n",
       ":   1. TRUE\n",
       "2. FALSE\n",
       "3. FALSE\n",
       "4. TRUE\n",
       "5. FALSE\n",
       "6. FALSE\n",
       "\n",
       "\n",
       "\n",
       "\n",
       "\n"
      ],
      "text/plain": [
       "$facs\n",
       "[1] LOW  MED  LOW  MED  MED  HIGH\n",
       "Levels: HIGH LOW MED\n",
       "\n",
       "$nums\n",
       "[1] 3.0 2.1 3.3 4.0 1.5 4.9\n",
       "\n",
       "$oldlist\n",
       "$oldlist[[1]]\n",
       " [1] -4.0000000 -3.5789474 -3.1578947 -2.7368421 -2.3157895 -1.8947368\n",
       " [7] -1.4736842 -1.0526316 -0.6315789 -0.2105263  0.2105263  0.6315789\n",
       "[13]  1.0526316  1.4736842  1.8947368  2.3157895  2.7368421  3.1578947\n",
       "[19]  3.5789474  4.0000000\n",
       "\n",
       "$oldlist[[2]]\n",
       "      [,1]  [,2]  [,3]\n",
       "[1,] FALSE  TRUE  TRUE\n",
       "[2,]  TRUE FALSE FALSE\n",
       "[3,]  TRUE  TRUE FALSE\n",
       "\n",
       "$oldlist[[3]]\n",
       "[1] \"Don Quixote\"\n",
       "\n",
       "\n",
       "$flags\n",
       "[1]  TRUE FALSE FALSE  TRUE FALSE FALSE\n"
      ]
     },
     "metadata": {},
     "output_type": "display_data"
    }
   ],
   "source": [
    "b_list"
   ]
  },
  {
   "cell_type": "markdown",
   "id": "a2e9aff0",
   "metadata": {},
   "source": [
    "## 5.2"
   ]
  },
  {
   "cell_type": "markdown",
   "id": "d899b882",
   "metadata": {},
   "source": [
    "### a"
   ]
  },
  {
   "cell_type": "code",
   "execution_count": 23,
   "id": "39658161",
   "metadata": {},
   "outputs": [],
   "source": [
    "person_vector <- c(\"Stan\",\"Francine\",\"Steve\",\"Roger\",\"Hayley\",\"Klaus\")\n",
    "sex_vector <- c(\"M\",\"F\",\"M\",\"M\",\"F\",\"M\")\n",
    "sex_vector.fac <- factor(sex_vector)\n",
    "\n",
    "funny_vector <- c(\"High\",\"Med\",\"Low\",\"High\",\"Med\",\"Med\")\n",
    "funny_vector.fac.levels <- factor(c(\"Low\",\"Med\",\"High\"),ordered=TRUE)\n",
    "funny_vector.fac <- factor(funny_vector,levels=funny_vector.fac.levels)"
   ]
  },
  {
   "cell_type": "code",
   "execution_count": 24,
   "id": "77a826ee",
   "metadata": {},
   "outputs": [
    {
     "data": {
      "text/html": [
       "<style>\n",
       ".list-inline {list-style: none; margin:0; padding: 0}\n",
       ".list-inline>li {display: inline-block}\n",
       ".list-inline>li:not(:last-child)::after {content: \"\\00b7\"; padding: 0 .5ex}\n",
       "</style>\n",
       "<ol class=list-inline><li>M</li><li>F</li><li>M</li><li>M</li><li>F</li><li>M</li></ol>\n",
       "\n",
       "<details>\n",
       "\t<summary style=display:list-item;cursor:pointer>\n",
       "\t\t<strong>Levels</strong>:\n",
       "\t</summary>\n",
       "\t<style>\n",
       "\t.list-inline {list-style: none; margin:0; padding: 0}\n",
       "\t.list-inline>li {display: inline-block}\n",
       "\t.list-inline>li:not(:last-child)::after {content: \"\\00b7\"; padding: 0 .5ex}\n",
       "\t</style>\n",
       "\t<ol class=list-inline><li>'F'</li><li>'M'</li></ol>\n",
       "</details>"
      ],
      "text/latex": [
       "\\begin{enumerate*}\n",
       "\\item M\n",
       "\\item F\n",
       "\\item M\n",
       "\\item M\n",
       "\\item F\n",
       "\\item M\n",
       "\\end{enumerate*}\n",
       "\n",
       "\\emph{Levels}: \\begin{enumerate*}\n",
       "\\item 'F'\n",
       "\\item 'M'\n",
       "\\end{enumerate*}\n"
      ],
      "text/markdown": [
       "1. M\n",
       "2. F\n",
       "3. M\n",
       "4. M\n",
       "5. F\n",
       "6. M\n",
       "\n",
       "\n",
       "\n",
       "**Levels**: 1. 'F'\n",
       "2. 'M'\n",
       "\n",
       "\n"
      ],
      "text/plain": [
       "[1] M F M M F M\n",
       "Levels: F M"
      ]
     },
     "metadata": {},
     "output_type": "display_data"
    },
    {
     "data": {
      "text/html": [
       "<style>\n",
       ".list-inline {list-style: none; margin:0; padding: 0}\n",
       ".list-inline>li {display: inline-block}\n",
       ".list-inline>li:not(:last-child)::after {content: \"\\00b7\"; padding: 0 .5ex}\n",
       "</style>\n",
       "<ol class=list-inline><li>High</li><li>Med</li><li>Low</li><li>High</li><li>Med</li><li>Med</li></ol>\n",
       "\n",
       "<details>\n",
       "\t<summary style=display:list-item;cursor:pointer>\n",
       "\t\t<strong>Levels</strong>:\n",
       "\t</summary>\n",
       "\t<style>\n",
       "\t.list-inline {list-style: none; margin:0; padding: 0}\n",
       "\t.list-inline>li {display: inline-block}\n",
       "\t.list-inline>li:not(:last-child)::after {content: \"\\00b7\"; padding: 0 .5ex}\n",
       "\t</style>\n",
       "\t<ol class=list-inline><li>'Low'</li><li>'Med'</li><li>'High'</li></ol>\n",
       "</details>"
      ],
      "text/latex": [
       "\\begin{enumerate*}\n",
       "\\item High\n",
       "\\item Med\n",
       "\\item Low\n",
       "\\item High\n",
       "\\item Med\n",
       "\\item Med\n",
       "\\end{enumerate*}\n",
       "\n",
       "\\emph{Levels}: \\begin{enumerate*}\n",
       "\\item 'Low'\n",
       "\\item 'Med'\n",
       "\\item 'High'\n",
       "\\end{enumerate*}\n"
      ],
      "text/markdown": [
       "1. High\n",
       "2. Med\n",
       "3. Low\n",
       "4. High\n",
       "5. Med\n",
       "6. Med\n",
       "\n",
       "\n",
       "\n",
       "**Levels**: 1. 'Low'\n",
       "2. 'Med'\n",
       "3. 'High'\n",
       "\n",
       "\n"
      ],
      "text/plain": [
       "[1] High Med  Low  High Med  Med \n",
       "Levels: Low Med High"
      ]
     },
     "metadata": {},
     "output_type": "display_data"
    }
   ],
   "source": [
    "sex_vector.fac\n",
    "funny_vector.fac"
   ]
  },
  {
   "cell_type": "code",
   "execution_count": 25,
   "id": "81232817",
   "metadata": {},
   "outputs": [],
   "source": [
    "a_df <- data.frame(person=person_vector, sex=sex_vector.fac, funny=funny_vector.fac, stringsAsFactors = FALSE)"
   ]
  },
  {
   "cell_type": "code",
   "execution_count": 26,
   "id": "a867d404",
   "metadata": {},
   "outputs": [
    {
     "data": {
      "text/html": [
       "<table class=\"dataframe\">\n",
       "<caption>A data.frame: 6 × 3</caption>\n",
       "<thead>\n",
       "\t<tr><th scope=col>person</th><th scope=col>sex</th><th scope=col>funny</th></tr>\n",
       "\t<tr><th scope=col>&lt;chr&gt;</th><th scope=col>&lt;fct&gt;</th><th scope=col>&lt;fct&gt;</th></tr>\n",
       "</thead>\n",
       "<tbody>\n",
       "\t<tr><td>Stan    </td><td>M</td><td>High</td></tr>\n",
       "\t<tr><td>Francine</td><td>F</td><td>Med </td></tr>\n",
       "\t<tr><td>Steve   </td><td>M</td><td>Low </td></tr>\n",
       "\t<tr><td>Roger   </td><td>M</td><td>High</td></tr>\n",
       "\t<tr><td>Hayley  </td><td>F</td><td>Med </td></tr>\n",
       "\t<tr><td>Klaus   </td><td>M</td><td>Med </td></tr>\n",
       "</tbody>\n",
       "</table>\n"
      ],
      "text/latex": [
       "A data.frame: 6 × 3\n",
       "\\begin{tabular}{lll}\n",
       " person & sex & funny\\\\\n",
       " <chr> & <fct> & <fct>\\\\\n",
       "\\hline\n",
       "\t Stan     & M & High\\\\\n",
       "\t Francine & F & Med \\\\\n",
       "\t Steve    & M & Low \\\\\n",
       "\t Roger    & M & High\\\\\n",
       "\t Hayley   & F & Med \\\\\n",
       "\t Klaus    & M & Med \\\\\n",
       "\\end{tabular}\n"
      ],
      "text/markdown": [
       "\n",
       "A data.frame: 6 × 3\n",
       "\n",
       "| person &lt;chr&gt; | sex &lt;fct&gt; | funny &lt;fct&gt; |\n",
       "|---|---|---|\n",
       "| Stan     | M | High |\n",
       "| Francine | F | Med  |\n",
       "| Steve    | M | Low  |\n",
       "| Roger    | M | High |\n",
       "| Hayley   | F | Med  |\n",
       "| Klaus    | M | Med  |\n",
       "\n"
      ],
      "text/plain": [
       "  person   sex funny\n",
       "1 Stan     M   High \n",
       "2 Francine F   Med  \n",
       "3 Steve    M   Low  \n",
       "4 Roger    M   High \n",
       "5 Hayley   F   Med  \n",
       "6 Klaus    M   Med  "
      ]
     },
     "metadata": {},
     "output_type": "display_data"
    }
   ],
   "source": [
    "a_df"
   ]
  },
  {
   "cell_type": "markdown",
   "id": "3b59c42d",
   "metadata": {},
   "source": [
    "### b"
   ]
  },
  {
   "cell_type": "code",
   "execution_count": 27,
   "id": "112c4ac0",
   "metadata": {},
   "outputs": [],
   "source": [
    "age_vector <- c(41, 41, 15, 1600, 21, 60)"
   ]
  },
  {
   "cell_type": "code",
   "execution_count": 28,
   "id": "bafd6fe1",
   "metadata": {},
   "outputs": [],
   "source": [
    "a_df <- cbind(a_df, age=age_vector)"
   ]
  },
  {
   "cell_type": "code",
   "execution_count": 29,
   "id": "44263cb8",
   "metadata": {},
   "outputs": [
    {
     "data": {
      "text/html": [
       "<table class=\"dataframe\">\n",
       "<caption>A data.frame: 6 × 4</caption>\n",
       "<thead>\n",
       "\t<tr><th scope=col>person</th><th scope=col>sex</th><th scope=col>funny</th><th scope=col>age</th></tr>\n",
       "\t<tr><th scope=col>&lt;chr&gt;</th><th scope=col>&lt;fct&gt;</th><th scope=col>&lt;fct&gt;</th><th scope=col>&lt;dbl&gt;</th></tr>\n",
       "</thead>\n",
       "<tbody>\n",
       "\t<tr><td>Stan    </td><td>M</td><td>High</td><td>  41</td></tr>\n",
       "\t<tr><td>Francine</td><td>F</td><td>Med </td><td>  41</td></tr>\n",
       "\t<tr><td>Steve   </td><td>M</td><td>Low </td><td>  15</td></tr>\n",
       "\t<tr><td>Roger   </td><td>M</td><td>High</td><td>1600</td></tr>\n",
       "\t<tr><td>Hayley  </td><td>F</td><td>Med </td><td>  21</td></tr>\n",
       "\t<tr><td>Klaus   </td><td>M</td><td>Med </td><td>  60</td></tr>\n",
       "</tbody>\n",
       "</table>\n"
      ],
      "text/latex": [
       "A data.frame: 6 × 4\n",
       "\\begin{tabular}{llll}\n",
       " person & sex & funny & age\\\\\n",
       " <chr> & <fct> & <fct> & <dbl>\\\\\n",
       "\\hline\n",
       "\t Stan     & M & High &   41\\\\\n",
       "\t Francine & F & Med  &   41\\\\\n",
       "\t Steve    & M & Low  &   15\\\\\n",
       "\t Roger    & M & High & 1600\\\\\n",
       "\t Hayley   & F & Med  &   21\\\\\n",
       "\t Klaus    & M & Med  &   60\\\\\n",
       "\\end{tabular}\n"
      ],
      "text/markdown": [
       "\n",
       "A data.frame: 6 × 4\n",
       "\n",
       "| person &lt;chr&gt; | sex &lt;fct&gt; | funny &lt;fct&gt; | age &lt;dbl&gt; |\n",
       "|---|---|---|---|\n",
       "| Stan     | M | High |   41 |\n",
       "| Francine | F | Med  |   41 |\n",
       "| Steve    | M | Low  |   15 |\n",
       "| Roger    | M | High | 1600 |\n",
       "| Hayley   | F | Med  |   21 |\n",
       "| Klaus    | M | Med  |   60 |\n",
       "\n"
      ],
      "text/plain": [
       "  person   sex funny age \n",
       "1 Stan     M   High    41\n",
       "2 Francine F   Med     41\n",
       "3 Steve    M   Low     15\n",
       "4 Roger    M   High  1600\n",
       "5 Hayley   F   Med     21\n",
       "6 Klaus    M   Med     60"
      ]
     },
     "metadata": {},
     "output_type": "display_data"
    }
   ],
   "source": [
    "a_df"
   ]
  },
  {
   "cell_type": "markdown",
   "id": "37457fcd",
   "metadata": {},
   "source": [
    "### c"
   ]
  },
  {
   "cell_type": "code",
   "execution_count": 43,
   "id": "9c7c7016",
   "metadata": {},
   "outputs": [],
   "source": [
    "dframe <- a_df[,c(\"person\",\"age\",\"sex\",\"funny\")]"
   ]
  },
  {
   "cell_type": "code",
   "execution_count": 44,
   "id": "3bbd9b8a",
   "metadata": {},
   "outputs": [
    {
     "data": {
      "text/html": [
       "<table class=\"dataframe\">\n",
       "<caption>A data.frame: 6 × 4</caption>\n",
       "<thead>\n",
       "\t<tr><th scope=col>person</th><th scope=col>age</th><th scope=col>sex</th><th scope=col>funny</th></tr>\n",
       "\t<tr><th scope=col>&lt;chr&gt;</th><th scope=col>&lt;dbl&gt;</th><th scope=col>&lt;fct&gt;</th><th scope=col>&lt;fct&gt;</th></tr>\n",
       "</thead>\n",
       "<tbody>\n",
       "\t<tr><td>Stan    </td><td>  41</td><td>M</td><td>High</td></tr>\n",
       "\t<tr><td>Francine</td><td>  41</td><td>F</td><td>Med </td></tr>\n",
       "\t<tr><td>Steve   </td><td>  15</td><td>M</td><td>Low </td></tr>\n",
       "\t<tr><td>Roger   </td><td>1600</td><td>M</td><td>High</td></tr>\n",
       "\t<tr><td>Hayley  </td><td>  21</td><td>F</td><td>Med </td></tr>\n",
       "\t<tr><td>Klaus   </td><td>  60</td><td>M</td><td>Med </td></tr>\n",
       "</tbody>\n",
       "</table>\n"
      ],
      "text/latex": [
       "A data.frame: 6 × 4\n",
       "\\begin{tabular}{llll}\n",
       " person & age & sex & funny\\\\\n",
       " <chr> & <dbl> & <fct> & <fct>\\\\\n",
       "\\hline\n",
       "\t Stan     &   41 & M & High\\\\\n",
       "\t Francine &   41 & F & Med \\\\\n",
       "\t Steve    &   15 & M & Low \\\\\n",
       "\t Roger    & 1600 & M & High\\\\\n",
       "\t Hayley   &   21 & F & Med \\\\\n",
       "\t Klaus    &   60 & M & Med \\\\\n",
       "\\end{tabular}\n"
      ],
      "text/markdown": [
       "\n",
       "A data.frame: 6 × 4\n",
       "\n",
       "| person &lt;chr&gt; | age &lt;dbl&gt; | sex &lt;fct&gt; | funny &lt;fct&gt; |\n",
       "|---|---|---|---|\n",
       "| Stan     |   41 | M | High |\n",
       "| Francine |   41 | F | Med  |\n",
       "| Steve    |   15 | M | Low  |\n",
       "| Roger    | 1600 | M | High |\n",
       "| Hayley   |   21 | F | Med  |\n",
       "| Klaus    |   60 | M | Med  |\n",
       "\n"
      ],
      "text/plain": [
       "  person   age  sex funny\n",
       "1 Stan       41 M   High \n",
       "2 Francine   41 F   Med  \n",
       "3 Steve      15 M   Low  \n",
       "4 Roger    1600 M   High \n",
       "5 Hayley     21 F   Med  \n",
       "6 Klaus      60 M   Med  "
      ]
     },
     "metadata": {},
     "output_type": "display_data"
    }
   ],
   "source": [
    "dframe"
   ]
  },
  {
   "cell_type": "markdown",
   "id": "3aa10be8",
   "metadata": {},
   "source": [
    "### d"
   ]
  },
  {
   "cell_type": "code",
   "execution_count": 45,
   "id": "bb301225",
   "metadata": {},
   "outputs": [],
   "source": [
    "mydata2 <- a_df"
   ]
  },
  {
   "cell_type": "code",
   "execution_count": 47,
   "id": "8ca47db5",
   "metadata": {},
   "outputs": [],
   "source": [
    "mydata2$age.mon <- a_df$age * 12"
   ]
  },
  {
   "cell_type": "code",
   "execution_count": 48,
   "id": "152c781e",
   "metadata": {},
   "outputs": [
    {
     "data": {
      "text/html": [
       "<table class=\"dataframe\">\n",
       "<caption>A data.frame: 6 × 5</caption>\n",
       "<thead>\n",
       "\t<tr><th scope=col>person</th><th scope=col>age</th><th scope=col>sex</th><th scope=col>funny</th><th scope=col>age.mon</th></tr>\n",
       "\t<tr><th scope=col>&lt;chr&gt;</th><th scope=col>&lt;dbl&gt;</th><th scope=col>&lt;fct&gt;</th><th scope=col>&lt;fct&gt;</th><th scope=col>&lt;dbl&gt;</th></tr>\n",
       "</thead>\n",
       "<tbody>\n",
       "\t<tr><td>Stan    </td><td>  41</td><td>M</td><td>High</td><td>  492</td></tr>\n",
       "\t<tr><td>Francine</td><td>  41</td><td>F</td><td>Med </td><td>  492</td></tr>\n",
       "\t<tr><td>Steve   </td><td>  15</td><td>M</td><td>Low </td><td>  180</td></tr>\n",
       "\t<tr><td>Roger   </td><td>1600</td><td>M</td><td>High</td><td>19200</td></tr>\n",
       "\t<tr><td>Hayley  </td><td>  21</td><td>F</td><td>Med </td><td>  252</td></tr>\n",
       "\t<tr><td>Klaus   </td><td>  60</td><td>M</td><td>Med </td><td>  720</td></tr>\n",
       "</tbody>\n",
       "</table>\n"
      ],
      "text/latex": [
       "A data.frame: 6 × 5\n",
       "\\begin{tabular}{lllll}\n",
       " person & age & sex & funny & age.mon\\\\\n",
       " <chr> & <dbl> & <fct> & <fct> & <dbl>\\\\\n",
       "\\hline\n",
       "\t Stan     &   41 & M & High &   492\\\\\n",
       "\t Francine &   41 & F & Med  &   492\\\\\n",
       "\t Steve    &   15 & M & Low  &   180\\\\\n",
       "\t Roger    & 1600 & M & High & 19200\\\\\n",
       "\t Hayley   &   21 & F & Med  &   252\\\\\n",
       "\t Klaus    &   60 & M & Med  &   720\\\\\n",
       "\\end{tabular}\n"
      ],
      "text/markdown": [
       "\n",
       "A data.frame: 6 × 5\n",
       "\n",
       "| person &lt;chr&gt; | age &lt;dbl&gt; | sex &lt;fct&gt; | funny &lt;fct&gt; | age.mon &lt;dbl&gt; |\n",
       "|---|---|---|---|---|\n",
       "| Stan     |   41 | M | High |   492 |\n",
       "| Francine |   41 | F | Med  |   492 |\n",
       "| Steve    |   15 | M | Low  |   180 |\n",
       "| Roger    | 1600 | M | High | 19200 |\n",
       "| Hayley   |   21 | F | Med  |   252 |\n",
       "| Klaus    |   60 | M | Med  |   720 |\n",
       "\n"
      ],
      "text/plain": [
       "  person   age  sex funny age.mon\n",
       "1 Stan       41 M   High    492  \n",
       "2 Francine   41 F   Med     492  \n",
       "3 Steve      15 M   Low     180  \n",
       "4 Roger    1600 M   High  19200  \n",
       "5 Hayley     21 F   Med     252  \n",
       "6 Klaus      60 M   Med     720  "
      ]
     },
     "metadata": {},
     "output_type": "display_data"
    }
   ],
   "source": [
    "mydata2"
   ]
  },
  {
   "cell_type": "code",
   "execution_count": 49,
   "id": "1e1080f8",
   "metadata": {},
   "outputs": [],
   "source": [
    "mydata2 <- mydata2[,-5]"
   ]
  },
  {
   "cell_type": "code",
   "execution_count": 50,
   "id": "24017517",
   "metadata": {},
   "outputs": [
    {
     "data": {
      "text/html": [
       "<table class=\"dataframe\">\n",
       "<caption>A data.frame: 6 × 4</caption>\n",
       "<thead>\n",
       "\t<tr><th scope=col>person</th><th scope=col>age</th><th scope=col>sex</th><th scope=col>funny</th></tr>\n",
       "\t<tr><th scope=col>&lt;chr&gt;</th><th scope=col>&lt;dbl&gt;</th><th scope=col>&lt;fct&gt;</th><th scope=col>&lt;fct&gt;</th></tr>\n",
       "</thead>\n",
       "<tbody>\n",
       "\t<tr><td>Stan    </td><td>  41</td><td>M</td><td>High</td></tr>\n",
       "\t<tr><td>Francine</td><td>  41</td><td>F</td><td>Med </td></tr>\n",
       "\t<tr><td>Steve   </td><td>  15</td><td>M</td><td>Low </td></tr>\n",
       "\t<tr><td>Roger   </td><td>1600</td><td>M</td><td>High</td></tr>\n",
       "\t<tr><td>Hayley  </td><td>  21</td><td>F</td><td>Med </td></tr>\n",
       "\t<tr><td>Klaus   </td><td>  60</td><td>M</td><td>Med </td></tr>\n",
       "</tbody>\n",
       "</table>\n"
      ],
      "text/latex": [
       "A data.frame: 6 × 4\n",
       "\\begin{tabular}{llll}\n",
       " person & age & sex & funny\\\\\n",
       " <chr> & <dbl> & <fct> & <fct>\\\\\n",
       "\\hline\n",
       "\t Stan     &   41 & M & High\\\\\n",
       "\t Francine &   41 & F & Med \\\\\n",
       "\t Steve    &   15 & M & Low \\\\\n",
       "\t Roger    & 1600 & M & High\\\\\n",
       "\t Hayley   &   21 & F & Med \\\\\n",
       "\t Klaus    &   60 & M & Med \\\\\n",
       "\\end{tabular}\n"
      ],
      "text/markdown": [
       "\n",
       "A data.frame: 6 × 4\n",
       "\n",
       "| person &lt;chr&gt; | age &lt;dbl&gt; | sex &lt;fct&gt; | funny &lt;fct&gt; |\n",
       "|---|---|---|---|\n",
       "| Stan     |   41 | M | High |\n",
       "| Francine |   41 | F | Med  |\n",
       "| Steve    |   15 | M | Low  |\n",
       "| Roger    | 1600 | M | High |\n",
       "| Hayley   |   21 | F | Med  |\n",
       "| Klaus    |   60 | M | Med  |\n",
       "\n"
      ],
      "text/plain": [
       "  person   age  sex funny\n",
       "1 Stan       41 M   High \n",
       "2 Francine   41 F   Med  \n",
       "3 Steve      15 M   Low  \n",
       "4 Roger    1600 M   High \n",
       "5 Hayley     21 F   Med  \n",
       "6 Klaus      60 M   Med  "
      ]
     },
     "metadata": {},
     "output_type": "display_data"
    }
   ],
   "source": [
    "mydata2"
   ]
  },
  {
   "cell_type": "markdown",
   "id": "8796012a",
   "metadata": {},
   "source": [
    "### e"
   ]
  },
  {
   "cell_type": "code",
   "execution_count": 51,
   "id": "1ae6868f",
   "metadata": {},
   "outputs": [],
   "source": [
    "mydataframe <- data.frame(cbind(mydata2, dframe))"
   ]
  },
  {
   "cell_type": "code",
   "execution_count": 56,
   "id": "e7f109bb",
   "metadata": {},
   "outputs": [
    {
     "data": {
      "text/html": [
       "<table class=\"dataframe\">\n",
       "<caption>A data.frame: 6 × 8</caption>\n",
       "<thead>\n",
       "\t<tr><th scope=col>person</th><th scope=col>age</th><th scope=col>sex</th><th scope=col>funny</th><th scope=col>person.1</th><th scope=col>age.1</th><th scope=col>sex.1</th><th scope=col>funny.1</th></tr>\n",
       "\t<tr><th scope=col>&lt;chr&gt;</th><th scope=col>&lt;dbl&gt;</th><th scope=col>&lt;fct&gt;</th><th scope=col>&lt;fct&gt;</th><th scope=col>&lt;chr&gt;</th><th scope=col>&lt;dbl&gt;</th><th scope=col>&lt;fct&gt;</th><th scope=col>&lt;fct&gt;</th></tr>\n",
       "</thead>\n",
       "<tbody>\n",
       "\t<tr><td>Stan    </td><td>  41</td><td>M</td><td>High</td><td>Stan    </td><td>  41</td><td>M</td><td>High</td></tr>\n",
       "\t<tr><td>Francine</td><td>  41</td><td>F</td><td>Med </td><td>Francine</td><td>  41</td><td>F</td><td>Med </td></tr>\n",
       "\t<tr><td>Steve   </td><td>  15</td><td>M</td><td>Low </td><td>Steve   </td><td>  15</td><td>M</td><td>Low </td></tr>\n",
       "\t<tr><td>Roger   </td><td>1600</td><td>M</td><td>High</td><td>Roger   </td><td>1600</td><td>M</td><td>High</td></tr>\n",
       "\t<tr><td>Hayley  </td><td>  21</td><td>F</td><td>Med </td><td>Hayley  </td><td>  21</td><td>F</td><td>Med </td></tr>\n",
       "\t<tr><td>Klaus   </td><td>  60</td><td>M</td><td>Med </td><td>Klaus   </td><td>  60</td><td>M</td><td>Med </td></tr>\n",
       "</tbody>\n",
       "</table>\n"
      ],
      "text/latex": [
       "A data.frame: 6 × 8\n",
       "\\begin{tabular}{llllllll}\n",
       " person & age & sex & funny & person.1 & age.1 & sex.1 & funny.1\\\\\n",
       " <chr> & <dbl> & <fct> & <fct> & <chr> & <dbl> & <fct> & <fct>\\\\\n",
       "\\hline\n",
       "\t Stan     &   41 & M & High & Stan     &   41 & M & High\\\\\n",
       "\t Francine &   41 & F & Med  & Francine &   41 & F & Med \\\\\n",
       "\t Steve    &   15 & M & Low  & Steve    &   15 & M & Low \\\\\n",
       "\t Roger    & 1600 & M & High & Roger    & 1600 & M & High\\\\\n",
       "\t Hayley   &   21 & F & Med  & Hayley   &   21 & F & Med \\\\\n",
       "\t Klaus    &   60 & M & Med  & Klaus    &   60 & M & Med \\\\\n",
       "\\end{tabular}\n"
      ],
      "text/markdown": [
       "\n",
       "A data.frame: 6 × 8\n",
       "\n",
       "| person &lt;chr&gt; | age &lt;dbl&gt; | sex &lt;fct&gt; | funny &lt;fct&gt; | person.1 &lt;chr&gt; | age.1 &lt;dbl&gt; | sex.1 &lt;fct&gt; | funny.1 &lt;fct&gt; |\n",
       "|---|---|---|---|---|---|---|---|\n",
       "| Stan     |   41 | M | High | Stan     |   41 | M | High |\n",
       "| Francine |   41 | F | Med  | Francine |   41 | F | Med  |\n",
       "| Steve    |   15 | M | Low  | Steve    |   15 | M | Low  |\n",
       "| Roger    | 1600 | M | High | Roger    | 1600 | M | High |\n",
       "| Hayley   |   21 | F | Med  | Hayley   |   21 | F | Med  |\n",
       "| Klaus    |   60 | M | Med  | Klaus    |   60 | M | Med  |\n",
       "\n"
      ],
      "text/plain": [
       "  person   age  sex funny person.1 age.1 sex.1 funny.1\n",
       "1 Stan       41 M   High  Stan       41  M     High   \n",
       "2 Francine   41 F   Med   Francine   41  F     Med    \n",
       "3 Steve      15 M   Low   Steve      15  M     Low    \n",
       "4 Roger    1600 M   High  Roger    1600  M     High   \n",
       "5 Hayley     21 F   Med   Hayley     21  F     Med    \n",
       "6 Klaus      60 M   Med   Klaus      60  M     Med    "
      ]
     },
     "metadata": {},
     "output_type": "display_data"
    }
   ],
   "source": [
    "mydataframe"
   ]
  },
  {
   "cell_type": "markdown",
   "id": "d366b9d1",
   "metadata": {},
   "source": [
    "### f"
   ]
  },
  {
   "cell_type": "code",
   "execution_count": 57,
   "id": "493bae83",
   "metadata": {},
   "outputs": [
    {
     "data": {
      "text/html": [
       "<table class=\"dataframe\">\n",
       "<caption>A data.frame: 5 × 8</caption>\n",
       "<thead>\n",
       "\t<tr><th></th><th scope=col>person</th><th scope=col>age</th><th scope=col>sex</th><th scope=col>funny</th><th scope=col>person.1</th><th scope=col>age.1</th><th scope=col>sex.1</th><th scope=col>funny.1</th></tr>\n",
       "\t<tr><th></th><th scope=col>&lt;chr&gt;</th><th scope=col>&lt;dbl&gt;</th><th scope=col>&lt;fct&gt;</th><th scope=col>&lt;fct&gt;</th><th scope=col>&lt;chr&gt;</th><th scope=col>&lt;dbl&gt;</th><th scope=col>&lt;fct&gt;</th><th scope=col>&lt;fct&gt;</th></tr>\n",
       "</thead>\n",
       "<tbody>\n",
       "\t<tr><th scope=row>1</th><td>Stan    </td><td>  41</td><td>M</td><td>High</td><td>Stan    </td><td>  41</td><td>M</td><td>High</td></tr>\n",
       "\t<tr><th scope=row>2</th><td>Francine</td><td>  41</td><td>F</td><td>Med </td><td>Francine</td><td>  41</td><td>F</td><td>Med </td></tr>\n",
       "\t<tr><th scope=row>4</th><td>Roger   </td><td>1600</td><td>M</td><td>High</td><td>Roger   </td><td>1600</td><td>M</td><td>High</td></tr>\n",
       "\t<tr><th scope=row>5</th><td>Hayley  </td><td>  21</td><td>F</td><td>Med </td><td>Hayley  </td><td>  21</td><td>F</td><td>Med </td></tr>\n",
       "\t<tr><th scope=row>6</th><td>Klaus   </td><td>  60</td><td>M</td><td>Med </td><td>Klaus   </td><td>  60</td><td>M</td><td>Med </td></tr>\n",
       "</tbody>\n",
       "</table>\n"
      ],
      "text/latex": [
       "A data.frame: 5 × 8\n",
       "\\begin{tabular}{r|llllllll}\n",
       "  & person & age & sex & funny & person.1 & age.1 & sex.1 & funny.1\\\\\n",
       "  & <chr> & <dbl> & <fct> & <fct> & <chr> & <dbl> & <fct> & <fct>\\\\\n",
       "\\hline\n",
       "\t1 & Stan     &   41 & M & High & Stan     &   41 & M & High\\\\\n",
       "\t2 & Francine &   41 & F & Med  & Francine &   41 & F & Med \\\\\n",
       "\t4 & Roger    & 1600 & M & High & Roger    & 1600 & M & High\\\\\n",
       "\t5 & Hayley   &   21 & F & Med  & Hayley   &   21 & F & Med \\\\\n",
       "\t6 & Klaus    &   60 & M & Med  & Klaus    &   60 & M & Med \\\\\n",
       "\\end{tabular}\n"
      ],
      "text/markdown": [
       "\n",
       "A data.frame: 5 × 8\n",
       "\n",
       "| <!--/--> | person &lt;chr&gt; | age &lt;dbl&gt; | sex &lt;fct&gt; | funny &lt;fct&gt; | person.1 &lt;chr&gt; | age.1 &lt;dbl&gt; | sex.1 &lt;fct&gt; | funny.1 &lt;fct&gt; |\n",
       "|---|---|---|---|---|---|---|---|---|\n",
       "| 1 | Stan     |   41 | M | High | Stan     |   41 | M | High |\n",
       "| 2 | Francine |   41 | F | Med  | Francine |   41 | F | Med  |\n",
       "| 4 | Roger    | 1600 | M | High | Roger    | 1600 | M | High |\n",
       "| 5 | Hayley   |   21 | F | Med  | Hayley   |   21 | F | Med  |\n",
       "| 6 | Klaus    |   60 | M | Med  | Klaus    |   60 | M | Med  |\n",
       "\n"
      ],
      "text/plain": [
       "  person   age  sex funny person.1 age.1 sex.1 funny.1\n",
       "1 Stan       41 M   High  Stan       41  M     High   \n",
       "2 Francine   41 F   Med   Francine   41  F     Med    \n",
       "4 Roger    1600 M   High  Roger    1600  M     High   \n",
       "5 Hayley     21 F   Med   Hayley     21  F     Med    \n",
       "6 Klaus      60 M   Med   Klaus      60  M     Med    "
      ]
     },
     "metadata": {},
     "output_type": "display_data"
    }
   ],
   "source": [
    "mydataframe[mydataframe$sex == \"F\"|mydataframe$funny == \"Med\"|mydataframe$funny == \"High\",]"
   ]
  },
  {
   "cell_type": "markdown",
   "id": "1da6172e",
   "metadata": {},
   "source": [
    "### g"
   ]
  },
  {
   "cell_type": "code",
   "execution_count": 63,
   "id": "8037e3bf",
   "metadata": {},
   "outputs": [
    {
     "data": {
      "text/html": [
       "<table class=\"dataframe\">\n",
       "<caption>A data.frame: 2 × 8</caption>\n",
       "<thead>\n",
       "\t<tr><th></th><th scope=col>person</th><th scope=col>age</th><th scope=col>sex</th><th scope=col>funny</th><th scope=col>person.1</th><th scope=col>age.1</th><th scope=col>sex.1</th><th scope=col>funny.1</th></tr>\n",
       "\t<tr><th></th><th scope=col>&lt;chr&gt;</th><th scope=col>&lt;dbl&gt;</th><th scope=col>&lt;fct&gt;</th><th scope=col>&lt;fct&gt;</th><th scope=col>&lt;chr&gt;</th><th scope=col>&lt;dbl&gt;</th><th scope=col>&lt;fct&gt;</th><th scope=col>&lt;fct&gt;</th></tr>\n",
       "</thead>\n",
       "<tbody>\n",
       "\t<tr><th scope=row>1</th><td>Stan </td><td>41</td><td>M</td><td>High</td><td>Stan </td><td>41</td><td>M</td><td>High</td></tr>\n",
       "\t<tr><th scope=row>3</th><td>Steve</td><td>15</td><td>M</td><td>Low </td><td>Steve</td><td>15</td><td>M</td><td>Low </td></tr>\n",
       "</tbody>\n",
       "</table>\n"
      ],
      "text/latex": [
       "A data.frame: 2 × 8\n",
       "\\begin{tabular}{r|llllllll}\n",
       "  & person & age & sex & funny & person.1 & age.1 & sex.1 & funny.1\\\\\n",
       "  & <chr> & <dbl> & <fct> & <fct> & <chr> & <dbl> & <fct> & <fct>\\\\\n",
       "\\hline\n",
       "\t1 & Stan  & 41 & M & High & Stan  & 41 & M & High\\\\\n",
       "\t3 & Steve & 15 & M & Low  & Steve & 15 & M & Low \\\\\n",
       "\\end{tabular}\n"
      ],
      "text/markdown": [
       "\n",
       "A data.frame: 2 × 8\n",
       "\n",
       "| <!--/--> | person &lt;chr&gt; | age &lt;dbl&gt; | sex &lt;fct&gt; | funny &lt;fct&gt; | person.1 &lt;chr&gt; | age.1 &lt;dbl&gt; | sex.1 &lt;fct&gt; | funny.1 &lt;fct&gt; |\n",
       "|---|---|---|---|---|---|---|---|---|\n",
       "| 1 | Stan  | 41 | M | High | Stan  | 41 | M | High |\n",
       "| 3 | Steve | 15 | M | Low  | Steve | 15 | M | Low  |\n",
       "\n"
      ],
      "text/plain": [
       "  person age sex funny person.1 age.1 sex.1 funny.1\n",
       "1 Stan   41  M   High  Stan     41    M     High   \n",
       "3 Steve  15  M   Low   Steve    15    M     Low    "
      ]
     },
     "metadata": {},
     "output_type": "display_data"
    }
   ],
   "source": [
    "mydataframe[substr(x = mydataframe$person, start=1, stop=1) == \"S\",]"
   ]
  },
  {
   "cell_type": "code",
   "execution_count": null,
   "id": "c36ef8c7",
   "metadata": {},
   "outputs": [],
   "source": []
  }
 ],
 "metadata": {
  "kernelspec": {
   "display_name": "R",
   "language": "R",
   "name": "ir"
  },
  "language_info": {
   "codemirror_mode": "r",
   "file_extension": ".r",
   "mimetype": "text/x-r-source",
   "name": "R",
   "pygments_lexer": "r",
   "version": "3.6.3"
  }
 },
 "nbformat": 4,
 "nbformat_minor": 5
}
