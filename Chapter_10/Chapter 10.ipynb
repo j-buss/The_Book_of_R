{
 "cells": [
  {
   "cell_type": "markdown",
   "id": "784be783",
   "metadata": {},
   "source": [
    "# 10.1"
   ]
  },
  {
   "cell_type": "markdown",
   "id": "269c1223",
   "metadata": {},
   "source": [
    "### a"
   ]
  },
  {
   "cell_type": "code",
   "execution_count": 1,
   "id": "1376fa11",
   "metadata": {},
   "outputs": [],
   "source": [
    "vec1 <- c(2,1,1,3,2,1,0)\n",
    "vec2 <- c(3,8,2,2,0,0,0)"
   ]
  },
  {
   "cell_type": "code",
   "execution_count": 2,
   "id": "6f539c03",
   "metadata": {},
   "outputs": [
    {
     "name": "stdout",
     "output_type": "stream",
     "text": [
      "print me"
     ]
    }
   ],
   "source": [
    "#i\n",
    "#Print Me\n",
    "if((vec1[1]+vec2[2])==10){cat(\"print me\")}"
   ]
  },
  {
   "cell_type": "code",
   "execution_count": 3,
   "id": "8347ed8a",
   "metadata": {},
   "outputs": [
    {
     "name": "stdout",
     "output_type": "stream",
     "text": [
      "print me"
     ]
    }
   ],
   "source": [
    "#ii\n",
    "#Print Me\n",
    "if((vec1[1]>=2&&vec2[1]>=2)){cat(\"print me\")}"
   ]
  },
  {
   "cell_type": "code",
   "execution_count": 4,
   "id": "e5f5e6b9",
   "metadata": {},
   "outputs": [],
   "source": [
    "#iii\n",
    "#no\n",
    "if(all((vec2-vec1)[c(2,6)]>7)){cat(\"print me\")}"
   ]
  },
  {
   "cell_type": "code",
   "execution_count": 5,
   "id": "55a85522",
   "metadata": {},
   "outputs": [
    {
     "name": "stdout",
     "output_type": "stream",
     "text": [
      "print me"
     ]
    }
   ],
   "source": [
    "#iv\n",
    "#Print Me\n",
    "if(!is.na(vec2[3])){cat(\"print me\")}"
   ]
  },
  {
   "cell_type": "markdown",
   "id": "7c72b0a7",
   "metadata": {},
   "source": [
    "### b"
   ]
  },
  {
   "cell_type": "code",
   "execution_count": 6,
   "id": "c45307a9",
   "metadata": {},
   "outputs": [
    {
     "data": {
      "text/html": [
       "<style>\n",
       ".list-inline {list-style: none; margin:0; padding: 0}\n",
       ".list-inline>li {display: inline-block}\n",
       ".list-inline>li:not(:last-child)::after {content: \"\\00b7\"; padding: 0 .5ex}\n",
       "</style>\n",
       "<ol class=list-inline><li>6</li><li>8</li><li>3</li><li>6</li><li>2</li><li>1</li><li>0</li></ol>\n"
      ],
      "text/latex": [
       "\\begin{enumerate*}\n",
       "\\item 6\n",
       "\\item 8\n",
       "\\item 3\n",
       "\\item 6\n",
       "\\item 2\n",
       "\\item 1\n",
       "\\item 0\n",
       "\\end{enumerate*}\n"
      ],
      "text/markdown": [
       "1. 6\n",
       "2. 8\n",
       "3. 3\n",
       "4. 6\n",
       "5. 2\n",
       "6. 1\n",
       "7. 0\n",
       "\n",
       "\n"
      ],
      "text/plain": [
       "[1] 6 8 3 6 2 1 0"
      ]
     },
     "metadata": {},
     "output_type": "display_data"
    }
   ],
   "source": [
    "ifelse(vec1+vec2>3,vec1*vec2,vec1+vec2)"
   ]
  },
  {
   "cell_type": "markdown",
   "id": "2b676167",
   "metadata": {},
   "source": [
    "### c"
   ]
  },
  {
   "cell_type": "code",
   "execution_count": 7,
   "id": "502801c4",
   "metadata": {},
   "outputs": [],
   "source": [
    "my_matrix <- matrix(data=c(\"alligator\",\"goat\",\"gorilla\",\"golf\"),nrow = 2, ncol= 2)\n",
    "my_matrix <- matrix(as.character(1:16),4,4)\n",
    "my_matrix <- matrix(c(\"DANDELION\",\"Hyacinthus\",\"Gerbera\",\n",
    "                     \"MARIGOLD\",\"geranium\",\"ligularia\",\n",
    "                     \"Pachysandra\",\"SNAPDRAGON\",\"GLADIOLUS\"),3,3)\n",
    "my_matrix <- matrix(c(\"GREAT\",\"exercises\",\"right\",\"here\"),2,2,byrow=T)"
   ]
  },
  {
   "cell_type": "code",
   "execution_count": 8,
   "id": "09654640",
   "metadata": {},
   "outputs": [
    {
     "data": {
      "text/html": [
       "1"
      ],
      "text/latex": [
       "1"
      ],
      "text/markdown": [
       "1"
      ],
      "text/plain": [
       "[1] 1"
      ]
     },
     "metadata": {},
     "output_type": "display_data"
    }
   ],
   "source": [
    "ifelse(any(substr(diag(my_matrix),1,1)==\"g\"),\n",
    "       diag(my_matrix)<-\"HERE\",\n",
    "       my_matrix<-diag(nrow = nrow(my_matrix)))"
   ]
  },
  {
   "cell_type": "code",
   "execution_count": 9,
   "id": "30c5dd70",
   "metadata": {},
   "outputs": [
    {
     "data": {
      "text/html": [
       "<table class=\"dataframe\">\n",
       "<caption>A matrix: 2 × 2 of type dbl</caption>\n",
       "<tbody>\n",
       "\t<tr><td>1</td><td>0</td></tr>\n",
       "\t<tr><td>0</td><td>1</td></tr>\n",
       "</tbody>\n",
       "</table>\n"
      ],
      "text/latex": [
       "A matrix: 2 × 2 of type dbl\n",
       "\\begin{tabular}{ll}\n",
       "\t 1 & 0\\\\\n",
       "\t 0 & 1\\\\\n",
       "\\end{tabular}\n"
      ],
      "text/markdown": [
       "\n",
       "A matrix: 2 × 2 of type dbl\n",
       "\n",
       "| 1 | 0 |\n",
       "| 0 | 1 |\n",
       "\n"
      ],
      "text/plain": [
       "     [,1] [,2]\n",
       "[1,] 1    0   \n",
       "[2,] 0    1   "
      ]
     },
     "metadata": {},
     "output_type": "display_data"
    }
   ],
   "source": [
    "my_matrix"
   ]
  },
  {
   "cell_type": "markdown",
   "id": "d3383ad8",
   "metadata": {},
   "source": [
    "## 10.2"
   ]
  },
  {
   "cell_type": "markdown",
   "id": "270ac6cd",
   "metadata": {},
   "source": [
    "## a"
   ]
  },
  {
   "cell_type": "code",
   "execution_count": 10,
   "id": "8c29ffa9",
   "metadata": {},
   "outputs": [
    {
     "name": "stdout",
     "output_type": "stream",
     "text": [
      "NULL\n"
     ]
    }
   ],
   "source": [
    "mynum <- 0\n",
    "foo <- switch(mynum,12,34,56,78,NA)\n",
    "print(foo)"
   ]
  },
  {
   "cell_type": "code",
   "execution_count": 11,
   "id": "c8d67a9a",
   "metadata": {},
   "outputs": [],
   "source": [
    "if(mynum == 1){\n",
    "    foo <- 12\n",
    "} else if(mynum ==2){\n",
    "    foo <- 34\n",
    "} else if(mynum ==3){\n",
    "    foo <- 56\n",
    "} else if(mynum ==4){\n",
    "    foo <- 78\n",
    "}else if(mynum ==5){\n",
    "    foo <- NA\n",
    "}"
   ]
  },
  {
   "cell_type": "code",
   "execution_count": 12,
   "id": "1dc99cfd",
   "metadata": {},
   "outputs": [
    {
     "data": {
      "text/plain": [
       "NULL"
      ]
     },
     "metadata": {},
     "output_type": "display_data"
    }
   ],
   "source": [
    "foo"
   ]
  },
  {
   "cell_type": "markdown",
   "id": "eb9f07f6",
   "metadata": {},
   "source": [
    "## b"
   ]
  },
  {
   "cell_type": "code",
   "execution_count": 49,
   "id": "f9bbbedd",
   "metadata": {},
   "outputs": [],
   "source": [
    "lowdose <-12.5\n",
    "meddose <- 25.3\n",
    "highdose <- 58.1\n",
    "doselevel <- factor(c(\"Low\",\"High\",\"High\",\"Med\",\"Low\"))\n"
   ]
  },
  {
   "cell_type": "code",
   "execution_count": 50,
   "id": "9447db17",
   "metadata": {},
   "outputs": [
    {
     "name": "stdout",
     "output_type": "stream",
     "text": [
      "Second"
     ]
    }
   ],
   "source": [
    "if(any(doselevel==\"High\")){\n",
    "    cat(\"First\")\n",
    "    \n",
    "    if(lowdose >= 10){\n",
    "        lowdose <- 10\n",
    "    } else {\n",
    "        lowdose <- lowdose / 2\n",
    "    }\n",
    "    \n",
    "    if(meddose >= 26){\n",
    "        meddose <- 26\n",
    "    } \n",
    "    \n",
    "    if(highdose < 60){\n",
    "        highdose <- 60\n",
    "    } else {\n",
    "        highdose <- highdose * 1.5\n",
    "    }\n",
    "    \n",
    "    dosage <- rep(lowdose,length = length(doselevel))\n",
    "    dosage[doselevel==\"Med\"] <- meddose\n",
    "    dosage[doselevel==\"High\"] <- highdose\n",
    "} else {\n",
    "    cat(\"Second\")\n",
    "    doselevel <- factor(x = doselevel, labels = c(\"Small\",\"Large\"))\n",
    "    \n",
    "    if(lowdose < 15 && meddose < 35){\n",
    "        lowdose <- lowdose * 2\n",
    "        meddose <- meddose + highdose\n",
    "    }\n",
    "    \n",
    "    dosage <- rep(lowdose, length = length(doselevel))\n",
    "    dosage[doselevel==\"Med\"] <- highdose\n",
    "}"
   ]
  },
  {
   "cell_type": "code",
   "execution_count": 51,
   "id": "8342d306",
   "metadata": {},
   "outputs": [
    {
     "name": "stdout",
     "output_type": "stream",
     "text": [
      "[1] 19\n",
      "[1] 90\n",
      "[1] 61\n"
     ]
    },
    {
     "data": {
      "text/html": [
       "<style>\n",
       ".list-inline {list-style: none; margin:0; padding: 0}\n",
       ".list-inline>li {display: inline-block}\n",
       ".list-inline>li:not(:last-child)::after {content: \"\\00b7\"; padding: 0 .5ex}\n",
       "</style>\n",
       "<ol class=list-inline><li>19</li><li>19</li><li>19</li></ol>\n"
      ],
      "text/latex": [
       "\\begin{enumerate*}\n",
       "\\item 19\n",
       "\\item 19\n",
       "\\item 19\n",
       "\\end{enumerate*}\n"
      ],
      "text/markdown": [
       "1. 19\n",
       "2. 19\n",
       "3. 19\n",
       "\n",
       "\n"
      ],
      "text/plain": [
       "[1] 19 19 19"
      ]
     },
     "metadata": {},
     "output_type": "display_data"
    }
   ],
   "source": [
    "print(lowdose)\n",
    "print(meddose)\n",
    "print(highdose)\n",
    "dosage"
   ]
  },
  {
   "cell_type": "code",
   "execution_count": 52,
   "id": "ca44f274",
   "metadata": {},
   "outputs": [
    {
     "name": "stdout",
     "output_type": "stream",
     "text": [
      "[1] 19 19 19\n"
     ]
    }
   ],
   "source": [
    "print(dosage)"
   ]
  },
  {
   "cell_type": "code",
   "execution_count": 48,
   "id": "62474d5b",
   "metadata": {},
   "outputs": [
    {
     "name": "stdout",
     "output_type": "stream",
     "text": [
      "[1] Small Large Small\n",
      "Levels: Small Large\n"
     ]
    }
   ],
   "source": [
    "print(doselevel)"
   ]
  },
  {
   "cell_type": "code",
   "execution_count": 42,
   "id": "e6611791",
   "metadata": {},
   "outputs": [],
   "source": [
    "doselevel <- factor(x = doselevel, labels = c(\"Small\",\"Large\"))"
   ]
  },
  {
   "cell_type": "code",
   "execution_count": 43,
   "id": "c448321f",
   "metadata": {},
   "outputs": [
    {
     "name": "stdout",
     "output_type": "stream",
     "text": [
      "[1] Small Large Small\n",
      "Levels: Small Large\n"
     ]
    }
   ],
   "source": [
    "print(doselevel)"
   ]
  },
  {
   "cell_type": "markdown",
   "id": "c8b52e12",
   "metadata": {},
   "source": [
    "## c"
   ]
  },
  {
   "cell_type": "code",
   "execution_count": null,
   "id": "d6e485d4",
   "metadata": {},
   "outputs": [],
   "source": []
  },
  {
   "cell_type": "markdown",
   "id": "eb59faad",
   "metadata": {},
   "source": [
    "## 10.3"
   ]
  },
  {
   "cell_type": "markdown",
   "id": "12cf5bd7",
   "metadata": {},
   "source": [
    "### a"
   ]
  },
  {
   "cell_type": "markdown",
   "id": "f3fd7bba",
   "metadata": {},
   "source": [
    "### b"
   ]
  },
  {
   "cell_type": "markdown",
   "id": "ec1b3b33",
   "metadata": {},
   "source": [
    "### c"
   ]
  },
  {
   "cell_type": "markdown",
   "id": "4446664f",
   "metadata": {},
   "source": [
    "## 10.4"
   ]
  },
  {
   "cell_type": "markdown",
   "id": "c45a088f",
   "metadata": {},
   "source": [
    "### a"
   ]
  },
  {
   "cell_type": "markdown",
   "id": "55390442",
   "metadata": {},
   "source": [
    "### b"
   ]
  },
  {
   "cell_type": "markdown",
   "id": "2fc5cf0b",
   "metadata": {},
   "source": [
    "### c"
   ]
  },
  {
   "cell_type": "markdown",
   "id": "f0aab0c9",
   "metadata": {},
   "source": [
    "## 10.5"
   ]
  },
  {
   "cell_type": "markdown",
   "id": "ac8dcac5",
   "metadata": {},
   "source": [
    "### a"
   ]
  },
  {
   "cell_type": "markdown",
   "id": "132549be",
   "metadata": {},
   "source": [
    "### b"
   ]
  },
  {
   "cell_type": "markdown",
   "id": "cad6e082",
   "metadata": {},
   "source": [
    "### c"
   ]
  },
  {
   "cell_type": "code",
   "execution_count": null,
   "id": "91751245",
   "metadata": {},
   "outputs": [],
   "source": []
  }
 ],
 "metadata": {
  "kernelspec": {
   "display_name": "R",
   "language": "R",
   "name": "ir"
  },
  "language_info": {
   "codemirror_mode": "r",
   "file_extension": ".r",
   "mimetype": "text/x-r-source",
   "name": "R",
   "pygments_lexer": "r",
   "version": "3.6.3"
  }
 },
 "nbformat": 4,
 "nbformat_minor": 5
}
