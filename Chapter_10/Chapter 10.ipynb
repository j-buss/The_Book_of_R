{
 "cells": [
  {
   "cell_type": "markdown",
   "id": "784be783",
   "metadata": {},
   "source": [
    "# 10.1"
   ]
  },
  {
   "cell_type": "markdown",
   "id": "269c1223",
   "metadata": {},
   "source": [
    "### a"
   ]
  },
  {
   "cell_type": "code",
   "execution_count": 1,
   "id": "1376fa11",
   "metadata": {},
   "outputs": [],
   "source": [
    "vec1 <- c(2,1,1,3,2,1,0)\n",
    "vec2 <- c(3,8,2,2,0,0,0)"
   ]
  },
  {
   "cell_type": "code",
   "execution_count": 2,
   "id": "6f539c03",
   "metadata": {},
   "outputs": [
    {
     "name": "stdout",
     "output_type": "stream",
     "text": [
      "print me"
     ]
    }
   ],
   "source": [
    "#i\n",
    "#Print Me\n",
    "if((vec1[1]+vec2[2])==10){cat(\"print me\")}"
   ]
  },
  {
   "cell_type": "code",
   "execution_count": 3,
   "id": "8347ed8a",
   "metadata": {},
   "outputs": [
    {
     "name": "stdout",
     "output_type": "stream",
     "text": [
      "print me"
     ]
    }
   ],
   "source": [
    "#ii\n",
    "#Print Me\n",
    "if((vec1[1]>=2&&vec2[1]>=2)){cat(\"print me\")}"
   ]
  },
  {
   "cell_type": "code",
   "execution_count": 4,
   "id": "e5f5e6b9",
   "metadata": {},
   "outputs": [],
   "source": [
    "#iii\n",
    "#no\n",
    "if(all((vec2-vec1)[c(2,6)]>7)){cat(\"print me\")}"
   ]
  },
  {
   "cell_type": "code",
   "execution_count": 5,
   "id": "55a85522",
   "metadata": {},
   "outputs": [
    {
     "name": "stdout",
     "output_type": "stream",
     "text": [
      "print me"
     ]
    }
   ],
   "source": [
    "#iv\n",
    "#Print Me\n",
    "if(!is.na(vec2[3])){cat(\"print me\")}"
   ]
  },
  {
   "cell_type": "markdown",
   "id": "7c72b0a7",
   "metadata": {},
   "source": [
    "### b"
   ]
  },
  {
   "cell_type": "code",
   "execution_count": 6,
   "id": "c45307a9",
   "metadata": {},
   "outputs": [
    {
     "data": {
      "text/html": [
       "<style>\n",
       ".list-inline {list-style: none; margin:0; padding: 0}\n",
       ".list-inline>li {display: inline-block}\n",
       ".list-inline>li:not(:last-child)::after {content: \"\\00b7\"; padding: 0 .5ex}\n",
       "</style>\n",
       "<ol class=list-inline><li>6</li><li>8</li><li>3</li><li>6</li><li>2</li><li>1</li><li>0</li></ol>\n"
      ],
      "text/latex": [
       "\\begin{enumerate*}\n",
       "\\item 6\n",
       "\\item 8\n",
       "\\item 3\n",
       "\\item 6\n",
       "\\item 2\n",
       "\\item 1\n",
       "\\item 0\n",
       "\\end{enumerate*}\n"
      ],
      "text/markdown": [
       "1. 6\n",
       "2. 8\n",
       "3. 3\n",
       "4. 6\n",
       "5. 2\n",
       "6. 1\n",
       "7. 0\n",
       "\n",
       "\n"
      ],
      "text/plain": [
       "[1] 6 8 3 6 2 1 0"
      ]
     },
     "metadata": {},
     "output_type": "display_data"
    }
   ],
   "source": [
    "ifelse(vec1+vec2>3,vec1*vec2,vec1+vec2)"
   ]
  },
  {
   "cell_type": "markdown",
   "id": "2b676167",
   "metadata": {},
   "source": [
    "### c"
   ]
  },
  {
   "cell_type": "code",
   "execution_count": 7,
   "id": "502801c4",
   "metadata": {},
   "outputs": [],
   "source": [
    "my_matrix <- matrix(data=c(\"alligator\",\"goat\",\"gorilla\",\"golf\"),nrow = 2, ncol= 2)\n",
    "my_matrix <- matrix(as.character(1:16),4,4)\n",
    "my_matrix <- matrix(c(\"DANDELION\",\"Hyacinthus\",\"Gerbera\",\n",
    "                     \"MARIGOLD\",\"geranium\",\"ligularia\",\n",
    "                     \"Pachysandra\",\"SNAPDRAGON\",\"GLADIOLUS\"),3,3)\n",
    "my_matrix <- matrix(c(\"GREAT\",\"exercises\",\"right\",\"here\"),2,2,byrow=T)"
   ]
  },
  {
   "cell_type": "code",
   "execution_count": 8,
   "id": "09654640",
   "metadata": {},
   "outputs": [
    {
     "data": {
      "text/html": [
       "1"
      ],
      "text/latex": [
       "1"
      ],
      "text/markdown": [
       "1"
      ],
      "text/plain": [
       "[1] 1"
      ]
     },
     "metadata": {},
     "output_type": "display_data"
    }
   ],
   "source": [
    "ifelse(any(substr(diag(my_matrix),1,1)==\"g\"),\n",
    "       diag(my_matrix)<-\"HERE\",\n",
    "       my_matrix<-diag(nrow = nrow(my_matrix)))"
   ]
  },
  {
   "cell_type": "code",
   "execution_count": 9,
   "id": "30c5dd70",
   "metadata": {},
   "outputs": [
    {
     "data": {
      "text/html": [
       "<table class=\"dataframe\">\n",
       "<caption>A matrix: 2 × 2 of type dbl</caption>\n",
       "<tbody>\n",
       "\t<tr><td>1</td><td>0</td></tr>\n",
       "\t<tr><td>0</td><td>1</td></tr>\n",
       "</tbody>\n",
       "</table>\n"
      ],
      "text/latex": [
       "A matrix: 2 × 2 of type dbl\n",
       "\\begin{tabular}{ll}\n",
       "\t 1 & 0\\\\\n",
       "\t 0 & 1\\\\\n",
       "\\end{tabular}\n"
      ],
      "text/markdown": [
       "\n",
       "A matrix: 2 × 2 of type dbl\n",
       "\n",
       "| 1 | 0 |\n",
       "| 0 | 1 |\n",
       "\n"
      ],
      "text/plain": [
       "     [,1] [,2]\n",
       "[1,] 1    0   \n",
       "[2,] 0    1   "
      ]
     },
     "metadata": {},
     "output_type": "display_data"
    }
   ],
   "source": [
    "my_matrix"
   ]
  },
  {
   "cell_type": "markdown",
   "id": "d3383ad8",
   "metadata": {},
   "source": [
    "## 10.2"
   ]
  },
  {
   "cell_type": "markdown",
   "id": "270ac6cd",
   "metadata": {},
   "source": [
    "## a"
   ]
  },
  {
   "cell_type": "code",
   "execution_count": 10,
   "id": "8c29ffa9",
   "metadata": {},
   "outputs": [
    {
     "name": "stdout",
     "output_type": "stream",
     "text": [
      "NULL\n"
     ]
    }
   ],
   "source": [
    "mynum <- 0\n",
    "foo <- switch(mynum,12,34,56,78,NA)\n",
    "print(foo)"
   ]
  },
  {
   "cell_type": "code",
   "execution_count": 11,
   "id": "c8d67a9a",
   "metadata": {},
   "outputs": [],
   "source": [
    "if(mynum == 1){\n",
    "    foo <- 12\n",
    "} else if(mynum ==2){\n",
    "    foo <- 34\n",
    "} else if(mynum ==3){\n",
    "    foo <- 56\n",
    "} else if(mynum ==4){\n",
    "    foo <- 78\n",
    "}else if(mynum ==5){\n",
    "    foo <- NA\n",
    "}"
   ]
  },
  {
   "cell_type": "code",
   "execution_count": 12,
   "id": "1dc99cfd",
   "metadata": {},
   "outputs": [
    {
     "data": {
      "text/plain": [
       "NULL"
      ]
     },
     "metadata": {},
     "output_type": "display_data"
    }
   ],
   "source": [
    "foo"
   ]
  },
  {
   "cell_type": "markdown",
   "id": "eb9f07f6",
   "metadata": {},
   "source": [
    "## b"
   ]
  },
  {
   "cell_type": "code",
   "execution_count": 1,
   "id": "f9bbbedd",
   "metadata": {},
   "outputs": [],
   "source": [
    "#i\n",
    "lowdose <-12.5\n",
    "meddose <- 25.3\n",
    "highdose <- 58.1\n",
    "doselevel <- factor(c(\"Low\",\"High\",\"High\",\"High\",\"Low\",\"Med\",\"Med\"),levels=c(\"Low\",\"Med\",\"High\"))\n"
   ]
  },
  {
   "cell_type": "code",
   "execution_count": 30,
   "id": "b628c382",
   "metadata": {},
   "outputs": [],
   "source": [
    "#ii\n",
    "lowdose <-12.5\n",
    "meddose <- 25.3\n",
    "highdose <- 58.1\n",
    "doselevel <- factor(c(\"Low\",\"Low\",\"Low\",\"Med\",\"Low\",\"Med\",\"Med\"),levels=c(\"Low\",\"Med\",\"High\"))"
   ]
  },
  {
   "cell_type": "code",
   "execution_count": 38,
   "id": "892e07fb",
   "metadata": {},
   "outputs": [],
   "source": [
    "#iii\n",
    "lowdose <- 9\n",
    "meddose <- 49\n",
    "highdose <- 61\n",
    "doselevel <- factor(c(\"Low\",\"Med\",\"Med\"),levels=c(\"Low\",\"Med\",\"High\"))"
   ]
  },
  {
   "cell_type": "code",
   "execution_count": 43,
   "id": "e49bce4b",
   "metadata": {},
   "outputs": [],
   "source": [
    "#iv\n",
    "lowdose <- 9\n",
    "meddose <- 49\n",
    "highdose <- 61\n",
    "doselevel <- factor(c(\"Low\",\"High\",\"High\",\"High\",\"Low\",\"Med\",\"Med\"),levels=c(\"Low\",\"Med\",\"High\"))"
   ]
  },
  {
   "cell_type": "code",
   "execution_count": 44,
   "id": "9447db17",
   "metadata": {},
   "outputs": [
    {
     "name": "stdout",
     "output_type": "stream",
     "text": [
      "First"
     ]
    }
   ],
   "source": [
    "if(any(doselevel==\"High\")){\n",
    "    cat(\"First\")\n",
    "    \n",
    "    if(lowdose >= 10){\n",
    "        lowdose <- 10\n",
    "    } else {\n",
    "        lowdose <- lowdose / 2\n",
    "    }\n",
    "    \n",
    "    if(meddose >= 26){\n",
    "        meddose <- 26\n",
    "    } \n",
    "    \n",
    "    if(highdose < 60){\n",
    "        highdose <- 60\n",
    "    } else {\n",
    "        highdose <- highdose * 1.5\n",
    "    }\n",
    "    \n",
    "    dosage <- rep(lowdose,length = length(doselevel))\n",
    "    dosage[doselevel==\"Med\"] <- meddose\n",
    "    dosage[doselevel==\"High\"] <- highdose\n",
    "} else {\n",
    "    cat(\"Second\")\n",
    "    doselevel <- factor(x = doselevel, labels = c(\"Small\",\"Large\"))\n",
    "    \n",
    "    if(lowdose < 15 && meddose < 35){\n",
    "        lowdose <- lowdose * 2\n",
    "        meddose <- meddose + highdose\n",
    "    }\n",
    "    \n",
    "    dosage <- rep(lowdose, length = length(doselevel))\n",
    "    dosage[doselevel==\"Large\"] <- meddose\n",
    "}"
   ]
  },
  {
   "cell_type": "code",
   "execution_count": 45,
   "id": "8342d306",
   "metadata": {},
   "outputs": [
    {
     "name": "stdout",
     "output_type": "stream",
     "text": [
      "[1] 4.5\n",
      "[1] 26\n",
      "[1] 91.5\n"
     ]
    },
    {
     "data": {
      "text/html": [
       "<style>\n",
       ".list-inline {list-style: none; margin:0; padding: 0}\n",
       ".list-inline>li {display: inline-block}\n",
       ".list-inline>li:not(:last-child)::after {content: \"\\00b7\"; padding: 0 .5ex}\n",
       "</style>\n",
       "<ol class=list-inline><li>4.5</li><li>91.5</li><li>91.5</li><li>91.5</li><li>4.5</li><li>26</li><li>26</li></ol>\n"
      ],
      "text/latex": [
       "\\begin{enumerate*}\n",
       "\\item 4.5\n",
       "\\item 91.5\n",
       "\\item 91.5\n",
       "\\item 91.5\n",
       "\\item 4.5\n",
       "\\item 26\n",
       "\\item 26\n",
       "\\end{enumerate*}\n"
      ],
      "text/markdown": [
       "1. 4.5\n",
       "2. 91.5\n",
       "3. 91.5\n",
       "4. 91.5\n",
       "5. 4.5\n",
       "6. 26\n",
       "7. 26\n",
       "\n",
       "\n"
      ],
      "text/plain": [
       "[1]  4.5 91.5 91.5 91.5  4.5 26.0 26.0"
      ]
     },
     "metadata": {},
     "output_type": "display_data"
    }
   ],
   "source": [
    "print(lowdose)\n",
    "print(meddose)\n",
    "print(highdose)\n",
    "dosage"
   ]
  },
  {
   "cell_type": "code",
   "execution_count": 47,
   "id": "62474d5b",
   "metadata": {},
   "outputs": [
    {
     "name": "stdout",
     "output_type": "stream",
     "text": [
      "[1] Low  High High High Low  Med  Med \n",
      "Levels: Low Med High\n"
     ]
    }
   ],
   "source": [
    "print(doselevel)"
   ]
  },
  {
   "cell_type": "markdown",
   "id": "c8b52e12",
   "metadata": {},
   "source": [
    "## c"
   ]
  },
  {
   "cell_type": "code",
   "execution_count": 57,
   "id": "d6e485d4",
   "metadata": {},
   "outputs": [],
   "source": [
    "mynum <- 8"
   ]
  },
  {
   "cell_type": "code",
   "execution_count": 58,
   "id": "231a416a",
   "metadata": {},
   "outputs": [
    {
     "name": "stdout",
     "output_type": "stream",
     "text": [
      "eight"
     ]
    }
   ],
   "source": [
    "if(mynum == 0){\n",
    "    output <- \"zero\"\n",
    "} else {\n",
    "    output <- switch(mynum,\"one\",\"two\",\"three\",\"four\",\"five\",\"six\",\"seven\",\"eight\",\"nine\")\n",
    "}\n",
    "cat(output)"
   ]
  },
  {
   "cell_type": "markdown",
   "id": "eb59faad",
   "metadata": {},
   "source": [
    "## 10.3"
   ]
  },
  {
   "cell_type": "markdown",
   "id": "12cf5bd7",
   "metadata": {},
   "source": [
    "### a"
   ]
  },
  {
   "cell_type": "code",
   "execution_count": 73,
   "id": "95247778",
   "metadata": {},
   "outputs": [],
   "source": [
    "loopvec1 <- 5:7\n",
    "loopvec2 <- 9:6\n",
    "foo <- matrix(NA,length(loopvec1), length(loopvec2))"
   ]
  },
  {
   "cell_type": "code",
   "execution_count": 74,
   "id": "c40fd51b",
   "metadata": {},
   "outputs": [
    {
     "data": {
      "text/html": [
       "<style>\n",
       ".list-inline {list-style: none; margin:0; padding: 0}\n",
       ".list-inline>li {display: inline-block}\n",
       ".list-inline>li:not(:last-child)::after {content: \"\\00b7\"; padding: 0 .5ex}\n",
       "</style>\n",
       "<ol class=list-inline><li>45</li><li>54</li><li>63</li></ol>\n"
      ],
      "text/latex": [
       "\\begin{enumerate*}\n",
       "\\item 45\n",
       "\\item 54\n",
       "\\item 63\n",
       "\\end{enumerate*}\n"
      ],
      "text/markdown": [
       "1. 45\n",
       "2. 54\n",
       "3. 63\n",
       "\n",
       "\n"
      ],
      "text/plain": [
       "[1] 45 54 63"
      ]
     },
     "metadata": {},
     "output_type": "display_data"
    }
   ],
   "source": [
    "loopvec2[1] * loopvec1"
   ]
  },
  {
   "cell_type": "code",
   "execution_count": 77,
   "id": "ab2a47f9",
   "metadata": {},
   "outputs": [],
   "source": [
    "for(i in 1:length(loopvec2)){\n",
    "    foo[,i] <- loopvec2[i] * loopvec1\n",
    "}"
   ]
  },
  {
   "cell_type": "code",
   "execution_count": 78,
   "id": "c414588e",
   "metadata": {},
   "outputs": [
    {
     "data": {
      "text/html": [
       "<table class=\"dataframe\">\n",
       "<caption>A matrix: 3 × 4 of type int</caption>\n",
       "<tbody>\n",
       "\t<tr><td>45</td><td>40</td><td>35</td><td>30</td></tr>\n",
       "\t<tr><td>54</td><td>48</td><td>42</td><td>36</td></tr>\n",
       "\t<tr><td>63</td><td>56</td><td>49</td><td>42</td></tr>\n",
       "</tbody>\n",
       "</table>\n"
      ],
      "text/latex": [
       "A matrix: 3 × 4 of type int\n",
       "\\begin{tabular}{llll}\n",
       "\t 45 & 40 & 35 & 30\\\\\n",
       "\t 54 & 48 & 42 & 36\\\\\n",
       "\t 63 & 56 & 49 & 42\\\\\n",
       "\\end{tabular}\n"
      ],
      "text/markdown": [
       "\n",
       "A matrix: 3 × 4 of type int\n",
       "\n",
       "| 45 | 40 | 35 | 30 |\n",
       "| 54 | 48 | 42 | 36 |\n",
       "| 63 | 56 | 49 | 42 |\n",
       "\n"
      ],
      "text/plain": [
       "     [,1] [,2] [,3] [,4]\n",
       "[1,] 45   40   35   30  \n",
       "[2,] 54   48   42   36  \n",
       "[3,] 63   56   49   42  "
      ]
     },
     "metadata": {},
     "output_type": "display_data"
    }
   ],
   "source": [
    "foo"
   ]
  },
  {
   "cell_type": "markdown",
   "id": "f3fd7bba",
   "metadata": {},
   "source": [
    "### b"
   ]
  },
  {
   "cell_type": "code",
   "execution_count": 88,
   "id": "0a48eb49",
   "metadata": {},
   "outputs": [
    {
     "data": {
      "text/html": [
       "<style>\n",
       ".list-inline {list-style: none; margin:0; padding: 0}\n",
       ".list-inline>li {display: inline-block}\n",
       ".list-inline>li:not(:last-child)::after {content: \"\\00b7\"; padding: 0 .5ex}\n",
       "</style>\n",
       "<ol class=list-inline><li>&lt;NA&gt;</li><li>&lt;NA&gt;</li><li>&lt;NA&gt;</li><li>&lt;NA&gt;</li><li>&lt;NA&gt;</li><li>&lt;NA&gt;</li></ol>\n"
      ],
      "text/latex": [
       "\\begin{enumerate*}\n",
       "\\item <NA>\n",
       "\\item <NA>\n",
       "\\item <NA>\n",
       "\\item <NA>\n",
       "\\item <NA>\n",
       "\\item <NA>\n",
       "\\end{enumerate*}\n"
      ],
      "text/markdown": [
       "1. &lt;NA&gt;\n",
       "2. &lt;NA&gt;\n",
       "3. &lt;NA&gt;\n",
       "4. &lt;NA&gt;\n",
       "5. &lt;NA&gt;\n",
       "6. &lt;NA&gt;\n",
       "\n",
       "\n"
      ],
      "text/plain": [
       "[1] NA NA NA NA NA NA"
      ]
     },
     "metadata": {},
     "output_type": "display_data"
    }
   ],
   "source": [
    "name_vector <- c(\"Peter\",\"Homer\",\"Lois\",\"Stewie\",\"Maggie\",\"Bart\")\n",
    "name_numbers <- rep(x = NA, length(name_vector))\n",
    "name_numbers"
   ]
  },
  {
   "cell_type": "code",
   "execution_count": 89,
   "id": "6b81da1b",
   "metadata": {},
   "outputs": [],
   "source": [
    "for(i in 1:length(name_vector)){\n",
    "    name_numbers[i] <- switch(EXPR = name_vector[i],Homer=12,Marge=34,Bart=56,Lisa=78,Maggie=90,NA)\n",
    "}"
   ]
  },
  {
   "cell_type": "code",
   "execution_count": 90,
   "id": "4251e374",
   "metadata": {},
   "outputs": [
    {
     "data": {
      "text/html": [
       "<style>\n",
       ".list-inline {list-style: none; margin:0; padding: 0}\n",
       ".list-inline>li {display: inline-block}\n",
       ".list-inline>li:not(:last-child)::after {content: \"\\00b7\"; padding: 0 .5ex}\n",
       "</style>\n",
       "<ol class=list-inline><li>&lt;NA&gt;</li><li>12</li><li>&lt;NA&gt;</li><li>&lt;NA&gt;</li><li>90</li><li>56</li></ol>\n"
      ],
      "text/latex": [
       "\\begin{enumerate*}\n",
       "\\item <NA>\n",
       "\\item 12\n",
       "\\item <NA>\n",
       "\\item <NA>\n",
       "\\item 90\n",
       "\\item 56\n",
       "\\end{enumerate*}\n"
      ],
      "text/markdown": [
       "1. &lt;NA&gt;\n",
       "2. 12\n",
       "3. &lt;NA&gt;\n",
       "4. &lt;NA&gt;\n",
       "5. 90\n",
       "6. 56\n",
       "\n",
       "\n"
      ],
      "text/plain": [
       "[1] NA 12 NA NA 90 56"
      ]
     },
     "metadata": {},
     "output_type": "display_data"
    }
   ],
   "source": [
    "name_numbers"
   ]
  },
  {
   "cell_type": "markdown",
   "id": "ec1b3b33",
   "metadata": {},
   "source": [
    "### c"
   ]
  },
  {
   "cell_type": "code",
   "execution_count": 190,
   "id": "60e54cdf",
   "metadata": {},
   "outputs": [],
   "source": [
    "#i - Answer: 4\n",
    "mylist <- list(aa=c(3.4,1),bb=matrix(1:4,2,2),\n",
    "    cc=matrix(c(T,T,F,T,F,F),3,2),dd=\"string here\",\n",
    "    ee=list(c(\"hello\",\"you\"),matrix(c(\"hello\",\n",
    "    \"there\"))),\n",
    "    ff=matrix(c(\"red\",\"green\",\"blue\",\"yellow\")))"
   ]
  },
  {
   "cell_type": "code",
   "execution_count": 188,
   "id": "8f97d4a3",
   "metadata": {},
   "outputs": [],
   "source": [
    "#ii - Answer: 0\n",
    "mylist <- list(\"tricked you\",as.vector(matrix(1:6,3,2)))"
   ]
  },
  {
   "cell_type": "code",
   "execution_count": 183,
   "id": "6b0cf2c6",
   "metadata": {},
   "outputs": [],
   "source": [
    "#iii - Answer: 2\n",
    "mylist <- list(list(1,2,3),list(c(3,2),2),\n",
    "    list(c(1,2),matrix(c(1,2))),\n",
    "    rbind(1:10,100:91))"
   ]
  },
  {
   "cell_type": "code",
   "execution_count": 191,
   "id": "4d4aae63",
   "metadata": {},
   "outputs": [
    {
     "name": "stdout",
     "output_type": "stream",
     "text": [
      "[1] 4\n"
     ]
    }
   ],
   "source": [
    "counter <- 0\n",
    "\n",
    "for(i in 1:length(mylist)){\n",
    "    member <- mylist[[i]]\n",
    "    if(is.matrix(member)){\n",
    "        counter = counter + 1\n",
    "    } else if(is.list(member)){\n",
    "        for(j in 1:length(member)){\n",
    "            if(is.matrix(member[[j]])){\n",
    "                counter = counter + 1\n",
    "            }\n",
    "        }\n",
    "    }\n",
    "      \n",
    "}\n",
    "print(counter)"
   ]
  },
  {
   "cell_type": "markdown",
   "id": "4446664f",
   "metadata": {},
   "source": [
    "## 10.4"
   ]
  },
  {
   "cell_type": "markdown",
   "id": "c45a088f",
   "metadata": {},
   "source": [
    "### a"
   ]
  },
  {
   "cell_type": "code",
   "execution_count": 1,
   "id": "fb1447e1",
   "metadata": {},
   "outputs": [],
   "source": [
    "mynumbers <- c(4,5,1,2,6,2,4,6,6,2)"
   ]
  },
  {
   "cell_type": "code",
   "execution_count": 14,
   "id": "68c12e33",
   "metadata": {},
   "outputs": [],
   "source": [
    "mynumbers <- c(2,2,2,2,5,2)"
   ]
  },
  {
   "cell_type": "code",
   "execution_count": 24,
   "id": "669777d8",
   "metadata": {},
   "outputs": [],
   "source": [
    "mynumbers <- 2:20"
   ]
  },
  {
   "cell_type": "code",
   "execution_count": 27,
   "id": "a42f7249",
   "metadata": {},
   "outputs": [],
   "source": [
    "mynumbers <- c(10,1,10,1,2)"
   ]
  },
  {
   "cell_type": "code",
   "execution_count": 28,
   "id": "08f7bf7f",
   "metadata": {},
   "outputs": [],
   "source": [
    "mylist <- list()\n",
    "counter <- 1\n",
    "mycondition <- mynumbers[counter] <= 5\n",
    "while(mycondition){\n",
    "    mylist[[counter]] <- diag(mynumbers[counter])\n",
    "    counter <- counter + 1\n",
    "    if(counter <= length(mynumbers)){\n",
    "        mycondition <- mynumbers[counter] <= 5\n",
    "    } else {\n",
    "        myconditiona <- FALSE\n",
    "    }\n",
    "}"
   ]
  },
  {
   "cell_type": "code",
   "execution_count": 29,
   "id": "b97e2f52",
   "metadata": {},
   "outputs": [
    {
     "name": "stdout",
     "output_type": "stream",
     "text": [
      "list()\n"
     ]
    }
   ],
   "source": [
    "print(mylist)"
   ]
  },
  {
   "cell_type": "markdown",
   "id": "55390442",
   "metadata": {},
   "source": [
    "### b"
   ]
  },
  {
   "cell_type": "code",
   "execution_count": 39,
   "id": "acf89630",
   "metadata": {},
   "outputs": [],
   "source": [
    "#mynum <- 5\n",
    "#mynum <- 12\n",
    "mynum <- 0\n",
    "RunningProduct <- 1\n",
    "while(mynum >= 0){\n",
    "    if(mynum == 0){\n",
    "        RunningProduct <- RunningProduct\n",
    "    } else{\n",
    "        RunningProduct <- RunningProduct * mynum\n",
    "    }\n",
    "    mynum <- mynum - 1\n",
    "}"
   ]
  },
  {
   "cell_type": "code",
   "execution_count": 40,
   "id": "ac6c6baf",
   "metadata": {},
   "outputs": [
    {
     "name": "stdout",
     "output_type": "stream",
     "text": [
      "[1] 1\n"
     ]
    }
   ],
   "source": [
    "print(RunningProduct)"
   ]
  },
  {
   "cell_type": "markdown",
   "id": "2fc5cf0b",
   "metadata": {},
   "source": [
    "### c"
   ]
  },
  {
   "cell_type": "code",
   "execution_count": 17,
   "id": "45bac46e",
   "metadata": {},
   "outputs": [
    {
     "data": {
      "text/html": [
       "'e'"
      ],
      "text/latex": [
       "'e'"
      ],
      "text/markdown": [
       "'e'"
      ],
      "text/plain": [
       "[1] \"e\""
      ]
     },
     "metadata": {},
     "output_type": "display_data"
    }
   ],
   "source": [
    "mystring <- \"R fever\"\n",
    "mystring <- \"beautiful\"\n",
    "mystring <- \"ECCENTRIC\"\n",
    "mystring <- \"ElAbOrAte\"\n",
    "mystring <- \"eeeeek!\"\n",
    "index <- 1\n",
    "ecount <- 0\n",
    "result <- mystring\n",
    "while(ecount<2 && index <= nchar(mystring)){\n",
    "    CurrentChar <- substr(x = mystring, start = index, stop = index)\n",
    "    \n",
    "    if(tolower(CurrentChar) == \"e\"){\n",
    "        ecount <- ecount + 1\n",
    "    }\n",
    "    if(tolower(CurrentChar) == \"e\" & ecount == 2){\n",
    "        result <- substr(x = result, start = 1, stop = index - 1)\n",
    "    }\n",
    "    \n",
    "    index <- index + 1\n",
    "}\n",
    "result"
   ]
  },
  {
   "cell_type": "markdown",
   "id": "f0aab0c9",
   "metadata": {},
   "source": [
    "## 10.5"
   ]
  },
  {
   "cell_type": "markdown",
   "id": "ac8dcac5",
   "metadata": {},
   "source": [
    "### a"
   ]
  },
  {
   "cell_type": "code",
   "execution_count": 16,
   "id": "777c7ee2",
   "metadata": {},
   "outputs": [
    {
     "data": {
      "text/html": [
       "<table class=\"dataframe\">\n",
       "<caption>A matrix: 4 × 3 of type int</caption>\n",
       "<tbody>\n",
       "\t<tr><td>1</td><td>5</td><td> 9</td></tr>\n",
       "\t<tr><td>2</td><td>6</td><td>10</td></tr>\n",
       "\t<tr><td>3</td><td>7</td><td>11</td></tr>\n",
       "\t<tr><td>4</td><td>8</td><td>12</td></tr>\n",
       "</tbody>\n",
       "</table>\n"
      ],
      "text/latex": [
       "A matrix: 4 × 3 of type int\n",
       "\\begin{tabular}{lll}\n",
       "\t 1 & 5 &  9\\\\\n",
       "\t 2 & 6 & 10\\\\\n",
       "\t 3 & 7 & 11\\\\\n",
       "\t 4 & 8 & 12\\\\\n",
       "\\end{tabular}\n"
      ],
      "text/markdown": [
       "\n",
       "A matrix: 4 × 3 of type int\n",
       "\n",
       "| 1 | 5 |  9 |\n",
       "| 2 | 6 | 10 |\n",
       "| 3 | 7 | 11 |\n",
       "| 4 | 8 | 12 |\n",
       "\n"
      ],
      "text/plain": [
       "     [,1] [,2] [,3]\n",
       "[1,] 1    5     9  \n",
       "[2,] 2    6    10  \n",
       "[3,] 3    7    11  \n",
       "[4,] 4    8    12  "
      ]
     },
     "metadata": {},
     "output_type": "display_data"
    }
   ],
   "source": [
    "foo <- matrix(1:12,4,3)\n",
    "foo"
   ]
  },
  {
   "cell_type": "code",
   "execution_count": 17,
   "id": "711af40b",
   "metadata": {},
   "outputs": [],
   "source": [
    "foo_2 <- apply(foo, MARGIN=1, sort, decreasing=TRUE)\n"
   ]
  },
  {
   "cell_type": "code",
   "execution_count": 18,
   "id": "be234298",
   "metadata": {},
   "outputs": [
    {
     "data": {
      "text/html": [
       "<style>\n",
       ".list-inline {list-style: none; margin:0; padding: 0}\n",
       ".list-inline>li {display: inline-block}\n",
       ".list-inline>li:not(:last-child)::after {content: \"\\00b7\"; padding: 0 .5ex}\n",
       "</style>\n",
       "<ol class=list-inline><li>11880</li><li>1680</li><li>24</li></ol>\n"
      ],
      "text/latex": [
       "\\begin{enumerate*}\n",
       "\\item 11880\n",
       "\\item 1680\n",
       "\\item 24\n",
       "\\end{enumerate*}\n"
      ],
      "text/markdown": [
       "1. 11880\n",
       "2. 1680\n",
       "3. 24\n",
       "\n",
       "\n"
      ],
      "text/plain": [
       "[1] 11880  1680    24"
      ]
     },
     "metadata": {},
     "output_type": "display_data"
    }
   ],
   "source": [
    "apply(foo_2, 1, FUN = prod)"
   ]
  },
  {
   "cell_type": "markdown",
   "id": "132549be",
   "metadata": {},
   "source": [
    "### b"
   ]
  },
  {
   "cell_type": "code",
   "execution_count": 25,
   "id": "e271280d",
   "metadata": {},
   "outputs": [
    {
     "data": {
      "text/html": [
       "<ol>\n",
       "\t<li><table class=\"dataframe\">\n",
       "<caption>A matrix: 2 × 2 of type lgl</caption>\n",
       "<tbody>\n",
       "\t<tr><td> TRUE</td><td>TRUE</td></tr>\n",
       "\t<tr><td>FALSE</td><td>TRUE</td></tr>\n",
       "</tbody>\n",
       "</table>\n",
       "</li>\n",
       "\t<li><table class=\"dataframe\">\n",
       "<caption>A matrix: 3 × 2 of type chr</caption>\n",
       "<tbody>\n",
       "\t<tr><td>a</td><td>z</td></tr>\n",
       "\t<tr><td>c</td><td>p</td></tr>\n",
       "\t<tr><td>b</td><td>q</td></tr>\n",
       "</tbody>\n",
       "</table>\n",
       "</li>\n",
       "\t<li><table class=\"dataframe\">\n",
       "<caption>A matrix: 2 × 4 of type int</caption>\n",
       "<tbody>\n",
       "\t<tr><td>1</td><td>3</td><td>5</td><td>7</td></tr>\n",
       "\t<tr><td>2</td><td>4</td><td>6</td><td>8</td></tr>\n",
       "</tbody>\n",
       "</table>\n",
       "</li>\n",
       "</ol>\n"
      ],
      "text/latex": [
       "\\begin{enumerate}\n",
       "\\item A matrix: 2 × 2 of type lgl\n",
       "\\begin{tabular}{ll}\n",
       "\t  TRUE & TRUE\\\\\n",
       "\t FALSE & TRUE\\\\\n",
       "\\end{tabular}\n",
       "\n",
       "\\item A matrix: 3 × 2 of type chr\n",
       "\\begin{tabular}{ll}\n",
       "\t a & z\\\\\n",
       "\t c & p\\\\\n",
       "\t b & q\\\\\n",
       "\\end{tabular}\n",
       "\n",
       "\\item A matrix: 2 × 4 of type int\n",
       "\\begin{tabular}{llll}\n",
       "\t 1 & 3 & 5 & 7\\\\\n",
       "\t 2 & 4 & 6 & 8\\\\\n",
       "\\end{tabular}\n",
       "\n",
       "\\end{enumerate}\n"
      ],
      "text/markdown": [
       "1. \n",
       "A matrix: 2 × 2 of type lgl\n",
       "\n",
       "|  TRUE | TRUE |\n",
       "| FALSE | TRUE |\n",
       "\n",
       "\n",
       "2. \n",
       "A matrix: 3 × 2 of type chr\n",
       "\n",
       "| a | z |\n",
       "| c | p |\n",
       "| b | q |\n",
       "\n",
       "\n",
       "3. \n",
       "A matrix: 2 × 4 of type int\n",
       "\n",
       "| 1 | 3 | 5 | 7 |\n",
       "| 2 | 4 | 6 | 8 |\n",
       "\n",
       "\n",
       "\n",
       "\n"
      ],
      "text/plain": [
       "[[1]]\n",
       "      [,1] [,2]\n",
       "[1,]  TRUE TRUE\n",
       "[2,] FALSE TRUE\n",
       "\n",
       "[[2]]\n",
       "     [,1] [,2]\n",
       "[1,] \"a\"  \"z\" \n",
       "[2,] \"c\"  \"p\" \n",
       "[3,] \"b\"  \"q\" \n",
       "\n",
       "[[3]]\n",
       "     [,1] [,2] [,3] [,4]\n",
       "[1,]    1    3    5    7\n",
       "[2,]    2    4    6    8\n"
      ]
     },
     "metadata": {},
     "output_type": "display_data"
    }
   ],
   "source": [
    "matlist <- list(matrix(c(T,F,T,T),2,2),\n",
    "               matrix(c(\"a\",\"c\",\"b\",\"z\",\"p\",\"q\"),3,2),\n",
    "               matrix(1:8,2,4))\n",
    "matlist"
   ]
  },
  {
   "cell_type": "code",
   "execution_count": 26,
   "id": "03ca2663",
   "metadata": {},
   "outputs": [
    {
     "data": {
      "text/html": [
       "<ol>\n",
       "\t<li><table class=\"dataframe\">\n",
       "<caption>A matrix: 2 × 2 of type lgl</caption>\n",
       "<tbody>\n",
       "\t<tr><td>TRUE</td><td>FALSE</td></tr>\n",
       "\t<tr><td>TRUE</td><td> TRUE</td></tr>\n",
       "</tbody>\n",
       "</table>\n",
       "</li>\n",
       "\t<li><table class=\"dataframe\">\n",
       "<caption>A matrix: 2 × 3 of type chr</caption>\n",
       "<tbody>\n",
       "\t<tr><td>a</td><td>c</td><td>b</td></tr>\n",
       "\t<tr><td>z</td><td>p</td><td>q</td></tr>\n",
       "</tbody>\n",
       "</table>\n",
       "</li>\n",
       "\t<li><table class=\"dataframe\">\n",
       "<caption>A matrix: 4 × 2 of type int</caption>\n",
       "<tbody>\n",
       "\t<tr><td>1</td><td>2</td></tr>\n",
       "\t<tr><td>3</td><td>4</td></tr>\n",
       "\t<tr><td>5</td><td>6</td></tr>\n",
       "\t<tr><td>7</td><td>8</td></tr>\n",
       "</tbody>\n",
       "</table>\n",
       "</li>\n",
       "</ol>\n"
      ],
      "text/latex": [
       "\\begin{enumerate}\n",
       "\\item A matrix: 2 × 2 of type lgl\n",
       "\\begin{tabular}{ll}\n",
       "\t TRUE & FALSE\\\\\n",
       "\t TRUE &  TRUE\\\\\n",
       "\\end{tabular}\n",
       "\n",
       "\\item A matrix: 2 × 3 of type chr\n",
       "\\begin{tabular}{lll}\n",
       "\t a & c & b\\\\\n",
       "\t z & p & q\\\\\n",
       "\\end{tabular}\n",
       "\n",
       "\\item A matrix: 4 × 2 of type int\n",
       "\\begin{tabular}{ll}\n",
       "\t 1 & 2\\\\\n",
       "\t 3 & 4\\\\\n",
       "\t 5 & 6\\\\\n",
       "\t 7 & 8\\\\\n",
       "\\end{tabular}\n",
       "\n",
       "\\end{enumerate}\n"
      ],
      "text/markdown": [
       "1. \n",
       "A matrix: 2 × 2 of type lgl\n",
       "\n",
       "| TRUE | FALSE |\n",
       "| TRUE |  TRUE |\n",
       "\n",
       "\n",
       "2. \n",
       "A matrix: 2 × 3 of type chr\n",
       "\n",
       "| a | c | b |\n",
       "| z | p | q |\n",
       "\n",
       "\n",
       "3. \n",
       "A matrix: 4 × 2 of type int\n",
       "\n",
       "| 1 | 2 |\n",
       "| 3 | 4 |\n",
       "| 5 | 6 |\n",
       "| 7 | 8 |\n",
       "\n",
       "\n",
       "\n",
       "\n"
      ],
      "text/plain": [
       "[[1]]\n",
       "     [,1]  [,2]\n",
       "[1,] TRUE FALSE\n",
       "[2,] TRUE  TRUE\n",
       "\n",
       "[[2]]\n",
       "     [,1] [,2] [,3]\n",
       "[1,] \"a\"  \"c\"  \"b\" \n",
       "[2,] \"z\"  \"p\"  \"q\" \n",
       "\n",
       "[[3]]\n",
       "     [,1] [,2]\n",
       "[1,]    1    2\n",
       "[2,]    3    4\n",
       "[3,]    5    6\n",
       "[4,]    7    8\n"
      ]
     },
     "metadata": {},
     "output_type": "display_data"
    }
   ],
   "source": [
    "for(i in 1:length(matlist)){\n",
    "    matlist[[i]] <- t(matlist[[i]])\n",
    "}\n",
    "matlist"
   ]
  },
  {
   "cell_type": "code",
   "execution_count": 27,
   "id": "8b997f78",
   "metadata": {},
   "outputs": [
    {
     "data": {
      "text/html": [
       "<ol>\n",
       "\t<li><table class=\"dataframe\">\n",
       "<caption>A matrix: 2 × 2 of type lgl</caption>\n",
       "<tbody>\n",
       "\t<tr><td> TRUE</td><td>TRUE</td></tr>\n",
       "\t<tr><td>FALSE</td><td>TRUE</td></tr>\n",
       "</tbody>\n",
       "</table>\n",
       "</li>\n",
       "\t<li><table class=\"dataframe\">\n",
       "<caption>A matrix: 3 × 2 of type chr</caption>\n",
       "<tbody>\n",
       "\t<tr><td>a</td><td>z</td></tr>\n",
       "\t<tr><td>c</td><td>p</td></tr>\n",
       "\t<tr><td>b</td><td>q</td></tr>\n",
       "</tbody>\n",
       "</table>\n",
       "</li>\n",
       "\t<li><table class=\"dataframe\">\n",
       "<caption>A matrix: 2 × 4 of type int</caption>\n",
       "<tbody>\n",
       "\t<tr><td>1</td><td>3</td><td>5</td><td>7</td></tr>\n",
       "\t<tr><td>2</td><td>4</td><td>6</td><td>8</td></tr>\n",
       "</tbody>\n",
       "</table>\n",
       "</li>\n",
       "</ol>\n"
      ],
      "text/latex": [
       "\\begin{enumerate}\n",
       "\\item A matrix: 2 × 2 of type lgl\n",
       "\\begin{tabular}{ll}\n",
       "\t  TRUE & TRUE\\\\\n",
       "\t FALSE & TRUE\\\\\n",
       "\\end{tabular}\n",
       "\n",
       "\\item A matrix: 3 × 2 of type chr\n",
       "\\begin{tabular}{ll}\n",
       "\t a & z\\\\\n",
       "\t c & p\\\\\n",
       "\t b & q\\\\\n",
       "\\end{tabular}\n",
       "\n",
       "\\item A matrix: 2 × 4 of type int\n",
       "\\begin{tabular}{llll}\n",
       "\t 1 & 3 & 5 & 7\\\\\n",
       "\t 2 & 4 & 6 & 8\\\\\n",
       "\\end{tabular}\n",
       "\n",
       "\\end{enumerate}\n"
      ],
      "text/markdown": [
       "1. \n",
       "A matrix: 2 × 2 of type lgl\n",
       "\n",
       "|  TRUE | TRUE |\n",
       "| FALSE | TRUE |\n",
       "\n",
       "\n",
       "2. \n",
       "A matrix: 3 × 2 of type chr\n",
       "\n",
       "| a | z |\n",
       "| c | p |\n",
       "| b | q |\n",
       "\n",
       "\n",
       "3. \n",
       "A matrix: 2 × 4 of type int\n",
       "\n",
       "| 1 | 3 | 5 | 7 |\n",
       "| 2 | 4 | 6 | 8 |\n",
       "\n",
       "\n",
       "\n",
       "\n"
      ],
      "text/plain": [
       "[[1]]\n",
       "      [,1] [,2]\n",
       "[1,]  TRUE TRUE\n",
       "[2,] FALSE TRUE\n",
       "\n",
       "[[2]]\n",
       "     [,1] [,2]\n",
       "[1,] \"a\"  \"z\" \n",
       "[2,] \"c\"  \"p\" \n",
       "[3,] \"b\"  \"q\" \n",
       "\n",
       "[[3]]\n",
       "     [,1] [,2] [,3] [,4]\n",
       "[1,]    1    3    5    7\n",
       "[2,]    2    4    6    8\n"
      ]
     },
     "metadata": {},
     "output_type": "display_data"
    }
   ],
   "source": [
    "matlist <- list(matrix(c(T,F,T,T),2,2),\n",
    "               matrix(c(\"a\",\"c\",\"b\",\"z\",\"p\",\"q\"),3,2),\n",
    "               matrix(1:8,2,4))\n",
    "matlist"
   ]
  },
  {
   "cell_type": "code",
   "execution_count": 28,
   "id": "f3c2298e",
   "metadata": {},
   "outputs": [
    {
     "data": {
      "text/html": [
       "<ol>\n",
       "\t<li><table class=\"dataframe\">\n",
       "<caption>A matrix: 2 × 2 of type lgl</caption>\n",
       "<tbody>\n",
       "\t<tr><td>TRUE</td><td>FALSE</td></tr>\n",
       "\t<tr><td>TRUE</td><td> TRUE</td></tr>\n",
       "</tbody>\n",
       "</table>\n",
       "</li>\n",
       "\t<li><table class=\"dataframe\">\n",
       "<caption>A matrix: 2 × 3 of type chr</caption>\n",
       "<tbody>\n",
       "\t<tr><td>a</td><td>c</td><td>b</td></tr>\n",
       "\t<tr><td>z</td><td>p</td><td>q</td></tr>\n",
       "</tbody>\n",
       "</table>\n",
       "</li>\n",
       "\t<li><table class=\"dataframe\">\n",
       "<caption>A matrix: 4 × 2 of type int</caption>\n",
       "<tbody>\n",
       "\t<tr><td>1</td><td>2</td></tr>\n",
       "\t<tr><td>3</td><td>4</td></tr>\n",
       "\t<tr><td>5</td><td>6</td></tr>\n",
       "\t<tr><td>7</td><td>8</td></tr>\n",
       "</tbody>\n",
       "</table>\n",
       "</li>\n",
       "</ol>\n"
      ],
      "text/latex": [
       "\\begin{enumerate}\n",
       "\\item A matrix: 2 × 2 of type lgl\n",
       "\\begin{tabular}{ll}\n",
       "\t TRUE & FALSE\\\\\n",
       "\t TRUE &  TRUE\\\\\n",
       "\\end{tabular}\n",
       "\n",
       "\\item A matrix: 2 × 3 of type chr\n",
       "\\begin{tabular}{lll}\n",
       "\t a & c & b\\\\\n",
       "\t z & p & q\\\\\n",
       "\\end{tabular}\n",
       "\n",
       "\\item A matrix: 4 × 2 of type int\n",
       "\\begin{tabular}{ll}\n",
       "\t 1 & 2\\\\\n",
       "\t 3 & 4\\\\\n",
       "\t 5 & 6\\\\\n",
       "\t 7 & 8\\\\\n",
       "\\end{tabular}\n",
       "\n",
       "\\end{enumerate}\n"
      ],
      "text/markdown": [
       "1. \n",
       "A matrix: 2 × 2 of type lgl\n",
       "\n",
       "| TRUE | FALSE |\n",
       "| TRUE |  TRUE |\n",
       "\n",
       "\n",
       "2. \n",
       "A matrix: 2 × 3 of type chr\n",
       "\n",
       "| a | c | b |\n",
       "| z | p | q |\n",
       "\n",
       "\n",
       "3. \n",
       "A matrix: 4 × 2 of type int\n",
       "\n",
       "| 1 | 2 |\n",
       "| 3 | 4 |\n",
       "| 5 | 6 |\n",
       "| 7 | 8 |\n",
       "\n",
       "\n",
       "\n",
       "\n"
      ],
      "text/plain": [
       "[[1]]\n",
       "     [,1]  [,2]\n",
       "[1,] TRUE FALSE\n",
       "[2,] TRUE  TRUE\n",
       "\n",
       "[[2]]\n",
       "     [,1] [,2] [,3]\n",
       "[1,] \"a\"  \"c\"  \"b\" \n",
       "[2,] \"z\"  \"p\"  \"q\" \n",
       "\n",
       "[[3]]\n",
       "     [,1] [,2]\n",
       "[1,]    1    2\n",
       "[2,]    3    4\n",
       "[3,]    5    6\n",
       "[4,]    7    8\n"
      ]
     },
     "metadata": {},
     "output_type": "display_data"
    }
   ],
   "source": [
    "lapply(matlist, FUN = t)"
   ]
  },
  {
   "cell_type": "markdown",
   "id": "cad6e082",
   "metadata": {},
   "source": [
    "### c"
   ]
  },
  {
   "cell_type": "code",
   "execution_count": 29,
   "id": "91751245",
   "metadata": {},
   "outputs": [],
   "source": [
    "#i\n",
    "qux <- array(96:1, dim=c(4,4,2,3))"
   ]
  },
  {
   "cell_type": "code",
   "execution_count": 48,
   "id": "d6824bab",
   "metadata": {},
   "outputs": [
    {
     "data": {
      "text/html": [
       "<table class=\"dataframe\">\n",
       "<caption>A matrix: 4 × 3 of type int</caption>\n",
       "<tbody>\n",
       "\t<tr><td>80</td><td>48</td><td>16</td></tr>\n",
       "\t<tr><td>75</td><td>43</td><td>11</td></tr>\n",
       "\t<tr><td>70</td><td>38</td><td> 6</td></tr>\n",
       "\t<tr><td>65</td><td>33</td><td> 1</td></tr>\n",
       "</tbody>\n",
       "</table>\n"
      ],
      "text/latex": [
       "A matrix: 4 × 3 of type int\n",
       "\\begin{tabular}{lll}\n",
       "\t 80 & 48 & 16\\\\\n",
       "\t 75 & 43 & 11\\\\\n",
       "\t 70 & 38 &  6\\\\\n",
       "\t 65 & 33 &  1\\\\\n",
       "\\end{tabular}\n"
      ],
      "text/markdown": [
       "\n",
       "A matrix: 4 × 3 of type int\n",
       "\n",
       "| 80 | 48 | 16 |\n",
       "| 75 | 43 | 11 |\n",
       "| 70 | 38 |  6 |\n",
       "| 65 | 33 |  1 |\n",
       "\n"
      ],
      "text/plain": [
       "     [,1] [,2] [,3]\n",
       "[1,] 80   48   16  \n",
       "[2,] 75   43   11  \n",
       "[3,] 70   38    6  \n",
       "[4,] 65   33    1  "
      ]
     },
     "metadata": {},
     "output_type": "display_data"
    }
   ],
   "source": [
    "apply(X = qux[,,2,],3 , FUN=diag)"
   ]
  },
  {
   "cell_type": "code",
   "execution_count": 42,
   "id": "04d74590",
   "metadata": {},
   "outputs": [
    {
     "data": {
      "text/html": [
       "<style>\n",
       ".list-inline {list-style: none; margin:0; padding: 0}\n",
       ".list-inline>li {display: inline-block}\n",
       ".list-inline>li:not(:last-child)::after {content: \"\\00b7\"; padding: 0 .5ex}\n",
       "</style>\n",
       "<ol class=list-inline><li>80</li><li>75</li><li>70</li><li>65</li></ol>\n"
      ],
      "text/latex": [
       "\\begin{enumerate*}\n",
       "\\item 80\n",
       "\\item 75\n",
       "\\item 70\n",
       "\\item 65\n",
       "\\end{enumerate*}\n"
      ],
      "text/markdown": [
       "1. 80\n",
       "2. 75\n",
       "3. 70\n",
       "4. 65\n",
       "\n",
       "\n"
      ],
      "text/plain": [
       "[1] 80 75 70 65"
      ]
     },
     "metadata": {},
     "output_type": "display_data"
    }
   ],
   "source": [
    "diag(qux[,,2,1])"
   ]
  },
  {
   "cell_type": "code",
   "execution_count": 60,
   "id": "1fda2dec",
   "metadata": {},
   "outputs": [],
   "source": [
    "#ii\n"
   ]
  },
  {
   "cell_type": "code",
   "execution_count": 68,
   "id": "e1d64d9c",
   "metadata": {},
   "outputs": [
    {
     "data": {
      "text/html": [
       "<style>\n",
       ".list-inline {list-style: none; margin:0; padding: 0}\n",
       ".list-inline>li {display: inline-block}\n",
       ".list-inline>li:not(:last-child)::after {content: \"\\00b7\"; padding: 0 .5ex}\n",
       "</style>\n",
       "<ol class=list-inline><li>12</li><li>6</li></ol>\n"
      ],
      "text/latex": [
       "\\begin{enumerate*}\n",
       "\\item 12\n",
       "\\item 6\n",
       "\\end{enumerate*}\n"
      ],
      "text/markdown": [
       "1. 12\n",
       "2. 6\n",
       "\n",
       "\n"
      ],
      "text/plain": [
       "[1] 12  6"
      ]
     },
     "metadata": {},
     "output_type": "display_data"
    }
   ],
   "source": [
    "apply(apply(qux[,4,,],3,dim),1,sum)"
   ]
  },
  {
   "cell_type": "markdown",
   "id": "0d5270a5",
   "metadata": {},
   "source": [
    "## 10.6"
   ]
  },
  {
   "cell_type": "markdown",
   "id": "52748119",
   "metadata": {},
   "source": [
    "### a"
   ]
  },
  {
   "cell_type": "code",
   "execution_count": 76,
   "id": "867394db",
   "metadata": {},
   "outputs": [],
   "source": [
    "foo <- 5\n",
    "bar <- c(2,3,1.1,4,0,4.1,3)"
   ]
  },
  {
   "cell_type": "code",
   "execution_count": 77,
   "id": "c7aa0749",
   "metadata": {},
   "outputs": [
    {
     "data": {
      "text/html": [
       "<style>\n",
       ".list-inline {list-style: none; margin:0; padding: 0}\n",
       ".list-inline>li {display: inline-block}\n",
       ".list-inline>li:not(:last-child)::after {content: \"\\00b7\"; padding: 0 .5ex}\n",
       "</style>\n",
       "<ol class=list-inline><li>&lt;NA&gt;</li><li>&lt;NA&gt;</li><li>&lt;NA&gt;</li><li>&lt;NA&gt;</li><li>&lt;NA&gt;</li><li>&lt;NA&gt;</li><li>&lt;NA&gt;</li></ol>\n"
      ],
      "text/latex": [
       "\\begin{enumerate*}\n",
       "\\item <NA>\n",
       "\\item <NA>\n",
       "\\item <NA>\n",
       "\\item <NA>\n",
       "\\item <NA>\n",
       "\\item <NA>\n",
       "\\item <NA>\n",
       "\\end{enumerate*}\n"
      ],
      "text/markdown": [
       "1. &lt;NA&gt;\n",
       "2. &lt;NA&gt;\n",
       "3. &lt;NA&gt;\n",
       "4. &lt;NA&gt;\n",
       "5. &lt;NA&gt;\n",
       "6. &lt;NA&gt;\n",
       "7. &lt;NA&gt;\n",
       "\n",
       "\n"
      ],
      "text/plain": [
       "[1] NA NA NA NA NA NA NA"
      ]
     },
     "metadata": {},
     "output_type": "display_data"
    }
   ],
   "source": [
    "loop1.result <- rep(NA,length(bar))\n",
    "loop1.result"
   ]
  },
  {
   "cell_type": "code",
   "execution_count": 79,
   "id": "0885dd49",
   "metadata": {},
   "outputs": [],
   "source": [
    "#i\n",
    "counter <- 1\n",
    "while(is.finite(foo/bar[counter])){\n",
    "    loop1.result[counter] <- foo/bar[counter]\n",
    "    counter <- counter + 1\n",
    "}"
   ]
  },
  {
   "cell_type": "code",
   "execution_count": 80,
   "id": "6ce6c99f",
   "metadata": {},
   "outputs": [
    {
     "data": {
      "text/html": [
       "<style>\n",
       ".list-inline {list-style: none; margin:0; padding: 0}\n",
       ".list-inline>li {display: inline-block}\n",
       ".list-inline>li:not(:last-child)::after {content: \"\\00b7\"; padding: 0 .5ex}\n",
       "</style>\n",
       "<ol class=list-inline><li>2.5</li><li>1.66666666666667</li><li>4.54545454545454</li><li>1.25</li><li>&lt;NA&gt;</li><li>&lt;NA&gt;</li><li>&lt;NA&gt;</li></ol>\n"
      ],
      "text/latex": [
       "\\begin{enumerate*}\n",
       "\\item 2.5\n",
       "\\item 1.66666666666667\n",
       "\\item 4.54545454545454\n",
       "\\item 1.25\n",
       "\\item <NA>\n",
       "\\item <NA>\n",
       "\\item <NA>\n",
       "\\end{enumerate*}\n"
      ],
      "text/markdown": [
       "1. 2.5\n",
       "2. 1.66666666666667\n",
       "3. 4.54545454545454\n",
       "4. 1.25\n",
       "5. &lt;NA&gt;\n",
       "6. &lt;NA&gt;\n",
       "7. &lt;NA&gt;\n",
       "\n",
       "\n"
      ],
      "text/plain": [
       "[1] 2.500000 1.666667 4.545455 1.250000       NA       NA       NA"
      ]
     },
     "metadata": {},
     "output_type": "display_data"
    }
   ],
   "source": [
    "loop1.result"
   ]
  },
  {
   "cell_type": "code",
   "execution_count": 81,
   "id": "79fe871c",
   "metadata": {},
   "outputs": [
    {
     "data": {
      "text/html": [
       "<style>\n",
       ".list-inline {list-style: none; margin:0; padding: 0}\n",
       ".list-inline>li {display: inline-block}\n",
       ".list-inline>li:not(:last-child)::after {content: \"\\00b7\"; padding: 0 .5ex}\n",
       "</style>\n",
       "<ol class=list-inline><li>&lt;NA&gt;</li><li>&lt;NA&gt;</li><li>&lt;NA&gt;</li><li>&lt;NA&gt;</li><li>&lt;NA&gt;</li><li>&lt;NA&gt;</li><li>&lt;NA&gt;</li></ol>\n"
      ],
      "text/latex": [
       "\\begin{enumerate*}\n",
       "\\item <NA>\n",
       "\\item <NA>\n",
       "\\item <NA>\n",
       "\\item <NA>\n",
       "\\item <NA>\n",
       "\\item <NA>\n",
       "\\item <NA>\n",
       "\\end{enumerate*}\n"
      ],
      "text/markdown": [
       "1. &lt;NA&gt;\n",
       "2. &lt;NA&gt;\n",
       "3. &lt;NA&gt;\n",
       "4. &lt;NA&gt;\n",
       "5. &lt;NA&gt;\n",
       "6. &lt;NA&gt;\n",
       "7. &lt;NA&gt;\n",
       "\n",
       "\n"
      ],
      "text/plain": [
       "[1] NA NA NA NA NA NA NA"
      ]
     },
     "metadata": {},
     "output_type": "display_data"
    }
   ],
   "source": [
    "#ii\n",
    "loop2.result <- rep(NA, length(bar))\n",
    "loop2.result"
   ]
  },
  {
   "cell_type": "code",
   "execution_count": 93,
   "id": "3c1b4b96",
   "metadata": {},
   "outputs": [],
   "source": [
    "for(i in 1:length(bar)){\n",
    "    if(bar[i] != 0){\n",
    "        loop2.result[i] <- foo/bar[i]\n",
    "    } else {\n",
    "        loop2.result[i] <- NA\n",
    "    }\n",
    "}"
   ]
  },
  {
   "cell_type": "code",
   "execution_count": 94,
   "id": "9d750da0",
   "metadata": {},
   "outputs": [
    {
     "data": {
      "text/html": [
       "<style>\n",
       ".list-inline {list-style: none; margin:0; padding: 0}\n",
       ".list-inline>li {display: inline-block}\n",
       ".list-inline>li:not(:last-child)::after {content: \"\\00b7\"; padding: 0 .5ex}\n",
       "</style>\n",
       "<ol class=list-inline><li>2.5</li><li>1.66666666666667</li><li>4.54545454545454</li><li>1.25</li><li>&lt;NA&gt;</li><li>1.21951219512195</li><li>1.66666666666667</li></ol>\n"
      ],
      "text/latex": [
       "\\begin{enumerate*}\n",
       "\\item 2.5\n",
       "\\item 1.66666666666667\n",
       "\\item 4.54545454545454\n",
       "\\item 1.25\n",
       "\\item <NA>\n",
       "\\item 1.21951219512195\n",
       "\\item 1.66666666666667\n",
       "\\end{enumerate*}\n"
      ],
      "text/markdown": [
       "1. 2.5\n",
       "2. 1.66666666666667\n",
       "3. 4.54545454545454\n",
       "4. 1.25\n",
       "5. &lt;NA&gt;\n",
       "6. 1.21951219512195\n",
       "7. 1.66666666666667\n",
       "\n",
       "\n"
      ],
      "text/plain": [
       "[1] 2.500000 1.666667 4.545455 1.250000       NA 1.219512 1.666667"
      ]
     },
     "metadata": {},
     "output_type": "display_data"
    }
   ],
   "source": [
    "loop2.result"
   ]
  },
  {
   "cell_type": "code",
   "execution_count": 91,
   "id": "f8b7ad79",
   "metadata": {},
   "outputs": [],
   "source": [
    "loop2.result <- ifelse(is.finite(foo / bar)"
   ]
  },
  {
   "cell_type": "code",
   "execution_count": 92,
   "id": "859bfc08",
   "metadata": {},
   "outputs": [
    {
     "data": {
      "text/html": [
       "<style>\n",
       ".list-inline {list-style: none; margin:0; padding: 0}\n",
       ".list-inline>li {display: inline-block}\n",
       ".list-inline>li:not(:last-child)::after {content: \"\\00b7\"; padding: 0 .5ex}\n",
       "</style>\n",
       "<ol class=list-inline><li>TRUE</li><li>TRUE</li><li>TRUE</li><li>TRUE</li><li>FALSE</li><li>TRUE</li><li>TRUE</li></ol>\n"
      ],
      "text/latex": [
       "\\begin{enumerate*}\n",
       "\\item TRUE\n",
       "\\item TRUE\n",
       "\\item TRUE\n",
       "\\item TRUE\n",
       "\\item FALSE\n",
       "\\item TRUE\n",
       "\\item TRUE\n",
       "\\end{enumerate*}\n"
      ],
      "text/markdown": [
       "1. TRUE\n",
       "2. TRUE\n",
       "3. TRUE\n",
       "4. TRUE\n",
       "5. FALSE\n",
       "6. TRUE\n",
       "7. TRUE\n",
       "\n",
       "\n"
      ],
      "text/plain": [
       "[1]  TRUE  TRUE  TRUE  TRUE FALSE  TRUE  TRUE"
      ]
     },
     "metadata": {},
     "output_type": "display_data"
    }
   ],
   "source": [
    "loop2.result"
   ]
  },
  {
   "cell_type": "code",
   "execution_count": 95,
   "id": "3f7f8258",
   "metadata": {},
   "outputs": [
    {
     "data": {
      "text/html": [
       "<style>\n",
       ".list-inline {list-style: none; margin:0; padding: 0}\n",
       ".list-inline>li {display: inline-block}\n",
       ".list-inline>li:not(:last-child)::after {content: \"\\00b7\"; padding: 0 .5ex}\n",
       "</style>\n",
       "<ol class=list-inline><li>2.5</li><li>1.66666666666667</li><li>4.54545454545454</li><li>1.25</li><li>&lt;NA&gt;</li><li>1.21951219512195</li><li>1.66666666666667</li></ol>\n"
      ],
      "text/latex": [
       "\\begin{enumerate*}\n",
       "\\item 2.5\n",
       "\\item 1.66666666666667\n",
       "\\item 4.54545454545454\n",
       "\\item 1.25\n",
       "\\item <NA>\n",
       "\\item 1.21951219512195\n",
       "\\item 1.66666666666667\n",
       "\\end{enumerate*}\n"
      ],
      "text/markdown": [
       "1. 2.5\n",
       "2. 1.66666666666667\n",
       "3. 4.54545454545454\n",
       "4. 1.25\n",
       "5. &lt;NA&gt;\n",
       "6. 1.21951219512195\n",
       "7. 1.66666666666667\n",
       "\n",
       "\n"
      ],
      "text/plain": [
       "[1] 2.500000 1.666667 4.545455 1.250000       NA 1.219512 1.666667"
      ]
     },
     "metadata": {},
     "output_type": "display_data"
    }
   ],
   "source": [
    "loop3.result <- ifelse(is.finite(foo/bar),foo/bar,NA)\n",
    "loop3.result"
   ]
  },
  {
   "cell_type": "markdown",
   "id": "c203f859",
   "metadata": {},
   "source": [
    "### b"
   ]
  },
  {
   "cell_type": "code",
   "execution_count": 141,
   "id": "378d1004",
   "metadata": {},
   "outputs": [],
   "source": [
    "mynumbers <- c(4,5,1,2,6,2,4,6,6,2)\n",
    "mylist <- list()"
   ]
  },
  {
   "cell_type": "code",
   "execution_count": 142,
   "id": "23a8773e",
   "metadata": {},
   "outputs": [],
   "source": [
    "#i\n",
    "for(i in 1:length(mynumbers)){\n",
    "    if(mynumbers[i] <= 5){\n",
    "        mylist[[i]] <- diag(x=mynumbers[i])\n",
    "    } else {\n",
    "        break\n",
    "    }\n",
    "}"
   ]
  },
  {
   "cell_type": "code",
   "execution_count": 143,
   "id": "471fcb14",
   "metadata": {},
   "outputs": [
    {
     "data": {
      "text/html": [
       "<ol>\n",
       "\t<li><table class=\"dataframe\">\n",
       "<caption>A matrix: 4 × 4 of type dbl</caption>\n",
       "<tbody>\n",
       "\t<tr><td>1</td><td>0</td><td>0</td><td>0</td></tr>\n",
       "\t<tr><td>0</td><td>1</td><td>0</td><td>0</td></tr>\n",
       "\t<tr><td>0</td><td>0</td><td>1</td><td>0</td></tr>\n",
       "\t<tr><td>0</td><td>0</td><td>0</td><td>1</td></tr>\n",
       "</tbody>\n",
       "</table>\n",
       "</li>\n",
       "\t<li><table class=\"dataframe\">\n",
       "<caption>A matrix: 5 × 5 of type dbl</caption>\n",
       "<tbody>\n",
       "\t<tr><td>1</td><td>0</td><td>0</td><td>0</td><td>0</td></tr>\n",
       "\t<tr><td>0</td><td>1</td><td>0</td><td>0</td><td>0</td></tr>\n",
       "\t<tr><td>0</td><td>0</td><td>1</td><td>0</td><td>0</td></tr>\n",
       "\t<tr><td>0</td><td>0</td><td>0</td><td>1</td><td>0</td></tr>\n",
       "\t<tr><td>0</td><td>0</td><td>0</td><td>0</td><td>1</td></tr>\n",
       "</tbody>\n",
       "</table>\n",
       "</li>\n",
       "\t<li><table class=\"dataframe\">\n",
       "<caption>A matrix: 1 × 1 of type dbl</caption>\n",
       "<tbody>\n",
       "\t<tr><td>1</td></tr>\n",
       "</tbody>\n",
       "</table>\n",
       "</li>\n",
       "\t<li><table class=\"dataframe\">\n",
       "<caption>A matrix: 2 × 2 of type dbl</caption>\n",
       "<tbody>\n",
       "\t<tr><td>1</td><td>0</td></tr>\n",
       "\t<tr><td>0</td><td>1</td></tr>\n",
       "</tbody>\n",
       "</table>\n",
       "</li>\n",
       "</ol>\n"
      ],
      "text/latex": [
       "\\begin{enumerate}\n",
       "\\item A matrix: 4 × 4 of type dbl\n",
       "\\begin{tabular}{llll}\n",
       "\t 1 & 0 & 0 & 0\\\\\n",
       "\t 0 & 1 & 0 & 0\\\\\n",
       "\t 0 & 0 & 1 & 0\\\\\n",
       "\t 0 & 0 & 0 & 1\\\\\n",
       "\\end{tabular}\n",
       "\n",
       "\\item A matrix: 5 × 5 of type dbl\n",
       "\\begin{tabular}{lllll}\n",
       "\t 1 & 0 & 0 & 0 & 0\\\\\n",
       "\t 0 & 1 & 0 & 0 & 0\\\\\n",
       "\t 0 & 0 & 1 & 0 & 0\\\\\n",
       "\t 0 & 0 & 0 & 1 & 0\\\\\n",
       "\t 0 & 0 & 0 & 0 & 1\\\\\n",
       "\\end{tabular}\n",
       "\n",
       "\\item A matrix: 1 × 1 of type dbl\n",
       "\\begin{tabular}{l}\n",
       "\t 1\\\\\n",
       "\\end{tabular}\n",
       "\n",
       "\\item A matrix: 2 × 2 of type dbl\n",
       "\\begin{tabular}{ll}\n",
       "\t 1 & 0\\\\\n",
       "\t 0 & 1\\\\\n",
       "\\end{tabular}\n",
       "\n",
       "\\end{enumerate}\n"
      ],
      "text/markdown": [
       "1. \n",
       "A matrix: 4 × 4 of type dbl\n",
       "\n",
       "| 1 | 0 | 0 | 0 |\n",
       "| 0 | 1 | 0 | 0 |\n",
       "| 0 | 0 | 1 | 0 |\n",
       "| 0 | 0 | 0 | 1 |\n",
       "\n",
       "\n",
       "2. \n",
       "A matrix: 5 × 5 of type dbl\n",
       "\n",
       "| 1 | 0 | 0 | 0 | 0 |\n",
       "| 0 | 1 | 0 | 0 | 0 |\n",
       "| 0 | 0 | 1 | 0 | 0 |\n",
       "| 0 | 0 | 0 | 1 | 0 |\n",
       "| 0 | 0 | 0 | 0 | 1 |\n",
       "\n",
       "\n",
       "3. \n",
       "A matrix: 1 × 1 of type dbl\n",
       "\n",
       "| 1 |\n",
       "\n",
       "\n",
       "4. \n",
       "A matrix: 2 × 2 of type dbl\n",
       "\n",
       "| 1 | 0 |\n",
       "| 0 | 1 |\n",
       "\n",
       "\n",
       "\n",
       "\n"
      ],
      "text/plain": [
       "[[1]]\n",
       "     [,1] [,2] [,3] [,4]\n",
       "[1,]    1    0    0    0\n",
       "[2,]    0    1    0    0\n",
       "[3,]    0    0    1    0\n",
       "[4,]    0    0    0    1\n",
       "\n",
       "[[2]]\n",
       "     [,1] [,2] [,3] [,4] [,5]\n",
       "[1,]    1    0    0    0    0\n",
       "[2,]    0    1    0    0    0\n",
       "[3,]    0    0    1    0    0\n",
       "[4,]    0    0    0    1    0\n",
       "[5,]    0    0    0    0    1\n",
       "\n",
       "[[3]]\n",
       "     [,1]\n",
       "[1,]    1\n",
       "\n",
       "[[4]]\n",
       "     [,1] [,2]\n",
       "[1,]    1    0\n",
       "[2,]    0    1\n"
      ]
     },
     "metadata": {},
     "output_type": "display_data"
    }
   ],
   "source": [
    "mylist"
   ]
  },
  {
   "cell_type": "code",
   "execution_count": 149,
   "id": "fd3a9ae5",
   "metadata": {},
   "outputs": [],
   "source": [
    "mylist <- list()"
   ]
  },
  {
   "cell_type": "code",
   "execution_count": 150,
   "id": "1af62775",
   "metadata": {},
   "outputs": [],
   "source": [
    "i <- 1\n",
    "repeat{\n",
    "    \n",
    "    if(mynumbers[i] <= 5){\n",
    "        mylist[[i]] <- diag(x=mynumbers[i])\n",
    "        i <- i +1\n",
    "    } else {\n",
    "        break\n",
    "    }\n",
    "    \n",
    "    \n",
    "}"
   ]
  },
  {
   "cell_type": "code",
   "execution_count": 151,
   "id": "22fd48ff",
   "metadata": {},
   "outputs": [
    {
     "data": {
      "text/html": [
       "<ol>\n",
       "\t<li><table class=\"dataframe\">\n",
       "<caption>A matrix: 4 × 4 of type dbl</caption>\n",
       "<tbody>\n",
       "\t<tr><td>1</td><td>0</td><td>0</td><td>0</td></tr>\n",
       "\t<tr><td>0</td><td>1</td><td>0</td><td>0</td></tr>\n",
       "\t<tr><td>0</td><td>0</td><td>1</td><td>0</td></tr>\n",
       "\t<tr><td>0</td><td>0</td><td>0</td><td>1</td></tr>\n",
       "</tbody>\n",
       "</table>\n",
       "</li>\n",
       "\t<li><table class=\"dataframe\">\n",
       "<caption>A matrix: 5 × 5 of type dbl</caption>\n",
       "<tbody>\n",
       "\t<tr><td>1</td><td>0</td><td>0</td><td>0</td><td>0</td></tr>\n",
       "\t<tr><td>0</td><td>1</td><td>0</td><td>0</td><td>0</td></tr>\n",
       "\t<tr><td>0</td><td>0</td><td>1</td><td>0</td><td>0</td></tr>\n",
       "\t<tr><td>0</td><td>0</td><td>0</td><td>1</td><td>0</td></tr>\n",
       "\t<tr><td>0</td><td>0</td><td>0</td><td>0</td><td>1</td></tr>\n",
       "</tbody>\n",
       "</table>\n",
       "</li>\n",
       "\t<li><table class=\"dataframe\">\n",
       "<caption>A matrix: 1 × 1 of type dbl</caption>\n",
       "<tbody>\n",
       "\t<tr><td>1</td></tr>\n",
       "</tbody>\n",
       "</table>\n",
       "</li>\n",
       "\t<li><table class=\"dataframe\">\n",
       "<caption>A matrix: 2 × 2 of type dbl</caption>\n",
       "<tbody>\n",
       "\t<tr><td>1</td><td>0</td></tr>\n",
       "\t<tr><td>0</td><td>1</td></tr>\n",
       "</tbody>\n",
       "</table>\n",
       "</li>\n",
       "</ol>\n"
      ],
      "text/latex": [
       "\\begin{enumerate}\n",
       "\\item A matrix: 4 × 4 of type dbl\n",
       "\\begin{tabular}{llll}\n",
       "\t 1 & 0 & 0 & 0\\\\\n",
       "\t 0 & 1 & 0 & 0\\\\\n",
       "\t 0 & 0 & 1 & 0\\\\\n",
       "\t 0 & 0 & 0 & 1\\\\\n",
       "\\end{tabular}\n",
       "\n",
       "\\item A matrix: 5 × 5 of type dbl\n",
       "\\begin{tabular}{lllll}\n",
       "\t 1 & 0 & 0 & 0 & 0\\\\\n",
       "\t 0 & 1 & 0 & 0 & 0\\\\\n",
       "\t 0 & 0 & 1 & 0 & 0\\\\\n",
       "\t 0 & 0 & 0 & 1 & 0\\\\\n",
       "\t 0 & 0 & 0 & 0 & 1\\\\\n",
       "\\end{tabular}\n",
       "\n",
       "\\item A matrix: 1 × 1 of type dbl\n",
       "\\begin{tabular}{l}\n",
       "\t 1\\\\\n",
       "\\end{tabular}\n",
       "\n",
       "\\item A matrix: 2 × 2 of type dbl\n",
       "\\begin{tabular}{ll}\n",
       "\t 1 & 0\\\\\n",
       "\t 0 & 1\\\\\n",
       "\\end{tabular}\n",
       "\n",
       "\\end{enumerate}\n"
      ],
      "text/markdown": [
       "1. \n",
       "A matrix: 4 × 4 of type dbl\n",
       "\n",
       "| 1 | 0 | 0 | 0 |\n",
       "| 0 | 1 | 0 | 0 |\n",
       "| 0 | 0 | 1 | 0 |\n",
       "| 0 | 0 | 0 | 1 |\n",
       "\n",
       "\n",
       "2. \n",
       "A matrix: 5 × 5 of type dbl\n",
       "\n",
       "| 1 | 0 | 0 | 0 | 0 |\n",
       "| 0 | 1 | 0 | 0 | 0 |\n",
       "| 0 | 0 | 1 | 0 | 0 |\n",
       "| 0 | 0 | 0 | 1 | 0 |\n",
       "| 0 | 0 | 0 | 0 | 1 |\n",
       "\n",
       "\n",
       "3. \n",
       "A matrix: 1 × 1 of type dbl\n",
       "\n",
       "| 1 |\n",
       "\n",
       "\n",
       "4. \n",
       "A matrix: 2 × 2 of type dbl\n",
       "\n",
       "| 1 | 0 |\n",
       "| 0 | 1 |\n",
       "\n",
       "\n",
       "\n",
       "\n"
      ],
      "text/plain": [
       "[[1]]\n",
       "     [,1] [,2] [,3] [,4]\n",
       "[1,]    1    0    0    0\n",
       "[2,]    0    1    0    0\n",
       "[3,]    0    0    1    0\n",
       "[4,]    0    0    0    1\n",
       "\n",
       "[[2]]\n",
       "     [,1] [,2] [,3] [,4] [,5]\n",
       "[1,]    1    0    0    0    0\n",
       "[2,]    0    1    0    0    0\n",
       "[3,]    0    0    1    0    0\n",
       "[4,]    0    0    0    1    0\n",
       "[5,]    0    0    0    0    1\n",
       "\n",
       "[[3]]\n",
       "     [,1]\n",
       "[1,]    1\n",
       "\n",
       "[[4]]\n",
       "     [,1] [,2]\n",
       "[1,]    1    0\n",
       "[2,]    0    1\n"
      ]
     },
     "metadata": {},
     "output_type": "display_data"
    }
   ],
   "source": [
    "mylist"
   ]
  },
  {
   "cell_type": "markdown",
   "id": "acdc526f",
   "metadata": {},
   "source": [
    "### c"
   ]
  },
  {
   "cell_type": "code",
   "execution_count": 152,
   "id": "38d2a4fb",
   "metadata": {},
   "outputs": [],
   "source": [
    "#i\n",
    "matlist1 <- list(matrix(1:4,2,2),matrix(1:4),matrix(1:8,4,2))\n",
    "matlist2 <- matlist1"
   ]
  },
  {
   "cell_type": "code",
   "execution_count": 181,
   "id": "f35d114f",
   "metadata": {},
   "outputs": [],
   "source": [
    "#ii\n",
    "matlist1 <- list(matrix(1:4,2,2),matrix(2:5,2,2),matrix(1:16,8,2))\n",
    "matlist2 <- list(matrix(1:8,2,4),matrix(10:7,2,2),matrix(9:2,4,2))"
   ]
  },
  {
   "cell_type": "code",
   "execution_count": 182,
   "id": "e5a895df",
   "metadata": {},
   "outputs": [
    {
     "name": "stdout",
     "output_type": "stream",
     "text": [
      "     [,1] [,2] [,3] [,4]\n",
      "[1,]    7   15   23   31\n",
      "[2,]   10   22   34   46\n",
      "     [,1] [,2]\n",
      "[1,]   37   29\n",
      "[2,]   56   44\n",
      "     [,1] [,2] [,3] [,4]\n",
      "[1,]   10   22   34   46\n",
      "[2,]   13   29   45   61\n",
      "     [,1] [,2]\n",
      "[1,]   56   44\n",
      "[2,]   75   59\n",
      "     [,1] [,2] [,3] [,4]\n",
      "[1,]   19   39   59   79\n",
      "[2,]   22   46   70   94\n",
      "[3,]   25   53   81  109\n",
      "[4,]   28   60   92  124\n",
      "[5,]   31   67  103  139\n",
      "[6,]   34   74  114  154\n",
      "[7,]   37   81  125  169\n",
      "[8,]   40   88  136  184\n",
      "     [,1] [,2]\n",
      "[1,]   91   71\n",
      "[2,]  110   86\n",
      "[3,]  129  101\n",
      "[4,]  148  116\n",
      "[5,]  167  131\n",
      "[6,]  186  146\n",
      "[7,]  205  161\n",
      "[8,]  224  176\n"
     ]
    },
    {
     "data": {
      "text/html": [
       "<ol>\n",
       "\t<li><table class=\"dataframe\">\n",
       "<caption>A matrix: 2 × 4 of type dbl</caption>\n",
       "<tbody>\n",
       "\t<tr><td> 7</td><td>15</td><td>23</td><td>31</td></tr>\n",
       "\t<tr><td>10</td><td>22</td><td>34</td><td>46</td></tr>\n",
       "</tbody>\n",
       "</table>\n",
       "</li>\n",
       "\t<li><table class=\"dataframe\">\n",
       "<caption>A matrix: 2 × 2 of type dbl</caption>\n",
       "<tbody>\n",
       "\t<tr><td>37</td><td>29</td></tr>\n",
       "\t<tr><td>56</td><td>44</td></tr>\n",
       "</tbody>\n",
       "</table>\n",
       "</li>\n",
       "\t<li>'Not Possible'</li>\n",
       "\t<li><table class=\"dataframe\">\n",
       "<caption>A matrix: 2 × 4 of type dbl</caption>\n",
       "<tbody>\n",
       "\t<tr><td>10</td><td>22</td><td>34</td><td>46</td></tr>\n",
       "\t<tr><td>13</td><td>29</td><td>45</td><td>61</td></tr>\n",
       "</tbody>\n",
       "</table>\n",
       "</li>\n",
       "\t<li><table class=\"dataframe\">\n",
       "<caption>A matrix: 2 × 2 of type dbl</caption>\n",
       "<tbody>\n",
       "\t<tr><td>56</td><td>44</td></tr>\n",
       "\t<tr><td>75</td><td>59</td></tr>\n",
       "</tbody>\n",
       "</table>\n",
       "</li>\n",
       "\t<li>'Not Possible'</li>\n",
       "\t<li><table class=\"dataframe\">\n",
       "<caption>A matrix: 8 × 4 of type dbl</caption>\n",
       "<tbody>\n",
       "\t<tr><td>19</td><td>39</td><td> 59</td><td> 79</td></tr>\n",
       "\t<tr><td>22</td><td>46</td><td> 70</td><td> 94</td></tr>\n",
       "\t<tr><td>25</td><td>53</td><td> 81</td><td>109</td></tr>\n",
       "\t<tr><td>28</td><td>60</td><td> 92</td><td>124</td></tr>\n",
       "\t<tr><td>31</td><td>67</td><td>103</td><td>139</td></tr>\n",
       "\t<tr><td>34</td><td>74</td><td>114</td><td>154</td></tr>\n",
       "\t<tr><td>37</td><td>81</td><td>125</td><td>169</td></tr>\n",
       "\t<tr><td>40</td><td>88</td><td>136</td><td>184</td></tr>\n",
       "</tbody>\n",
       "</table>\n",
       "</li>\n",
       "\t<li><table class=\"dataframe\">\n",
       "<caption>A matrix: 8 × 2 of type dbl</caption>\n",
       "<tbody>\n",
       "\t<tr><td> 91</td><td> 71</td></tr>\n",
       "\t<tr><td>110</td><td> 86</td></tr>\n",
       "\t<tr><td>129</td><td>101</td></tr>\n",
       "\t<tr><td>148</td><td>116</td></tr>\n",
       "\t<tr><td>167</td><td>131</td></tr>\n",
       "\t<tr><td>186</td><td>146</td></tr>\n",
       "\t<tr><td>205</td><td>161</td></tr>\n",
       "\t<tr><td>224</td><td>176</td></tr>\n",
       "</tbody>\n",
       "</table>\n",
       "</li>\n",
       "\t<li>'Not Possible'</li>\n",
       "</ol>\n"
      ],
      "text/latex": [
       "\\begin{enumerate}\n",
       "\\item A matrix: 2 × 4 of type dbl\n",
       "\\begin{tabular}{llll}\n",
       "\t  7 & 15 & 23 & 31\\\\\n",
       "\t 10 & 22 & 34 & 46\\\\\n",
       "\\end{tabular}\n",
       "\n",
       "\\item A matrix: 2 × 2 of type dbl\n",
       "\\begin{tabular}{ll}\n",
       "\t 37 & 29\\\\\n",
       "\t 56 & 44\\\\\n",
       "\\end{tabular}\n",
       "\n",
       "\\item 'Not Possible'\n",
       "\\item A matrix: 2 × 4 of type dbl\n",
       "\\begin{tabular}{llll}\n",
       "\t 10 & 22 & 34 & 46\\\\\n",
       "\t 13 & 29 & 45 & 61\\\\\n",
       "\\end{tabular}\n",
       "\n",
       "\\item A matrix: 2 × 2 of type dbl\n",
       "\\begin{tabular}{ll}\n",
       "\t 56 & 44\\\\\n",
       "\t 75 & 59\\\\\n",
       "\\end{tabular}\n",
       "\n",
       "\\item 'Not Possible'\n",
       "\\item A matrix: 8 × 4 of type dbl\n",
       "\\begin{tabular}{llll}\n",
       "\t 19 & 39 &  59 &  79\\\\\n",
       "\t 22 & 46 &  70 &  94\\\\\n",
       "\t 25 & 53 &  81 & 109\\\\\n",
       "\t 28 & 60 &  92 & 124\\\\\n",
       "\t 31 & 67 & 103 & 139\\\\\n",
       "\t 34 & 74 & 114 & 154\\\\\n",
       "\t 37 & 81 & 125 & 169\\\\\n",
       "\t 40 & 88 & 136 & 184\\\\\n",
       "\\end{tabular}\n",
       "\n",
       "\\item A matrix: 8 × 2 of type dbl\n",
       "\\begin{tabular}{ll}\n",
       "\t  91 &  71\\\\\n",
       "\t 110 &  86\\\\\n",
       "\t 129 & 101\\\\\n",
       "\t 148 & 116\\\\\n",
       "\t 167 & 131\\\\\n",
       "\t 186 & 146\\\\\n",
       "\t 205 & 161\\\\\n",
       "\t 224 & 176\\\\\n",
       "\\end{tabular}\n",
       "\n",
       "\\item 'Not Possible'\n",
       "\\end{enumerate}\n"
      ],
      "text/markdown": [
       "1. \n",
       "A matrix: 2 × 4 of type dbl\n",
       "\n",
       "|  7 | 15 | 23 | 31 |\n",
       "| 10 | 22 | 34 | 46 |\n",
       "\n",
       "\n",
       "2. \n",
       "A matrix: 2 × 2 of type dbl\n",
       "\n",
       "| 37 | 29 |\n",
       "| 56 | 44 |\n",
       "\n",
       "\n",
       "3. 'Not Possible'\n",
       "4. \n",
       "A matrix: 2 × 4 of type dbl\n",
       "\n",
       "| 10 | 22 | 34 | 46 |\n",
       "| 13 | 29 | 45 | 61 |\n",
       "\n",
       "\n",
       "5. \n",
       "A matrix: 2 × 2 of type dbl\n",
       "\n",
       "| 56 | 44 |\n",
       "| 75 | 59 |\n",
       "\n",
       "\n",
       "6. 'Not Possible'\n",
       "7. \n",
       "A matrix: 8 × 4 of type dbl\n",
       "\n",
       "| 19 | 39 |  59 |  79 |\n",
       "| 22 | 46 |  70 |  94 |\n",
       "| 25 | 53 |  81 | 109 |\n",
       "| 28 | 60 |  92 | 124 |\n",
       "| 31 | 67 | 103 | 139 |\n",
       "| 34 | 74 | 114 | 154 |\n",
       "| 37 | 81 | 125 | 169 |\n",
       "| 40 | 88 | 136 | 184 |\n",
       "\n",
       "\n",
       "8. \n",
       "A matrix: 8 × 2 of type dbl\n",
       "\n",
       "|  91 |  71 |\n",
       "| 110 |  86 |\n",
       "| 129 | 101 |\n",
       "| 148 | 116 |\n",
       "| 167 | 131 |\n",
       "| 186 | 146 |\n",
       "| 205 | 161 |\n",
       "| 224 | 176 |\n",
       "\n",
       "\n",
       "9. 'Not Possible'\n",
       "\n",
       "\n"
      ],
      "text/plain": [
       "[[1]]\n",
       "     [,1] [,2] [,3] [,4]\n",
       "[1,]    7   15   23   31\n",
       "[2,]   10   22   34   46\n",
       "\n",
       "[[2]]\n",
       "     [,1] [,2]\n",
       "[1,]   37   29\n",
       "[2,]   56   44\n",
       "\n",
       "[[3]]\n",
       "[1] \"Not Possible\"\n",
       "\n",
       "[[4]]\n",
       "     [,1] [,2] [,3] [,4]\n",
       "[1,]   10   22   34   46\n",
       "[2,]   13   29   45   61\n",
       "\n",
       "[[5]]\n",
       "     [,1] [,2]\n",
       "[1,]   56   44\n",
       "[2,]   75   59\n",
       "\n",
       "[[6]]\n",
       "[1] \"Not Possible\"\n",
       "\n",
       "[[7]]\n",
       "     [,1] [,2] [,3] [,4]\n",
       "[1,]   19   39   59   79\n",
       "[2,]   22   46   70   94\n",
       "[3,]   25   53   81  109\n",
       "[4,]   28   60   92  124\n",
       "[5,]   31   67  103  139\n",
       "[6,]   34   74  114  154\n",
       "[7,]   37   81  125  169\n",
       "[8,]   40   88  136  184\n",
       "\n",
       "[[8]]\n",
       "     [,1] [,2]\n",
       "[1,]   91   71\n",
       "[2,]  110   86\n",
       "[3,]  129  101\n",
       "[4,]  148  116\n",
       "[5,]  167  131\n",
       "[6,]  186  146\n",
       "[7,]  205  161\n",
       "[8,]  224  176\n",
       "\n",
       "[[9]]\n",
       "[1] \"Not Possible\"\n"
      ]
     },
     "metadata": {},
     "output_type": "display_data"
    }
   ],
   "source": [
    "reslist <- list()\n",
    "ResListCounter <- 1\n",
    "for(i in 1:length(matlist1)){\n",
    "    for(j in 1:length(matlist2)){\n",
    "        if(dim(matlist1[[i]])[2] == dim(matlist2[[j]])[1]){\n",
    "            reslist[[ResListCounter]] <- print(matlist1[[i]] %*% matlist2[[j]])\n",
    "            \n",
    "        } else {\n",
    "            reslist[[ResListCounter]] <- \"Not Possible\"\n",
    "        }\n",
    "        ResListCounter <- ResListCounter + 1\n",
    "    }\n",
    "}\n",
    "reslist"
   ]
  }
 ],
 "metadata": {
  "kernelspec": {
   "display_name": "R",
   "language": "R",
   "name": "ir"
  },
  "language_info": {
   "codemirror_mode": "r",
   "file_extension": ".r",
   "mimetype": "text/x-r-source",
   "name": "R",
   "pygments_lexer": "r",
   "version": "3.6.3"
  }
 },
 "nbformat": 4,
 "nbformat_minor": 5
}
