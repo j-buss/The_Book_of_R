{
 "cells": [
  {
   "cell_type": "markdown",
   "id": "64aae141",
   "metadata": {},
   "source": [
    "# 4.1"
   ]
  },
  {
   "cell_type": "markdown",
   "id": "56b68643",
   "metadata": {},
   "source": [
    "## a"
   ]
  },
  {
   "cell_type": "code",
   "execution_count": 1,
   "id": "34c6c272",
   "metadata": {},
   "outputs": [
    {
     "data": {
      "text/html": [
       "15"
      ],
      "text/latex": [
       "15"
      ],
      "text/markdown": [
       "15"
      ],
      "text/plain": [
       "[1] 15"
      ]
     },
     "metadata": {},
     "output_type": "display_data"
    }
   ],
   "source": [
    "avec <- c(6,9,7,3,6,7,9,6,3,6,6,7,1,9,1)\n",
    "length(avec)"
   ]
  },
  {
   "cell_type": "code",
   "execution_count": 2,
   "id": "e4849eb4",
   "metadata": {},
   "outputs": [
    {
     "data": {
      "text/html": [
       "<style>\n",
       ".list-inline {list-style: none; margin:0; padding: 0}\n",
       ".list-inline>li {display: inline-block}\n",
       ".list-inline>li:not(:last-child)::after {content: \"\\00b7\"; padding: 0 .5ex}\n",
       "</style>\n",
       "<ol class=list-inline><li>TRUE</li><li>FALSE</li><li>FALSE</li><li>FALSE</li><li>TRUE</li><li>FALSE</li><li>FALSE</li><li>TRUE</li><li>FALSE</li><li>TRUE</li><li>TRUE</li><li>FALSE</li><li>FALSE</li><li>FALSE</li><li>FALSE</li></ol>\n"
      ],
      "text/latex": [
       "\\begin{enumerate*}\n",
       "\\item TRUE\n",
       "\\item FALSE\n",
       "\\item FALSE\n",
       "\\item FALSE\n",
       "\\item TRUE\n",
       "\\item FALSE\n",
       "\\item FALSE\n",
       "\\item TRUE\n",
       "\\item FALSE\n",
       "\\item TRUE\n",
       "\\item TRUE\n",
       "\\item FALSE\n",
       "\\item FALSE\n",
       "\\item FALSE\n",
       "\\item FALSE\n",
       "\\end{enumerate*}\n"
      ],
      "text/markdown": [
       "1. TRUE\n",
       "2. FALSE\n",
       "3. FALSE\n",
       "4. FALSE\n",
       "5. TRUE\n",
       "6. FALSE\n",
       "7. FALSE\n",
       "8. TRUE\n",
       "9. FALSE\n",
       "10. TRUE\n",
       "11. TRUE\n",
       "12. FALSE\n",
       "13. FALSE\n",
       "14. FALSE\n",
       "15. FALSE\n",
       "\n",
       "\n"
      ],
      "text/plain": [
       " [1]  TRUE FALSE FALSE FALSE  TRUE FALSE FALSE  TRUE FALSE  TRUE  TRUE FALSE\n",
       "[13] FALSE FALSE FALSE"
      ]
     },
     "metadata": {},
     "output_type": "display_data"
    },
    {
     "data": {
      "text/html": [
       "<style>\n",
       ".list-inline {list-style: none; margin:0; padding: 0}\n",
       ".list-inline>li {display: inline-block}\n",
       ".list-inline>li:not(:last-child)::after {content: \"\\00b7\"; padding: 0 .5ex}\n",
       "</style>\n",
       "<ol class=list-inline><li>TRUE</li><li>TRUE</li><li>TRUE</li><li>FALSE</li><li>TRUE</li><li>TRUE</li><li>TRUE</li><li>TRUE</li><li>FALSE</li><li>TRUE</li><li>TRUE</li><li>TRUE</li><li>FALSE</li><li>TRUE</li><li>FALSE</li></ol>\n"
      ],
      "text/latex": [
       "\\begin{enumerate*}\n",
       "\\item TRUE\n",
       "\\item TRUE\n",
       "\\item TRUE\n",
       "\\item FALSE\n",
       "\\item TRUE\n",
       "\\item TRUE\n",
       "\\item TRUE\n",
       "\\item TRUE\n",
       "\\item FALSE\n",
       "\\item TRUE\n",
       "\\item TRUE\n",
       "\\item TRUE\n",
       "\\item FALSE\n",
       "\\item TRUE\n",
       "\\item FALSE\n",
       "\\end{enumerate*}\n"
      ],
      "text/markdown": [
       "1. TRUE\n",
       "2. TRUE\n",
       "3. TRUE\n",
       "4. FALSE\n",
       "5. TRUE\n",
       "6. TRUE\n",
       "7. TRUE\n",
       "8. TRUE\n",
       "9. FALSE\n",
       "10. TRUE\n",
       "11. TRUE\n",
       "12. TRUE\n",
       "13. FALSE\n",
       "14. TRUE\n",
       "15. FALSE\n",
       "\n",
       "\n"
      ],
      "text/plain": [
       " [1]  TRUE  TRUE  TRUE FALSE  TRUE  TRUE  TRUE  TRUE FALSE  TRUE  TRUE  TRUE\n",
       "[13] FALSE  TRUE FALSE"
      ]
     },
     "metadata": {},
     "output_type": "display_data"
    },
    {
     "data": {
      "text/html": [
       "<style>\n",
       ".list-inline {list-style: none; margin:0; padding: 0}\n",
       ".list-inline>li {display: inline-block}\n",
       ".list-inline>li:not(:last-child)::after {content: \"\\00b7\"; padding: 0 .5ex}\n",
       "</style>\n",
       "<ol class=list-inline><li>TRUE</li><li>FALSE</li><li>TRUE</li><li>TRUE</li><li>TRUE</li><li>TRUE</li><li>FALSE</li><li>TRUE</li><li>TRUE</li><li>TRUE</li><li>TRUE</li><li>TRUE</li><li>TRUE</li><li>FALSE</li><li>TRUE</li></ol>\n"
      ],
      "text/latex": [
       "\\begin{enumerate*}\n",
       "\\item TRUE\n",
       "\\item FALSE\n",
       "\\item TRUE\n",
       "\\item TRUE\n",
       "\\item TRUE\n",
       "\\item TRUE\n",
       "\\item FALSE\n",
       "\\item TRUE\n",
       "\\item TRUE\n",
       "\\item TRUE\n",
       "\\item TRUE\n",
       "\\item TRUE\n",
       "\\item TRUE\n",
       "\\item FALSE\n",
       "\\item TRUE\n",
       "\\end{enumerate*}\n"
      ],
      "text/markdown": [
       "1. TRUE\n",
       "2. FALSE\n",
       "3. TRUE\n",
       "4. TRUE\n",
       "5. TRUE\n",
       "6. TRUE\n",
       "7. FALSE\n",
       "8. TRUE\n",
       "9. TRUE\n",
       "10. TRUE\n",
       "11. TRUE\n",
       "12. TRUE\n",
       "13. TRUE\n",
       "14. FALSE\n",
       "15. TRUE\n",
       "\n",
       "\n"
      ],
      "text/plain": [
       " [1]  TRUE FALSE  TRUE  TRUE  TRUE  TRUE FALSE  TRUE  TRUE  TRUE  TRUE  TRUE\n",
       "[13]  TRUE FALSE  TRUE"
      ]
     },
     "metadata": {},
     "output_type": "display_data"
    },
    {
     "data": {
      "text/html": [
       "<style>\n",
       ".list-inline {list-style: none; margin:0; padding: 0}\n",
       ".list-inline>li {display: inline-block}\n",
       ".list-inline>li:not(:last-child)::after {content: \"\\00b7\"; padding: 0 .5ex}\n",
       "</style>\n",
       "<ol class=list-inline><li>FALSE</li><li>TRUE</li><li>TRUE</li><li>TRUE</li><li>FALSE</li><li>TRUE</li><li>TRUE</li><li>FALSE</li><li>TRUE</li><li>FALSE</li><li>FALSE</li><li>TRUE</li><li>TRUE</li><li>TRUE</li><li>TRUE</li></ol>\n"
      ],
      "text/latex": [
       "\\begin{enumerate*}\n",
       "\\item FALSE\n",
       "\\item TRUE\n",
       "\\item TRUE\n",
       "\\item TRUE\n",
       "\\item FALSE\n",
       "\\item TRUE\n",
       "\\item TRUE\n",
       "\\item FALSE\n",
       "\\item TRUE\n",
       "\\item FALSE\n",
       "\\item FALSE\n",
       "\\item TRUE\n",
       "\\item TRUE\n",
       "\\item TRUE\n",
       "\\item TRUE\n",
       "\\end{enumerate*}\n"
      ],
      "text/markdown": [
       "1. FALSE\n",
       "2. TRUE\n",
       "3. TRUE\n",
       "4. TRUE\n",
       "5. FALSE\n",
       "6. TRUE\n",
       "7. TRUE\n",
       "8. FALSE\n",
       "9. TRUE\n",
       "10. FALSE\n",
       "11. FALSE\n",
       "12. TRUE\n",
       "13. TRUE\n",
       "14. TRUE\n",
       "15. TRUE\n",
       "\n",
       "\n"
      ],
      "text/plain": [
       " [1] FALSE  TRUE  TRUE  TRUE FALSE  TRUE  TRUE FALSE  TRUE FALSE FALSE  TRUE\n",
       "[13]  TRUE  TRUE  TRUE"
      ]
     },
     "metadata": {},
     "output_type": "display_data"
    }
   ],
   "source": [
    "# i eq. 6\n",
    "avec == 6\n",
    "# ii\n",
    "avec >= 6\n",
    "# iii\n",
    "avec < (6+2)\n",
    "# iv\n",
    "avec != 6"
   ]
  },
  {
   "cell_type": "markdown",
   "id": "571c47c1",
   "metadata": {},
   "source": [
    "### b"
   ]
  },
  {
   "cell_type": "code",
   "execution_count": 3,
   "id": "fd7c53aa",
   "metadata": {},
   "outputs": [
    {
     "data": {
      "text/html": [
       "<style>\n",
       ".list-inline {list-style: none; margin:0; padding: 0}\n",
       ".list-inline>li {display: inline-block}\n",
       ".list-inline>li:not(:last-child)::after {content: \"\\00b7\"; padding: 0 .5ex}\n",
       "</style>\n",
       "<ol class=list-inline><li>3</li><li>6</li><li>7</li><li>9</li><li>6</li><li>3</li><li>6</li><li>6</li><li>7</li><li>1</li><li>9</li><li>1</li></ol>\n"
      ],
      "text/latex": [
       "\\begin{enumerate*}\n",
       "\\item 3\n",
       "\\item 6\n",
       "\\item 7\n",
       "\\item 9\n",
       "\\item 6\n",
       "\\item 3\n",
       "\\item 6\n",
       "\\item 6\n",
       "\\item 7\n",
       "\\item 1\n",
       "\\item 9\n",
       "\\item 1\n",
       "\\end{enumerate*}\n"
      ],
      "text/markdown": [
       "1. 3\n",
       "2. 6\n",
       "3. 7\n",
       "4. 9\n",
       "5. 6\n",
       "6. 3\n",
       "7. 6\n",
       "8. 6\n",
       "9. 7\n",
       "10. 1\n",
       "11. 9\n",
       "12. 1\n",
       "\n",
       "\n"
      ],
      "text/plain": [
       " [1] 3 6 7 9 6 3 6 6 7 1 9 1"
      ]
     },
     "metadata": {},
     "output_type": "display_data"
    }
   ],
   "source": [
    "bvec <- avec[-c(1:3)]\n",
    "bvec"
   ]
  },
  {
   "cell_type": "code",
   "execution_count": 4,
   "id": "1b85f82d",
   "metadata": {},
   "outputs": [],
   "source": [
    "barray <- array(data=bvec,dim=c(2,2,3))"
   ]
  },
  {
   "cell_type": "code",
   "execution_count": 5,
   "id": "56ee3d9d",
   "metadata": {},
   "outputs": [
    {
     "data": {
      "text/html": [
       "<style>\n",
       ".list-inline {list-style: none; margin:0; padding: 0}\n",
       ".list-inline>li {display: inline-block}\n",
       ".list-inline>li:not(:last-child)::after {content: \"\\00b7\"; padding: 0 .5ex}\n",
       "</style>\n",
       "<ol class=list-inline><li>FALSE</li><li>FALSE</li><li>TRUE</li><li>FALSE</li><li>FALSE</li><li>FALSE</li><li>FALSE</li><li>FALSE</li><li>TRUE</li><li>FALSE</li><li>FALSE</li><li>FALSE</li></ol>\n"
      ],
      "text/latex": [
       "\\begin{enumerate*}\n",
       "\\item FALSE\n",
       "\\item FALSE\n",
       "\\item TRUE\n",
       "\\item FALSE\n",
       "\\item FALSE\n",
       "\\item FALSE\n",
       "\\item FALSE\n",
       "\\item FALSE\n",
       "\\item TRUE\n",
       "\\item FALSE\n",
       "\\item FALSE\n",
       "\\item FALSE\n",
       "\\end{enumerate*}\n"
      ],
      "text/markdown": [
       "1. FALSE\n",
       "2. FALSE\n",
       "3. TRUE\n",
       "4. FALSE\n",
       "5. FALSE\n",
       "6. FALSE\n",
       "7. FALSE\n",
       "8. FALSE\n",
       "9. TRUE\n",
       "10. FALSE\n",
       "11. FALSE\n",
       "12. FALSE\n",
       "\n",
       "\n"
      ],
      "text/plain": [
       ", , 1\n",
       "\n",
       "      [,1]  [,2]\n",
       "[1,] FALSE  TRUE\n",
       "[2,] FALSE FALSE\n",
       "\n",
       ", , 2\n",
       "\n",
       "      [,1]  [,2]\n",
       "[1,] FALSE FALSE\n",
       "[2,] FALSE FALSE\n",
       "\n",
       ", , 3\n",
       "\n",
       "      [,1]  [,2]\n",
       "[1,]  TRUE FALSE\n",
       "[2,] FALSE FALSE\n"
      ]
     },
     "metadata": {},
     "output_type": "display_data"
    },
    {
     "data": {
      "text/html": [
       "<style>\n",
       ".list-inline {list-style: none; margin:0; padding: 0}\n",
       ".list-inline>li {display: inline-block}\n",
       ".list-inline>li:not(:last-child)::after {content: \"\\00b7\"; padding: 0 .5ex}\n",
       "</style>\n",
       "<ol class=list-inline><li>7</li><li>7</li></ol>\n"
      ],
      "text/latex": [
       "\\begin{enumerate*}\n",
       "\\item 7\n",
       "\\item 7\n",
       "\\end{enumerate*}\n"
      ],
      "text/markdown": [
       "1. 7\n",
       "2. 7\n",
       "\n",
       "\n"
      ],
      "text/plain": [
       "[1] 7 7"
      ]
     },
     "metadata": {},
     "output_type": "display_data"
    },
    {
     "data": {
      "text/html": [
       "<style>\n",
       ".list-inline {list-style: none; margin:0; padding: 0}\n",
       ".list-inline>li {display: inline-block}\n",
       ".list-inline>li:not(:last-child)::after {content: \"\\00b7\"; padding: 0 .5ex}\n",
       "</style>\n",
       "<ol class=list-inline><li>5</li><li>8</li><li>9</li><li>11</li><li>8</li><li>5</li><li>8</li><li>8</li><li>9</li><li>3</li><li>11</li><li>3</li></ol>\n"
      ],
      "text/latex": [
       "\\begin{enumerate*}\n",
       "\\item 5\n",
       "\\item 8\n",
       "\\item 9\n",
       "\\item 11\n",
       "\\item 8\n",
       "\\item 5\n",
       "\\item 8\n",
       "\\item 8\n",
       "\\item 9\n",
       "\\item 3\n",
       "\\item 11\n",
       "\\item 3\n",
       "\\end{enumerate*}\n"
      ],
      "text/markdown": [
       "1. 5\n",
       "2. 8\n",
       "3. 9\n",
       "4. 11\n",
       "5. 8\n",
       "6. 5\n",
       "7. 8\n",
       "8. 8\n",
       "9. 9\n",
       "10. 3\n",
       "11. 11\n",
       "12. 3\n",
       "\n",
       "\n"
      ],
      "text/plain": [
       ", , 1\n",
       "\n",
       "     [,1] [,2]\n",
       "[1,]    5    9\n",
       "[2,]    8   11\n",
       "\n",
       ", , 2\n",
       "\n",
       "     [,1] [,2]\n",
       "[1,]    8    8\n",
       "[2,]    5    8\n",
       "\n",
       ", , 3\n",
       "\n",
       "     [,1] [,2]\n",
       "[1,]    9   11\n",
       "[2,]    3    3\n"
      ]
     },
     "metadata": {},
     "output_type": "display_data"
    },
    {
     "data": {
      "text/html": [
       "<style>\n",
       ".list-inline {list-style: none; margin:0; padding: 0}\n",
       ".list-inline>li {display: inline-block}\n",
       ".list-inline>li:not(:last-child)::after {content: \"\\00b7\"; padding: 0 .5ex}\n",
       "</style>\n",
       "<ol class=list-inline><li>FALSE</li><li>FALSE</li><li>FALSE</li><li>FALSE</li><li>FALSE</li><li>FALSE</li><li>FALSE</li><li>FALSE</li><li>FALSE</li><li>FALSE</li><li>FALSE</li><li>FALSE</li></ol>\n"
      ],
      "text/latex": [
       "\\begin{enumerate*}\n",
       "\\item FALSE\n",
       "\\item FALSE\n",
       "\\item FALSE\n",
       "\\item FALSE\n",
       "\\item FALSE\n",
       "\\item FALSE\n",
       "\\item FALSE\n",
       "\\item FALSE\n",
       "\\item FALSE\n",
       "\\item FALSE\n",
       "\\item FALSE\n",
       "\\item FALSE\n",
       "\\end{enumerate*}\n"
      ],
      "text/markdown": [
       "1. FALSE\n",
       "2. FALSE\n",
       "3. FALSE\n",
       "4. FALSE\n",
       "5. FALSE\n",
       "6. FALSE\n",
       "7. FALSE\n",
       "8. FALSE\n",
       "9. FALSE\n",
       "10. FALSE\n",
       "11. FALSE\n",
       "12. FALSE\n",
       "\n",
       "\n"
      ],
      "text/plain": [
       ", , 1\n",
       "\n",
       "      [,1]  [,2]\n",
       "[1,] FALSE FALSE\n",
       "[2,] FALSE FALSE\n",
       "\n",
       ", , 2\n",
       "\n",
       "      [,1]  [,2]\n",
       "[1,] FALSE FALSE\n",
       "[2,] FALSE FALSE\n",
       "\n",
       ", , 3\n",
       "\n",
       "      [,1]  [,2]\n",
       "[1,] FALSE FALSE\n",
       "[2,] FALSE FALSE\n"
      ]
     },
     "metadata": {},
     "output_type": "display_data"
    },
    {
     "data": {
      "text/html": [],
      "text/latex": [],
      "text/markdown": [],
      "text/plain": [
       "numeric(0)"
      ]
     },
     "metadata": {},
     "output_type": "display_data"
    }
   ],
   "source": [
    "#i\n",
    "barray==((6/2)+4)\n",
    "barray[barray==((6/2)+4)]\n",
    "#ii\n",
    "barray_2 <- barray + 2\n",
    "barray_2\n",
    "barray_2==((6/2)+4)\n",
    "barray_2[barray_2==((6/2)+4)]"
   ]
  },
  {
   "cell_type": "markdown",
   "id": "4b5db73e",
   "metadata": {},
   "source": [
    "### c"
   ]
  },
  {
   "cell_type": "code",
   "execution_count": 6,
   "id": "42f8d6b6",
   "metadata": {},
   "outputs": [
    {
     "data": {
      "text/html": [
       "<table class=\"dataframe\">\n",
       "<caption>A matrix: 10 × 10 of type lgl</caption>\n",
       "<tbody>\n",
       "\t<tr><td>FALSE</td><td> TRUE</td><td> TRUE</td><td> TRUE</td><td> TRUE</td><td> TRUE</td><td> TRUE</td><td> TRUE</td><td> TRUE</td><td> TRUE</td></tr>\n",
       "\t<tr><td> TRUE</td><td>FALSE</td><td> TRUE</td><td> TRUE</td><td> TRUE</td><td> TRUE</td><td> TRUE</td><td> TRUE</td><td> TRUE</td><td> TRUE</td></tr>\n",
       "\t<tr><td> TRUE</td><td> TRUE</td><td>FALSE</td><td> TRUE</td><td> TRUE</td><td> TRUE</td><td> TRUE</td><td> TRUE</td><td> TRUE</td><td> TRUE</td></tr>\n",
       "\t<tr><td> TRUE</td><td> TRUE</td><td> TRUE</td><td>FALSE</td><td> TRUE</td><td> TRUE</td><td> TRUE</td><td> TRUE</td><td> TRUE</td><td> TRUE</td></tr>\n",
       "\t<tr><td> TRUE</td><td> TRUE</td><td> TRUE</td><td> TRUE</td><td>FALSE</td><td> TRUE</td><td> TRUE</td><td> TRUE</td><td> TRUE</td><td> TRUE</td></tr>\n",
       "\t<tr><td> TRUE</td><td> TRUE</td><td> TRUE</td><td> TRUE</td><td> TRUE</td><td>FALSE</td><td> TRUE</td><td> TRUE</td><td> TRUE</td><td> TRUE</td></tr>\n",
       "\t<tr><td> TRUE</td><td> TRUE</td><td> TRUE</td><td> TRUE</td><td> TRUE</td><td> TRUE</td><td>FALSE</td><td> TRUE</td><td> TRUE</td><td> TRUE</td></tr>\n",
       "\t<tr><td> TRUE</td><td> TRUE</td><td> TRUE</td><td> TRUE</td><td> TRUE</td><td> TRUE</td><td> TRUE</td><td>FALSE</td><td> TRUE</td><td> TRUE</td></tr>\n",
       "\t<tr><td> TRUE</td><td> TRUE</td><td> TRUE</td><td> TRUE</td><td> TRUE</td><td> TRUE</td><td> TRUE</td><td> TRUE</td><td>FALSE</td><td> TRUE</td></tr>\n",
       "\t<tr><td> TRUE</td><td> TRUE</td><td> TRUE</td><td> TRUE</td><td> TRUE</td><td> TRUE</td><td> TRUE</td><td> TRUE</td><td> TRUE</td><td>FALSE</td></tr>\n",
       "</tbody>\n",
       "</table>\n"
      ],
      "text/latex": [
       "A matrix: 10 × 10 of type lgl\n",
       "\\begin{tabular}{llllllllll}\n",
       "\t FALSE &  TRUE &  TRUE &  TRUE &  TRUE &  TRUE &  TRUE &  TRUE &  TRUE &  TRUE\\\\\n",
       "\t  TRUE & FALSE &  TRUE &  TRUE &  TRUE &  TRUE &  TRUE &  TRUE &  TRUE &  TRUE\\\\\n",
       "\t  TRUE &  TRUE & FALSE &  TRUE &  TRUE &  TRUE &  TRUE &  TRUE &  TRUE &  TRUE\\\\\n",
       "\t  TRUE &  TRUE &  TRUE & FALSE &  TRUE &  TRUE &  TRUE &  TRUE &  TRUE &  TRUE\\\\\n",
       "\t  TRUE &  TRUE &  TRUE &  TRUE & FALSE &  TRUE &  TRUE &  TRUE &  TRUE &  TRUE\\\\\n",
       "\t  TRUE &  TRUE &  TRUE &  TRUE &  TRUE & FALSE &  TRUE &  TRUE &  TRUE &  TRUE\\\\\n",
       "\t  TRUE &  TRUE &  TRUE &  TRUE &  TRUE &  TRUE & FALSE &  TRUE &  TRUE &  TRUE\\\\\n",
       "\t  TRUE &  TRUE &  TRUE &  TRUE &  TRUE &  TRUE &  TRUE & FALSE &  TRUE &  TRUE\\\\\n",
       "\t  TRUE &  TRUE &  TRUE &  TRUE &  TRUE &  TRUE &  TRUE &  TRUE & FALSE &  TRUE\\\\\n",
       "\t  TRUE &  TRUE &  TRUE &  TRUE &  TRUE &  TRUE &  TRUE &  TRUE &  TRUE & FALSE\\\\\n",
       "\\end{tabular}\n"
      ],
      "text/markdown": [
       "\n",
       "A matrix: 10 × 10 of type lgl\n",
       "\n",
       "| FALSE |  TRUE |  TRUE |  TRUE |  TRUE |  TRUE |  TRUE |  TRUE |  TRUE |  TRUE |\n",
       "|  TRUE | FALSE |  TRUE |  TRUE |  TRUE |  TRUE |  TRUE |  TRUE |  TRUE |  TRUE |\n",
       "|  TRUE |  TRUE | FALSE |  TRUE |  TRUE |  TRUE |  TRUE |  TRUE |  TRUE |  TRUE |\n",
       "|  TRUE |  TRUE |  TRUE | FALSE |  TRUE |  TRUE |  TRUE |  TRUE |  TRUE |  TRUE |\n",
       "|  TRUE |  TRUE |  TRUE |  TRUE | FALSE |  TRUE |  TRUE |  TRUE |  TRUE |  TRUE |\n",
       "|  TRUE |  TRUE |  TRUE |  TRUE |  TRUE | FALSE |  TRUE |  TRUE |  TRUE |  TRUE |\n",
       "|  TRUE |  TRUE |  TRUE |  TRUE |  TRUE |  TRUE | FALSE |  TRUE |  TRUE |  TRUE |\n",
       "|  TRUE |  TRUE |  TRUE |  TRUE |  TRUE |  TRUE |  TRUE | FALSE |  TRUE |  TRUE |\n",
       "|  TRUE |  TRUE |  TRUE |  TRUE |  TRUE |  TRUE |  TRUE |  TRUE | FALSE |  TRUE |\n",
       "|  TRUE |  TRUE |  TRUE |  TRUE |  TRUE |  TRUE |  TRUE |  TRUE |  TRUE | FALSE |\n",
       "\n"
      ],
      "text/plain": [
       "      [,1]  [,2]  [,3]  [,4]  [,5]  [,6]  [,7]  [,8]  [,9]  [,10]\n",
       " [1,] FALSE  TRUE  TRUE  TRUE  TRUE  TRUE  TRUE  TRUE  TRUE  TRUE\n",
       " [2,]  TRUE FALSE  TRUE  TRUE  TRUE  TRUE  TRUE  TRUE  TRUE  TRUE\n",
       " [3,]  TRUE  TRUE FALSE  TRUE  TRUE  TRUE  TRUE  TRUE  TRUE  TRUE\n",
       " [4,]  TRUE  TRUE  TRUE FALSE  TRUE  TRUE  TRUE  TRUE  TRUE  TRUE\n",
       " [5,]  TRUE  TRUE  TRUE  TRUE FALSE  TRUE  TRUE  TRUE  TRUE  TRUE\n",
       " [6,]  TRUE  TRUE  TRUE  TRUE  TRUE FALSE  TRUE  TRUE  TRUE  TRUE\n",
       " [7,]  TRUE  TRUE  TRUE  TRUE  TRUE  TRUE FALSE  TRUE  TRUE  TRUE\n",
       " [8,]  TRUE  TRUE  TRUE  TRUE  TRUE  TRUE  TRUE FALSE  TRUE  TRUE\n",
       " [9,]  TRUE  TRUE  TRUE  TRUE  TRUE  TRUE  TRUE  TRUE FALSE  TRUE\n",
       "[10,]  TRUE  TRUE  TRUE  TRUE  TRUE  TRUE  TRUE  TRUE  TRUE FALSE"
      ]
     },
     "metadata": {},
     "output_type": "display_data"
    }
   ],
   "source": [
    "cmatrix <- diag(x=10)\n",
    "cmatrix==0"
   ]
  },
  {
   "cell_type": "markdown",
   "id": "920d0a1f",
   "metadata": {},
   "source": [
    "### d"
   ]
  },
  {
   "cell_type": "code",
   "execution_count": 7,
   "id": "2730da5e",
   "metadata": {},
   "outputs": [
    {
     "data": {
      "text/html": [
       "TRUE"
      ],
      "text/latex": [
       "TRUE"
      ],
      "text/markdown": [
       "TRUE"
      ],
      "text/plain": [
       "[1] TRUE"
      ]
     },
     "metadata": {},
     "output_type": "display_data"
    },
    {
     "data": {
      "text/html": [
       "FALSE"
      ],
      "text/latex": [
       "FALSE"
      ],
      "text/markdown": [
       "FALSE"
      ],
      "text/plain": [
       "[1] FALSE"
      ]
     },
     "metadata": {},
     "output_type": "display_data"
    }
   ],
   "source": [
    "any(barray==((6/2)+4))\n",
    "any(barray_2==((6/2)+4))"
   ]
  },
  {
   "cell_type": "code",
   "execution_count": 8,
   "id": "b486de64",
   "metadata": {},
   "outputs": [
    {
     "data": {
      "text/html": [
       "FALSE"
      ],
      "text/latex": [
       "FALSE"
      ],
      "text/markdown": [
       "FALSE"
      ],
      "text/plain": [
       "[1] FALSE"
      ]
     },
     "metadata": {},
     "output_type": "display_data"
    },
    {
     "data": {
      "text/html": [
       "FALSE"
      ],
      "text/latex": [
       "FALSE"
      ],
      "text/markdown": [
       "FALSE"
      ],
      "text/plain": [
       "[1] FALSE"
      ]
     },
     "metadata": {},
     "output_type": "display_data"
    }
   ],
   "source": [
    "all(barray==((6/2)+4))\n",
    "all(barray_2==((6/2)+4))"
   ]
  },
  {
   "cell_type": "markdown",
   "id": "b8f1a999",
   "metadata": {},
   "source": [
    "### e"
   ]
  },
  {
   "cell_type": "code",
   "execution_count": 9,
   "id": "52827ae2",
   "metadata": {},
   "outputs": [
    {
     "data": {
      "text/html": [
       "FALSE"
      ],
      "text/latex": [
       "FALSE"
      ],
      "text/markdown": [
       "FALSE"
      ],
      "text/plain": [
       "[1] FALSE"
      ]
     },
     "metadata": {},
     "output_type": "display_data"
    }
   ],
   "source": [
    "any(diag(cmatrix==0))"
   ]
  },
  {
   "cell_type": "markdown",
   "id": "2ee467c8",
   "metadata": {},
   "source": [
    "## 4.2"
   ]
  },
  {
   "cell_type": "markdown",
   "id": "f9c5a23b",
   "metadata": {},
   "source": [
    "### a"
   ]
  },
  {
   "cell_type": "code",
   "execution_count": 10,
   "id": "79df143d",
   "metadata": {},
   "outputs": [],
   "source": [
    "foo <- c(7,1,7,10,5,9,10,3,10,8)"
   ]
  },
  {
   "cell_type": "code",
   "execution_count": 11,
   "id": "6edb82e8",
   "metadata": {},
   "outputs": [
    {
     "data": {
      "text/html": [
       "<style>\n",
       ".list-inline {list-style: none; margin:0; padding: 0}\n",
       ".list-inline>li {display: inline-block}\n",
       ".list-inline>li:not(:last-child)::after {content: \"\\00b7\"; padding: 0 .5ex}\n",
       "</style>\n",
       "<ol class=list-inline><li>TRUE</li><li>FALSE</li><li>TRUE</li><li>TRUE</li><li>FALSE</li><li>TRUE</li><li>TRUE</li><li>FALSE</li><li>TRUE</li><li>TRUE</li></ol>\n"
      ],
      "text/latex": [
       "\\begin{enumerate*}\n",
       "\\item TRUE\n",
       "\\item FALSE\n",
       "\\item TRUE\n",
       "\\item TRUE\n",
       "\\item FALSE\n",
       "\\item TRUE\n",
       "\\item TRUE\n",
       "\\item FALSE\n",
       "\\item TRUE\n",
       "\\item TRUE\n",
       "\\end{enumerate*}\n"
      ],
      "text/markdown": [
       "1. TRUE\n",
       "2. FALSE\n",
       "3. TRUE\n",
       "4. TRUE\n",
       "5. FALSE\n",
       "6. TRUE\n",
       "7. TRUE\n",
       "8. FALSE\n",
       "9. TRUE\n",
       "10. TRUE\n",
       "\n",
       "\n"
      ],
      "text/plain": [
       " [1]  TRUE FALSE  TRUE  TRUE FALSE  TRUE  TRUE FALSE  TRUE  TRUE"
      ]
     },
     "metadata": {},
     "output_type": "display_data"
    }
   ],
   "source": [
    "foo > 5 | foo==2"
   ]
  },
  {
   "cell_type": "code",
   "execution_count": 12,
   "id": "15de2df7",
   "metadata": {},
   "outputs": [
    {
     "data": {
      "text/html": [
       "<style>\n",
       ".list-inline {list-style: none; margin:0; padding: 0}\n",
       ".list-inline>li {display: inline-block}\n",
       ".list-inline>li:not(:last-child)::after {content: \"\\00b7\"; padding: 0 .5ex}\n",
       "</style>\n",
       "<ol class=list-inline><li>7</li><li>7</li><li>10</li><li>9</li><li>10</li><li>10</li><li>8</li></ol>\n"
      ],
      "text/latex": [
       "\\begin{enumerate*}\n",
       "\\item 7\n",
       "\\item 7\n",
       "\\item 10\n",
       "\\item 9\n",
       "\\item 10\n",
       "\\item 10\n",
       "\\item 8\n",
       "\\end{enumerate*}\n"
      ],
      "text/markdown": [
       "1. 7\n",
       "2. 7\n",
       "3. 10\n",
       "4. 9\n",
       "5. 10\n",
       "6. 10\n",
       "7. 8\n",
       "\n",
       "\n"
      ],
      "text/plain": [
       "[1]  7  7 10  9 10 10  8"
      ]
     },
     "metadata": {},
     "output_type": "display_data"
    }
   ],
   "source": [
    "foo[foo > 5 | foo==2]"
   ]
  },
  {
   "cell_type": "markdown",
   "id": "06f028e0",
   "metadata": {},
   "source": [
    "### b"
   ]
  },
  {
   "cell_type": "code",
   "execution_count": 13,
   "id": "65ab94ca",
   "metadata": {},
   "outputs": [],
   "source": [
    "bar <- c(8,8,4,4,5,1,5,6,6,8)"
   ]
  },
  {
   "cell_type": "code",
   "execution_count": 14,
   "id": "e8eb20b9",
   "metadata": {},
   "outputs": [
    {
     "data": {
      "text/html": [
       "<style>\n",
       ".list-inline {list-style: none; margin:0; padding: 0}\n",
       ".list-inline>li {display: inline-block}\n",
       ".list-inline>li:not(:last-child)::after {content: \"\\00b7\"; padding: 0 .5ex}\n",
       "</style>\n",
       "<ol class=list-inline><li>FALSE</li><li>FALSE</li><li>FALSE</li><li>FALSE</li><li>TRUE</li><li>TRUE</li><li>TRUE</li><li>TRUE</li><li>TRUE</li><li>FALSE</li></ol>\n"
      ],
      "text/latex": [
       "\\begin{enumerate*}\n",
       "\\item FALSE\n",
       "\\item FALSE\n",
       "\\item FALSE\n",
       "\\item FALSE\n",
       "\\item TRUE\n",
       "\\item TRUE\n",
       "\\item TRUE\n",
       "\\item TRUE\n",
       "\\item TRUE\n",
       "\\item FALSE\n",
       "\\end{enumerate*}\n"
      ],
      "text/markdown": [
       "1. FALSE\n",
       "2. FALSE\n",
       "3. FALSE\n",
       "4. FALSE\n",
       "5. TRUE\n",
       "6. TRUE\n",
       "7. TRUE\n",
       "8. TRUE\n",
       "9. TRUE\n",
       "10. FALSE\n",
       "\n",
       "\n"
      ],
      "text/plain": [
       " [1] FALSE FALSE FALSE FALSE  TRUE  TRUE  TRUE  TRUE  TRUE FALSE"
      ]
     },
     "metadata": {},
     "output_type": "display_data"
    }
   ],
   "source": [
    "bar <= 6 & bar != 4"
   ]
  },
  {
   "cell_type": "code",
   "execution_count": 15,
   "id": "0d50585a",
   "metadata": {},
   "outputs": [
    {
     "data": {
      "text/html": [
       "<style>\n",
       ".list-inline {list-style: none; margin:0; padding: 0}\n",
       ".list-inline>li {display: inline-block}\n",
       ".list-inline>li:not(:last-child)::after {content: \"\\00b7\"; padding: 0 .5ex}\n",
       "</style>\n",
       "<ol class=list-inline><li>5</li><li>1</li><li>5</li><li>6</li><li>6</li></ol>\n"
      ],
      "text/latex": [
       "\\begin{enumerate*}\n",
       "\\item 5\n",
       "\\item 1\n",
       "\\item 5\n",
       "\\item 6\n",
       "\\item 6\n",
       "\\end{enumerate*}\n"
      ],
      "text/markdown": [
       "1. 5\n",
       "2. 1\n",
       "3. 5\n",
       "4. 6\n",
       "5. 6\n",
       "\n",
       "\n"
      ],
      "text/plain": [
       "[1] 5 1 5 6 6"
      ]
     },
     "metadata": {},
     "output_type": "display_data"
    }
   ],
   "source": [
    "bar[bar <= 6 & bar != 4]"
   ]
  },
  {
   "cell_type": "markdown",
   "id": "a4b6522b",
   "metadata": {},
   "source": [
    "### c"
   ]
  },
  {
   "cell_type": "code",
   "execution_count": 16,
   "id": "73657a50",
   "metadata": {},
   "outputs": [],
   "source": [
    "foobar <- c(foo, bar)"
   ]
  },
  {
   "cell_type": "code",
   "execution_count": 17,
   "id": "0f93afc0",
   "metadata": {},
   "outputs": [
    {
     "data": {
      "text/html": [
       "<style>\n",
       ".list-inline {list-style: none; margin:0; padding: 0}\n",
       ".list-inline>li {display: inline-block}\n",
       ".list-inline>li:not(:last-child)::after {content: \"\\00b7\"; padding: 0 .5ex}\n",
       "</style>\n",
       "<ol class=list-inline><li>6</li><li>6</li></ol>\n"
      ],
      "text/latex": [
       "\\begin{enumerate*}\n",
       "\\item 6\n",
       "\\item 6\n",
       "\\end{enumerate*}\n"
      ],
      "text/markdown": [
       "1. 6\n",
       "2. 6\n",
       "\n",
       "\n"
      ],
      "text/plain": [
       "[1] 6 6"
      ]
     },
     "metadata": {},
     "output_type": "display_data"
    }
   ],
   "source": [
    "foobar[(foobar <= 6 & foobar != 4) & (foobar > 5 | foobar==2) ]"
   ]
  },
  {
   "cell_type": "markdown",
   "id": "07ed1efa",
   "metadata": {},
   "source": [
    "### d"
   ]
  },
  {
   "cell_type": "code",
   "execution_count": 18,
   "id": "0406d706",
   "metadata": {},
   "outputs": [
    {
     "data": {
      "text/html": [
       "<style>\n",
       ".list-inline {list-style: none; margin:0; padding: 0}\n",
       ".list-inline>li {display: inline-block}\n",
       ".list-inline>li:not(:last-child)::after {content: \"\\00b7\"; padding: 0 .5ex}\n",
       "</style>\n",
       "<ol class=list-inline><li>15</li><li>9</li><li>11</li><li>14</li><li>10</li><li>10</li><li>15</li><li>9</li><li>16</li><li>16</li></ol>\n"
      ],
      "text/latex": [
       "\\begin{enumerate*}\n",
       "\\item 15\n",
       "\\item 9\n",
       "\\item 11\n",
       "\\item 14\n",
       "\\item 10\n",
       "\\item 10\n",
       "\\item 15\n",
       "\\item 9\n",
       "\\item 16\n",
       "\\item 16\n",
       "\\end{enumerate*}\n"
      ],
      "text/markdown": [
       "1. 15\n",
       "2. 9\n",
       "3. 11\n",
       "4. 14\n",
       "5. 10\n",
       "6. 10\n",
       "7. 15\n",
       "8. 9\n",
       "9. 16\n",
       "10. 16\n",
       "\n",
       "\n"
      ],
      "text/plain": [
       " [1] 15  9 11 14 10 10 15  9 16 16"
      ]
     },
     "metadata": {},
     "output_type": "display_data"
    }
   ],
   "source": [
    "baz <- foo + bar\n",
    "baz"
   ]
  },
  {
   "cell_type": "code",
   "execution_count": 19,
   "id": "b16789eb",
   "metadata": {},
   "outputs": [
    {
     "data": {
      "text/html": [
       "<style>\n",
       ".list-inline {list-style: none; margin:0; padding: 0}\n",
       ".list-inline>li {display: inline-block}\n",
       ".list-inline>li:not(:last-child)::after {content: \"\\00b7\"; padding: 0 .5ex}\n",
       "</style>\n",
       "<ol class=list-inline><li>14</li><li>16</li><li>16</li></ol>\n"
      ],
      "text/latex": [
       "\\begin{enumerate*}\n",
       "\\item 14\n",
       "\\item 16\n",
       "\\item 16\n",
       "\\end{enumerate*}\n"
      ],
      "text/markdown": [
       "1. 14\n",
       "2. 16\n",
       "3. 16\n",
       "\n",
       "\n"
      ],
      "text/plain": [
       "[1] 14 16 16"
      ]
     },
     "metadata": {},
     "output_type": "display_data"
    },
    {
     "data": {
      "text/html": [
       "<style>\n",
       ".list-inline {list-style: none; margin:0; padding: 0}\n",
       ".list-inline>li {display: inline-block}\n",
       ".list-inline>li:not(:last-child)::after {content: \"\\00b7\"; padding: 0 .5ex}\n",
       "</style>\n",
       "<ol class=list-inline><li>9</li><li>1.57142857142857</li><li>1.4</li><li>2</li><li>1.11111111111111</li><li>1.5</li><li>1.6</li><li>2</li></ol>\n"
      ],
      "text/latex": [
       "\\begin{enumerate*}\n",
       "\\item 9\n",
       "\\item 1.57142857142857\n",
       "\\item 1.4\n",
       "\\item 2\n",
       "\\item 1.11111111111111\n",
       "\\item 1.5\n",
       "\\item 1.6\n",
       "\\item 2\n",
       "\\end{enumerate*}\n"
      ],
      "text/markdown": [
       "1. 9\n",
       "2. 1.57142857142857\n",
       "3. 1.4\n",
       "4. 2\n",
       "5. 1.11111111111111\n",
       "6. 1.5\n",
       "7. 1.6\n",
       "8. 2\n",
       "\n",
       "\n"
      ],
      "text/plain": [
       "[1] 9.000000 1.571429 1.400000 2.000000 1.111111 1.500000 1.600000 2.000000"
      ]
     },
     "metadata": {},
     "output_type": "display_data"
    }
   ],
   "source": [
    "#i\n",
    "baz[baz >= 14 & baz != 15]\n",
    "#ii\n",
    "bazfoo <- baz / foo\n",
    "bazfoo[baz / foo > 4 | baz / foo <= 2]"
   ]
  },
  {
   "cell_type": "markdown",
   "id": "063c9cea",
   "metadata": {},
   "source": [
    "### e"
   ]
  },
  {
   "cell_type": "code",
   "execution_count": 20,
   "id": "248ee223",
   "metadata": {},
   "outputs": [
    {
     "data": {
      "text/html": [
       "TRUE"
      ],
      "text/latex": [
       "TRUE"
      ],
      "text/markdown": [
       "TRUE"
      ],
      "text/plain": [
       "[1] TRUE"
      ]
     },
     "metadata": {},
     "output_type": "display_data"
    }
   ],
   "source": [
    "foo[1] > 5 || foo[1] == 2"
   ]
  },
  {
   "cell_type": "markdown",
   "id": "23f52e9f",
   "metadata": {},
   "source": [
    "## 4.3"
   ]
  },
  {
   "cell_type": "markdown",
   "id": "6ca0eccd",
   "metadata": {},
   "source": [
    "### a"
   ]
  },
  {
   "cell_type": "code",
   "execution_count": 21,
   "id": "ed450fbd",
   "metadata": {},
   "outputs": [],
   "source": [
    "foo <- c(7,5,6,1,2,10,8,3,8,2)"
   ]
  },
  {
   "cell_type": "code",
   "execution_count": 22,
   "id": "c363fde5",
   "metadata": {},
   "outputs": [
    {
     "name": "stdout",
     "output_type": "stream",
     "text": [
      "[1]  7  5  6 10  8  8\n"
     ]
    }
   ],
   "source": [
    "#i\n",
    "bar <- (foo[foo >= 5])\n",
    "print(bar)"
   ]
  },
  {
   "cell_type": "code",
   "execution_count": 23,
   "id": "07a44893",
   "metadata": {},
   "outputs": [
    {
     "data": {
      "text/html": [
       "<style>\n",
       ".list-inline {list-style: none; margin:0; padding: 0}\n",
       ".list-inline>li {display: inline-block}\n",
       ".list-inline>li:not(:last-child)::after {content: \"\\00b7\"; padding: 0 .5ex}\n",
       "</style>\n",
       "<ol class=list-inline><li>7</li><li>5</li><li>6</li><li>10</li><li>8</li><li>8</li></ol>\n"
      ],
      "text/latex": [
       "\\begin{enumerate*}\n",
       "\\item 7\n",
       "\\item 5\n",
       "\\item 6\n",
       "\\item 10\n",
       "\\item 8\n",
       "\\item 8\n",
       "\\end{enumerate*}\n"
      ],
      "text/markdown": [
       "1. 7\n",
       "2. 5\n",
       "3. 6\n",
       "4. 10\n",
       "5. 8\n",
       "6. 8\n",
       "\n",
       "\n"
      ],
      "text/plain": [
       "[1]  7  5  6 10  8  8"
      ]
     },
     "metadata": {},
     "output_type": "display_data"
    }
   ],
   "source": [
    "#ii\n",
    "bar"
   ]
  },
  {
   "cell_type": "code",
   "execution_count": 24,
   "id": "424e638d",
   "metadata": {},
   "outputs": [
    {
     "data": {
      "text/html": [
       "<style>\n",
       ".list-inline {list-style: none; margin:0; padding: 0}\n",
       ".list-inline>li {display: inline-block}\n",
       ".list-inline>li:not(:last-child)::after {content: \"\\00b7\"; padding: 0 .5ex}\n",
       "</style>\n",
       "<ol class=list-inline><li>1</li><li>2</li><li>3</li><li>2</li></ol>\n"
      ],
      "text/latex": [
       "\\begin{enumerate*}\n",
       "\\item 1\n",
       "\\item 2\n",
       "\\item 3\n",
       "\\item 2\n",
       "\\end{enumerate*}\n"
      ],
      "text/markdown": [
       "1. 1\n",
       "2. 2\n",
       "3. 3\n",
       "4. 2\n",
       "\n",
       "\n"
      ],
      "text/plain": [
       "[1] 1 2 3 2"
      ]
     },
     "metadata": {},
     "output_type": "display_data"
    }
   ],
   "source": [
    "foo[-which(x=foo>=5)]"
   ]
  },
  {
   "cell_type": "markdown",
   "id": "3c2568ce",
   "metadata": {},
   "source": [
    "### b"
   ]
  },
  {
   "cell_type": "code",
   "execution_count": 25,
   "id": "9edfa2b6",
   "metadata": {},
   "outputs": [],
   "source": [
    "baz <- matrix(bar, nrow=2, ncol=3, byrow = TRUE)"
   ]
  },
  {
   "cell_type": "code",
   "execution_count": 26,
   "id": "12bf8b02",
   "metadata": {},
   "outputs": [
    {
     "name": "stdout",
     "output_type": "stream",
     "text": [
      "     [,1] [,2] [,3]\n",
      "[1,]    7    5    6\n",
      "[2,]   10    8    8\n"
     ]
    }
   ],
   "source": [
    "print(baz)"
   ]
  },
  {
   "cell_type": "code",
   "execution_count": 27,
   "id": "c001fb1c",
   "metadata": {},
   "outputs": [
    {
     "data": {
      "text/html": [
       "<table class=\"dataframe\">\n",
       "<caption>A matrix: 2 × 3 of type lgl</caption>\n",
       "<tbody>\n",
       "\t<tr><td>FALSE</td><td>FALSE</td><td>FALSE</td></tr>\n",
       "\t<tr><td>FALSE</td><td> TRUE</td><td> TRUE</td></tr>\n",
       "</tbody>\n",
       "</table>\n"
      ],
      "text/latex": [
       "A matrix: 2 × 3 of type lgl\n",
       "\\begin{tabular}{lll}\n",
       "\t FALSE & FALSE & FALSE\\\\\n",
       "\t FALSE &  TRUE &  TRUE\\\\\n",
       "\\end{tabular}\n"
      ],
      "text/markdown": [
       "\n",
       "A matrix: 2 × 3 of type lgl\n",
       "\n",
       "| FALSE | FALSE | FALSE |\n",
       "| FALSE |  TRUE |  TRUE |\n",
       "\n"
      ],
      "text/plain": [
       "     [,1]  [,2]  [,3] \n",
       "[1,] FALSE FALSE FALSE\n",
       "[2,] FALSE  TRUE  TRUE"
      ]
     },
     "metadata": {},
     "output_type": "display_data"
    }
   ],
   "source": [
    "baz==8"
   ]
  },
  {
   "cell_type": "code",
   "execution_count": 28,
   "id": "6aec0233",
   "metadata": {},
   "outputs": [
    {
     "data": {
      "text/html": [
       "25"
      ],
      "text/latex": [
       "25"
      ],
      "text/markdown": [
       "25"
      ],
      "text/plain": [
       "[1] 25"
      ]
     },
     "metadata": {},
     "output_type": "display_data"
    }
   ],
   "source": [
    "baz[1,2]^2"
   ]
  },
  {
   "cell_type": "code",
   "execution_count": 29,
   "id": "4c864cb3",
   "metadata": {},
   "outputs": [],
   "source": [
    "#i\n",
    "baz[baz==8] <- baz[1,2]^2"
   ]
  },
  {
   "cell_type": "code",
   "execution_count": 30,
   "id": "67a6e096",
   "metadata": {},
   "outputs": [
    {
     "data": {
      "text/html": [
       "<table class=\"dataframe\">\n",
       "<caption>A matrix: 2 × 3 of type dbl</caption>\n",
       "<tbody>\n",
       "\t<tr><td> 7</td><td> 5</td><td> 6</td></tr>\n",
       "\t<tr><td>10</td><td>25</td><td>25</td></tr>\n",
       "</tbody>\n",
       "</table>\n"
      ],
      "text/latex": [
       "A matrix: 2 × 3 of type dbl\n",
       "\\begin{tabular}{lll}\n",
       "\t  7 &  5 &  6\\\\\n",
       "\t 10 & 25 & 25\\\\\n",
       "\\end{tabular}\n"
      ],
      "text/markdown": [
       "\n",
       "A matrix: 2 × 3 of type dbl\n",
       "\n",
       "|  7 |  5 |  6 |\n",
       "| 10 | 25 | 25 |\n",
       "\n"
      ],
      "text/plain": [
       "     [,1] [,2] [,3]\n",
       "[1,]  7    5    6  \n",
       "[2,] 10   25   25  "
      ]
     },
     "metadata": {},
     "output_type": "display_data"
    }
   ],
   "source": [
    "baz"
   ]
  },
  {
   "cell_type": "code",
   "execution_count": 31,
   "id": "976e38f8",
   "metadata": {},
   "outputs": [
    {
     "data": {
      "text/html": [
       "TRUE"
      ],
      "text/latex": [
       "TRUE"
      ],
      "text/markdown": [
       "TRUE"
      ],
      "text/plain": [
       "[1] TRUE"
      ]
     },
     "metadata": {},
     "output_type": "display_data"
    }
   ],
   "source": [
    "#ii\n",
    "all(baz <= 25 & baz > 4)"
   ]
  },
  {
   "cell_type": "markdown",
   "id": "9b7d318c",
   "metadata": {},
   "source": [
    "### c"
   ]
  },
  {
   "cell_type": "code",
   "execution_count": 32,
   "id": "527e0368",
   "metadata": {},
   "outputs": [],
   "source": [
    "qux_vect <- c(10,5,1,4,7,4,3,3,1,3,4,3,1,7,8,3,7,3)"
   ]
  },
  {
   "cell_type": "code",
   "execution_count": 33,
   "id": "cd8a8659",
   "metadata": {},
   "outputs": [
    {
     "data": {
      "text/html": [
       "18"
      ],
      "text/latex": [
       "18"
      ],
      "text/markdown": [
       "18"
      ],
      "text/plain": [
       "[1] 18"
      ]
     },
     "metadata": {},
     "output_type": "display_data"
    }
   ],
   "source": [
    "length(qux_vect)"
   ]
  },
  {
   "cell_type": "code",
   "execution_count": 34,
   "id": "d7fb3ae8",
   "metadata": {},
   "outputs": [],
   "source": [
    "qux <- array(qux_vect, dim=c(3,2,3))"
   ]
  },
  {
   "cell_type": "code",
   "execution_count": 35,
   "id": "5f4cb6d3",
   "metadata": {},
   "outputs": [
    {
     "name": "stdout",
     "output_type": "stream",
     "text": [
      ", , 1\n",
      "\n",
      "     [,1] [,2]\n",
      "[1,]   10    4\n",
      "[2,]    5    7\n",
      "[3,]    1    4\n",
      "\n",
      ", , 2\n",
      "\n",
      "     [,1] [,2]\n",
      "[1,]    3    3\n",
      "[2,]    3    4\n",
      "[3,]    1    3\n",
      "\n",
      ", , 3\n",
      "\n",
      "     [,1] [,2]\n",
      "[1,]    1    3\n",
      "[2,]    7    7\n",
      "[3,]    8    3\n",
      "\n"
     ]
    }
   ],
   "source": [
    "print(qux)"
   ]
  },
  {
   "cell_type": "code",
   "execution_count": 36,
   "id": "ee2542c3",
   "metadata": {},
   "outputs": [
    {
     "data": {
      "text/html": [
       "<table class=\"dataframe\">\n",
       "<caption>A matrix: 9 × 3 of type int</caption>\n",
       "<thead>\n",
       "\t<tr><th scope=col>dim1</th><th scope=col>dim2</th><th scope=col>dim3</th></tr>\n",
       "</thead>\n",
       "<tbody>\n",
       "\t<tr><td>1</td><td>2</td><td>1</td></tr>\n",
       "\t<tr><td>3</td><td>2</td><td>1</td></tr>\n",
       "\t<tr><td>1</td><td>1</td><td>2</td></tr>\n",
       "\t<tr><td>2</td><td>1</td><td>2</td></tr>\n",
       "\t<tr><td>1</td><td>2</td><td>2</td></tr>\n",
       "\t<tr><td>2</td><td>2</td><td>2</td></tr>\n",
       "\t<tr><td>3</td><td>2</td><td>2</td></tr>\n",
       "\t<tr><td>1</td><td>2</td><td>3</td></tr>\n",
       "\t<tr><td>3</td><td>2</td><td>3</td></tr>\n",
       "</tbody>\n",
       "</table>\n"
      ],
      "text/latex": [
       "A matrix: 9 × 3 of type int\n",
       "\\begin{tabular}{lll}\n",
       " dim1 & dim2 & dim3\\\\\n",
       "\\hline\n",
       "\t 1 & 2 & 1\\\\\n",
       "\t 3 & 2 & 1\\\\\n",
       "\t 1 & 1 & 2\\\\\n",
       "\t 2 & 1 & 2\\\\\n",
       "\t 1 & 2 & 2\\\\\n",
       "\t 2 & 2 & 2\\\\\n",
       "\t 3 & 2 & 2\\\\\n",
       "\t 1 & 2 & 3\\\\\n",
       "\t 3 & 2 & 3\\\\\n",
       "\\end{tabular}\n"
      ],
      "text/markdown": [
       "\n",
       "A matrix: 9 × 3 of type int\n",
       "\n",
       "| dim1 | dim2 | dim3 |\n",
       "|---|---|---|\n",
       "| 1 | 2 | 1 |\n",
       "| 3 | 2 | 1 |\n",
       "| 1 | 1 | 2 |\n",
       "| 2 | 1 | 2 |\n",
       "| 1 | 2 | 2 |\n",
       "| 2 | 2 | 2 |\n",
       "| 3 | 2 | 2 |\n",
       "| 1 | 2 | 3 |\n",
       "| 3 | 2 | 3 |\n",
       "\n"
      ],
      "text/plain": [
       "      dim1 dim2 dim3\n",
       " [1,] 1    2    1   \n",
       " [2,] 3    2    1   \n",
       " [3,] 1    1    2   \n",
       " [4,] 2    1    2   \n",
       " [5,] 1    2    2   \n",
       " [6,] 2    2    2   \n",
       " [7,] 3    2    2   \n",
       " [8,] 1    2    3   \n",
       " [9,] 3    2    3   "
      ]
     },
     "metadata": {},
     "output_type": "display_data"
    }
   ],
   "source": [
    "#i\n",
    "which(x=(qux==3 | qux==4), arr.ind = T)"
   ]
  },
  {
   "cell_type": "code",
   "execution_count": 37,
   "id": "eae8765c",
   "metadata": {},
   "outputs": [],
   "source": [
    "#ii\n",
    "qux[qux < 3 | qux >= 7] <- 100"
   ]
  },
  {
   "cell_type": "code",
   "execution_count": 38,
   "id": "eaa70e81",
   "metadata": {},
   "outputs": [
    {
     "name": "stdout",
     "output_type": "stream",
     "text": [
      ", , 1\n",
      "\n",
      "     [,1] [,2]\n",
      "[1,]  100    4\n",
      "[2,]    5  100\n",
      "[3,]  100    4\n",
      "\n",
      ", , 2\n",
      "\n",
      "     [,1] [,2]\n",
      "[1,]    3    3\n",
      "[2,]    3    4\n",
      "[3,]  100    3\n",
      "\n",
      ", , 3\n",
      "\n",
      "     [,1] [,2]\n",
      "[1,]  100    3\n",
      "[2,]  100  100\n",
      "[3,]  100    3\n",
      "\n"
     ]
    }
   ],
   "source": [
    "print(qux)"
   ]
  },
  {
   "cell_type": "markdown",
   "id": "1986669e",
   "metadata": {},
   "source": [
    "### d"
   ]
  },
  {
   "cell_type": "code",
   "execution_count": 39,
   "id": "0a5ebd7d",
   "metadata": {},
   "outputs": [
    {
     "name": "stdout",
     "output_type": "stream",
     "text": [
      " [1]  7  5  6  1  2 10  8  3  8  2\n"
     ]
    }
   ],
   "source": [
    "print(foo)"
   ]
  },
  {
   "cell_type": "code",
   "execution_count": 40,
   "id": "cc1ac06a",
   "metadata": {},
   "outputs": [
    {
     "data": {
      "text/html": [
       "<style>\n",
       ".list-inline {list-style: none; margin:0; padding: 0}\n",
       ".list-inline>li {display: inline-block}\n",
       ".list-inline>li:not(:last-child)::after {content: \"\\00b7\"; padding: 0 .5ex}\n",
       "</style>\n",
       "<ol class=list-inline><li>5</li><li>1</li><li>10</li><li>3</li><li>2</li></ol>\n"
      ],
      "text/latex": [
       "\\begin{enumerate*}\n",
       "\\item 5\n",
       "\\item 1\n",
       "\\item 10\n",
       "\\item 3\n",
       "\\item 2\n",
       "\\end{enumerate*}\n"
      ],
      "text/markdown": [
       "1. 5\n",
       "2. 1\n",
       "3. 10\n",
       "4. 3\n",
       "5. 2\n",
       "\n",
       "\n"
      ],
      "text/plain": [
       "[1]  5  1 10  3  2"
      ]
     },
     "metadata": {},
     "output_type": "display_data"
    }
   ],
   "source": [
    "foo[c(F,T)]"
   ]
  },
  {
   "cell_type": "code",
   "execution_count": 41,
   "id": "a6c6ffa3",
   "metadata": {},
   "outputs": [
    {
     "data": {
      "text/html": [
       "7"
      ],
      "text/latex": [
       "7"
      ],
      "text/markdown": [
       "7"
      ],
      "text/plain": [
       "[1] 7"
      ]
     },
     "metadata": {},
     "output_type": "display_data"
    }
   ],
   "source": [
    "foo[c(0,1)]"
   ]
  },
  {
   "cell_type": "markdown",
   "id": "39685834",
   "metadata": {},
   "source": [
    "You cannot use the integer equivalents of True and False, as r interprets the integers as positions of the array\n",
    "that you would like to subset. In this case the items at positions 0 and 1."
   ]
  },
  {
   "cell_type": "markdown",
   "id": "76ccb0da",
   "metadata": {},
   "source": [
    "## 4.4"
   ]
  },
  {
   "cell_type": "markdown",
   "id": "9e517666",
   "metadata": {},
   "source": [
    "### a"
   ]
  },
  {
   "cell_type": "code",
   "execution_count": 42,
   "id": "d61b9b64",
   "metadata": {},
   "outputs": [],
   "source": [
    "a <- \"The quick brown fox\"\n",
    "b <- \"jumped over\"\n",
    "c <- \"the lazy dogs\""
   ]
  },
  {
   "cell_type": "code",
   "execution_count": 43,
   "id": "b2530334",
   "metadata": {},
   "outputs": [
    {
     "name": "stdout",
     "output_type": "stream",
     "text": [
      "\"The quick brown fox\n",
      "    jumped over\n",
      "        the lazy dogs\""
     ]
    }
   ],
   "source": [
    "cat(\"\\\"\",a, \"\\n    \", b, \"\\n        \", c, \"\\\"\", sep=\"\")"
   ]
  },
  {
   "cell_type": "markdown",
   "id": "3027ca24",
   "metadata": {},
   "source": [
    "### b"
   ]
  },
  {
   "cell_type": "code",
   "execution_count": 44,
   "id": "871f5252",
   "metadata": {},
   "outputs": [],
   "source": [
    "num1 <- 4\n",
    "num2 <- 0.75"
   ]
  },
  {
   "cell_type": "code",
   "execution_count": 45,
   "id": "7224f42b",
   "metadata": {},
   "outputs": [
    {
     "data": {
      "text/html": [
       "'The result of multiplying 4 by 0.75 is 3'"
      ],
      "text/latex": [
       "'The result of multiplying 4 by 0.75 is 3'"
      ],
      "text/markdown": [
       "'The result of multiplying 4 by 0.75 is 3'"
      ],
      "text/plain": [
       "[1] \"The result of multiplying 4 by 0.75 is 3\""
      ]
     },
     "metadata": {},
     "output_type": "display_data"
    }
   ],
   "source": [
    "paste(\"The result of multiplying \",num1, \" by \", num2, \" is \", num1 * num2, sep=\"\")"
   ]
  },
  {
   "cell_type": "markdown",
   "id": "73025c51",
   "metadata": {},
   "source": [
    "### c"
   ]
  },
  {
   "cell_type": "code",
   "execution_count": 46,
   "id": "08cfcd25",
   "metadata": {},
   "outputs": [
    {
     "data": {
      "text/html": [
       "'/Users/jbuss/Documents/RBook/'"
      ],
      "text/latex": [
       "'/Users/jbuss/Documents/RBook/'"
      ],
      "text/markdown": [
       "'/Users/jbuss/Documents/RBook/'"
      ],
      "text/plain": [
       "[1] \"/Users/jbuss/Documents/RBook/\""
      ]
     },
     "metadata": {},
     "output_type": "display_data"
    }
   ],
   "source": [
    "DirectoryString <- \"/Users/tdavies/Documents/RBook/\"\n",
    "sub(pattern=\"tdavies\", replacement=\"jbuss\", x=DirectoryString)"
   ]
  },
  {
   "cell_type": "markdown",
   "id": "37946457",
   "metadata": {},
   "source": [
    "### d"
   ]
  },
  {
   "cell_type": "code",
   "execution_count": 47,
   "id": "e309a569",
   "metadata": {},
   "outputs": [],
   "source": [
    "bar <- \"How much wood could a woodchuck chuck\""
   ]
  },
  {
   "cell_type": "code",
   "execution_count": 48,
   "id": "9ba06311",
   "metadata": {},
   "outputs": [],
   "source": [
    "#i\n",
    "bar <- paste(bar, \"if a woodchuck could chuck wood\")"
   ]
  },
  {
   "cell_type": "code",
   "execution_count": 49,
   "id": "2af0beb6",
   "metadata": {},
   "outputs": [
    {
     "name": "stdout",
     "output_type": "stream",
     "text": [
      "[1] \"How much wood could a woodchuck chuck if a woodchuck could chuck wood\"\n"
     ]
    }
   ],
   "source": [
    "print(bar)"
   ]
  },
  {
   "cell_type": "code",
   "execution_count": 50,
   "id": "6606a364",
   "metadata": {},
   "outputs": [],
   "source": [
    "#ii"
   ]
  },
  {
   "cell_type": "code",
   "execution_count": 51,
   "id": "d4bcdd11",
   "metadata": {},
   "outputs": [
    {
     "data": {
      "text/html": [
       "'How much metal could a metalchuck chuck if a metalchuck could chuck metal'"
      ],
      "text/latex": [
       "'How much metal could a metalchuck chuck if a metalchuck could chuck metal'"
      ],
      "text/markdown": [
       "'How much metal could a metalchuck chuck if a metalchuck could chuck metal'"
      ],
      "text/plain": [
       "[1] \"How much metal could a metalchuck chuck if a metalchuck could chuck metal\""
      ]
     },
     "metadata": {},
     "output_type": "display_data"
    }
   ],
   "source": [
    "gsub(pattern=\"wood\", replacement=\"metal\", x = bar)"
   ]
  },
  {
   "cell_type": "markdown",
   "id": "4ae7d001",
   "metadata": {},
   "source": [
    "### e"
   ]
  },
  {
   "cell_type": "code",
   "execution_count": 52,
   "id": "8f645850",
   "metadata": {},
   "outputs": [
    {
     "name": "stdout",
     "output_type": "stream",
     "text": [
      "[1] \"Two 6-packs for $12.99\"\n"
     ]
    }
   ],
   "source": [
    "BeerString <- \"Two 6-packs for $12.99\"\n",
    "print(BeerString)"
   ]
  },
  {
   "cell_type": "code",
   "execution_count": 53,
   "id": "3c57dfbc",
   "metadata": {},
   "outputs": [
    {
     "data": {
      "text/html": [
       "'6-pack'"
      ],
      "text/latex": [
       "'6-pack'"
      ],
      "text/markdown": [
       "'6-pack'"
      ],
      "text/plain": [
       "[1] \"6-pack\""
      ]
     },
     "metadata": {},
     "output_type": "display_data"
    }
   ],
   "source": [
    "#i\n",
    "substring(text = BeerString, first=5, last=10)"
   ]
  },
  {
   "cell_type": "code",
   "execution_count": 54,
   "id": "d74b5956",
   "metadata": {},
   "outputs": [],
   "source": [
    "SixPackString <- \"6-pack\""
   ]
  },
  {
   "cell_type": "code",
   "execution_count": 55,
   "id": "56d76fbd",
   "metadata": {},
   "outputs": [
    {
     "data": {
      "text/html": [
       "TRUE"
      ],
      "text/latex": [
       "TRUE"
      ],
      "text/markdown": [
       "TRUE"
      ],
      "text/plain": [
       "[1] TRUE"
      ]
     },
     "metadata": {},
     "output_type": "display_data"
    }
   ],
   "source": [
    "all.equal(SixPackString, substring(text = BeerString, first=5, last=10))"
   ]
  },
  {
   "cell_type": "code",
   "execution_count": 56,
   "id": "ace997d1",
   "metadata": {},
   "outputs": [
    {
     "name": "stdout",
     "output_type": "stream",
     "text": [
      "[1] \"Two 6-packs for $12.99\"\n"
     ]
    }
   ],
   "source": [
    "#ii\n",
    "print(BeerString)"
   ]
  },
  {
   "cell_type": "code",
   "execution_count": 57,
   "id": "f7f8da3f",
   "metadata": {},
   "outputs": [],
   "source": [
    "BetterDealString <- sub(pattern = \"12.99\", replacement = \"10.99\", x = BeerString)"
   ]
  },
  {
   "cell_type": "code",
   "execution_count": 58,
   "id": "9f56eb8f",
   "metadata": {},
   "outputs": [
    {
     "data": {
      "text/html": [
       "'Two 6-packs for $10.99'"
      ],
      "text/latex": [
       "'Two 6-packs for \\$10.99'"
      ],
      "text/markdown": [
       "'Two 6-packs for $10.99'"
      ],
      "text/plain": [
       "[1] \"Two 6-packs for $10.99\""
      ]
     },
     "metadata": {},
     "output_type": "display_data"
    }
   ],
   "source": [
    "BetterDealString"
   ]
  },
  {
   "cell_type": "markdown",
   "id": "69d57fa5",
   "metadata": {},
   "source": [
    "## 4.5"
   ]
  },
  {
   "cell_type": "markdown",
   "id": "e1b32f35",
   "metadata": {},
   "source": [
    "### a"
   ]
  },
  {
   "cell_type": "code",
   "execution_count": 59,
   "id": "37ec27e3",
   "metadata": {},
   "outputs": [],
   "source": [
    "sex.num <- c(0,1,1,1,0,0,0,1,1,1,1,0,1,0,0,0,1,1,1,1)"
   ]
  },
  {
   "cell_type": "code",
   "execution_count": 60,
   "id": "5c52cf1d",
   "metadata": {},
   "outputs": [
    {
     "name": "stdout",
     "output_type": "stream",
     "text": [
      " [1] \"female\" \"male\"   \"male\"   \"male\"   \"female\" \"female\" \"female\" \"male\"  \n",
      " [9] \"male\"   \"male\"   \"male\"   \"female\" \"male\"   \"female\" \"female\" \"female\"\n",
      "[17] \"male\"   \"male\"   \"male\"   \"male\"  \n"
     ]
    }
   ],
   "source": [
    "sex.char <- sex.num\n",
    "sex.char[sex.char == 1] <- \"male\"\n",
    "sex.char[sex.char == 0] <- \"female\"\n",
    "print(sex.char)"
   ]
  },
  {
   "cell_type": "code",
   "execution_count": 61,
   "id": "cdb79d47",
   "metadata": {},
   "outputs": [
    {
     "name": "stdout",
     "output_type": "stream",
     "text": [
      " [1]  1  2  3  4  5  6  7  8  9 10 11 12 13 14 15 16 17 18 19 20\n"
     ]
    }
   ],
   "source": [
    "party.char <- c(1:20)\n",
    "print(party.char)"
   ]
  },
  {
   "cell_type": "code",
   "execution_count": 62,
   "id": "67931846",
   "metadata": {},
   "outputs": [
    {
     "data": {
      "text/html": [
       "<style>\n",
       ".list-inline {list-style: none; margin:0; padding: 0}\n",
       ".list-inline>li {display: inline-block}\n",
       ".list-inline>li:not(:last-child)::after {content: \"\\00b7\"; padding: 0 .5ex}\n",
       "</style>\n",
       "<ol class=list-inline><li>'Labour'</li><li>'National'</li><li>'National'</li><li>'Labour'</li><li>'National'</li><li>'Green'</li><li>'National'</li><li>'National'</li><li>'Green'</li><li>'Other'</li><li>'Green'</li><li>'Labour'</li><li>'National'</li><li>'National'</li><li>'Labour'</li><li>'Labour'</li><li>'National'</li><li>'National'</li><li>'Labour'</li><li>'Other'</li></ol>\n"
      ],
      "text/latex": [
       "\\begin{enumerate*}\n",
       "\\item 'Labour'\n",
       "\\item 'National'\n",
       "\\item 'National'\n",
       "\\item 'Labour'\n",
       "\\item 'National'\n",
       "\\item 'Green'\n",
       "\\item 'National'\n",
       "\\item 'National'\n",
       "\\item 'Green'\n",
       "\\item 'Other'\n",
       "\\item 'Green'\n",
       "\\item 'Labour'\n",
       "\\item 'National'\n",
       "\\item 'National'\n",
       "\\item 'Labour'\n",
       "\\item 'Labour'\n",
       "\\item 'National'\n",
       "\\item 'National'\n",
       "\\item 'Labour'\n",
       "\\item 'Other'\n",
       "\\end{enumerate*}\n"
      ],
      "text/markdown": [
       "1. 'Labour'\n",
       "2. 'National'\n",
       "3. 'National'\n",
       "4. 'Labour'\n",
       "5. 'National'\n",
       "6. 'Green'\n",
       "7. 'National'\n",
       "8. 'National'\n",
       "9. 'Green'\n",
       "10. 'Other'\n",
       "11. 'Green'\n",
       "12. 'Labour'\n",
       "13. 'National'\n",
       "14. 'National'\n",
       "15. 'Labour'\n",
       "16. 'Labour'\n",
       "17. 'National'\n",
       "18. 'National'\n",
       "19. 'Labour'\n",
       "20. 'Other'\n",
       "\n",
       "\n"
      ],
      "text/plain": [
       " [1] \"Labour\"   \"National\" \"National\" \"Labour\"   \"National\" \"Green\"   \n",
       " [7] \"National\" \"National\" \"Green\"    \"Other\"    \"Green\"    \"Labour\"  \n",
       "[13] \"National\" \"National\" \"Labour\"   \"Labour\"   \"National\" \"National\"\n",
       "[19] \"Labour\"   \"Other\"   "
      ]
     },
     "metadata": {},
     "output_type": "display_data"
    }
   ],
   "source": [
    "party.char[c(1,4,12,15,16,19)] <- \"Labour\"\n",
    "party.char[c(6,9,11)] <- \"Green\"\n",
    "party.char[c(10,20)] <- \"Other\"\n",
    "party.char[party.char <= 9] <- \"National\"\n",
    "party.char"
   ]
  },
  {
   "cell_type": "markdown",
   "id": "8ed4ecf7",
   "metadata": {},
   "source": [
    "### b"
   ]
  },
  {
   "cell_type": "code",
   "execution_count": 92,
   "id": "084d6571",
   "metadata": {},
   "outputs": [
    {
     "data": {
      "text/html": [
       "<style>\n",
       ".list-inline {list-style: none; margin:0; padding: 0}\n",
       ".list-inline>li {display: inline-block}\n",
       ".list-inline>li:not(:last-child)::after {content: \"\\00b7\"; padding: 0 .5ex}\n",
       "</style>\n",
       "<ol class=list-inline><li>female</li><li>male</li><li>male</li><li>male</li><li>female</li><li>female</li><li>female</li><li>male</li><li>male</li><li>male</li><li>male</li><li>female</li><li>male</li><li>female</li><li>female</li><li>female</li><li>male</li><li>male</li><li>male</li><li>male</li></ol>\n",
       "\n",
       "<details>\n",
       "\t<summary style=display:list-item;cursor:pointer>\n",
       "\t\t<strong>Levels</strong>:\n",
       "\t</summary>\n",
       "\t<style>\n",
       "\t.list-inline {list-style: none; margin:0; padding: 0}\n",
       "\t.list-inline>li {display: inline-block}\n",
       "\t.list-inline>li:not(:last-child)::after {content: \"\\00b7\"; padding: 0 .5ex}\n",
       "\t</style>\n",
       "\t<ol class=list-inline><li>'female'</li><li>'male'</li></ol>\n",
       "</details>"
      ],
      "text/latex": [
       "\\begin{enumerate*}\n",
       "\\item female\n",
       "\\item male\n",
       "\\item male\n",
       "\\item male\n",
       "\\item female\n",
       "\\item female\n",
       "\\item female\n",
       "\\item male\n",
       "\\item male\n",
       "\\item male\n",
       "\\item male\n",
       "\\item female\n",
       "\\item male\n",
       "\\item female\n",
       "\\item female\n",
       "\\item female\n",
       "\\item male\n",
       "\\item male\n",
       "\\item male\n",
       "\\item male\n",
       "\\end{enumerate*}\n",
       "\n",
       "\\emph{Levels}: \\begin{enumerate*}\n",
       "\\item 'female'\n",
       "\\item 'male'\n",
       "\\end{enumerate*}\n"
      ],
      "text/markdown": [
       "1. female\n",
       "2. male\n",
       "3. male\n",
       "4. male\n",
       "5. female\n",
       "6. female\n",
       "7. female\n",
       "8. male\n",
       "9. male\n",
       "10. male\n",
       "11. male\n",
       "12. female\n",
       "13. male\n",
       "14. female\n",
       "15. female\n",
       "16. female\n",
       "17. male\n",
       "18. male\n",
       "19. male\n",
       "20. male\n",
       "\n",
       "\n",
       "\n",
       "**Levels**: 1. 'female'\n",
       "2. 'male'\n",
       "\n",
       "\n"
      ],
      "text/plain": [
       " [1] female male   male   male   female female female male   male   male  \n",
       "[11] male   female male   female female female male   male   male   male  \n",
       "Levels: female male"
      ]
     },
     "metadata": {},
     "output_type": "display_data"
    }
   ],
   "source": [
    "sex.char.fac <- factor(x=sex.char)\n",
    "sex.char.fac"
   ]
  },
  {
   "cell_type": "code",
   "execution_count": 93,
   "id": "860606ad",
   "metadata": {},
   "outputs": [
    {
     "data": {
      "text/html": [
       "<style>\n",
       ".list-inline {list-style: none; margin:0; padding: 0}\n",
       ".list-inline>li {display: inline-block}\n",
       ".list-inline>li:not(:last-child)::after {content: \"\\00b7\"; padding: 0 .5ex}\n",
       "</style>\n",
       "<ol class=list-inline><li>Labour</li><li>National</li><li>National</li><li>Labour</li><li>National</li><li>Green</li><li>National</li><li>National</li><li>Green</li><li>Other</li><li>Green</li><li>Labour</li><li>National</li><li>National</li><li>Labour</li><li>Labour</li><li>National</li><li>National</li><li>Labour</li><li>Other</li></ol>\n",
       "\n",
       "<details>\n",
       "\t<summary style=display:list-item;cursor:pointer>\n",
       "\t\t<strong>Levels</strong>:\n",
       "\t</summary>\n",
       "\t<style>\n",
       "\t.list-inline {list-style: none; margin:0; padding: 0}\n",
       "\t.list-inline>li {display: inline-block}\n",
       "\t.list-inline>li:not(:last-child)::after {content: \"\\00b7\"; padding: 0 .5ex}\n",
       "\t</style>\n",
       "\t<ol class=list-inline><li>'Green'</li><li>'Labour'</li><li>'National'</li><li>'Other'</li></ol>\n",
       "</details>"
      ],
      "text/latex": [
       "\\begin{enumerate*}\n",
       "\\item Labour\n",
       "\\item National\n",
       "\\item National\n",
       "\\item Labour\n",
       "\\item National\n",
       "\\item Green\n",
       "\\item National\n",
       "\\item National\n",
       "\\item Green\n",
       "\\item Other\n",
       "\\item Green\n",
       "\\item Labour\n",
       "\\item National\n",
       "\\item National\n",
       "\\item Labour\n",
       "\\item Labour\n",
       "\\item National\n",
       "\\item National\n",
       "\\item Labour\n",
       "\\item Other\n",
       "\\end{enumerate*}\n",
       "\n",
       "\\emph{Levels}: \\begin{enumerate*}\n",
       "\\item 'Green'\n",
       "\\item 'Labour'\n",
       "\\item 'National'\n",
       "\\item 'Other'\n",
       "\\end{enumerate*}\n"
      ],
      "text/markdown": [
       "1. Labour\n",
       "2. National\n",
       "3. National\n",
       "4. Labour\n",
       "5. National\n",
       "6. Green\n",
       "7. National\n",
       "8. National\n",
       "9. Green\n",
       "10. Other\n",
       "11. Green\n",
       "12. Labour\n",
       "13. National\n",
       "14. National\n",
       "15. Labour\n",
       "16. Labour\n",
       "17. National\n",
       "18. National\n",
       "19. Labour\n",
       "20. Other\n",
       "\n",
       "\n",
       "\n",
       "**Levels**: 1. 'Green'\n",
       "2. 'Labour'\n",
       "3. 'National'\n",
       "4. 'Other'\n",
       "\n",
       "\n"
      ],
      "text/plain": [
       " [1] Labour   National National Labour   National Green    National National\n",
       " [9] Green    Other    Green    Labour   National National Labour   Labour  \n",
       "[17] National National Labour   Other   \n",
       "Levels: Green Labour National Other"
      ]
     },
     "metadata": {},
     "output_type": "display_data"
    }
   ],
   "source": [
    "party.char.fac <- factor(x=party.char)\n",
    "party.char.fac"
   ]
  },
  {
   "cell_type": "code",
   "execution_count": 94,
   "id": "630c08c3",
   "metadata": {},
   "outputs": [],
   "source": [
    "# Ordered is not needed. r has arranged them alphabetically"
   ]
  },
  {
   "cell_type": "markdown",
   "id": "9017912e",
   "metadata": {},
   "source": [
    "### c"
   ]
  },
  {
   "cell_type": "code",
   "execution_count": 95,
   "id": "a43260ea",
   "metadata": {
    "scrolled": false
   },
   "outputs": [
    {
     "data": {
      "text/html": [
       "<style>\n",
       ".list-inline {list-style: none; margin:0; padding: 0}\n",
       ".list-inline>li {display: inline-block}\n",
       ".list-inline>li:not(:last-child)::after {content: \"\\00b7\"; padding: 0 .5ex}\n",
       "</style>\n",
       "<ol class=list-inline><li>National</li><li>National</li><li>Labour</li><li>National</li><li>Green</li><li>Other</li><li>Green</li><li>National</li><li>National</li><li>National</li><li>Labour</li><li>Other</li></ol>\n",
       "\n",
       "<details>\n",
       "\t<summary style=display:list-item;cursor:pointer>\n",
       "\t\t<strong>Levels</strong>:\n",
       "\t</summary>\n",
       "\t<style>\n",
       "\t.list-inline {list-style: none; margin:0; padding: 0}\n",
       "\t.list-inline>li {display: inline-block}\n",
       "\t.list-inline>li:not(:last-child)::after {content: \"\\00b7\"; padding: 0 .5ex}\n",
       "\t</style>\n",
       "\t<ol class=list-inline><li>'Green'</li><li>'Labour'</li><li>'National'</li><li>'Other'</li></ol>\n",
       "</details>"
      ],
      "text/latex": [
       "\\begin{enumerate*}\n",
       "\\item National\n",
       "\\item National\n",
       "\\item Labour\n",
       "\\item National\n",
       "\\item Green\n",
       "\\item Other\n",
       "\\item Green\n",
       "\\item National\n",
       "\\item National\n",
       "\\item National\n",
       "\\item Labour\n",
       "\\item Other\n",
       "\\end{enumerate*}\n",
       "\n",
       "\\emph{Levels}: \\begin{enumerate*}\n",
       "\\item 'Green'\n",
       "\\item 'Labour'\n",
       "\\item 'National'\n",
       "\\item 'Other'\n",
       "\\end{enumerate*}\n"
      ],
      "text/markdown": [
       "1. National\n",
       "2. National\n",
       "3. Labour\n",
       "4. National\n",
       "5. Green\n",
       "6. Other\n",
       "7. Green\n",
       "8. National\n",
       "9. National\n",
       "10. National\n",
       "11. Labour\n",
       "12. Other\n",
       "\n",
       "\n",
       "\n",
       "**Levels**: 1. 'Green'\n",
       "2. 'Labour'\n",
       "3. 'National'\n",
       "4. 'Other'\n",
       "\n",
       "\n"
      ],
      "text/plain": [
       " [1] National National Labour   National Green    Other    Green    National\n",
       " [9] National National Labour   Other   \n",
       "Levels: Green Labour National Other"
      ]
     },
     "metadata": {},
     "output_type": "display_data"
    }
   ],
   "source": [
    "#i\n",
    "party.char.fac[sex.char.fac == \"male\"]"
   ]
  },
  {
   "cell_type": "code",
   "execution_count": 96,
   "id": "8b436d1d",
   "metadata": {},
   "outputs": [
    {
     "data": {
      "text/html": [
       "<style>\n",
       ".list-inline {list-style: none; margin:0; padding: 0}\n",
       ".list-inline>li {display: inline-block}\n",
       ".list-inline>li:not(:last-child)::after {content: \"\\00b7\"; padding: 0 .5ex}\n",
       "</style>\n",
       "<ol class=list-inline><li>male</li><li>male</li><li>female</li><li>female</li><li>male</li><li>male</li><li>female</li><li>male</li><li>male</li></ol>\n",
       "\n",
       "<details>\n",
       "\t<summary style=display:list-item;cursor:pointer>\n",
       "\t\t<strong>Levels</strong>:\n",
       "\t</summary>\n",
       "\t<style>\n",
       "\t.list-inline {list-style: none; margin:0; padding: 0}\n",
       "\t.list-inline>li {display: inline-block}\n",
       "\t.list-inline>li:not(:last-child)::after {content: \"\\00b7\"; padding: 0 .5ex}\n",
       "\t</style>\n",
       "\t<ol class=list-inline><li>'female'</li><li>'male'</li></ol>\n",
       "</details>"
      ],
      "text/latex": [
       "\\begin{enumerate*}\n",
       "\\item male\n",
       "\\item male\n",
       "\\item female\n",
       "\\item female\n",
       "\\item male\n",
       "\\item male\n",
       "\\item female\n",
       "\\item male\n",
       "\\item male\n",
       "\\end{enumerate*}\n",
       "\n",
       "\\emph{Levels}: \\begin{enumerate*}\n",
       "\\item 'female'\n",
       "\\item 'male'\n",
       "\\end{enumerate*}\n"
      ],
      "text/markdown": [
       "1. male\n",
       "2. male\n",
       "3. female\n",
       "4. female\n",
       "5. male\n",
       "6. male\n",
       "7. female\n",
       "8. male\n",
       "9. male\n",
       "\n",
       "\n",
       "\n",
       "**Levels**: 1. 'female'\n",
       "2. 'male'\n",
       "\n",
       "\n"
      ],
      "text/plain": [
       "[1] male   male   female female male   male   female male   male  \n",
       "Levels: female male"
      ]
     },
     "metadata": {},
     "output_type": "display_data"
    }
   ],
   "source": [
    "#ii\n",
    "sex.char.fac[party.char.fac==\"National\"]"
   ]
  },
  {
   "cell_type": "markdown",
   "id": "34791d61",
   "metadata": {},
   "source": [
    "### d"
   ]
  },
  {
   "cell_type": "code",
   "execution_count": 97,
   "id": "63abef53",
   "metadata": {},
   "outputs": [
    {
     "name": "stdout",
     "output_type": "stream",
     "text": [
      "[1] male   male   female female female male  \n",
      "Levels: female male\n"
     ]
    }
   ],
   "source": [
    "new.sex.char.fac <- factor(\n",
    "    x=c(\"male\",\"male\",\"female\",\"female\",\"female\",\"male\"), \n",
    "    levels=levels(sex.char.fac)\n",
    ")\n",
    "print(new.sex.char.fac)"
   ]
  },
  {
   "cell_type": "code",
   "execution_count": 98,
   "id": "d0e39eff",
   "metadata": {},
   "outputs": [],
   "source": [
    "sex.char.fac <- levels(sex.char.fac)[c(sex.char.fac,new.sex.char.fac)]"
   ]
  },
  {
   "cell_type": "code",
   "execution_count": 99,
   "id": "c823e234",
   "metadata": {},
   "outputs": [
    {
     "data": {
      "text/html": [
       "26"
      ],
      "text/latex": [
       "26"
      ],
      "text/markdown": [
       "26"
      ],
      "text/plain": [
       "[1] 26"
      ]
     },
     "metadata": {},
     "output_type": "display_data"
    },
    {
     "data": {
      "text/html": [
       "<style>\n",
       ".list-inline {list-style: none; margin:0; padding: 0}\n",
       ".list-inline>li {display: inline-block}\n",
       ".list-inline>li:not(:last-child)::after {content: \"\\00b7\"; padding: 0 .5ex}\n",
       "</style>\n",
       "<ol class=list-inline><li>'female'</li><li>'male'</li><li>'male'</li><li>'male'</li><li>'female'</li><li>'female'</li><li>'female'</li><li>'male'</li><li>'male'</li><li>'male'</li><li>'male'</li><li>'female'</li><li>'male'</li><li>'female'</li><li>'female'</li><li>'female'</li><li>'male'</li><li>'male'</li><li>'male'</li><li>'male'</li><li>'male'</li><li>'male'</li><li>'female'</li><li>'female'</li><li>'female'</li><li>'male'</li></ol>\n"
      ],
      "text/latex": [
       "\\begin{enumerate*}\n",
       "\\item 'female'\n",
       "\\item 'male'\n",
       "\\item 'male'\n",
       "\\item 'male'\n",
       "\\item 'female'\n",
       "\\item 'female'\n",
       "\\item 'female'\n",
       "\\item 'male'\n",
       "\\item 'male'\n",
       "\\item 'male'\n",
       "\\item 'male'\n",
       "\\item 'female'\n",
       "\\item 'male'\n",
       "\\item 'female'\n",
       "\\item 'female'\n",
       "\\item 'female'\n",
       "\\item 'male'\n",
       "\\item 'male'\n",
       "\\item 'male'\n",
       "\\item 'male'\n",
       "\\item 'male'\n",
       "\\item 'male'\n",
       "\\item 'female'\n",
       "\\item 'female'\n",
       "\\item 'female'\n",
       "\\item 'male'\n",
       "\\end{enumerate*}\n"
      ],
      "text/markdown": [
       "1. 'female'\n",
       "2. 'male'\n",
       "3. 'male'\n",
       "4. 'male'\n",
       "5. 'female'\n",
       "6. 'female'\n",
       "7. 'female'\n",
       "8. 'male'\n",
       "9. 'male'\n",
       "10. 'male'\n",
       "11. 'male'\n",
       "12. 'female'\n",
       "13. 'male'\n",
       "14. 'female'\n",
       "15. 'female'\n",
       "16. 'female'\n",
       "17. 'male'\n",
       "18. 'male'\n",
       "19. 'male'\n",
       "20. 'male'\n",
       "21. 'male'\n",
       "22. 'male'\n",
       "23. 'female'\n",
       "24. 'female'\n",
       "25. 'female'\n",
       "26. 'male'\n",
       "\n",
       "\n"
      ],
      "text/plain": [
       " [1] \"female\" \"male\"   \"male\"   \"male\"   \"female\" \"female\" \"female\" \"male\"  \n",
       " [9] \"male\"   \"male\"   \"male\"   \"female\" \"male\"   \"female\" \"female\" \"female\"\n",
       "[17] \"male\"   \"male\"   \"male\"   \"male\"   \"male\"   \"male\"   \"female\" \"female\"\n",
       "[25] \"female\" \"male\"  "
      ]
     },
     "metadata": {},
     "output_type": "display_data"
    }
   ],
   "source": [
    "length(sex.char.fac)\n",
    "sex.char.fac"
   ]
  },
  {
   "cell_type": "code",
   "execution_count": 100,
   "id": "d26a97a1",
   "metadata": {},
   "outputs": [
    {
     "name": "stdout",
     "output_type": "stream",
     "text": [
      "[1] National Maori    Maori    Labour   Green    Labour  \n",
      "Levels: Green Labour National Other Maori\n"
     ]
    }
   ],
   "source": [
    "new.party.char.fac <- factor(\n",
    "    x=c(\"National\",\"Maori\",\"Maori\",\"Labour\",\"Green\",\"Labour\"), \n",
    "    levels=c(levels(party.char.fac),\"Maori\")\n",
    ")\n",
    "print(new.party.char.fac)"
   ]
  },
  {
   "cell_type": "code",
   "execution_count": 101,
   "id": "ecfdb064",
   "metadata": {},
   "outputs": [],
   "source": [
    "party.char.fac <- c(levels(party.char.fac),\"Maori\")[c(party.char.fac,new.party.char.fac)]"
   ]
  },
  {
   "cell_type": "code",
   "execution_count": 102,
   "id": "cacd48ec",
   "metadata": {},
   "outputs": [
    {
     "data": {
      "text/html": [
       "26"
      ],
      "text/latex": [
       "26"
      ],
      "text/markdown": [
       "26"
      ],
      "text/plain": [
       "[1] 26"
      ]
     },
     "metadata": {},
     "output_type": "display_data"
    },
    {
     "data": {
      "text/html": [
       "<style>\n",
       ".list-inline {list-style: none; margin:0; padding: 0}\n",
       ".list-inline>li {display: inline-block}\n",
       ".list-inline>li:not(:last-child)::after {content: \"\\00b7\"; padding: 0 .5ex}\n",
       "</style>\n",
       "<ol class=list-inline><li>'Labour'</li><li>'National'</li><li>'National'</li><li>'Labour'</li><li>'National'</li><li>'Green'</li><li>'National'</li><li>'National'</li><li>'Green'</li><li>'Other'</li><li>'Green'</li><li>'Labour'</li><li>'National'</li><li>'National'</li><li>'Labour'</li><li>'Labour'</li><li>'National'</li><li>'National'</li><li>'Labour'</li><li>'Other'</li><li>'National'</li><li>'Maori'</li><li>'Maori'</li><li>'Labour'</li><li>'Green'</li><li>'Labour'</li></ol>\n"
      ],
      "text/latex": [
       "\\begin{enumerate*}\n",
       "\\item 'Labour'\n",
       "\\item 'National'\n",
       "\\item 'National'\n",
       "\\item 'Labour'\n",
       "\\item 'National'\n",
       "\\item 'Green'\n",
       "\\item 'National'\n",
       "\\item 'National'\n",
       "\\item 'Green'\n",
       "\\item 'Other'\n",
       "\\item 'Green'\n",
       "\\item 'Labour'\n",
       "\\item 'National'\n",
       "\\item 'National'\n",
       "\\item 'Labour'\n",
       "\\item 'Labour'\n",
       "\\item 'National'\n",
       "\\item 'National'\n",
       "\\item 'Labour'\n",
       "\\item 'Other'\n",
       "\\item 'National'\n",
       "\\item 'Maori'\n",
       "\\item 'Maori'\n",
       "\\item 'Labour'\n",
       "\\item 'Green'\n",
       "\\item 'Labour'\n",
       "\\end{enumerate*}\n"
      ],
      "text/markdown": [
       "1. 'Labour'\n",
       "2. 'National'\n",
       "3. 'National'\n",
       "4. 'Labour'\n",
       "5. 'National'\n",
       "6. 'Green'\n",
       "7. 'National'\n",
       "8. 'National'\n",
       "9. 'Green'\n",
       "10. 'Other'\n",
       "11. 'Green'\n",
       "12. 'Labour'\n",
       "13. 'National'\n",
       "14. 'National'\n",
       "15. 'Labour'\n",
       "16. 'Labour'\n",
       "17. 'National'\n",
       "18. 'National'\n",
       "19. 'Labour'\n",
       "20. 'Other'\n",
       "21. 'National'\n",
       "22. 'Maori'\n",
       "23. 'Maori'\n",
       "24. 'Labour'\n",
       "25. 'Green'\n",
       "26. 'Labour'\n",
       "\n",
       "\n"
      ],
      "text/plain": [
       " [1] \"Labour\"   \"National\" \"National\" \"Labour\"   \"National\" \"Green\"   \n",
       " [7] \"National\" \"National\" \"Green\"    \"Other\"    \"Green\"    \"Labour\"  \n",
       "[13] \"National\" \"National\" \"Labour\"   \"Labour\"   \"National\" \"National\"\n",
       "[19] \"Labour\"   \"Other\"    \"National\" \"Maori\"    \"Maori\"    \"Labour\"  \n",
       "[25] \"Green\"    \"Labour\"  "
      ]
     },
     "metadata": {},
     "output_type": "display_data"
    }
   ],
   "source": [
    "length(party.char.fac)\n",
    "party.char.fac"
   ]
  },
  {
   "cell_type": "markdown",
   "id": "1fe056f5",
   "metadata": {},
   "source": [
    "### e"
   ]
  },
  {
   "cell_type": "code",
   "execution_count": 103,
   "id": "0a6bc910",
   "metadata": {},
   "outputs": [],
   "source": [
    "LabourConf.values <- c(93,55,29,100,52,84,56,0,33,52,35,53,55,46,40,40,56,45,64,31,10,29,40,95,18,61)"
   ]
  },
  {
   "cell_type": "code",
   "execution_count": 104,
   "id": "c9172b7f",
   "metadata": {},
   "outputs": [],
   "source": [
    "br <- c(0,30,70,100)\n",
    "lab <- c(\"Low\",\"Moderate\",\"High\")\n",
    "LabourConf.values.fac <- cut(x=LabourConf.values, breaks=br,right=T,include.lowest=T,labels=lab)"
   ]
  },
  {
   "cell_type": "markdown",
   "id": "a522c50e",
   "metadata": {},
   "source": [
    "### f"
   ]
  },
  {
   "cell_type": "code",
   "execution_count": 108,
   "id": "5a05a81e",
   "metadata": {},
   "outputs": [
    {
     "data": {
      "text/html": [
       "<style>\n",
       ".list-inline {list-style: none; margin:0; padding: 0}\n",
       ".list-inline>li {display: inline-block}\n",
       ".list-inline>li:not(:last-child)::after {content: \"\\00b7\"; padding: 0 .5ex}\n",
       "</style>\n",
       "<ol class=list-inline><li>High</li><li>High</li><li>Moderate</li><li>Moderate</li><li>Moderate</li><li>Moderate</li><li>High</li><li>Moderate</li></ol>\n",
       "\n",
       "<details>\n",
       "\t<summary style=display:list-item;cursor:pointer>\n",
       "\t\t<strong>Levels</strong>:\n",
       "\t</summary>\n",
       "\t<style>\n",
       "\t.list-inline {list-style: none; margin:0; padding: 0}\n",
       "\t.list-inline>li {display: inline-block}\n",
       "\t.list-inline>li:not(:last-child)::after {content: \"\\00b7\"; padding: 0 .5ex}\n",
       "\t</style>\n",
       "\t<ol class=list-inline><li>'Low'</li><li>'Moderate'</li><li>'High'</li></ol>\n",
       "</details>"
      ],
      "text/latex": [
       "\\begin{enumerate*}\n",
       "\\item High\n",
       "\\item High\n",
       "\\item Moderate\n",
       "\\item Moderate\n",
       "\\item Moderate\n",
       "\\item Moderate\n",
       "\\item High\n",
       "\\item Moderate\n",
       "\\end{enumerate*}\n",
       "\n",
       "\\emph{Levels}: \\begin{enumerate*}\n",
       "\\item 'Low'\n",
       "\\item 'Moderate'\n",
       "\\item 'High'\n",
       "\\end{enumerate*}\n"
      ],
      "text/markdown": [
       "1. High\n",
       "2. High\n",
       "3. Moderate\n",
       "4. Moderate\n",
       "5. Moderate\n",
       "6. Moderate\n",
       "7. High\n",
       "8. Moderate\n",
       "\n",
       "\n",
       "\n",
       "**Levels**: 1. 'Low'\n",
       "2. 'Moderate'\n",
       "3. 'High'\n",
       "\n",
       "\n"
      ],
      "text/plain": [
       "[1] High     High     Moderate Moderate Moderate Moderate High     Moderate\n",
       "Levels: Low Moderate High"
      ]
     },
     "metadata": {},
     "output_type": "display_data"
    }
   ],
   "source": [
    "LabourConf.values.fac[party.char.fac == \"Labour\"]"
   ]
  },
  {
   "cell_type": "code",
   "execution_count": 109,
   "id": "542a948e",
   "metadata": {},
   "outputs": [
    {
     "data": {
      "text/html": [
       "<style>\n",
       ".list-inline {list-style: none; margin:0; padding: 0}\n",
       ".list-inline>li {display: inline-block}\n",
       ".list-inline>li:not(:last-child)::after {content: \"\\00b7\"; padding: 0 .5ex}\n",
       "</style>\n",
       "<ol class=list-inline><li>Moderate</li><li>Low</li><li>Moderate</li><li>Moderate</li><li>Low</li><li>Moderate</li><li>Moderate</li><li>Moderate</li><li>Moderate</li><li>Low</li></ol>\n",
       "\n",
       "<details>\n",
       "\t<summary style=display:list-item;cursor:pointer>\n",
       "\t\t<strong>Levels</strong>:\n",
       "\t</summary>\n",
       "\t<style>\n",
       "\t.list-inline {list-style: none; margin:0; padding: 0}\n",
       "\t.list-inline>li {display: inline-block}\n",
       "\t.list-inline>li:not(:last-child)::after {content: \"\\00b7\"; padding: 0 .5ex}\n",
       "\t</style>\n",
       "\t<ol class=list-inline><li>'Low'</li><li>'Moderate'</li><li>'High'</li></ol>\n",
       "</details>"
      ],
      "text/latex": [
       "\\begin{enumerate*}\n",
       "\\item Moderate\n",
       "\\item Low\n",
       "\\item Moderate\n",
       "\\item Moderate\n",
       "\\item Low\n",
       "\\item Moderate\n",
       "\\item Moderate\n",
       "\\item Moderate\n",
       "\\item Moderate\n",
       "\\item Low\n",
       "\\end{enumerate*}\n",
       "\n",
       "\\emph{Levels}: \\begin{enumerate*}\n",
       "\\item 'Low'\n",
       "\\item 'Moderate'\n",
       "\\item 'High'\n",
       "\\end{enumerate*}\n"
      ],
      "text/markdown": [
       "1. Moderate\n",
       "2. Low\n",
       "3. Moderate\n",
       "4. Moderate\n",
       "5. Low\n",
       "6. Moderate\n",
       "7. Moderate\n",
       "8. Moderate\n",
       "9. Moderate\n",
       "10. Low\n",
       "\n",
       "\n",
       "\n",
       "**Levels**: 1. 'Low'\n",
       "2. 'Moderate'\n",
       "3. 'High'\n",
       "\n",
       "\n"
      ],
      "text/plain": [
       " [1] Moderate Low      Moderate Moderate Low      Moderate Moderate Moderate\n",
       " [9] Moderate Low     \n",
       "Levels: Low Moderate High"
      ]
     },
     "metadata": {},
     "output_type": "display_data"
    }
   ],
   "source": [
    "LabourConf.values.fac[party.char.fac == \"National\"]"
   ]
  },
  {
   "cell_type": "markdown",
   "id": "960b20da",
   "metadata": {},
   "source": [
    "Those that claim to be in the Labour party have a high degree of certainty that the \n",
    "Labour party will pick up seats. "
   ]
  },
  {
   "cell_type": "code",
   "execution_count": null,
   "id": "dc47f02b",
   "metadata": {},
   "outputs": [],
   "source": []
  }
 ],
 "metadata": {
  "kernelspec": {
   "display_name": "R",
   "language": "R",
   "name": "ir"
  },
  "language_info": {
   "codemirror_mode": "r",
   "file_extension": ".r",
   "mimetype": "text/x-r-source",
   "name": "R",
   "pygments_lexer": "r",
   "version": "3.6.3"
  }
 },
 "nbformat": 4,
 "nbformat_minor": 5
}
