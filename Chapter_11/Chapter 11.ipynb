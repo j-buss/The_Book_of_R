{
 "cells": [
  {
   "cell_type": "markdown",
   "id": "d38ae265",
   "metadata": {},
   "source": [
    "# 11.1"
   ]
  },
  {
   "cell_type": "markdown",
   "id": "25eafffb",
   "metadata": {},
   "source": [
    "## a"
   ]
  },
  {
   "cell_type": "code",
   "execution_count": 8,
   "id": "0291683f",
   "metadata": {},
   "outputs": [],
   "source": [
    "fib4 <- function(thresh,printme){\n",
    "    fibseq <- c(1,1)\n",
    "    counter <- 2\n",
    "    repeat{\n",
    "        fibseq <- c(fibseq,fibseq[counter-1]+fibseq[counter])\n",
    "        counter <- counter + 1\n",
    "        if(fibseq[counter]>thresh){\n",
    "            break\n",
    "        }\n",
    "    }\n",
    "    if(printme){\n",
    "        for(i in 1:length(fibseq)){\n",
    "            cat(fibseq[i],seq=\" \")\n",
    "        }\n",
    "    } else {\n",
    "        return(fibseq)\n",
    "        \n",
    "    }\n",
    "}"
   ]
  },
  {
   "cell_type": "code",
   "execution_count": 10,
   "id": "b512c91b",
   "metadata": {},
   "outputs": [
    {
     "name": "stdout",
     "output_type": "stream",
     "text": [
      "1  1  2  3  5  8  13  21  34  55  89  144  233  "
     ]
    }
   ],
   "source": [
    "fib4(thresh=150,printme=TRUE)"
   ]
  },
  {
   "cell_type": "code",
   "execution_count": 12,
   "id": "f67c4737",
   "metadata": {},
   "outputs": [
    {
     "name": "stdout",
     "output_type": "stream",
     "text": [
      "1  1  2  3  5  8  13  21  34  55  89  144  233  377  610  987  1597  2584  4181  6765  10946  17711  28657  46368  75025  121393  196418  317811  514229  832040  1346269  "
     ]
    }
   ],
   "source": [
    "fib4(1000000,T)"
   ]
  },
  {
   "cell_type": "code",
   "execution_count": 14,
   "id": "a088a4aa",
   "metadata": {},
   "outputs": [],
   "source": [
    "seq <- fib4(150,FALSE)"
   ]
  },
  {
   "cell_type": "code",
   "execution_count": 15,
   "id": "aaea560d",
   "metadata": {},
   "outputs": [
    {
     "data": {
      "text/html": [
       "<style>\n",
       ".list-inline {list-style: none; margin:0; padding: 0}\n",
       ".list-inline>li {display: inline-block}\n",
       ".list-inline>li:not(:last-child)::after {content: \"\\00b7\"; padding: 0 .5ex}\n",
       "</style>\n",
       "<ol class=list-inline><li>1</li><li>1</li><li>2</li><li>3</li><li>5</li><li>8</li><li>13</li><li>21</li><li>34</li><li>55</li><li>89</li><li>144</li><li>233</li></ol>\n"
      ],
      "text/latex": [
       "\\begin{enumerate*}\n",
       "\\item 1\n",
       "\\item 1\n",
       "\\item 2\n",
       "\\item 3\n",
       "\\item 5\n",
       "\\item 8\n",
       "\\item 13\n",
       "\\item 21\n",
       "\\item 34\n",
       "\\item 55\n",
       "\\item 89\n",
       "\\item 144\n",
       "\\item 233\n",
       "\\end{enumerate*}\n"
      ],
      "text/markdown": [
       "1. 1\n",
       "2. 1\n",
       "3. 2\n",
       "4. 3\n",
       "5. 5\n",
       "6. 8\n",
       "7. 13\n",
       "8. 21\n",
       "9. 34\n",
       "10. 55\n",
       "11. 89\n",
       "12. 144\n",
       "13. 233\n",
       "\n",
       "\n"
      ],
      "text/plain": [
       " [1]   1   1   2   3   5   8  13  21  34  55  89 144 233"
      ]
     },
     "metadata": {},
     "output_type": "display_data"
    }
   ],
   "source": [
    "seq"
   ]
  },
  {
   "cell_type": "code",
   "execution_count": 16,
   "id": "e8095d55",
   "metadata": {},
   "outputs": [
    {
     "data": {
      "text/html": [
       "<style>\n",
       ".list-inline {list-style: none; margin:0; padding: 0}\n",
       ".list-inline>li {display: inline-block}\n",
       ".list-inline>li:not(:last-child)::after {content: \"\\00b7\"; padding: 0 .5ex}\n",
       "</style>\n",
       "<ol class=list-inline><li>1</li><li>1</li><li>2</li><li>3</li><li>5</li><li>8</li><li>13</li><li>21</li><li>34</li><li>55</li><li>89</li><li>144</li><li>233</li><li>377</li><li>610</li><li>987</li><li>1597</li><li>2584</li><li>4181</li><li>6765</li><li>10946</li><li>17711</li><li>28657</li><li>46368</li><li>75025</li><li>121393</li><li>196418</li><li>317811</li><li>514229</li><li>832040</li><li>1346269</li><li>2178309</li><li>3524578</li><li>5702887</li><li>9227465</li><li>14930352</li></ol>\n"
      ],
      "text/latex": [
       "\\begin{enumerate*}\n",
       "\\item 1\n",
       "\\item 1\n",
       "\\item 2\n",
       "\\item 3\n",
       "\\item 5\n",
       "\\item 8\n",
       "\\item 13\n",
       "\\item 21\n",
       "\\item 34\n",
       "\\item 55\n",
       "\\item 89\n",
       "\\item 144\n",
       "\\item 233\n",
       "\\item 377\n",
       "\\item 610\n",
       "\\item 987\n",
       "\\item 1597\n",
       "\\item 2584\n",
       "\\item 4181\n",
       "\\item 6765\n",
       "\\item 10946\n",
       "\\item 17711\n",
       "\\item 28657\n",
       "\\item 46368\n",
       "\\item 75025\n",
       "\\item 121393\n",
       "\\item 196418\n",
       "\\item 317811\n",
       "\\item 514229\n",
       "\\item 832040\n",
       "\\item 1346269\n",
       "\\item 2178309\n",
       "\\item 3524578\n",
       "\\item 5702887\n",
       "\\item 9227465\n",
       "\\item 14930352\n",
       "\\end{enumerate*}\n"
      ],
      "text/markdown": [
       "1. 1\n",
       "2. 1\n",
       "3. 2\n",
       "4. 3\n",
       "5. 5\n",
       "6. 8\n",
       "7. 13\n",
       "8. 21\n",
       "9. 34\n",
       "10. 55\n",
       "11. 89\n",
       "12. 144\n",
       "13. 233\n",
       "14. 377\n",
       "15. 610\n",
       "16. 987\n",
       "17. 1597\n",
       "18. 2584\n",
       "19. 4181\n",
       "20. 6765\n",
       "21. 10946\n",
       "22. 17711\n",
       "23. 28657\n",
       "24. 46368\n",
       "25. 75025\n",
       "26. 121393\n",
       "27. 196418\n",
       "28. 317811\n",
       "29. 514229\n",
       "30. 832040\n",
       "31. 1346269\n",
       "32. 2178309\n",
       "33. 3524578\n",
       "34. 5702887\n",
       "35. 9227465\n",
       "36. 14930352\n",
       "\n",
       "\n"
      ],
      "text/plain": [
       " [1]        1        1        2        3        5        8       13       21\n",
       " [9]       34       55       89      144      233      377      610      987\n",
       "[17]     1597     2584     4181     6765    10946    17711    28657    46368\n",
       "[25]    75025   121393   196418   317811   514229   832040  1346269  2178309\n",
       "[33]  3524578  5702887  9227465 14930352"
      ]
     },
     "metadata": {},
     "output_type": "display_data"
    }
   ],
   "source": [
    "fib4(10000000,printme=F)"
   ]
  },
  {
   "cell_type": "markdown",
   "id": "27c90356",
   "metadata": {},
   "source": [
    "## b"
   ]
  },
  {
   "cell_type": "code",
   "execution_count": 21,
   "id": "c34ecc51",
   "metadata": {},
   "outputs": [],
   "source": [
    "#i\n",
    "myfac <- function(mynum){\n",
    "    RunningProduct <- 1\n",
    "    while(mynum >= 0){\n",
    "        if(mynum == 0){\n",
    "            RunningProduct <- RunningProduct\n",
    "        } else{\n",
    "            RunningProduct <- RunningProduct * mynum\n",
    "        }\n",
    "        mynum <- mynum - 1\n",
    "    }\n",
    "    return(RunningProduct)\n",
    "}"
   ]
  },
  {
   "cell_type": "code",
   "execution_count": 22,
   "id": "15dcbf1b",
   "metadata": {},
   "outputs": [
    {
     "data": {
      "text/html": [
       "120"
      ],
      "text/latex": [
       "120"
      ],
      "text/markdown": [
       "120"
      ],
      "text/plain": [
       "[1] 120"
      ]
     },
     "metadata": {},
     "output_type": "display_data"
    }
   ],
   "source": [
    "myfac(5)"
   ]
  },
  {
   "cell_type": "code",
   "execution_count": 23,
   "id": "602784d4",
   "metadata": {},
   "outputs": [
    {
     "data": {
      "text/html": [
       "479001600"
      ],
      "text/latex": [
       "479001600"
      ],
      "text/markdown": [
       "479001600"
      ],
      "text/plain": [
       "[1] 479001600"
      ]
     },
     "metadata": {},
     "output_type": "display_data"
    }
   ],
   "source": [
    "myfac(12)"
   ]
  },
  {
   "cell_type": "code",
   "execution_count": 24,
   "id": "e2971bd2",
   "metadata": {},
   "outputs": [
    {
     "data": {
      "text/html": [
       "1"
      ],
      "text/latex": [
       "1"
      ],
      "text/markdown": [
       "1"
      ],
      "text/plain": [
       "[1] 1"
      ]
     },
     "metadata": {},
     "output_type": "display_data"
    }
   ],
   "source": [
    "myfac(0)"
   ]
  },
  {
   "cell_type": "code",
   "execution_count": 25,
   "id": "281b3768",
   "metadata": {},
   "outputs": [],
   "source": [
    "#ii\n",
    "myfac2 <- function(mynum){\n",
    "    if(mynum < 0){\n",
    "        return(NaN)\n",
    "    } else {\n",
    "        myfac(mynum)\n",
    "    }\n",
    "}"
   ]
  },
  {
   "cell_type": "code",
   "execution_count": 26,
   "id": "8735468a",
   "metadata": {},
   "outputs": [
    {
     "data": {
      "text/html": [
       "NaN"
      ],
      "text/latex": [
       "NaN"
      ],
      "text/markdown": [
       "NaN"
      ],
      "text/plain": [
       "[1] NaN"
      ]
     },
     "metadata": {},
     "output_type": "display_data"
    }
   ],
   "source": [
    "myfac2(-6)"
   ]
  },
  {
   "cell_type": "code",
   "execution_count": 27,
   "id": "2c5dc46f",
   "metadata": {},
   "outputs": [
    {
     "data": {
      "text/html": [
       "1"
      ],
      "text/latex": [
       "1"
      ],
      "text/markdown": [
       "1"
      ],
      "text/plain": [
       "[1] 1"
      ]
     },
     "metadata": {},
     "output_type": "display_data"
    }
   ],
   "source": [
    "myfac2(0)"
   ]
  },
  {
   "cell_type": "code",
   "execution_count": 28,
   "id": "f0074791",
   "metadata": {},
   "outputs": [
    {
     "data": {
      "text/html": [
       "479001600"
      ],
      "text/latex": [
       "479001600"
      ],
      "text/markdown": [
       "479001600"
      ],
      "text/plain": [
       "[1] 479001600"
      ]
     },
     "metadata": {},
     "output_type": "display_data"
    }
   ],
   "source": [
    "myfac2(12)"
   ]
  },
  {
   "cell_type": "code",
   "execution_count": null,
   "id": "fce289bb",
   "metadata": {},
   "outputs": [],
   "source": [
    "myfac2(5)"
   ]
  },
  {
   "cell_type": "markdown",
   "id": "98520f56",
   "metadata": {},
   "source": [
    "# 11.2"
   ]
  },
  {
   "cell_type": "markdown",
   "id": "886caddf",
   "metadata": {},
   "source": [
    "## a"
   ]
  },
  {
   "cell_type": "code",
   "execution_count": 78,
   "id": "fe168104",
   "metadata": {},
   "outputs": [],
   "source": [
    "F <- function(Principal, interest, frequency=12, years, plotit=TRUE, ...){\n",
    "    years <- 1:years\n",
    "    balance <- P * (1+(interest / (100 * frequency)))^(frequency * years)\n",
    "    if(plotit){\n",
    "        plot(x=years,y=balance,type=\"s\",xlab=\"Years\",ylab=\"Balance\",main=\"Compound Interest Calculator\",...)\n",
    "    } else {\n",
    "        return(balance)\n",
    "    }\n",
    "}"
   ]
  },
  {
   "cell_type": "code",
   "execution_count": 79,
   "id": "f3deda46",
   "metadata": {},
   "outputs": [
    {
     "data": {
      "text/html": [
       "155.14582572557"
      ],
      "text/latex": [
       "155.14582572557"
      ],
      "text/markdown": [
       "155.14582572557"
      ],
      "text/plain": [
       "[1] 155.1458"
      ]
     },
     "metadata": {},
     "output_type": "display_data"
    }
   ],
   "source": [
    "#i\n",
    "tail(F(5000, 4.4, 12, 10, FALSE),n=1)"
   ]
  },
  {
   "cell_type": "code",
   "execution_count": 84,
   "id": "5a93355c",
   "metadata": {},
   "outputs": [
    {
     "data": {
      "image/png": "[encoded data removed]",
      "text/plain": [
       "Plot with title “Compound Interest Calculator”"
      ]
     },
     "metadata": {
      "image/png": {
       "height": 420,
       "width": 420
      }
     },
     "output_type": "display_data"
    }
   ],
   "source": [
    "#ii\n",
    "F(100, 22.9, years=20)"
   ]
  },
  {
   "cell_type": "code",
   "execution_count": 83,
   "id": "5a055cb5",
   "metadata": {},
   "outputs": [
    {
     "data": {
      "image/png": "[encoded data removed]",
      "text/plain": [
       "Plot with title “Compound Interest Calculator”"
      ]
     },
     "metadata": {
      "image/png": {
       "height": 420,
       "width": 420
      }
     },
     "output_type": "display_data"
    }
   ],
   "source": [
    "#iii\n",
    "comparison <- F(100, 22.9, 1, 20, FALSE)\n",
    "F(100, 22.9, years=20, col=\"blue\")\n",
    "lines(x = comparison, col=\"red\", lty=2)\n",
    "legend(1, 8000,legend=c(\"Compound Monthly\", \"Compound Annually\"),\n",
    "       col=c(\"blue\", \"red\"), lty=1:2, cex=0.8)"
   ]
  },
  {
   "cell_type": "markdown",
   "id": "37065d0c",
   "metadata": {},
   "source": [
    "## b"
   ]
  },
  {
   "cell_type": "code",
   "execution_count": 121,
   "id": "38795993",
   "metadata": {},
   "outputs": [],
   "source": [
    "quadratic <- function(k1, k2, k3){\n",
    "    if(missing(k1)){\n",
    "        return(\"Missing argument k1\")\n",
    "    } \n",
    "    if(missing(k2)){\n",
    "        return(\"Missing argument k2\")\n",
    "    }\n",
    "    if(missing(k3)){\n",
    "        return(\"Missing argument k3\")\n",
    "    }\n",
    "    \n",
    "    tempTerm <- k2^2 - 4 * k1 * k3\n",
    "    if(tempTerm < 0){\n",
    "        cat(\"No solutions exist\")\n",
    "    } else if(tempTerm == 0){\n",
    "        solution <- -1 * (k2 / (2 * k1))\n",
    "        return(solution)\n",
    "    } else if (tempTerm > 0){\n",
    "        solution1 <- (-1 * k2 - (tempTerm)^0.5) / (2 * k1)\n",
    "        solution2 <- (-1 * k2 + (tempTerm)^0.5) / (2 * k1)\n",
    "        return(c(solution1, solution2))\n",
    "    }\n",
    "}"
   ]
  },
  {
   "cell_type": "code",
   "execution_count": 122,
   "id": "89cdd011",
   "metadata": {},
   "outputs": [
    {
     "data": {
      "text/html": [
       "<style>\n",
       ".list-inline {list-style: none; margin:0; padding: 0}\n",
       ".list-inline>li {display: inline-block}\n",
       ".list-inline>li:not(:last-child)::after {content: \"\\00b7\"; padding: 0 .5ex}\n",
       "</style>\n",
       "<ol class=list-inline><li>-1.35078105935821</li><li>1.85078105935821</li></ol>\n"
      ],
      "text/latex": [
       "\\begin{enumerate*}\n",
       "\\item -1.35078105935821\n",
       "\\item 1.85078105935821\n",
       "\\end{enumerate*}\n"
      ],
      "text/markdown": [
       "1. -1.35078105935821\n",
       "2. 1.85078105935821\n",
       "\n",
       "\n"
      ],
      "text/plain": [
       "[1] -1.350781  1.850781"
      ]
     },
     "metadata": {},
     "output_type": "display_data"
    },
    {
     "name": "stdout",
     "output_type": "stream",
     "text": [
      "No solutions exist"
     ]
    }
   ],
   "source": [
    "#i\n",
    "quadratic(2, -1, -5)\n",
    "quadratic(1, 1, 1)"
   ]
  },
  {
   "cell_type": "code",
   "execution_count": 123,
   "id": "928a6a19",
   "metadata": {},
   "outputs": [
    {
     "data": {
      "text/html": [
       "<style>\n",
       ".list-inline {list-style: none; margin:0; padding: 0}\n",
       ".list-inline>li {display: inline-block}\n",
       ".list-inline>li:not(:last-child)::after {content: \"\\00b7\"; padding: 0 .5ex}\n",
       "</style>\n",
       "<ol class=list-inline><li>-0.369110574827016</li><li>6.52295672867317</li></ol>\n"
      ],
      "text/latex": [
       "\\begin{enumerate*}\n",
       "\\item -0.369110574827016\n",
       "\\item 6.52295672867317\n",
       "\\end{enumerate*}\n"
      ],
      "text/markdown": [
       "1. -0.369110574827016\n",
       "2. 6.52295672867317\n",
       "\n",
       "\n"
      ],
      "text/plain": [
       "[1] -0.3691106  6.5229567"
      ]
     },
     "metadata": {},
     "output_type": "display_data"
    },
    {
     "data": {
      "text/html": [
       "0.666666666666667"
      ],
      "text/latex": [
       "0.666666666666667"
      ],
      "text/markdown": [
       "0.666666666666667"
      ],
      "text/plain": [
       "[1] 0.6666667"
      ]
     },
     "metadata": {},
     "output_type": "display_data"
    },
    {
     "data": {
      "text/html": [
       "<style>\n",
       ".list-inline {list-style: none; margin:0; padding: 0}\n",
       ".list-inline>li {display: inline-block}\n",
       ".list-inline>li:not(:last-child)::after {content: \"\\00b7\"; padding: 0 .5ex}\n",
       "</style>\n",
       "<ol class=list-inline><li>-1.2783118966857</li><li>2.84974046811427</li></ol>\n"
      ],
      "text/latex": [
       "\\begin{enumerate*}\n",
       "\\item -1.2783118966857\n",
       "\\item 2.84974046811427\n",
       "\\end{enumerate*}\n"
      ],
      "text/markdown": [
       "1. -1.2783118966857\n",
       "2. 2.84974046811427\n",
       "\n",
       "\n"
      ],
      "text/plain": [
       "[1] -1.278312  2.849740"
      ]
     },
     "metadata": {},
     "output_type": "display_data"
    },
    {
     "name": "stdout",
     "output_type": "stream",
     "text": [
      "No solutions exist"
     ]
    }
   ],
   "source": [
    "#ii\n",
    "quadratic(1.3, -8, -3.13)\n",
    "quadratic(2.25, -3, 1)\n",
    "quadratic(1.4, -2.2, -5.1)\n",
    "quadratic(-5, 10.11, -9.9)"
   ]
  },
  {
   "cell_type": "code",
   "execution_count": 126,
   "id": "5707c0d6",
   "metadata": {},
   "outputs": [
    {
     "data": {
      "text/html": [
       "'Missing argument k1'"
      ],
      "text/latex": [
       "'Missing argument k1'"
      ],
      "text/markdown": [
       "'Missing argument k1'"
      ],
      "text/plain": [
       "[1] \"Missing argument k1\""
      ]
     },
     "metadata": {},
     "output_type": "display_data"
    },
    {
     "data": {
      "text/html": [
       "'Missing argument k2'"
      ],
      "text/latex": [
       "'Missing argument k2'"
      ],
      "text/markdown": [
       "'Missing argument k2'"
      ],
      "text/plain": [
       "[1] \"Missing argument k2\""
      ]
     },
     "metadata": {},
     "output_type": "display_data"
    },
    {
     "data": {
      "text/html": [
       "'Missing argument k3'"
      ],
      "text/latex": [
       "'Missing argument k3'"
      ],
      "text/markdown": [
       "'Missing argument k3'"
      ],
      "text/plain": [
       "[1] \"Missing argument k3\""
      ]
     },
     "metadata": {},
     "output_type": "display_data"
    }
   ],
   "source": [
    "#iii\n",
    "quadratic()\n",
    "quadratic(2.25, k3=-3)\n",
    "quadratic(1.4, -2.2)"
   ]
  },
  {
   "cell_type": "markdown",
   "id": "c3c96e2e",
   "metadata": {},
   "source": [
    "# 11.3\n",
    "\n"
   ]
  },
  {
   "cell_type": "markdown",
   "id": "6f7e9cc6",
   "metadata": {},
   "source": [
    "## a"
   ]
  },
  {
   "cell_type": "code",
   "execution_count": 2,
   "id": "8a6e6950",
   "metadata": {},
   "outputs": [],
   "source": [
    "foo <- list(\"a\",c(\"b\",\"c\",\"d\",\"e\"),\"f\",c(\"g\",\"h\",\"i\"))"
   ]
  },
  {
   "cell_type": "code",
   "execution_count": 10,
   "id": "1600140c",
   "metadata": {},
   "outputs": [
    {
     "data": {
      "text/html": [
       "<ol>\n",
       "\t<li>'a!'</li>\n",
       "\t<li><style>\n",
       ".list-inline {list-style: none; margin:0; padding: 0}\n",
       ".list-inline>li {display: inline-block}\n",
       ".list-inline>li:not(:last-child)::after {content: \"\\00b7\"; padding: 0 .5ex}\n",
       "</style>\n",
       "<ol class=list-inline><li>'b!'</li><li>'c!'</li><li>'d!'</li><li>'e!'</li></ol>\n",
       "</li>\n",
       "\t<li>'f!'</li>\n",
       "\t<li><style>\n",
       ".list-inline {list-style: none; margin:0; padding: 0}\n",
       ".list-inline>li {display: inline-block}\n",
       ".list-inline>li:not(:last-child)::after {content: \"\\00b7\"; padding: 0 .5ex}\n",
       "</style>\n",
       "<ol class=list-inline><li>'g!'</li><li>'h!'</li><li>'i!'</li></ol>\n",
       "</li>\n",
       "</ol>\n"
      ],
      "text/latex": [
       "\\begin{enumerate}\n",
       "\\item 'a!'\n",
       "\\item \\begin{enumerate*}\n",
       "\\item 'b!'\n",
       "\\item 'c!'\n",
       "\\item 'd!'\n",
       "\\item 'e!'\n",
       "\\end{enumerate*}\n",
       "\n",
       "\\item 'f!'\n",
       "\\item \\begin{enumerate*}\n",
       "\\item 'g!'\n",
       "\\item 'h!'\n",
       "\\item 'i!'\n",
       "\\end{enumerate*}\n",
       "\n",
       "\\end{enumerate}\n"
      ],
      "text/markdown": [
       "1. 'a!'\n",
       "2. 1. 'b!'\n",
       "2. 'c!'\n",
       "3. 'd!'\n",
       "4. 'e!'\n",
       "\n",
       "\n",
       "\n",
       "3. 'f!'\n",
       "4. 1. 'g!'\n",
       "2. 'h!'\n",
       "3. 'i!'\n",
       "\n",
       "\n",
       "\n",
       "\n",
       "\n"
      ],
      "text/plain": [
       "[[1]]\n",
       "[1] \"a!\"\n",
       "\n",
       "[[2]]\n",
       "[1] \"b!\" \"c!\" \"d!\" \"e!\"\n",
       "\n",
       "[[3]]\n",
       "[1] \"f!\"\n",
       "\n",
       "[[4]]\n",
       "[1] \"g!\" \"h!\" \"i!\"\n"
      ]
     },
     "metadata": {},
     "output_type": "display_data"
    }
   ],
   "source": [
    "lapply(X = foo, FUN = function(x){paste(x,\"!\",sep=\"\")})"
   ]
  },
  {
   "cell_type": "markdown",
   "id": "6bb35347",
   "metadata": {},
   "source": [
    "## b"
   ]
  },
  {
   "cell_type": "code",
   "execution_count": 14,
   "id": "1339f9c2",
   "metadata": {},
   "outputs": [],
   "source": [
    "factorial <- function(x){\n",
    "    if (x == 0){\n",
    "        return(1)\n",
    "    } else {\n",
    "        return(x * factorial(x - 1))\n",
    "    }\n",
    "}"
   ]
  },
  {
   "cell_type": "code",
   "execution_count": 20,
   "id": "33cb5c29",
   "metadata": {},
   "outputs": [
    {
     "data": {
      "text/html": [
       "120"
      ],
      "text/latex": [
       "120"
      ],
      "text/markdown": [
       "120"
      ],
      "text/plain": [
       "[1] 120"
      ]
     },
     "metadata": {},
     "output_type": "display_data"
    }
   ],
   "source": [
    "factorial(5)"
   ]
  },
  {
   "cell_type": "code",
   "execution_count": 21,
   "id": "6b262207",
   "metadata": {},
   "outputs": [
    {
     "data": {
      "text/html": [
       "479001600"
      ],
      "text/latex": [
       "479001600"
      ],
      "text/markdown": [
       "479001600"
      ],
      "text/plain": [
       "[1] 479001600"
      ]
     },
     "metadata": {},
     "output_type": "display_data"
    }
   ],
   "source": [
    "factorial(12)"
   ]
  },
  {
   "cell_type": "code",
   "execution_count": 22,
   "id": "f02c79e3",
   "metadata": {},
   "outputs": [
    {
     "data": {
      "text/html": [
       "1"
      ],
      "text/latex": [
       "1"
      ],
      "text/markdown": [
       "1"
      ],
      "text/plain": [
       "[1] 1"
      ]
     },
     "metadata": {},
     "output_type": "display_data"
    }
   ],
   "source": [
    "factorial(0)"
   ]
  },
  {
   "cell_type": "markdown",
   "id": "3cf96345",
   "metadata": {},
   "source": [
    "## c"
   ]
  },
  {
   "cell_type": "code",
   "execution_count": 27,
   "id": "f3072a17",
   "metadata": {},
   "outputs": [],
   "source": [
    "foo <- list(1:3, matrix(c(3.3,3.2,2.8,2.1,4.6,4.5,3.1,9.4),4,2),matrix(c(3.3,3.2,2.8,2.1,4.6,4.5,3.1,9.4),2,4))"
   ]
  },
  {
   "cell_type": "code",
   "execution_count": 133,
   "id": "6d6b96fc",
   "metadata": {},
   "outputs": [],
   "source": [
    "bar <- list(1:9,matrix(1:9,1,9),matrix(1:9,9,1),matrix(1:9,3,3))"
   ]
  },
  {
   "cell_type": "code",
   "execution_count": 98,
   "id": "4f3a3832",
   "metadata": {},
   "outputs": [],
   "source": [
    "geolist <- function(InputList){\n",
    "    OutputList <- list()\n",
    "    GeoVector <- function(vector){\n",
    "        return(prod(vector)^(1/length(vector)))\n",
    "    }\n",
    "\n",
    "    for(i in 1:length(InputList)){\n",
    "       if(!is.matrix(x = InputList[[i]])){\n",
    "           OutputList[i] = GeoVector(InputList[[i]])\n",
    "           \n",
    "       } else {\n",
    "            OutputList[[i]] <- apply(InputList[[i]],1,GeoVector)\n",
    "       }\n",
    "    }\n",
    "    return(OutputList)\n",
    "}"
   ]
  },
  {
   "cell_type": "code",
   "execution_count": 99,
   "id": "c57f2c3f",
   "metadata": {},
   "outputs": [
    {
     "data": {
      "text/html": [
       "<ol>\n",
       "\t<li>1.81712059283214</li>\n",
       "\t<li><style>\n",
       ".list-inline {list-style: none; margin:0; padding: 0}\n",
       ".list-inline>li {display: inline-block}\n",
       ".list-inline>li:not(:last-child)::after {content: \"\\00b7\"; padding: 0 .5ex}\n",
       "</style>\n",
       "<ol class=list-inline><li>3.89615194775563</li><li>3.79473319220206</li><li>2.94618397253125</li><li>4.44297197830461</li></ol>\n",
       "</li>\n",
       "\t<li><style>\n",
       ".list-inline {list-style: none; margin:0; padding: 0}\n",
       ".list-inline>li {display: inline-block}\n",
       ".list-inline>li:not(:last-child)::after {content: \"\\00b7\"; padding: 0 .5ex}\n",
       "</style>\n",
       "<ol class=list-inline><li>3.38803489105765</li><li>4.10608003308461</li></ol>\n",
       "</li>\n",
       "</ol>\n"
      ],
      "text/latex": [
       "\\begin{enumerate}\n",
       "\\item 1.81712059283214\n",
       "\\item \\begin{enumerate*}\n",
       "\\item 3.89615194775563\n",
       "\\item 3.79473319220206\n",
       "\\item 2.94618397253125\n",
       "\\item 4.44297197830461\n",
       "\\end{enumerate*}\n",
       "\n",
       "\\item \\begin{enumerate*}\n",
       "\\item 3.38803489105765\n",
       "\\item 4.10608003308461\n",
       "\\end{enumerate*}\n",
       "\n",
       "\\end{enumerate}\n"
      ],
      "text/markdown": [
       "1. 1.81712059283214\n",
       "2. 1. 3.89615194775563\n",
       "2. 3.79473319220206\n",
       "3. 2.94618397253125\n",
       "4. 4.44297197830461\n",
       "\n",
       "\n",
       "\n",
       "3. 1. 3.38803489105765\n",
       "2. 4.10608003308461\n",
       "\n",
       "\n",
       "\n",
       "\n",
       "\n"
      ],
      "text/plain": [
       "[[1]]\n",
       "[1] 1.817121\n",
       "\n",
       "[[2]]\n",
       "[1] 3.896152 3.794733 2.946184 4.442972\n",
       "\n",
       "[[3]]\n",
       "[1] 3.388035 4.106080\n"
      ]
     },
     "metadata": {},
     "output_type": "display_data"
    }
   ],
   "source": [
    "\n",
    "geolist(foo)"
   ]
  }
 ],
 "metadata": {
  "kernelspec": {
   "display_name": "R",
   "language": "R",
   "name": "ir"
  },
  "language_info": {
   "codemirror_mode": "r",
   "file_extension": ".r",
   "mimetype": "text/x-r-source",
   "name": "R",
   "pygments_lexer": "r",
   "version": "3.6.3"
  }
 },
 "nbformat": 4,
 "nbformat_minor": 5
}
