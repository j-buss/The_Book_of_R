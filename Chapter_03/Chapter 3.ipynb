{
 "cells": [
  {
   "cell_type": "markdown",
   "id": "64aae141",
   "metadata": {},
   "source": [
    "# 3.1"
   ]
  },
  {
   "cell_type": "markdown",
   "id": "56b68643",
   "metadata": {},
   "source": [
    "## a"
   ]
  },
  {
   "cell_type": "code",
   "execution_count": 8,
   "id": "34c6c272",
   "metadata": {},
   "outputs": [
    {
     "data": {
      "text/html": [
       "<table class=\"dataframe\">\n",
       "<caption>A matrix: 4 × 2 of type dbl</caption>\n",
       "<tbody>\n",
       "\t<tr><td>4.3</td><td>3.1</td></tr>\n",
       "\t<tr><td>8.2</td><td>8.2</td></tr>\n",
       "\t<tr><td>3.2</td><td>0.9</td></tr>\n",
       "\t<tr><td>1.6</td><td>6.5</td></tr>\n",
       "</tbody>\n",
       "</table>\n"
      ],
      "text/latex": [
       "A matrix: 4 × 2 of type dbl\n",
       "\\begin{tabular}{ll}\n",
       "\t 4.3 & 3.1\\\\\n",
       "\t 8.2 & 8.2\\\\\n",
       "\t 3.2 & 0.9\\\\\n",
       "\t 1.6 & 6.5\\\\\n",
       "\\end{tabular}\n"
      ],
      "text/markdown": [
       "\n",
       "A matrix: 4 × 2 of type dbl\n",
       "\n",
       "| 4.3 | 3.1 |\n",
       "| 8.2 | 8.2 |\n",
       "| 3.2 | 0.9 |\n",
       "| 1.6 | 6.5 |\n",
       "\n"
      ],
      "text/plain": [
       "     [,1] [,2]\n",
       "[1,] 4.3  3.1 \n",
       "[2,] 8.2  8.2 \n",
       "[3,] 3.2  0.9 \n",
       "[4,] 1.6  6.5 "
      ]
     },
     "metadata": {},
     "output_type": "display_data"
    }
   ],
   "source": [
    "avec <- c(4.3, 3.1, 8.2, 8.2, 3.2, 0.9, 1.6, 6.5)\n",
    "amat <- matrix(avec, nrow=4, ncol=2, byrow=TRUE)\n",
    "amat"
   ]
  },
  {
   "cell_type": "markdown",
   "id": "33f2c99c",
   "metadata": {},
   "source": [
    "  ## b"
   ]
  },
  {
   "cell_type": "code",
   "execution_count": 10,
   "id": "c8becc56",
   "metadata": {},
   "outputs": [
    {
     "data": {
      "text/html": [
       "<style>\n",
       ".list-inline {list-style: none; margin:0; padding: 0}\n",
       ".list-inline>li {display: inline-block}\n",
       ".list-inline>li:not(:last-child)::after {content: \"\\00b7\"; padding: 0 .5ex}\n",
       "</style>\n",
       "<ol class=list-inline><li>4</li><li>2</li></ol>\n"
      ],
      "text/latex": [
       "\\begin{enumerate*}\n",
       "\\item 4\n",
       "\\item 2\n",
       "\\end{enumerate*}\n"
      ],
      "text/markdown": [
       "1. 4\n",
       "2. 2\n",
       "\n",
       "\n"
      ],
      "text/plain": [
       "[1] 4 2"
      ]
     },
     "metadata": {},
     "output_type": "display_data"
    }
   ],
   "source": [
    "dim(amat)"
   ]
  },
  {
   "cell_type": "code",
   "execution_count": 13,
   "id": "215b9951",
   "metadata": {},
   "outputs": [
    {
     "data": {
      "text/html": [
       "<style>\n",
       ".list-inline {list-style: none; margin:0; padding: 0}\n",
       ".list-inline>li {display: inline-block}\n",
       ".list-inline>li:not(:last-child)::after {content: \"\\00b7\"; padding: 0 .5ex}\n",
       "</style>\n",
       "<ol class=list-inline><li>3</li><li>2</li></ol>\n"
      ],
      "text/latex": [
       "\\begin{enumerate*}\n",
       "\\item 3\n",
       "\\item 2\n",
       "\\end{enumerate*}\n"
      ],
      "text/markdown": [
       "1. 3\n",
       "2. 2\n",
       "\n",
       "\n"
      ],
      "text/plain": [
       "[1] 3 2"
      ]
     },
     "metadata": {},
     "output_type": "display_data"
    }
   ],
   "source": [
    "dim(amat[-3,])"
   ]
  },
  {
   "cell_type": "markdown",
   "id": "ec5d49bb",
   "metadata": {},
   "source": [
    "## c"
   ]
  },
  {
   "cell_type": "code",
   "execution_count": 17,
   "id": "6a21ae74",
   "metadata": {},
   "outputs": [],
   "source": [
    "amat[,2]<-sort(amat[,2])"
   ]
  },
  {
   "cell_type": "code",
   "execution_count": 18,
   "id": "1f71b7cb",
   "metadata": {},
   "outputs": [
    {
     "data": {
      "text/html": [
       "<table class=\"dataframe\">\n",
       "<caption>A matrix: 4 × 2 of type dbl</caption>\n",
       "<tbody>\n",
       "\t<tr><td>4.3</td><td>0.9</td></tr>\n",
       "\t<tr><td>8.2</td><td>3.1</td></tr>\n",
       "\t<tr><td>3.2</td><td>6.5</td></tr>\n",
       "\t<tr><td>1.6</td><td>8.2</td></tr>\n",
       "</tbody>\n",
       "</table>\n"
      ],
      "text/latex": [
       "A matrix: 4 × 2 of type dbl\n",
       "\\begin{tabular}{ll}\n",
       "\t 4.3 & 0.9\\\\\n",
       "\t 8.2 & 3.1\\\\\n",
       "\t 3.2 & 6.5\\\\\n",
       "\t 1.6 & 8.2\\\\\n",
       "\\end{tabular}\n"
      ],
      "text/markdown": [
       "\n",
       "A matrix: 4 × 2 of type dbl\n",
       "\n",
       "| 4.3 | 0.9 |\n",
       "| 8.2 | 3.1 |\n",
       "| 3.2 | 6.5 |\n",
       "| 1.6 | 8.2 |\n",
       "\n"
      ],
      "text/plain": [
       "     [,1] [,2]\n",
       "[1,] 4.3  0.9 \n",
       "[2,] 8.2  3.1 \n",
       "[3,] 3.2  6.5 \n",
       "[4,] 1.6  8.2 "
      ]
     },
     "metadata": {},
     "output_type": "display_data"
    }
   ],
   "source": [
    "amat"
   ]
  },
  {
   "cell_type": "markdown",
   "id": "49b87fd8",
   "metadata": {},
   "source": [
    "## d"
   ]
  },
  {
   "cell_type": "code",
   "execution_count": 23,
   "id": "854c17b7",
   "metadata": {},
   "outputs": [
    {
     "data": {
      "text/html": [
       "<style>\n",
       ".list-inline {list-style: none; margin:0; padding: 0}\n",
       ".list-inline>li {display: inline-block}\n",
       ".list-inline>li:not(:last-child)::after {content: \"\\00b7\"; padding: 0 .5ex}\n",
       "</style>\n",
       "<ol class=list-inline><li>4.3</li><li>8.2</li><li>3.2</li></ol>\n"
      ],
      "text/latex": [
       "\\begin{enumerate*}\n",
       "\\item 4.3\n",
       "\\item 8.2\n",
       "\\item 3.2\n",
       "\\end{enumerate*}\n"
      ],
      "text/markdown": [
       "1. 4.3\n",
       "2. 8.2\n",
       "3. 3.2\n",
       "\n",
       "\n"
      ],
      "text/plain": [
       "[1] 4.3 8.2 3.2"
      ]
     },
     "metadata": {},
     "output_type": "display_data"
    }
   ],
   "source": [
    "amat[-4,-2]"
   ]
  },
  {
   "cell_type": "code",
   "execution_count": 24,
   "id": "c5e2db3e",
   "metadata": {},
   "outputs": [
    {
     "data": {
      "text/html": [
       "<table class=\"dataframe\">\n",
       "<caption>A matrix: 3 × 1 of type dbl</caption>\n",
       "<tbody>\n",
       "\t<tr><td>4.3</td></tr>\n",
       "\t<tr><td>8.2</td></tr>\n",
       "\t<tr><td>3.2</td></tr>\n",
       "</tbody>\n",
       "</table>\n"
      ],
      "text/latex": [
       "A matrix: 3 × 1 of type dbl\n",
       "\\begin{tabular}{l}\n",
       "\t 4.3\\\\\n",
       "\t 8.2\\\\\n",
       "\t 3.2\\\\\n",
       "\\end{tabular}\n"
      ],
      "text/markdown": [
       "\n",
       "A matrix: 3 × 1 of type dbl\n",
       "\n",
       "| 4.3 |\n",
       "| 8.2 |\n",
       "| 3.2 |\n",
       "\n"
      ],
      "text/plain": [
       "     [,1]\n",
       "[1,] 4.3 \n",
       "[2,] 8.2 \n",
       "[3,] 3.2 "
      ]
     },
     "metadata": {},
     "output_type": "display_data"
    }
   ],
   "source": [
    "matrix(amat[-4,-2])"
   ]
  },
  {
   "cell_type": "markdown",
   "id": "58349bcb",
   "metadata": {},
   "source": [
    "## e"
   ]
  },
  {
   "cell_type": "code",
   "execution_count": 26,
   "id": "a3c12ece",
   "metadata": {},
   "outputs": [],
   "source": [
    "emat <- amat[3:4,1:2]"
   ]
  },
  {
   "cell_type": "code",
   "execution_count": 27,
   "id": "6091ee55",
   "metadata": {},
   "outputs": [
    {
     "data": {
      "text/html": [
       "<table class=\"dataframe\">\n",
       "<caption>A matrix: 2 × 2 of type dbl</caption>\n",
       "<tbody>\n",
       "\t<tr><td>3.2</td><td>6.5</td></tr>\n",
       "\t<tr><td>1.6</td><td>8.2</td></tr>\n",
       "</tbody>\n",
       "</table>\n"
      ],
      "text/latex": [
       "A matrix: 2 × 2 of type dbl\n",
       "\\begin{tabular}{ll}\n",
       "\t 3.2 & 6.5\\\\\n",
       "\t 1.6 & 8.2\\\\\n",
       "\\end{tabular}\n"
      ],
      "text/markdown": [
       "\n",
       "A matrix: 2 × 2 of type dbl\n",
       "\n",
       "| 3.2 | 6.5 |\n",
       "| 1.6 | 8.2 |\n",
       "\n"
      ],
      "text/plain": [
       "     [,1] [,2]\n",
       "[1,] 3.2  6.5 \n",
       "[2,] 1.6  8.2 "
      ]
     },
     "metadata": {},
     "output_type": "display_data"
    }
   ],
   "source": [
    "emat"
   ]
  },
  {
   "cell_type": "markdown",
   "id": "a650e114",
   "metadata": {},
   "source": [
    "## f"
   ]
  },
  {
   "cell_type": "code",
   "execution_count": 28,
   "id": "f5466b78",
   "metadata": {},
   "outputs": [
    {
     "data": {
      "text/html": [
       "<table class=\"dataframe\">\n",
       "<caption>A matrix: 4 × 2 of type dbl</caption>\n",
       "<tbody>\n",
       "\t<tr><td>4.3</td><td>0.9</td></tr>\n",
       "\t<tr><td>8.2</td><td>3.1</td></tr>\n",
       "\t<tr><td>3.2</td><td>6.5</td></tr>\n",
       "\t<tr><td>1.6</td><td>8.2</td></tr>\n",
       "</tbody>\n",
       "</table>\n"
      ],
      "text/latex": [
       "A matrix: 4 × 2 of type dbl\n",
       "\\begin{tabular}{ll}\n",
       "\t 4.3 & 0.9\\\\\n",
       "\t 8.2 & 3.1\\\\\n",
       "\t 3.2 & 6.5\\\\\n",
       "\t 1.6 & 8.2\\\\\n",
       "\\end{tabular}\n"
      ],
      "text/markdown": [
       "\n",
       "A matrix: 4 × 2 of type dbl\n",
       "\n",
       "| 4.3 | 0.9 |\n",
       "| 8.2 | 3.1 |\n",
       "| 3.2 | 6.5 |\n",
       "| 1.6 | 8.2 |\n",
       "\n"
      ],
      "text/plain": [
       "     [,1] [,2]\n",
       "[1,] 4.3  0.9 \n",
       "[2,] 8.2  3.1 \n",
       "[3,] 3.2  6.5 \n",
       "[4,] 1.6  8.2 "
      ]
     },
     "metadata": {},
     "output_type": "display_data"
    }
   ],
   "source": [
    "amat"
   ]
  },
  {
   "cell_type": "code",
   "execution_count": 30,
   "id": "cd8ec349",
   "metadata": {},
   "outputs": [
    {
     "data": {
      "text/html": [
       "<style>\n",
       ".list-inline {list-style: none; margin:0; padding: 0}\n",
       ".list-inline>li {display: inline-block}\n",
       ".list-inline>li:not(:last-child)::after {content: \"\\00b7\"; padding: 0 .5ex}\n",
       "</style>\n",
       "<ol class=list-inline><li>-1.6</li><li>-4.1</li></ol>\n"
      ],
      "text/latex": [
       "\\begin{enumerate*}\n",
       "\\item -1.6\n",
       "\\item -4.1\n",
       "\\end{enumerate*}\n"
      ],
      "text/markdown": [
       "1. -1.6\n",
       "2. -4.1\n",
       "\n",
       "\n"
      ],
      "text/plain": [
       "[1] -1.6 -4.1"
      ]
     },
     "metadata": {},
     "output_type": "display_data"
    }
   ],
   "source": [
    "diag(emat)*-0.5"
   ]
  },
  {
   "cell_type": "code",
   "execution_count": 41,
   "id": "c1a8cd92",
   "metadata": {},
   "outputs": [],
   "source": [
    "amat[c(4,1),c(2,1)] <- diag(emat)*-0.5"
   ]
  },
  {
   "cell_type": "code",
   "execution_count": 42,
   "id": "ea49f4b1",
   "metadata": {},
   "outputs": [
    {
     "data": {
      "text/html": [
       "<table class=\"dataframe\">\n",
       "<caption>A matrix: 4 × 2 of type dbl</caption>\n",
       "<tbody>\n",
       "\t<tr><td>-4.1</td><td>-4.1</td></tr>\n",
       "\t<tr><td> 8.2</td><td> 3.1</td></tr>\n",
       "\t<tr><td> 3.2</td><td> 6.5</td></tr>\n",
       "\t<tr><td>-1.6</td><td>-1.6</td></tr>\n",
       "</tbody>\n",
       "</table>\n"
      ],
      "text/latex": [
       "A matrix: 4 × 2 of type dbl\n",
       "\\begin{tabular}{ll}\n",
       "\t -4.1 & -4.1\\\\\n",
       "\t  8.2 &  3.1\\\\\n",
       "\t  3.2 &  6.5\\\\\n",
       "\t -1.6 & -1.6\\\\\n",
       "\\end{tabular}\n"
      ],
      "text/markdown": [
       "\n",
       "A matrix: 4 × 2 of type dbl\n",
       "\n",
       "| -4.1 | -4.1 |\n",
       "|  8.2 |  3.1 |\n",
       "|  3.2 |  6.5 |\n",
       "| -1.6 | -1.6 |\n",
       "\n"
      ],
      "text/plain": [
       "     [,1] [,2]\n",
       "[1,] -4.1 -4.1\n",
       "[2,]  8.2  3.1\n",
       "[3,]  3.2  6.5\n",
       "[4,] -1.6 -1.6"
      ]
     },
     "metadata": {},
     "output_type": "display_data"
    }
   ],
   "source": [
    "amat"
   ]
  },
  {
   "cell_type": "markdown",
   "id": "ddad4662",
   "metadata": {},
   "source": [
    "## 3.2"
   ]
  },
  {
   "cell_type": "markdown",
   "id": "3911399a",
   "metadata": {},
   "source": [
    "### a"
   ]
  },
  {
   "cell_type": "code",
   "execution_count": 48,
   "id": "b11e1d91",
   "metadata": {},
   "outputs": [
    {
     "data": {
      "text/html": [
       "<table class=\"dataframe\">\n",
       "<caption>A matrix: 3 × 2 of type dbl</caption>\n",
       "<tbody>\n",
       "\t<tr><td> -2.571429</td><td> -5.142857</td></tr>\n",
       "\t<tr><td> -8.000000</td><td>-10.285714</td></tr>\n",
       "\t<tr><td>-12.285714</td><td>-15.428571</td></tr>\n",
       "</tbody>\n",
       "</table>\n"
      ],
      "text/latex": [
       "A matrix: 3 × 2 of type dbl\n",
       "\\begin{tabular}{ll}\n",
       "\t  -2.571429 &  -5.142857\\\\\n",
       "\t  -8.000000 & -10.285714\\\\\n",
       "\t -12.285714 & -15.428571\\\\\n",
       "\\end{tabular}\n"
      ],
      "text/markdown": [
       "\n",
       "A matrix: 3 × 2 of type dbl\n",
       "\n",
       "|  -2.571429 |  -5.142857 |\n",
       "|  -8.000000 | -10.285714 |\n",
       "| -12.285714 | -15.428571 |\n",
       "\n"
      ],
      "text/plain": [
       "     [,1]       [,2]      \n",
       "[1,]  -2.571429  -5.142857\n",
       "[2,]  -8.000000 -10.285714\n",
       "[3,] -12.285714 -15.428571"
      ]
     },
     "metadata": {},
     "output_type": "display_data"
    }
   ],
   "source": [
    "amat_1 = matrix(c(1, 2, 7, 2, 4, 6), nrow=3, ncol=2)\n",
    "amat_2 = matrix(c(10, 30, 50, 20, 40, 60), nrow=3, ncol=2)\n",
    "(2/7)*(amat_1 - amat_2)"
   ]
  },
  {
   "cell_type": "markdown",
   "id": "8f691c09",
   "metadata": {},
   "source": [
    "### b"
   ]
  },
  {
   "cell_type": "code",
   "execution_count": 49,
   "id": "269ae595",
   "metadata": {},
   "outputs": [],
   "source": [
    "A = matrix(c(1,2,7))\n",
    "B = matrix(c(3,4,8))"
   ]
  },
  {
   "cell_type": "code",
   "execution_count": 64,
   "id": "b8fbe25d",
   "metadata": {},
   "outputs": [
    {
     "data": {
      "text/html": [
       "<table class=\"dataframe\">\n",
       "<caption>A matrix: 1 × 1 of type dbl</caption>\n",
       "<tbody>\n",
       "\t<tr><td>67</td></tr>\n",
       "</tbody>\n",
       "</table>\n"
      ],
      "text/latex": [
       "A matrix: 1 × 1 of type dbl\n",
       "\\begin{tabular}{l}\n",
       "\t 67\\\\\n",
       "\\end{tabular}\n"
      ],
      "text/markdown": [
       "\n",
       "A matrix: 1 × 1 of type dbl\n",
       "\n",
       "| 67 |\n",
       "\n"
      ],
      "text/plain": [
       "     [,1]\n",
       "[1,] 67  "
      ]
     },
     "metadata": {},
     "output_type": "display_data"
    },
    {
     "data": {
      "text/html": [
       "<table class=\"dataframe\">\n",
       "<caption>A matrix: 3 × 3 of type dbl</caption>\n",
       "<tbody>\n",
       "\t<tr><td>1</td><td> 2</td><td> 7</td></tr>\n",
       "\t<tr><td>2</td><td> 4</td><td>14</td></tr>\n",
       "\t<tr><td>7</td><td>14</td><td>49</td></tr>\n",
       "</tbody>\n",
       "</table>\n"
      ],
      "text/latex": [
       "A matrix: 3 × 3 of type dbl\n",
       "\\begin{tabular}{lll}\n",
       "\t 1 &  2 &  7\\\\\n",
       "\t 2 &  4 & 14\\\\\n",
       "\t 7 & 14 & 49\\\\\n",
       "\\end{tabular}\n"
      ],
      "text/markdown": [
       "\n",
       "A matrix: 3 × 3 of type dbl\n",
       "\n",
       "| 1 |  2 |  7 |\n",
       "| 2 |  4 | 14 |\n",
       "| 7 | 14 | 49 |\n",
       "\n"
      ],
      "text/plain": [
       "     [,1] [,2] [,3]\n",
       "[1,] 1     2    7  \n",
       "[2,] 2     4   14  \n",
       "[3,] 7    14   49  "
      ]
     },
     "metadata": {},
     "output_type": "display_data"
    },
    {
     "data": {
      "text/html": [
       "<table class=\"dataframe\">\n",
       "<caption>A matrix: 3 × 3 of type dbl</caption>\n",
       "<tbody>\n",
       "\t<tr><td>-0.007923676</td><td> 0.003123274</td><td>0.007843334</td></tr>\n",
       "\t<tr><td> 0.003123274</td><td>-0.005350239</td><td>0.011483806</td></tr>\n",
       "\t<tr><td> 0.007843334</td><td> 0.011483806</td><td>0.017584735</td></tr>\n",
       "</tbody>\n",
       "</table>\n"
      ],
      "text/latex": [
       "A matrix: 3 × 3 of type dbl\n",
       "\\begin{tabular}{lll}\n",
       "\t -0.007923676 &  0.003123274 & 0.007843334\\\\\n",
       "\t  0.003123274 & -0.005350239 & 0.011483806\\\\\n",
       "\t  0.007843334 &  0.011483806 & 0.017584735\\\\\n",
       "\\end{tabular}\n"
      ],
      "text/markdown": [
       "\n",
       "A matrix: 3 × 3 of type dbl\n",
       "\n",
       "| -0.007923676 |  0.003123274 | 0.007843334 |\n",
       "|  0.003123274 | -0.005350239 | 0.011483806 |\n",
       "|  0.007843334 |  0.011483806 | 0.017584735 |\n",
       "\n"
      ],
      "text/plain": [
       "     [,1]         [,2]         [,3]       \n",
       "[1,] -0.007923676  0.003123274 0.007843334\n",
       "[2,]  0.003123274 -0.005350239 0.011483806\n",
       "[3,]  0.007843334  0.011483806 0.017584735"
      ]
     },
     "metadata": {},
     "output_type": "display_data"
    }
   ],
   "source": [
    "# i - No\n",
    "# ii - yes\n",
    "t(A)%*%B\n",
    "# iii - yes\n",
    "A %*% t(A)\n",
    "# iiii -no\n",
    "# v \n",
    "solve((B %*% t(B)) + (A %*% t(A)) - 100 * diag(x = 3))"
   ]
  },
  {
   "cell_type": "markdown",
   "id": "28aecc48",
   "metadata": {},
   "source": [
    "### c"
   ]
  },
  {
   "cell_type": "code",
   "execution_count": 68,
   "id": "fb3f4b8b",
   "metadata": {},
   "outputs": [
    {
     "name": "stdout",
     "output_type": "stream",
     "text": [
      "     [,1] [,2] [,3] [,4]\n",
      "[1,]    2    0    0    0\n",
      "[2,]    0    3    0    0\n",
      "[3,]    0    0    5    0\n",
      "[4,]    0    0    0   -1\n"
     ]
    }
   ],
   "source": [
    "A <- diag(x=c(2,3,5,-1))\n",
    "print(A)"
   ]
  },
  {
   "cell_type": "code",
   "execution_count": 71,
   "id": "05e341d5",
   "metadata": {},
   "outputs": [
    {
     "data": {
      "text/html": [
       "<table class=\"dataframe\">\n",
       "<caption>A matrix: 4 × 4 of type dbl</caption>\n",
       "<tbody>\n",
       "\t<tr><td>0</td><td>0</td><td>0</td><td>0</td></tr>\n",
       "\t<tr><td>0</td><td>0</td><td>0</td><td>0</td></tr>\n",
       "\t<tr><td>0</td><td>0</td><td>0</td><td>0</td></tr>\n",
       "\t<tr><td>0</td><td>0</td><td>0</td><td>0</td></tr>\n",
       "</tbody>\n",
       "</table>\n"
      ],
      "text/latex": [
       "A matrix: 4 × 4 of type dbl\n",
       "\\begin{tabular}{llll}\n",
       "\t 0 & 0 & 0 & 0\\\\\n",
       "\t 0 & 0 & 0 & 0\\\\\n",
       "\t 0 & 0 & 0 & 0\\\\\n",
       "\t 0 & 0 & 0 & 0\\\\\n",
       "\\end{tabular}\n"
      ],
      "text/markdown": [
       "\n",
       "A matrix: 4 × 4 of type dbl\n",
       "\n",
       "| 0 | 0 | 0 | 0 |\n",
       "| 0 | 0 | 0 | 0 |\n",
       "| 0 | 0 | 0 | 0 |\n",
       "| 0 | 0 | 0 | 0 |\n",
       "\n"
      ],
      "text/plain": [
       "     [,1] [,2] [,3] [,4]\n",
       "[1,] 0    0    0    0   \n",
       "[2,] 0    0    0    0   \n",
       "[3,] 0    0    0    0   \n",
       "[4,] 0    0    0    0   "
      ]
     },
     "metadata": {},
     "output_type": "display_data"
    }
   ],
   "source": [
    "solve(A) %*% A - diag(x=4)"
   ]
  },
  {
   "cell_type": "markdown",
   "id": "01002d29",
   "metadata": {},
   "source": [
    "## 3.3"
   ]
  },
  {
   "cell_type": "markdown",
   "id": "ee972c88",
   "metadata": {},
   "source": [
    "### a"
   ]
  },
  {
   "cell_type": "code",
   "execution_count": 80,
   "id": "a1f52b58",
   "metadata": {},
   "outputs": [],
   "source": [
    "a_array <- array(data=seq(from=4.8, to=0.1, length.out=48), dim=c(4,2,6))"
   ]
  },
  {
   "cell_type": "code",
   "execution_count": 81,
   "id": "046e2f56",
   "metadata": {},
   "outputs": [
    {
     "data": {
      "text/html": [
       "<style>\n",
       ".list-inline {list-style: none; margin:0; padding: 0}\n",
       ".list-inline>li {display: inline-block}\n",
       ".list-inline>li:not(:last-child)::after {content: \"\\00b7\"; padding: 0 .5ex}\n",
       "</style>\n",
       "<ol class=list-inline><li>4.8</li><li>4.7</li><li>4.6</li><li>4.5</li><li>4.4</li><li>4.3</li><li>4.2</li><li>4.1</li><li>4</li><li>3.9</li><li>3.8</li><li>3.7</li><li>3.6</li><li>3.5</li><li>3.4</li><li>3.3</li><li>3.2</li><li>3.1</li><li>3</li><li>2.9</li><li>2.8</li><li>2.7</li><li>2.6</li><li>2.5</li><li>2.4</li><li>2.3</li><li>2.2</li><li>2.1</li><li>2</li><li>1.9</li><li>1.8</li><li>1.7</li><li>1.6</li><li>1.5</li><li>1.4</li><li>1.3</li><li>1.2</li><li>1.1</li><li>1</li><li>0.899999999999999</li><li>0.8</li><li>0.699999999999999</li><li>0.6</li><li>0.5</li><li>0.399999999999999</li><li>0.3</li><li>0.199999999999999</li><li>0.1</li></ol>\n"
      ],
      "text/latex": [
       "\\begin{enumerate*}\n",
       "\\item 4.8\n",
       "\\item 4.7\n",
       "\\item 4.6\n",
       "\\item 4.5\n",
       "\\item 4.4\n",
       "\\item 4.3\n",
       "\\item 4.2\n",
       "\\item 4.1\n",
       "\\item 4\n",
       "\\item 3.9\n",
       "\\item 3.8\n",
       "\\item 3.7\n",
       "\\item 3.6\n",
       "\\item 3.5\n",
       "\\item 3.4\n",
       "\\item 3.3\n",
       "\\item 3.2\n",
       "\\item 3.1\n",
       "\\item 3\n",
       "\\item 2.9\n",
       "\\item 2.8\n",
       "\\item 2.7\n",
       "\\item 2.6\n",
       "\\item 2.5\n",
       "\\item 2.4\n",
       "\\item 2.3\n",
       "\\item 2.2\n",
       "\\item 2.1\n",
       "\\item 2\n",
       "\\item 1.9\n",
       "\\item 1.8\n",
       "\\item 1.7\n",
       "\\item 1.6\n",
       "\\item 1.5\n",
       "\\item 1.4\n",
       "\\item 1.3\n",
       "\\item 1.2\n",
       "\\item 1.1\n",
       "\\item 1\n",
       "\\item 0.899999999999999\n",
       "\\item 0.8\n",
       "\\item 0.699999999999999\n",
       "\\item 0.6\n",
       "\\item 0.5\n",
       "\\item 0.399999999999999\n",
       "\\item 0.3\n",
       "\\item 0.199999999999999\n",
       "\\item 0.1\n",
       "\\end{enumerate*}\n"
      ],
      "text/markdown": [
       "1. 4.8\n",
       "2. 4.7\n",
       "3. 4.6\n",
       "4. 4.5\n",
       "5. 4.4\n",
       "6. 4.3\n",
       "7. 4.2\n",
       "8. 4.1\n",
       "9. 4\n",
       "10. 3.9\n",
       "11. 3.8\n",
       "12. 3.7\n",
       "13. 3.6\n",
       "14. 3.5\n",
       "15. 3.4\n",
       "16. 3.3\n",
       "17. 3.2\n",
       "18. 3.1\n",
       "19. 3\n",
       "20. 2.9\n",
       "21. 2.8\n",
       "22. 2.7\n",
       "23. 2.6\n",
       "24. 2.5\n",
       "25. 2.4\n",
       "26. 2.3\n",
       "27. 2.2\n",
       "28. 2.1\n",
       "29. 2\n",
       "30. 1.9\n",
       "31. 1.8\n",
       "32. 1.7\n",
       "33. 1.6\n",
       "34. 1.5\n",
       "35. 1.4\n",
       "36. 1.3\n",
       "37. 1.2\n",
       "38. 1.1\n",
       "39. 1\n",
       "40. 0.899999999999999\n",
       "41. 0.8\n",
       "42. 0.699999999999999\n",
       "43. 0.6\n",
       "44. 0.5\n",
       "45. 0.399999999999999\n",
       "46. 0.3\n",
       "47. 0.199999999999999\n",
       "48. 0.1\n",
       "\n",
       "\n"
      ],
      "text/plain": [
       ", , 1\n",
       "\n",
       "     [,1] [,2]\n",
       "[1,]  4.8  4.4\n",
       "[2,]  4.7  4.3\n",
       "[3,]  4.6  4.2\n",
       "[4,]  4.5  4.1\n",
       "\n",
       ", , 2\n",
       "\n",
       "     [,1] [,2]\n",
       "[1,]  4.0  3.6\n",
       "[2,]  3.9  3.5\n",
       "[3,]  3.8  3.4\n",
       "[4,]  3.7  3.3\n",
       "\n",
       ", , 3\n",
       "\n",
       "     [,1] [,2]\n",
       "[1,]  3.2  2.8\n",
       "[2,]  3.1  2.7\n",
       "[3,]  3.0  2.6\n",
       "[4,]  2.9  2.5\n",
       "\n",
       ", , 4\n",
       "\n",
       "     [,1] [,2]\n",
       "[1,]  2.4  2.0\n",
       "[2,]  2.3  1.9\n",
       "[3,]  2.2  1.8\n",
       "[4,]  2.1  1.7\n",
       "\n",
       ", , 5\n",
       "\n",
       "     [,1] [,2]\n",
       "[1,]  1.6  1.2\n",
       "[2,]  1.5  1.1\n",
       "[3,]  1.4  1.0\n",
       "[4,]  1.3  0.9\n",
       "\n",
       ", , 6\n",
       "\n",
       "     [,1] [,2]\n",
       "[1,]  0.8  0.4\n",
       "[2,]  0.7  0.3\n",
       "[3,]  0.6  0.2\n",
       "[4,]  0.5  0.1\n"
      ]
     },
     "metadata": {},
     "output_type": "display_data"
    }
   ],
   "source": [
    "a_array"
   ]
  },
  {
   "cell_type": "markdown",
   "id": "94ee9e87",
   "metadata": {},
   "source": [
    "### b"
   ]
  },
  {
   "cell_type": "code",
   "execution_count": 90,
   "id": "046152b2",
   "metadata": {},
   "outputs": [
    {
     "name": "stdout",
     "output_type": "stream",
     "text": [
      "     [,1] [,2] [,3] [,4] [,5] [,6]\n",
      "[1,]  4.1  3.3  2.5  1.7  0.9  0.1\n",
      "[2,]  4.4  3.6  2.8  2.0  1.2  0.4\n"
     ]
    }
   ],
   "source": [
    "b_array <- a_array[c(4,1),2,]\n",
    "print(b_array)"
   ]
  },
  {
   "cell_type": "markdown",
   "id": "5dc43eea",
   "metadata": {},
   "source": [
    "### c"
   ]
  },
  {
   "cell_type": "code",
   "execution_count": 92,
   "id": "ffcdaa92",
   "metadata": {},
   "outputs": [],
   "source": [
    "c_array <- array(data=b_array[2,],dim=c(2,2,2,3))"
   ]
  },
  {
   "cell_type": "code",
   "execution_count": 95,
   "id": "d8395929",
   "metadata": {},
   "outputs": [
    {
     "data": {
      "text/html": [
       "<table class=\"dataframe\">\n",
       "<caption>A matrix: 2 × 2 of type dbl</caption>\n",
       "<tbody>\n",
       "\t<tr><td>4.4</td><td>2.8</td></tr>\n",
       "\t<tr><td>3.6</td><td>2.0</td></tr>\n",
       "</tbody>\n",
       "</table>\n"
      ],
      "text/latex": [
       "A matrix: 2 × 2 of type dbl\n",
       "\\begin{tabular}{ll}\n",
       "\t 4.4 & 2.8\\\\\n",
       "\t 3.6 & 2.0\\\\\n",
       "\\end{tabular}\n"
      ],
      "text/markdown": [
       "\n",
       "A matrix: 2 × 2 of type dbl\n",
       "\n",
       "| 4.4 | 2.8 |\n",
       "| 3.6 | 2.0 |\n",
       "\n"
      ],
      "text/plain": [
       "     [,1] [,2]\n",
       "[1,] 4.4  2.8 \n",
       "[2,] 3.6  2.0 "
      ]
     },
     "metadata": {},
     "output_type": "display_data"
    }
   ],
   "source": [
    "# Example - First Layer of first block\n",
    "c_array[,,1,1]"
   ]
  },
  {
   "cell_type": "markdown",
   "id": "e3696bf2",
   "metadata": {},
   "source": [
    "### d"
   ]
  },
  {
   "cell_type": "code",
   "execution_count": 103,
   "id": "ca647cb4",
   "metadata": {},
   "outputs": [],
   "source": [
    "d_array <- array(data=a_array[,,-6],dim=c(4,2,5))"
   ]
  },
  {
   "cell_type": "code",
   "execution_count": 104,
   "id": "586c1d91",
   "metadata": {},
   "outputs": [
    {
     "data": {
      "text/html": [
       "<style>\n",
       ".list-inline {list-style: none; margin:0; padding: 0}\n",
       ".list-inline>li {display: inline-block}\n",
       ".list-inline>li:not(:last-child)::after {content: \"\\00b7\"; padding: 0 .5ex}\n",
       "</style>\n",
       "<ol class=list-inline><li>4.8</li><li>4.7</li><li>4.6</li><li>4.5</li><li>4.4</li><li>4.3</li><li>4.2</li><li>4.1</li><li>4</li><li>3.9</li><li>3.8</li><li>3.7</li><li>3.6</li><li>3.5</li><li>3.4</li><li>3.3</li><li>3.2</li><li>3.1</li><li>3</li><li>2.9</li><li>2.8</li><li>2.7</li><li>2.6</li><li>2.5</li><li>2.4</li><li>2.3</li><li>2.2</li><li>2.1</li><li>2</li><li>1.9</li><li>1.8</li><li>1.7</li><li>1.6</li><li>1.5</li><li>1.4</li><li>1.3</li><li>1.2</li><li>1.1</li><li>1</li><li>0.899999999999999</li></ol>\n"
      ],
      "text/latex": [
       "\\begin{enumerate*}\n",
       "\\item 4.8\n",
       "\\item 4.7\n",
       "\\item 4.6\n",
       "\\item 4.5\n",
       "\\item 4.4\n",
       "\\item 4.3\n",
       "\\item 4.2\n",
       "\\item 4.1\n",
       "\\item 4\n",
       "\\item 3.9\n",
       "\\item 3.8\n",
       "\\item 3.7\n",
       "\\item 3.6\n",
       "\\item 3.5\n",
       "\\item 3.4\n",
       "\\item 3.3\n",
       "\\item 3.2\n",
       "\\item 3.1\n",
       "\\item 3\n",
       "\\item 2.9\n",
       "\\item 2.8\n",
       "\\item 2.7\n",
       "\\item 2.6\n",
       "\\item 2.5\n",
       "\\item 2.4\n",
       "\\item 2.3\n",
       "\\item 2.2\n",
       "\\item 2.1\n",
       "\\item 2\n",
       "\\item 1.9\n",
       "\\item 1.8\n",
       "\\item 1.7\n",
       "\\item 1.6\n",
       "\\item 1.5\n",
       "\\item 1.4\n",
       "\\item 1.3\n",
       "\\item 1.2\n",
       "\\item 1.1\n",
       "\\item 1\n",
       "\\item 0.899999999999999\n",
       "\\end{enumerate*}\n"
      ],
      "text/markdown": [
       "1. 4.8\n",
       "2. 4.7\n",
       "3. 4.6\n",
       "4. 4.5\n",
       "5. 4.4\n",
       "6. 4.3\n",
       "7. 4.2\n",
       "8. 4.1\n",
       "9. 4\n",
       "10. 3.9\n",
       "11. 3.8\n",
       "12. 3.7\n",
       "13. 3.6\n",
       "14. 3.5\n",
       "15. 3.4\n",
       "16. 3.3\n",
       "17. 3.2\n",
       "18. 3.1\n",
       "19. 3\n",
       "20. 2.9\n",
       "21. 2.8\n",
       "22. 2.7\n",
       "23. 2.6\n",
       "24. 2.5\n",
       "25. 2.4\n",
       "26. 2.3\n",
       "27. 2.2\n",
       "28. 2.1\n",
       "29. 2\n",
       "30. 1.9\n",
       "31. 1.8\n",
       "32. 1.7\n",
       "33. 1.6\n",
       "34. 1.5\n",
       "35. 1.4\n",
       "36. 1.3\n",
       "37. 1.2\n",
       "38. 1.1\n",
       "39. 1\n",
       "40. 0.899999999999999\n",
       "\n",
       "\n"
      ],
      "text/plain": [
       ", , 1\n",
       "\n",
       "     [,1] [,2]\n",
       "[1,]  4.8  4.4\n",
       "[2,]  4.7  4.3\n",
       "[3,]  4.6  4.2\n",
       "[4,]  4.5  4.1\n",
       "\n",
       ", , 2\n",
       "\n",
       "     [,1] [,2]\n",
       "[1,]  4.0  3.6\n",
       "[2,]  3.9  3.5\n",
       "[3,]  3.8  3.4\n",
       "[4,]  3.7  3.3\n",
       "\n",
       ", , 3\n",
       "\n",
       "     [,1] [,2]\n",
       "[1,]  3.2  2.8\n",
       "[2,]  3.1  2.7\n",
       "[3,]  3.0  2.6\n",
       "[4,]  2.9  2.5\n",
       "\n",
       ", , 4\n",
       "\n",
       "     [,1] [,2]\n",
       "[1,]  2.4  2.0\n",
       "[2,]  2.3  1.9\n",
       "[3,]  2.2  1.8\n",
       "[4,]  2.1  1.7\n",
       "\n",
       ", , 5\n",
       "\n",
       "     [,1] [,2]\n",
       "[1,]  1.6  1.2\n",
       "[2,]  1.5  1.1\n",
       "[3,]  1.4  1.0\n",
       "[4,]  1.3  0.9\n"
      ]
     },
     "metadata": {},
     "output_type": "display_data"
    }
   ],
   "source": [
    "d_array"
   ]
  },
  {
   "cell_type": "markdown",
   "id": "07853db2",
   "metadata": {},
   "source": [
    "### e"
   ]
  },
  {
   "cell_type": "code",
   "execution_count": 105,
   "id": "389003d0",
   "metadata": {},
   "outputs": [
    {
     "data": {
      "text/html": [
       "<style>\n",
       ".list-inline {list-style: none; margin:0; padding: 0}\n",
       ".list-inline>li {display: inline-block}\n",
       ".list-inline>li:not(:last-child)::after {content: \"\\00b7\"; padding: 0 .5ex}\n",
       "</style>\n",
       "<ol class=list-inline><li>4</li><li>2</li><li>5</li></ol>\n"
      ],
      "text/latex": [
       "\\begin{enumerate*}\n",
       "\\item 4\n",
       "\\item 2\n",
       "\\item 5\n",
       "\\end{enumerate*}\n"
      ],
      "text/markdown": [
       "1. 4\n",
       "2. 2\n",
       "3. 5\n",
       "\n",
       "\n"
      ],
      "text/plain": [
       "[1] 4 2 5"
      ]
     },
     "metadata": {},
     "output_type": "display_data"
    }
   ],
   "source": [
    "dim(d_array)"
   ]
  },
  {
   "cell_type": "code",
   "execution_count": 106,
   "id": "81176efe",
   "metadata": {},
   "outputs": [
    {
     "data": {
      "text/html": [
       "<table class=\"dataframe\">\n",
       "<caption>A matrix: 4 × 2 of type dbl</caption>\n",
       "<tbody>\n",
       "\t<tr><td>4.8</td><td>4.4</td></tr>\n",
       "\t<tr><td>4.7</td><td>4.3</td></tr>\n",
       "\t<tr><td>4.6</td><td>4.2</td></tr>\n",
       "\t<tr><td>4.5</td><td>4.1</td></tr>\n",
       "</tbody>\n",
       "</table>\n"
      ],
      "text/latex": [
       "A matrix: 4 × 2 of type dbl\n",
       "\\begin{tabular}{ll}\n",
       "\t 4.8 & 4.4\\\\\n",
       "\t 4.7 & 4.3\\\\\n",
       "\t 4.6 & 4.2\\\\\n",
       "\t 4.5 & 4.1\\\\\n",
       "\\end{tabular}\n"
      ],
      "text/markdown": [
       "\n",
       "A matrix: 4 × 2 of type dbl\n",
       "\n",
       "| 4.8 | 4.4 |\n",
       "| 4.7 | 4.3 |\n",
       "| 4.6 | 4.2 |\n",
       "| 4.5 | 4.1 |\n",
       "\n"
      ],
      "text/plain": [
       "     [,1] [,2]\n",
       "[1,] 4.8  4.4 \n",
       "[2,] 4.7  4.3 \n",
       "[3,] 4.6  4.2 \n",
       "[4,] 4.5  4.1 "
      ]
     },
     "metadata": {},
     "output_type": "display_data"
    }
   ],
   "source": [
    "d_array[,,1]"
   ]
  },
  {
   "cell_type": "code",
   "execution_count": 109,
   "id": "d618e2db",
   "metadata": {},
   "outputs": [],
   "source": [
    "d_array[c(2,4),2,c(1,3,5)] <- -99"
   ]
  },
  {
   "cell_type": "code",
   "execution_count": 113,
   "id": "b2420042",
   "metadata": {},
   "outputs": [
    {
     "data": {
      "text/html": [
       "<table class=\"dataframe\">\n",
       "<caption>A matrix: 4 × 2 of type dbl</caption>\n",
       "<tbody>\n",
       "\t<tr><td>3.2</td><td>  2.8</td></tr>\n",
       "\t<tr><td>3.1</td><td>-99.0</td></tr>\n",
       "\t<tr><td>3.0</td><td>  2.6</td></tr>\n",
       "\t<tr><td>2.9</td><td>-99.0</td></tr>\n",
       "</tbody>\n",
       "</table>\n"
      ],
      "text/latex": [
       "A matrix: 4 × 2 of type dbl\n",
       "\\begin{tabular}{ll}\n",
       "\t 3.2 &   2.8\\\\\n",
       "\t 3.1 & -99.0\\\\\n",
       "\t 3.0 &   2.6\\\\\n",
       "\t 2.9 & -99.0\\\\\n",
       "\\end{tabular}\n"
      ],
      "text/markdown": [
       "\n",
       "A matrix: 4 × 2 of type dbl\n",
       "\n",
       "| 3.2 |   2.8 |\n",
       "| 3.1 | -99.0 |\n",
       "| 3.0 |   2.6 |\n",
       "| 2.9 | -99.0 |\n",
       "\n"
      ],
      "text/plain": [
       "     [,1] [,2] \n",
       "[1,] 3.2    2.8\n",
       "[2,] 3.1  -99.0\n",
       "[3,] 3.0    2.6\n",
       "[4,] 2.9  -99.0"
      ]
     },
     "metadata": {},
     "output_type": "display_data"
    }
   ],
   "source": [
    "# example\n",
    "d_array[,,3]"
   ]
  },
  {
   "cell_type": "code",
   "execution_count": null,
   "id": "809122af",
   "metadata": {},
   "outputs": [],
   "source": []
  }
 ],
 "metadata": {
  "kernelspec": {
   "display_name": "R",
   "language": "R",
   "name": "ir"
  },
  "language_info": {
   "codemirror_mode": "r",
   "file_extension": ".r",
   "mimetype": "text/x-r-source",
   "name": "R",
   "pygments_lexer": "r",
   "version": "3.6.3"
  }
 },
 "nbformat": 4,
 "nbformat_minor": 5
}
