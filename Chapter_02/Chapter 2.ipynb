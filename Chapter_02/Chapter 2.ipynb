{
 "cells": [
  {
   "cell_type": "markdown",
   "id": "64aae141",
   "metadata": {},
   "source": [
    "# 2.1"
   ]
  },
  {
   "cell_type": "markdown",
   "id": "56b68643",
   "metadata": {},
   "source": [
    "## a"
   ]
  },
  {
   "cell_type": "code",
   "execution_count": 12,
   "id": "44ccdc77",
   "metadata": {},
   "outputs": [
    {
     "data": {
      "text/html": [
       "29.5055606431273"
      ],
      "text/latex": [
       "29.5055606431273"
      ],
      "text/markdown": [
       "29.5055606431273"
      ],
      "text/plain": [
       "[1] 29.50556"
      ]
     },
     "metadata": {},
     "output_type": "display_data"
    }
   ],
   "source": [
    "a <- 2.3\n",
    "(6*a + 42) / 3^(4.2-3.62)"
   ]
  },
  {
   "cell_type": "markdown",
   "id": "33f2c99c",
   "metadata": {},
   "source": [
    "  ## b"
   ]
  },
  {
   "cell_type": "code",
   "execution_count": 3,
   "id": "c8becc56",
   "metadata": {},
   "outputs": [
    {
     "data": {
      "text/html": [
       "18"
      ],
      "text/latex": [
       "18"
      ],
      "text/markdown": [
       "18"
      ],
      "text/plain": [
       "[1] 18"
      ]
     },
     "metadata": {},
     "output_type": "display_data"
    }
   ],
   "source": [
    "(-4)^2+2"
   ]
  },
  {
   "cell_type": "markdown",
   "id": "ec5d49bb",
   "metadata": {},
   "source": [
    "## c"
   ]
  },
  {
   "cell_type": "code",
   "execution_count": 11,
   "id": "a552b449",
   "metadata": {},
   "outputs": [
    {
     "data": {
      "text/html": [
       "6.72829844760174"
      ],
      "text/latex": [
       "6.72829844760174"
      ],
      "text/markdown": [
       "6.72829844760174"
      ],
      "text/plain": [
       "[1] 6.728298"
      ]
     },
     "metadata": {},
     "output_type": "display_data"
    }
   ],
   "source": [
    "z <- 25.2 + 15 + 16.44 + 15.3 + 18.6\n",
    "sqrt(mean(z)/2)"
   ]
  },
  {
   "cell_type": "markdown",
   "id": "49b87fd8",
   "metadata": {},
   "source": [
    "## d"
   ]
  },
  {
   "cell_type": "code",
   "execution_count": 13,
   "id": "854c17b7",
   "metadata": {},
   "outputs": [
    {
     "data": {
      "text/html": [
       "-1.20397280432594"
      ],
      "text/latex": [
       "-1.20397280432594"
      ],
      "text/markdown": [
       "-1.20397280432594"
      ],
      "text/plain": [
       "[1] -1.203973"
      ]
     },
     "metadata": {},
     "output_type": "display_data"
    }
   ],
   "source": [
    "log(x=0.3)"
   ]
  },
  {
   "cell_type": "markdown",
   "id": "58349bcb",
   "metadata": {},
   "source": [
    "## e"
   ]
  },
  {
   "cell_type": "code",
   "execution_count": 17,
   "id": "a3c12ece",
   "metadata": {},
   "outputs": [
    {
     "data": {
      "text/html": [
       "0.300021842092871"
      ],
      "text/latex": [
       "0.300021842092871"
      ],
      "text/markdown": [
       "0.300021842092871"
      ],
      "text/plain": [
       "[1] 0.3000218"
      ]
     },
     "metadata": {},
     "output_type": "display_data"
    }
   ],
   "source": [
    "exp(x=-1.2039)"
   ]
  },
  {
   "cell_type": "markdown",
   "id": "a650e114",
   "metadata": {},
   "source": [
    "## f"
   ]
  },
  {
   "cell_type": "code",
   "execution_count": 18,
   "id": "f5466b78",
   "metadata": {},
   "outputs": [],
   "source": [
    "a <- -0.00000000423546322"
   ]
  },
  {
   "cell_type": "code",
   "execution_count": 19,
   "id": "cd8ec349",
   "metadata": {},
   "outputs": [
    {
     "name": "stdout",
     "output_type": "stream",
     "text": [
      "[1] -4.235463e-09\n"
     ]
    }
   ],
   "source": [
    "print(a)"
   ]
  },
  {
   "cell_type": "markdown",
   "id": "ddad4662",
   "metadata": {},
   "source": [
    "## 2.2"
   ]
  },
  {
   "cell_type": "markdown",
   "id": "3911399a",
   "metadata": {},
   "source": [
    "### a"
   ]
  },
  {
   "cell_type": "code",
   "execution_count": 21,
   "id": "b11e1d91",
   "metadata": {},
   "outputs": [],
   "source": [
    "objectname <- 3^3 * 4^(1/8)"
   ]
  },
  {
   "cell_type": "markdown",
   "id": "8f691c09",
   "metadata": {},
   "source": [
    "### b"
   ]
  },
  {
   "cell_type": "code",
   "execution_count": 22,
   "id": "269ae595",
   "metadata": {},
   "outputs": [
    {
     "name": "stdout",
     "output_type": "stream",
     "text": [
      "[1] 13.78051\n"
     ]
    }
   ],
   "source": [
    "objectname <- objectname / 2.33\n",
    "print(objectname)"
   ]
  },
  {
   "cell_type": "markdown",
   "id": "28aecc48",
   "metadata": {},
   "source": [
    "### c"
   ]
  },
  {
   "cell_type": "code",
   "execution_count": 26,
   "id": "fb3f4b8b",
   "metadata": {},
   "outputs": [],
   "source": [
    "new_obj <- -8.2 *10^(-13)"
   ]
  },
  {
   "cell_type": "markdown",
   "id": "a61bf289",
   "metadata": {},
   "source": [
    "### d"
   ]
  },
  {
   "cell_type": "code",
   "execution_count": 27,
   "id": "05e341d5",
   "metadata": {},
   "outputs": [
    {
     "data": {
      "text/html": [
       "-1.13000195391246e-11"
      ],
      "text/latex": [
       "-1.13000195391246e-11"
      ],
      "text/markdown": [
       "-1.13000195391246e-11"
      ],
      "text/plain": [
       "[1] -1.130002e-11"
      ]
     },
     "metadata": {},
     "output_type": "display_data"
    }
   ],
   "source": [
    "objectname * new_obj"
   ]
  },
  {
   "cell_type": "markdown",
   "id": "01002d29",
   "metadata": {},
   "source": [
    "## 2.3"
   ]
  },
  {
   "cell_type": "markdown",
   "id": "ee972c88",
   "metadata": {},
   "source": [
    "### a"
   ]
  },
  {
   "cell_type": "code",
   "execution_count": 48,
   "id": "a1f52b58",
   "metadata": {},
   "outputs": [
    {
     "data": {
      "text/html": [
       "<style>\n",
       ".list-inline {list-style: none; margin:0; padding: 0}\n",
       ".list-inline>li {display: inline-block}\n",
       ".list-inline>li:not(:last-child)::after {content: \"\\00b7\"; padding: 0 .5ex}\n",
       "</style>\n",
       "<ol class=list-inline><li>5</li><li>5.3</li><li>5.6</li><li>5.9</li><li>6.2</li><li>6.5</li><li>6.8</li><li>7.1</li><li>7.4</li><li>7.7</li><li>8</li><li>8.3</li><li>8.6</li><li>8.9</li><li>9.2</li><li>9.5</li><li>9.8</li><li>10.1</li><li>10.4</li><li>10.7</li><li>11</li></ol>\n"
      ],
      "text/latex": [
       "\\begin{enumerate*}\n",
       "\\item 5\n",
       "\\item 5.3\n",
       "\\item 5.6\n",
       "\\item 5.9\n",
       "\\item 6.2\n",
       "\\item 6.5\n",
       "\\item 6.8\n",
       "\\item 7.1\n",
       "\\item 7.4\n",
       "\\item 7.7\n",
       "\\item 8\n",
       "\\item 8.3\n",
       "\\item 8.6\n",
       "\\item 8.9\n",
       "\\item 9.2\n",
       "\\item 9.5\n",
       "\\item 9.8\n",
       "\\item 10.1\n",
       "\\item 10.4\n",
       "\\item 10.7\n",
       "\\item 11\n",
       "\\end{enumerate*}\n"
      ],
      "text/markdown": [
       "1. 5\n",
       "2. 5.3\n",
       "3. 5.6\n",
       "4. 5.9\n",
       "5. 6.2\n",
       "6. 6.5\n",
       "7. 6.8\n",
       "8. 7.1\n",
       "9. 7.4\n",
       "10. 7.7\n",
       "11. 8\n",
       "12. 8.3\n",
       "13. 8.6\n",
       "14. 8.9\n",
       "15. 9.2\n",
       "16. 9.5\n",
       "17. 9.8\n",
       "18. 10.1\n",
       "19. 10.4\n",
       "20. 10.7\n",
       "21. 11\n",
       "\n",
       "\n"
      ],
      "text/plain": [
       " [1]  5.0  5.3  5.6  5.9  6.2  6.5  6.8  7.1  7.4  7.7  8.0  8.3  8.6  8.9  9.2\n",
       "[16]  9.5  9.8 10.1 10.4 10.7 11.0"
      ]
     },
     "metadata": {},
     "output_type": "display_data"
    }
   ],
   "source": [
    "a <- seq(from=5, to=11, by=0.3)\n",
    "a"
   ]
  },
  {
   "cell_type": "markdown",
   "id": "94ee9e87",
   "metadata": {},
   "source": [
    "### b"
   ]
  },
  {
   "cell_type": "code",
   "execution_count": 49,
   "id": "046152b2",
   "metadata": {},
   "outputs": [
    {
     "data": {
      "text/html": [
       "<style>\n",
       ".list-inline {list-style: none; margin:0; padding: 0}\n",
       ".list-inline>li {display: inline-block}\n",
       ".list-inline>li:not(:last-child)::after {content: \"\\00b7\"; padding: 0 .5ex}\n",
       "</style>\n",
       "<ol class=list-inline><li>11</li><li>10.7</li><li>10.4</li><li>10.1</li><li>9.8</li><li>9.5</li><li>9.2</li><li>8.9</li><li>8.6</li><li>8.3</li><li>8</li><li>7.7</li><li>7.4</li><li>7.1</li><li>6.8</li><li>6.5</li><li>6.2</li><li>5.9</li><li>5.6</li><li>5.3</li><li>5</li></ol>\n"
      ],
      "text/latex": [
       "\\begin{enumerate*}\n",
       "\\item 11\n",
       "\\item 10.7\n",
       "\\item 10.4\n",
       "\\item 10.1\n",
       "\\item 9.8\n",
       "\\item 9.5\n",
       "\\item 9.2\n",
       "\\item 8.9\n",
       "\\item 8.6\n",
       "\\item 8.3\n",
       "\\item 8\n",
       "\\item 7.7\n",
       "\\item 7.4\n",
       "\\item 7.1\n",
       "\\item 6.8\n",
       "\\item 6.5\n",
       "\\item 6.2\n",
       "\\item 5.9\n",
       "\\item 5.6\n",
       "\\item 5.3\n",
       "\\item 5\n",
       "\\end{enumerate*}\n"
      ],
      "text/markdown": [
       "1. 11\n",
       "2. 10.7\n",
       "3. 10.4\n",
       "4. 10.1\n",
       "5. 9.8\n",
       "6. 9.5\n",
       "7. 9.2\n",
       "8. 8.9\n",
       "9. 8.6\n",
       "10. 8.3\n",
       "11. 8\n",
       "12. 7.7\n",
       "13. 7.4\n",
       "14. 7.1\n",
       "15. 6.8\n",
       "16. 6.5\n",
       "17. 6.2\n",
       "18. 5.9\n",
       "19. 5.6\n",
       "20. 5.3\n",
       "21. 5\n",
       "\n",
       "\n"
      ],
      "text/plain": [
       " [1] 11.0 10.7 10.4 10.1  9.8  9.5  9.2  8.9  8.6  8.3  8.0  7.7  7.4  7.1  6.8\n",
       "[16]  6.5  6.2  5.9  5.6  5.3  5.0"
      ]
     },
     "metadata": {},
     "output_type": "display_data"
    }
   ],
   "source": [
    "b <- sort(a, decreasing=TRUE)\n",
    "b"
   ]
  },
  {
   "cell_type": "markdown",
   "id": "5dc43eea",
   "metadata": {},
   "source": [
    "### c"
   ]
  },
  {
   "cell_type": "code",
   "execution_count": 50,
   "id": "ffcdaa92",
   "metadata": {},
   "outputs": [
    {
     "name": "stdout",
     "output_type": "stream",
     "text": [
      "  [1] -1 -1 -1 -1 -1 -1 -1 -1 -1 -1  3  3  3  3  3  3  3  3  3  3 -5 -5 -5 -5 -5\n",
      " [26] -5 -5 -5 -5 -5  7  7  7  7  7  7  7  7  7  7 -9 -9 -9 -9 -9 -9 -9 -9 -9 -9\n",
      " [51] -1 -1 -1 -1 -1 -1 -1 -1 -1 -1  3  3  3  3  3  3  3  3  3  3 -5 -5 -5 -5 -5\n",
      " [76] -5 -5 -5 -5 -5  7  7  7  7  7  7  7  7  7  7 -9 -9 -9 -9 -9 -9 -9 -9 -9 -9\n"
     ]
    }
   ],
   "source": [
    "c <- rep(x=c(-1, 3, -5, 7, -9), times=2, each=10)\n",
    "print(c)"
   ]
  },
  {
   "cell_type": "code",
   "execution_count": 51,
   "id": "d8395929",
   "metadata": {},
   "outputs": [
    {
     "name": "stdout",
     "output_type": "stream",
     "text": [
      "  [1] -9 -9 -9 -9 -9 -9 -9 -9 -9 -9 -9 -9 -9 -9 -9 -9 -9 -9 -9 -9 -5 -5 -5 -5 -5\n",
      " [26] -5 -5 -5 -5 -5 -5 -5 -5 -5 -5 -5 -5 -5 -5 -5 -1 -1 -1 -1 -1 -1 -1 -1 -1 -1\n",
      " [51] -1 -1 -1 -1 -1 -1 -1 -1 -1 -1  3  3  3  3  3  3  3  3  3  3  3  3  3  3  3\n",
      " [76]  3  3  3  3  3  7  7  7  7  7  7  7  7  7  7  7  7  7  7  7  7  7  7  7  7\n"
     ]
    }
   ],
   "source": [
    "c <- sort(c, decreasing=FALSE)\n",
    "print(c)"
   ]
  },
  {
   "cell_type": "markdown",
   "id": "e3696bf2",
   "metadata": {},
   "source": [
    "### d"
   ]
  },
  {
   "cell_type": "code",
   "execution_count": 53,
   "id": "ca647cb4",
   "metadata": {},
   "outputs": [
    {
     "name": "stdout",
     "output_type": "stream",
     "text": [
      "[1]  6  7  8  9 10 11 12\n"
     ]
    }
   ],
   "source": [
    "d1 <- 6:12\n",
    "print(d1)"
   ]
  },
  {
   "cell_type": "code",
   "execution_count": 54,
   "id": "dad9dccb",
   "metadata": {},
   "outputs": [
    {
     "name": "stdout",
     "output_type": "stream",
     "text": [
      "[1] 5.3 5.3 5.3\n"
     ]
    }
   ],
   "source": [
    "d2 <- rep(x=5.3, times=3)\n",
    "print(d2)"
   ]
  },
  {
   "cell_type": "code",
   "execution_count": 55,
   "id": "b0337389",
   "metadata": {},
   "outputs": [
    {
     "name": "stdout",
     "output_type": "stream",
     "text": [
      "[1] -3\n"
     ]
    }
   ],
   "source": [
    "d3 <- -3\n",
    "print(d3)"
   ]
  },
  {
   "cell_type": "code",
   "execution_count": 58,
   "id": "43d7caa8",
   "metadata": {},
   "outputs": [
    {
     "name": "stdout",
     "output_type": "stream",
     "text": [
      "[1] 102.00 101.75 101.50 101.25 101.00 100.75 100.50 100.25 100.00\n"
     ]
    }
   ],
   "source": [
    "d4 <- seq(from=102, to=length(c), length.out=9)\n",
    "print(d4)"
   ]
  },
  {
   "cell_type": "code",
   "execution_count": 60,
   "id": "c0d16cd0",
   "metadata": {},
   "outputs": [
    {
     "name": "stdout",
     "output_type": "stream",
     "text": [
      " [1]   6.00   7.00   8.00   9.00  10.00  11.00  12.00   5.30   5.30   5.30\n",
      "[11]  -3.00 102.00 101.75 101.50 101.25 101.00 100.75 100.50 100.25 100.00\n"
     ]
    }
   ],
   "source": [
    "d5 <- c(d1, d2, d3, d4)\n",
    "print(d5)"
   ]
  },
  {
   "cell_type": "code",
   "execution_count": 61,
   "id": "befb0a51",
   "metadata": {},
   "outputs": [
    {
     "data": {
      "text/html": [
       "20"
      ],
      "text/latex": [
       "20"
      ],
      "text/markdown": [
       "20"
      ],
      "text/plain": [
       "[1] 20"
      ]
     },
     "metadata": {},
     "output_type": "display_data"
    }
   ],
   "source": [
    "length(d5)"
   ]
  },
  {
   "cell_type": "markdown",
   "id": "4060399f",
   "metadata": {},
   "source": [
    "## 2.4"
   ]
  },
  {
   "cell_type": "markdown",
   "id": "96b92ebc",
   "metadata": {},
   "source": [
    "### a"
   ]
  },
  {
   "cell_type": "code",
   "execution_count": 87,
   "id": "6823e509",
   "metadata": {},
   "outputs": [
    {
     "name": "stdout",
     "output_type": "stream",
     "text": [
      " [1]   3.000000   3.750000   4.500000   5.250000   6.000000   2.000000\n",
      " [7]  -5.100000 -33.000000   2.000000  -5.100000 -33.000000   2.166667\n"
     ]
    }
   ],
   "source": [
    "avec <- c(seq(from=3, to=6, length.out=5),rep(x=c(2,-5.1,-33),times=2),(7/42)+2)\n",
    "print(avec)"
   ]
  },
  {
   "cell_type": "markdown",
   "id": "ba058018",
   "metadata": {},
   "source": [
    "### b"
   ]
  },
  {
   "cell_type": "code",
   "execution_count": 88,
   "id": "1396919c",
   "metadata": {},
   "outputs": [
    {
     "name": "stdout",
     "output_type": "stream",
     "text": [
      "[1] 3.000000 2.166667\n"
     ]
    }
   ],
   "source": [
    "bvec <- c(avec[1],avec[length(avec)])\n",
    "print(bvec)"
   ]
  },
  {
   "cell_type": "markdown",
   "id": "24ef6aae",
   "metadata": {},
   "source": [
    "### c"
   ]
  },
  {
   "cell_type": "code",
   "execution_count": 89,
   "id": "5f9c4b63",
   "metadata": {},
   "outputs": [
    {
     "name": "stdout",
     "output_type": "stream",
     "text": [
      " [1]   3.75   4.50   5.25   6.00   2.00  -5.10 -33.00   2.00  -5.10 -33.00\n"
     ]
    }
   ],
   "source": [
    "cvec <- avec[c(-1,-length(avec))]\n",
    "print(cvec)"
   ]
  },
  {
   "cell_type": "markdown",
   "id": "86bdfd83",
   "metadata": {},
   "source": [
    "### d"
   ]
  },
  {
   "cell_type": "code",
   "execution_count": 90,
   "id": "9ce7b60b",
   "metadata": {},
   "outputs": [],
   "source": [
    "dvec <- c(bvec[1],cvec,bvec[2])"
   ]
  },
  {
   "cell_type": "markdown",
   "id": "c89e7cba",
   "metadata": {},
   "source": [
    "### e"
   ]
  },
  {
   "cell_type": "code",
   "execution_count": 91,
   "id": "ae63566c",
   "metadata": {},
   "outputs": [
    {
     "name": "stdout",
     "output_type": "stream",
     "text": [
      " [1] -33.000000 -33.000000  -5.100000  -5.100000   2.000000   2.000000\n",
      " [7]   2.166667   3.000000   3.750000   4.500000   5.250000   6.000000\n"
     ]
    }
   ],
   "source": [
    "evec <- sort(avec, decreasing=FALSE)\n",
    "print(evec)"
   ]
  },
  {
   "cell_type": "markdown",
   "id": "53aeec79",
   "metadata": {},
   "source": [
    "### f"
   ]
  },
  {
   "cell_type": "code",
   "execution_count": 94,
   "id": "f3e4024a",
   "metadata": {},
   "outputs": [
    {
     "data": {
      "text/html": [
       "<style>\n",
       ".list-inline {list-style: none; margin:0; padding: 0}\n",
       ".list-inline>li {display: inline-block}\n",
       ".list-inline>li:not(:last-child)::after {content: \"\\00b7\"; padding: 0 .5ex}\n",
       "</style>\n",
       "<ol class=list-inline><li>6</li><li>5.25</li><li>4.5</li><li>3.75</li><li>3</li><li>2.16666666666667</li><li>2</li><li>2</li><li>-5.1</li><li>-5.1</li><li>-33</li><li>-33</li></ol>\n"
      ],
      "text/latex": [
       "\\begin{enumerate*}\n",
       "\\item 6\n",
       "\\item 5.25\n",
       "\\item 4.5\n",
       "\\item 3.75\n",
       "\\item 3\n",
       "\\item 2.16666666666667\n",
       "\\item 2\n",
       "\\item 2\n",
       "\\item -5.1\n",
       "\\item -5.1\n",
       "\\item -33\n",
       "\\item -33\n",
       "\\end{enumerate*}\n"
      ],
      "text/markdown": [
       "1. 6\n",
       "2. 5.25\n",
       "3. 4.5\n",
       "4. 3.75\n",
       "5. 3\n",
       "6. 2.16666666666667\n",
       "7. 2\n",
       "8. 2\n",
       "9. -5.1\n",
       "10. -5.1\n",
       "11. -33\n",
       "12. -33\n",
       "\n",
       "\n"
      ],
      "text/plain": [
       " [1]   6.000000   5.250000   4.500000   3.750000   3.000000   2.166667\n",
       " [7]   2.000000   2.000000  -5.100000  -5.100000 -33.000000 -33.000000"
      ]
     },
     "metadata": {},
     "output_type": "display_data"
    }
   ],
   "source": [
    "evec[length(evec):1]"
   ]
  },
  {
   "cell_type": "code",
   "execution_count": 95,
   "id": "8bd9002b",
   "metadata": {},
   "outputs": [
    {
     "data": {
      "text/html": [
       "<style>\n",
       ".list-inline {list-style: none; margin:0; padding: 0}\n",
       ".list-inline>li {display: inline-block}\n",
       ".list-inline>li:not(:last-child)::after {content: \"\\00b7\"; padding: 0 .5ex}\n",
       "</style>\n",
       "<ol class=list-inline><li>6</li><li>5.25</li><li>4.5</li><li>3.75</li><li>3</li><li>2.16666666666667</li><li>2</li><li>2</li><li>-5.1</li><li>-5.1</li><li>-33</li><li>-33</li></ol>\n"
      ],
      "text/latex": [
       "\\begin{enumerate*}\n",
       "\\item 6\n",
       "\\item 5.25\n",
       "\\item 4.5\n",
       "\\item 3.75\n",
       "\\item 3\n",
       "\\item 2.16666666666667\n",
       "\\item 2\n",
       "\\item 2\n",
       "\\item -5.1\n",
       "\\item -5.1\n",
       "\\item -33\n",
       "\\item -33\n",
       "\\end{enumerate*}\n"
      ],
      "text/markdown": [
       "1. 6\n",
       "2. 5.25\n",
       "3. 4.5\n",
       "4. 3.75\n",
       "5. 3\n",
       "6. 2.16666666666667\n",
       "7. 2\n",
       "8. 2\n",
       "9. -5.1\n",
       "10. -5.1\n",
       "11. -33\n",
       "12. -33\n",
       "\n",
       "\n"
      ],
      "text/plain": [
       " [1]   6.000000   5.250000   4.500000   3.750000   3.000000   2.166667\n",
       " [7]   2.000000   2.000000  -5.100000  -5.100000 -33.000000 -33.000000"
      ]
     },
     "metadata": {},
     "output_type": "display_data"
    }
   ],
   "source": [
    "sort(evec, decreasing=TRUE)"
   ]
  },
  {
   "cell_type": "markdown",
   "id": "f8a47c49",
   "metadata": {},
   "source": [
    "### g"
   ]
  },
  {
   "cell_type": "markdown",
   "id": "cecee3e4",
   "metadata": {},
   "source": [
    "### "
   ]
  },
  {
   "cell_type": "code",
   "execution_count": 99,
   "id": "940be40e",
   "metadata": {},
   "outputs": [
    {
     "name": "stdout",
     "output_type": "stream",
     "text": [
      "[1]   5.25   5.25   5.25  -5.10  -5.10  -5.10  -5.10 -33.00\n"
     ]
    }
   ],
   "source": [
    "gvec <- c(rep(x=cvec[3],times=3), rep(x=cvec[6],times=4), cvec[length(cvec)])\n",
    "print(gvec)"
   ]
  },
  {
   "cell_type": "markdown",
   "id": "58232cd4",
   "metadata": {},
   "source": [
    "## h"
   ]
  },
  {
   "cell_type": "code",
   "execution_count": 101,
   "id": "a74c0fed",
   "metadata": {},
   "outputs": [
    {
     "name": "stdout",
     "output_type": "stream",
     "text": [
      " [1] -33.000000 -33.000000  -5.100000  -5.100000   2.000000   2.000000\n",
      " [7]   2.166667   3.000000   3.750000   4.500000   5.250000   6.000000\n"
     ]
    }
   ],
   "source": [
    "hvec <- evec\n",
    "print(hvec)"
   ]
  },
  {
   "cell_type": "code",
   "execution_count": 103,
   "id": "722645f8",
   "metadata": {},
   "outputs": [],
   "source": [
    "hvec[c(1,5:7)] <- seq(from=99, to=96, by=-1)"
   ]
  },
  {
   "cell_type": "code",
   "execution_count": 104,
   "id": "6fa591a1",
   "metadata": {},
   "outputs": [
    {
     "data": {
      "text/html": [
       "<style>\n",
       ".list-inline {list-style: none; margin:0; padding: 0}\n",
       ".list-inline>li {display: inline-block}\n",
       ".list-inline>li:not(:last-child)::after {content: \"\\00b7\"; padding: 0 .5ex}\n",
       "</style>\n",
       "<ol class=list-inline><li>99</li><li>-33</li><li>-5.1</li><li>-5.1</li><li>98</li><li>97</li><li>96</li><li>3</li><li>3.75</li><li>4.5</li><li>5.25</li><li>6</li></ol>\n"
      ],
      "text/latex": [
       "\\begin{enumerate*}\n",
       "\\item 99\n",
       "\\item -33\n",
       "\\item -5.1\n",
       "\\item -5.1\n",
       "\\item 98\n",
       "\\item 97\n",
       "\\item 96\n",
       "\\item 3\n",
       "\\item 3.75\n",
       "\\item 4.5\n",
       "\\item 5.25\n",
       "\\item 6\n",
       "\\end{enumerate*}\n"
      ],
      "text/markdown": [
       "1. 99\n",
       "2. -33\n",
       "3. -5.1\n",
       "4. -5.1\n",
       "5. 98\n",
       "6. 97\n",
       "7. 96\n",
       "8. 3\n",
       "9. 3.75\n",
       "10. 4.5\n",
       "11. 5.25\n",
       "12. 6\n",
       "\n",
       "\n"
      ],
      "text/plain": [
       " [1]  99.00 -33.00  -5.10  -5.10  98.00  97.00  96.00   3.00   3.75   4.50\n",
       "[11]   5.25   6.00"
      ]
     },
     "metadata": {},
     "output_type": "display_data"
    }
   ],
   "source": [
    "hvec"
   ]
  },
  {
   "cell_type": "markdown",
   "id": "3408e8ba",
   "metadata": {},
   "source": [
    "## 2.5"
   ]
  },
  {
   "cell_type": "markdown",
   "id": "6c968bf2",
   "metadata": {},
   "source": [
    "### a"
   ]
  },
  {
   "cell_type": "code",
   "execution_count": 110,
   "id": "379eab33",
   "metadata": {},
   "outputs": [
    {
     "name": "stdout",
     "output_type": "stream",
     "text": [
      "[1] 2.0 0.5 1.0 2.0 0.5 1.0 2.0 0.5 1.0\n"
     ]
    }
   ],
   "source": [
    "avec <- c(2,0.5,1,2,0.5,1,2,0.5,1)\n",
    "print(avec)"
   ]
  },
  {
   "cell_type": "code",
   "execution_count": 111,
   "id": "1916caa3",
   "metadata": {},
   "outputs": [
    {
     "name": "stdout",
     "output_type": "stream",
     "text": [
      "[1] 0.5 2.0 1.0\n"
     ]
    }
   ],
   "source": [
    "avec_xfrm <- c(.5,2,1)\n",
    "print(avec_xfrm)"
   ]
  },
  {
   "cell_type": "code",
   "execution_count": 112,
   "id": "b35289f7",
   "metadata": {},
   "outputs": [
    {
     "data": {
      "text/html": [
       "<style>\n",
       ".list-inline {list-style: none; margin:0; padding: 0}\n",
       ".list-inline>li {display: inline-block}\n",
       ".list-inline>li:not(:last-child)::after {content: \"\\00b7\"; padding: 0 .5ex}\n",
       "</style>\n",
       "<ol class=list-inline><li>1</li><li>1</li><li>1</li><li>1</li><li>1</li><li>1</li><li>1</li><li>1</li><li>1</li></ol>\n"
      ],
      "text/latex": [
       "\\begin{enumerate*}\n",
       "\\item 1\n",
       "\\item 1\n",
       "\\item 1\n",
       "\\item 1\n",
       "\\item 1\n",
       "\\item 1\n",
       "\\item 1\n",
       "\\item 1\n",
       "\\item 1\n",
       "\\end{enumerate*}\n"
      ],
      "text/markdown": [
       "1. 1\n",
       "2. 1\n",
       "3. 1\n",
       "4. 1\n",
       "5. 1\n",
       "6. 1\n",
       "7. 1\n",
       "8. 1\n",
       "9. 1\n",
       "\n",
       "\n"
      ],
      "text/plain": [
       "[1] 1 1 1 1 1 1 1 1 1"
      ]
     },
     "metadata": {},
     "output_type": "display_data"
    }
   ],
   "source": [
    "avec*avec_xfrm"
   ]
  },
  {
   "cell_type": "markdown",
   "id": "45a0c27e",
   "metadata": {},
   "source": [
    "### b"
   ]
  },
  {
   "cell_type": "code",
   "execution_count": 113,
   "id": "449aac7a",
   "metadata": {},
   "outputs": [
    {
     "name": "stdout",
     "output_type": "stream",
     "text": [
      "[1]  45  77  20  19 101 120 212\n"
     ]
    }
   ],
   "source": [
    "bvec <- c(45, 77, 20, 19, 101, 120, 212)\n",
    "print(bvec)"
   ]
  },
  {
   "cell_type": "code",
   "execution_count": 114,
   "id": "763fcec6",
   "metadata": {},
   "outputs": [
    {
     "data": {
      "text/html": [
       "<style>\n",
       ".list-inline {list-style: none; margin:0; padding: 0}\n",
       ".list-inline>li {display: inline-block}\n",
       ".list-inline>li:not(:last-child)::after {content: \"\\00b7\"; padding: 0 .5ex}\n",
       "</style>\n",
       "<ol class=list-inline><li>7.22222222222222</li><li>25</li><li>-6.66666666666667</li><li>-7.22222222222222</li><li>38.3333333333333</li><li>48.8888888888889</li><li>100</li></ol>\n"
      ],
      "text/latex": [
       "\\begin{enumerate*}\n",
       "\\item 7.22222222222222\n",
       "\\item 25\n",
       "\\item -6.66666666666667\n",
       "\\item -7.22222222222222\n",
       "\\item 38.3333333333333\n",
       "\\item 48.8888888888889\n",
       "\\item 100\n",
       "\\end{enumerate*}\n"
      ],
      "text/markdown": [
       "1. 7.22222222222222\n",
       "2. 25\n",
       "3. -6.66666666666667\n",
       "4. -7.22222222222222\n",
       "5. 38.3333333333333\n",
       "6. 48.8888888888889\n",
       "7. 100\n",
       "\n",
       "\n"
      ],
      "text/plain": [
       "[1]   7.222222  25.000000  -6.666667  -7.222222  38.333333  48.888889 100.000000"
      ]
     },
     "metadata": {},
     "output_type": "display_data"
    }
   ],
   "source": [
    "(bvec - 32) * 5/9"
   ]
  },
  {
   "cell_type": "markdown",
   "id": "2a1e569d",
   "metadata": {},
   "source": [
    "### c"
   ]
  },
  {
   "cell_type": "code",
   "execution_count": 123,
   "id": "f8260951",
   "metadata": {},
   "outputs": [
    {
     "name": "stdout",
     "output_type": "stream",
     "text": [
      "[1]  2  4  6  4  8 12\n"
     ]
    }
   ],
   "source": [
    "cvec <- c(2, 4, 6)\n",
    "multi_vec <- c(1,2)\n",
    "cvec <- rep(x=multi_vec, times=1, each=3)* cvec\n",
    "print(cvec)"
   ]
  },
  {
   "cell_type": "markdown",
   "id": "888b0978",
   "metadata": {},
   "source": [
    "### d"
   ]
  },
  {
   "cell_type": "code",
   "execution_count": 124,
   "id": "f24191e5",
   "metadata": {},
   "outputs": [],
   "source": [
    "dvec <- cvec"
   ]
  },
  {
   "cell_type": "code",
   "execution_count": 125,
   "id": "deb0f004",
   "metadata": {},
   "outputs": [],
   "source": [
    "dvec[c(2:5)] <- c(-0.1, -100)"
   ]
  },
  {
   "cell_type": "code",
   "execution_count": 126,
   "id": "7128cff7",
   "metadata": {},
   "outputs": [
    {
     "data": {
      "text/html": [
       "<style>\n",
       ".list-inline {list-style: none; margin:0; padding: 0}\n",
       ".list-inline>li {display: inline-block}\n",
       ".list-inline>li:not(:last-child)::after {content: \"\\00b7\"; padding: 0 .5ex}\n",
       "</style>\n",
       "<ol class=list-inline><li>2</li><li>-0.1</li><li>-100</li><li>-0.1</li><li>-100</li><li>12</li></ol>\n"
      ],
      "text/latex": [
       "\\begin{enumerate*}\n",
       "\\item 2\n",
       "\\item -0.1\n",
       "\\item -100\n",
       "\\item -0.1\n",
       "\\item -100\n",
       "\\item 12\n",
       "\\end{enumerate*}\n"
      ],
      "text/markdown": [
       "1. 2\n",
       "2. -0.1\n",
       "3. -100\n",
       "4. -0.1\n",
       "5. -100\n",
       "6. 12\n",
       "\n",
       "\n"
      ],
      "text/plain": [
       "[1]    2.0   -0.1 -100.0   -0.1 -100.0   12.0"
      ]
     },
     "metadata": {},
     "output_type": "display_data"
    }
   ],
   "source": [
    "dvec"
   ]
  },
  {
   "cell_type": "code",
   "execution_count": null,
   "id": "da681b47",
   "metadata": {},
   "outputs": [],
   "source": []
  }
 ],
 "metadata": {
  "kernelspec": {
   "display_name": "R",
   "language": "R",
   "name": "ir"
  },
  "language_info": {
   "codemirror_mode": "r",
   "file_extension": ".r",
   "mimetype": "text/x-r-source",
   "name": "R",
   "pygments_lexer": "r",
   "version": "3.6.3"
  }
 },
 "nbformat": 4,
 "nbformat_minor": 5
}
