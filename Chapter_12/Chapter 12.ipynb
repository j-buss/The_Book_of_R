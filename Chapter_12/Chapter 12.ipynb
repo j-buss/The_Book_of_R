{
 "cells": [
  {
   "cell_type": "markdown",
   "id": "1911f2f3",
   "metadata": {},
   "source": [
    "# 12.1"
   ]
  },
  {
   "cell_type": "markdown",
   "id": "39b71fd8",
   "metadata": {},
   "source": [
    "## a"
   ]
  },
  {
   "cell_type": "code",
   "execution_count": null,
   "id": "cff5fe0b",
   "metadata": {},
   "outputs": [],
   "source": []
  },
  {
   "cell_type": "markdown",
   "id": "93fe179a",
   "metadata": {},
   "source": [
    "## b"
   ]
  },
  {
   "cell_type": "code",
   "execution_count": 15,
   "id": "7e14156a",
   "metadata": {},
   "outputs": [],
   "source": [
    "#i"
   ]
  },
  {
   "cell_type": "code",
   "execution_count": 16,
   "id": "802987f6",
   "metadata": {},
   "outputs": [],
   "source": [
    "#ii"
   ]
  },
  {
   "cell_type": "code",
   "execution_count": 17,
   "id": "7028b2e8",
   "metadata": {},
   "outputs": [],
   "source": [
    "#iii"
   ]
  },
  {
   "cell_type": "code",
   "execution_count": 18,
   "id": "0da31d3d",
   "metadata": {},
   "outputs": [],
   "source": [
    "#iv"
   ]
  },
  {
   "cell_type": "code",
   "execution_count": 19,
   "id": "bbc29970",
   "metadata": {},
   "outputs": [],
   "source": [
    "#v"
   ]
  },
  {
   "cell_type": "code",
   "execution_count": 20,
   "id": "2b296e8d",
   "metadata": {},
   "outputs": [],
   "source": [
    "#vi"
   ]
  },
  {
   "cell_type": "markdown",
   "id": "4ba30c3f",
   "metadata": {},
   "source": [
    "# 12.2"
   ]
  },
  {
   "cell_type": "markdown",
   "id": "f860e500",
   "metadata": {},
   "source": [
    "## a"
   ]
  },
  {
   "cell_type": "markdown",
   "id": "dce1b925",
   "metadata": {},
   "source": [
    "## b"
   ]
  },
  {
   "cell_type": "markdown",
   "id": "caf35b92",
   "metadata": {},
   "source": [
    "## c"
   ]
  },
  {
   "cell_type": "code",
   "execution_count": null,
   "id": "aa96b842",
   "metadata": {},
   "outputs": [],
   "source": []
  }
 ],
 "metadata": {
  "kernelspec": {
   "display_name": "R",
   "language": "R",
   "name": "ir"
  },
  "language_info": {
   "codemirror_mode": "r",
   "file_extension": ".r",
   "mimetype": "text/x-r-source",
   "name": "R",
   "pygments_lexer": "r",
   "version": "3.6.3"
  }
 },
 "nbformat": 4,
 "nbformat_minor": 5
}
