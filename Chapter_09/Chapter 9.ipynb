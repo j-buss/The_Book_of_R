{
 "cells": [
  {
   "cell_type": "markdown",
   "id": "ab7748db",
   "metadata": {},
   "source": [
    "# 9.1"
   ]
  },
  {
   "cell_type": "markdown",
   "id": "f3dc5634",
   "metadata": {},
   "source": [
    "### a"
   ]
  },
  {
   "cell_type": "code",
   "execution_count": 5,
   "id": "5a203b21",
   "metadata": {},
   "outputs": [
    {
     "data": {
      "text/html": [
       "<style>\n",
       ".list-inline {list-style: none; margin:0; padding: 0}\n",
       ".list-inline>li {display: inline-block}\n",
       ".list-inline>li:not(:last-child)::after {content: \"\\00b7\"; padding: 0 .5ex}\n",
       "</style>\n",
       "<ol class=list-inline><li>'addNextMethod'</li><li>'allGenerics'</li><li>'allNames'</li><li>'Arith'</li><li>'as'</li><li>'as&lt;-'</li><li>'asMethodDefinition'</li><li>'assignClassDef'</li><li>'assignMethodsMetaData'</li><li>'balanceMethodsList'</li><li>'body&lt;-'</li><li>'cacheGenericsMetaData'</li><li>'cacheMetaData'</li><li>'cacheMethod'</li><li>'callGeneric'</li><li>'callNextMethod'</li><li>'canCoerce'</li><li>'cbind2'</li><li>'checkAtAssignment'</li><li>'checkSlotAssignment'</li></ol>\n"
      ],
      "text/latex": [
       "\\begin{enumerate*}\n",
       "\\item 'addNextMethod'\n",
       "\\item 'allGenerics'\n",
       "\\item 'allNames'\n",
       "\\item 'Arith'\n",
       "\\item 'as'\n",
       "\\item 'as<-'\n",
       "\\item 'asMethodDefinition'\n",
       "\\item 'assignClassDef'\n",
       "\\item 'assignMethodsMetaData'\n",
       "\\item 'balanceMethodsList'\n",
       "\\item 'body<-'\n",
       "\\item 'cacheGenericsMetaData'\n",
       "\\item 'cacheMetaData'\n",
       "\\item 'cacheMethod'\n",
       "\\item 'callGeneric'\n",
       "\\item 'callNextMethod'\n",
       "\\item 'canCoerce'\n",
       "\\item 'cbind2'\n",
       "\\item 'checkAtAssignment'\n",
       "\\item 'checkSlotAssignment'\n",
       "\\end{enumerate*}\n"
      ],
      "text/markdown": [
       "1. 'addNextMethod'\n",
       "2. 'allGenerics'\n",
       "3. 'allNames'\n",
       "4. 'Arith'\n",
       "5. 'as'\n",
       "6. 'as&lt;-'\n",
       "7. 'asMethodDefinition'\n",
       "8. 'assignClassDef'\n",
       "9. 'assignMethodsMetaData'\n",
       "10. 'balanceMethodsList'\n",
       "11. 'body&lt;-'\n",
       "12. 'cacheGenericsMetaData'\n",
       "13. 'cacheMetaData'\n",
       "14. 'cacheMethod'\n",
       "15. 'callGeneric'\n",
       "16. 'callNextMethod'\n",
       "17. 'canCoerce'\n",
       "18. 'cbind2'\n",
       "19. 'checkAtAssignment'\n",
       "20. 'checkSlotAssignment'\n",
       "\n",
       "\n"
      ],
      "text/plain": [
       " [1] \"addNextMethod\"         \"allGenerics\"           \"allNames\"             \n",
       " [4] \"Arith\"                 \"as\"                    \"as<-\"                 \n",
       " [7] \"asMethodDefinition\"    \"assignClassDef\"        \"assignMethodsMetaData\"\n",
       "[10] \"balanceMethodsList\"    \"body<-\"                \"cacheGenericsMetaData\"\n",
       "[13] \"cacheMetaData\"         \"cacheMethod\"           \"callGeneric\"          \n",
       "[16] \"callNextMethod\"        \"canCoerce\"             \"cbind2\"               \n",
       "[19] \"checkAtAssignment\"     \"checkSlotAssignment\"  "
      ]
     },
     "metadata": {},
     "output_type": "display_data"
    }
   ],
   "source": [
    "methods_list <- ls(\"package:methods\")\n",
    "methods_list[1:20]"
   ]
  },
  {
   "cell_type": "code",
   "execution_count": 6,
   "id": "88c11f37",
   "metadata": {},
   "outputs": [
    {
     "data": {
      "text/html": [
       "218"
      ],
      "text/latex": [
       "218"
      ],
      "text/markdown": [
       "218"
      ],
      "text/plain": [
       "[1] 218"
      ]
     },
     "metadata": {},
     "output_type": "display_data"
    }
   ],
   "source": [
    "length(methods_list)"
   ]
  },
  {
   "cell_type": "markdown",
   "id": "382823a9",
   "metadata": {},
   "source": [
    "### b"
   ]
  },
  {
   "cell_type": "code",
   "execution_count": 7,
   "id": "b5201625",
   "metadata": {},
   "outputs": [
    {
     "data": {
      "text/plain": [
       "<environment: namespace:utils>"
      ]
     },
     "metadata": {},
     "output_type": "display_data"
    }
   ],
   "source": [
    "environment(read.table)"
   ]
  },
  {
   "cell_type": "code",
   "execution_count": 8,
   "id": "7673fde6",
   "metadata": {},
   "outputs": [
    {
     "data": {
      "text/plain": [
       "<environment: namespace:utils>"
      ]
     },
     "metadata": {},
     "output_type": "display_data"
    }
   ],
   "source": [
    "environment(data)"
   ]
  },
  {
   "cell_type": "code",
   "execution_count": 9,
   "id": "381ef060",
   "metadata": {},
   "outputs": [
    {
     "data": {
      "text/plain": [
       "<environment: namespace:base>"
      ]
     },
     "metadata": {},
     "output_type": "display_data"
    }
   ],
   "source": [
    "environment(matrix)"
   ]
  },
  {
   "cell_type": "code",
   "execution_count": 10,
   "id": "886e0a6e",
   "metadata": {},
   "outputs": [
    {
     "data": {
      "text/plain": [
       "<environment: namespace:grDevices>"
      ]
     },
     "metadata": {},
     "output_type": "display_data"
    }
   ],
   "source": [
    "environment(jpeg)"
   ]
  },
  {
   "cell_type": "markdown",
   "id": "9c20b38c",
   "metadata": {},
   "source": [
    "### c"
   ]
  },
  {
   "cell_type": "code",
   "execution_count": 15,
   "id": "00495a75",
   "metadata": {},
   "outputs": [
    {
     "data": {
      "text/html": [
       "<style>\n",
       ".list-inline {list-style: none; margin:0; padding: 0}\n",
       ".list-inline>li {display: inline-block}\n",
       ".list-inline>li:not(:last-child)::after {content: \"\\00b7\"; padding: 0 .5ex}\n",
       "</style>\n",
       "<ol class=list-inline><li>'abline'</li><li>'arrows'</li><li>'assocplot'</li><li>'axis'</li><li>'Axis'</li><li>'axis.Date'</li><li>'axis.POSIXct'</li><li>'axTicks'</li><li>'barplot'</li><li>'barplot.default'</li><li>'box'</li><li>'boxplot'</li><li>'boxplot.default'</li><li>'boxplot.matrix'</li><li>'bxp'</li><li>'cdplot'</li><li>'clip'</li><li>'close.screen'</li><li>'co.intervals'</li><li>'contour'</li><li>'contour.default'</li><li>'coplot'</li><li>'curve'</li><li>'dotchart'</li><li>'erase.screen'</li><li>'filled.contour'</li><li>'fourfoldplot'</li><li>'frame'</li><li>'grconvertX'</li><li>'grconvertY'</li><li>'grid'</li><li>'hist'</li><li>'hist.default'</li><li>'identify'</li><li>'image'</li><li>'image.default'</li><li>'layout'</li><li>'layout.show'</li><li>'lcm'</li><li>'legend'</li><li>'lines'</li><li>'lines.default'</li><li>'locator'</li><li>'matlines'</li><li>'matplot'</li><li>'matpoints'</li><li>'mosaicplot'</li><li>'mtext'</li><li>'pairs'</li><li>'pairs.default'</li><li>'panel.smooth'</li><li>'par'</li><li>'persp'</li><li>'pie'</li><li>'plot'</li><li>'plot.default'</li><li>'plot.design'</li><li>'plot.function'</li><li>'plot.new'</li><li>'plot.window'</li><li>'plot.xy'</li><li>'points'</li><li>'points.default'</li><li>'polygon'</li><li>'polypath'</li><li>'rasterImage'</li><li>'rect'</li><li>'rug'</li><li>'screen'</li><li>'segments'</li><li>'smoothScatter'</li><li>'spineplot'</li><li>'split.screen'</li><li>'stars'</li><li>'stem'</li><li>'strheight'</li><li>'stripchart'</li><li>'strwidth'</li><li>'sunflowerplot'</li><li>'symbols'</li><li>'text'</li><li>'text.default'</li><li>'title'</li><li>'xinch'</li><li>'xspline'</li><li>'xyinch'</li><li>'yinch'</li></ol>\n"
      ],
      "text/latex": [
       "\\begin{enumerate*}\n",
       "\\item 'abline'\n",
       "\\item 'arrows'\n",
       "\\item 'assocplot'\n",
       "\\item 'axis'\n",
       "\\item 'Axis'\n",
       "\\item 'axis.Date'\n",
       "\\item 'axis.POSIXct'\n",
       "\\item 'axTicks'\n",
       "\\item 'barplot'\n",
       "\\item 'barplot.default'\n",
       "\\item 'box'\n",
       "\\item 'boxplot'\n",
       "\\item 'boxplot.default'\n",
       "\\item 'boxplot.matrix'\n",
       "\\item 'bxp'\n",
       "\\item 'cdplot'\n",
       "\\item 'clip'\n",
       "\\item 'close.screen'\n",
       "\\item 'co.intervals'\n",
       "\\item 'contour'\n",
       "\\item 'contour.default'\n",
       "\\item 'coplot'\n",
       "\\item 'curve'\n",
       "\\item 'dotchart'\n",
       "\\item 'erase.screen'\n",
       "\\item 'filled.contour'\n",
       "\\item 'fourfoldplot'\n",
       "\\item 'frame'\n",
       "\\item 'grconvertX'\n",
       "\\item 'grconvertY'\n",
       "\\item 'grid'\n",
       "\\item 'hist'\n",
       "\\item 'hist.default'\n",
       "\\item 'identify'\n",
       "\\item 'image'\n",
       "\\item 'image.default'\n",
       "\\item 'layout'\n",
       "\\item 'layout.show'\n",
       "\\item 'lcm'\n",
       "\\item 'legend'\n",
       "\\item 'lines'\n",
       "\\item 'lines.default'\n",
       "\\item 'locator'\n",
       "\\item 'matlines'\n",
       "\\item 'matplot'\n",
       "\\item 'matpoints'\n",
       "\\item 'mosaicplot'\n",
       "\\item 'mtext'\n",
       "\\item 'pairs'\n",
       "\\item 'pairs.default'\n",
       "\\item 'panel.smooth'\n",
       "\\item 'par'\n",
       "\\item 'persp'\n",
       "\\item 'pie'\n",
       "\\item 'plot'\n",
       "\\item 'plot.default'\n",
       "\\item 'plot.design'\n",
       "\\item 'plot.function'\n",
       "\\item 'plot.new'\n",
       "\\item 'plot.window'\n",
       "\\item 'plot.xy'\n",
       "\\item 'points'\n",
       "\\item 'points.default'\n",
       "\\item 'polygon'\n",
       "\\item 'polypath'\n",
       "\\item 'rasterImage'\n",
       "\\item 'rect'\n",
       "\\item 'rug'\n",
       "\\item 'screen'\n",
       "\\item 'segments'\n",
       "\\item 'smoothScatter'\n",
       "\\item 'spineplot'\n",
       "\\item 'split.screen'\n",
       "\\item 'stars'\n",
       "\\item 'stem'\n",
       "\\item 'strheight'\n",
       "\\item 'stripchart'\n",
       "\\item 'strwidth'\n",
       "\\item 'sunflowerplot'\n",
       "\\item 'symbols'\n",
       "\\item 'text'\n",
       "\\item 'text.default'\n",
       "\\item 'title'\n",
       "\\item 'xinch'\n",
       "\\item 'xspline'\n",
       "\\item 'xyinch'\n",
       "\\item 'yinch'\n",
       "\\end{enumerate*}\n"
      ],
      "text/markdown": [
       "1. 'abline'\n",
       "2. 'arrows'\n",
       "3. 'assocplot'\n",
       "4. 'axis'\n",
       "5. 'Axis'\n",
       "6. 'axis.Date'\n",
       "7. 'axis.POSIXct'\n",
       "8. 'axTicks'\n",
       "9. 'barplot'\n",
       "10. 'barplot.default'\n",
       "11. 'box'\n",
       "12. 'boxplot'\n",
       "13. 'boxplot.default'\n",
       "14. 'boxplot.matrix'\n",
       "15. 'bxp'\n",
       "16. 'cdplot'\n",
       "17. 'clip'\n",
       "18. 'close.screen'\n",
       "19. 'co.intervals'\n",
       "20. 'contour'\n",
       "21. 'contour.default'\n",
       "22. 'coplot'\n",
       "23. 'curve'\n",
       "24. 'dotchart'\n",
       "25. 'erase.screen'\n",
       "26. 'filled.contour'\n",
       "27. 'fourfoldplot'\n",
       "28. 'frame'\n",
       "29. 'grconvertX'\n",
       "30. 'grconvertY'\n",
       "31. 'grid'\n",
       "32. 'hist'\n",
       "33. 'hist.default'\n",
       "34. 'identify'\n",
       "35. 'image'\n",
       "36. 'image.default'\n",
       "37. 'layout'\n",
       "38. 'layout.show'\n",
       "39. 'lcm'\n",
       "40. 'legend'\n",
       "41. 'lines'\n",
       "42. 'lines.default'\n",
       "43. 'locator'\n",
       "44. 'matlines'\n",
       "45. 'matplot'\n",
       "46. 'matpoints'\n",
       "47. 'mosaicplot'\n",
       "48. 'mtext'\n",
       "49. 'pairs'\n",
       "50. 'pairs.default'\n",
       "51. 'panel.smooth'\n",
       "52. 'par'\n",
       "53. 'persp'\n",
       "54. 'pie'\n",
       "55. 'plot'\n",
       "56. 'plot.default'\n",
       "57. 'plot.design'\n",
       "58. 'plot.function'\n",
       "59. 'plot.new'\n",
       "60. 'plot.window'\n",
       "61. 'plot.xy'\n",
       "62. 'points'\n",
       "63. 'points.default'\n",
       "64. 'polygon'\n",
       "65. 'polypath'\n",
       "66. 'rasterImage'\n",
       "67. 'rect'\n",
       "68. 'rug'\n",
       "69. 'screen'\n",
       "70. 'segments'\n",
       "71. 'smoothScatter'\n",
       "72. 'spineplot'\n",
       "73. 'split.screen'\n",
       "74. 'stars'\n",
       "75. 'stem'\n",
       "76. 'strheight'\n",
       "77. 'stripchart'\n",
       "78. 'strwidth'\n",
       "79. 'sunflowerplot'\n",
       "80. 'symbols'\n",
       "81. 'text'\n",
       "82. 'text.default'\n",
       "83. 'title'\n",
       "84. 'xinch'\n",
       "85. 'xspline'\n",
       "86. 'xyinch'\n",
       "87. 'yinch'\n",
       "\n",
       "\n"
      ],
      "text/plain": [
       " [1] \"abline\"          \"arrows\"          \"assocplot\"       \"axis\"           \n",
       " [5] \"Axis\"            \"axis.Date\"       \"axis.POSIXct\"    \"axTicks\"        \n",
       " [9] \"barplot\"         \"barplot.default\" \"box\"             \"boxplot\"        \n",
       "[13] \"boxplot.default\" \"boxplot.matrix\"  \"bxp\"             \"cdplot\"         \n",
       "[17] \"clip\"            \"close.screen\"    \"co.intervals\"    \"contour\"        \n",
       "[21] \"contour.default\" \"coplot\"          \"curve\"           \"dotchart\"       \n",
       "[25] \"erase.screen\"    \"filled.contour\"  \"fourfoldplot\"    \"frame\"          \n",
       "[29] \"grconvertX\"      \"grconvertY\"      \"grid\"            \"hist\"           \n",
       "[33] \"hist.default\"    \"identify\"        \"image\"           \"image.default\"  \n",
       "[37] \"layout\"          \"layout.show\"     \"lcm\"             \"legend\"         \n",
       "[41] \"lines\"           \"lines.default\"   \"locator\"         \"matlines\"       \n",
       "[45] \"matplot\"         \"matpoints\"       \"mosaicplot\"      \"mtext\"          \n",
       "[49] \"pairs\"           \"pairs.default\"   \"panel.smooth\"    \"par\"            \n",
       "[53] \"persp\"           \"pie\"             \"plot\"            \"plot.default\"   \n",
       "[57] \"plot.design\"     \"plot.function\"   \"plot.new\"        \"plot.window\"    \n",
       "[61] \"plot.xy\"         \"points\"          \"points.default\"  \"polygon\"        \n",
       "[65] \"polypath\"        \"rasterImage\"     \"rect\"            \"rug\"            \n",
       "[69] \"screen\"          \"segments\"        \"smoothScatter\"   \"spineplot\"      \n",
       "[73] \"split.screen\"    \"stars\"           \"stem\"            \"strheight\"      \n",
       "[77] \"stripchart\"      \"strwidth\"        \"sunflowerplot\"   \"symbols\"        \n",
       "[81] \"text\"            \"text.default\"    \"title\"           \"xinch\"          \n",
       "[85] \"xspline\"         \"xyinch\"          \"yinch\"          "
      ]
     },
     "metadata": {},
     "output_type": "display_data"
    }
   ],
   "source": [
    "ls(\"package:graphics\")"
   ]
  },
  {
   "cell_type": "code",
   "execution_count": 13,
   "id": "07458860",
   "metadata": {},
   "outputs": [
    {
     "data": {
      "text/plain": [
       "<environment: namespace:graphics>"
      ]
     },
     "metadata": {},
     "output_type": "display_data"
    }
   ],
   "source": [
    "environment(smoothScatter)"
   ]
  },
  {
   "cell_type": "code",
   "execution_count": 17,
   "id": "fc2cbac6",
   "metadata": {},
   "outputs": [
    {
     "data": {
      "text/html": [
       "TRUE"
      ],
      "text/latex": [
       "TRUE"
      ],
      "text/markdown": [
       "TRUE"
      ],
      "text/plain": [
       "[1] TRUE"
      ]
     },
     "metadata": {},
     "output_type": "display_data"
    }
   ],
   "source": [
    "any(\"smoothScatter\" == ls(\"package:graphics\"))"
   ]
  },
  {
   "cell_type": "markdown",
   "id": "6956dfa0",
   "metadata": {},
   "source": [
    "## 9.2"
   ]
  },
  {
   "cell_type": "markdown",
   "id": "97ace3b1",
   "metadata": {},
   "source": [
    "### a"
   ]
  },
  {
   "cell_type": "code",
   "execution_count": 22,
   "id": "7e43b0e6",
   "metadata": {},
   "outputs": [
    {
     "data": {
      "text/html": [
       "<style>\n",
       ".list-inline {list-style: none; margin:0; padding: 0}\n",
       ".list-inline>li {display: inline-block}\n",
       ".list-inline>li:not(:last-child)::after {content: \"\\00b7\"; padding: 0 .5ex}\n",
       "</style>\n",
       "<ol class=list-inline><li>-4</li><li>-3.8</li><li>-3.6</li><li>-3.4</li><li>-3.2</li><li>-3</li><li>-2.8</li><li>-2.6</li><li>-2.4</li><li>-2.2</li><li>-2</li><li>-1.8</li><li>-1.6</li><li>-1.4</li><li>-1.2</li><li>-1</li><li>-0.8</li><li>-0.6</li><li>-0.4</li><li>-0.2</li><li>0</li><li>0.2</li><li>0.4</li><li>0.600000000000001</li><li>0.800000000000001</li><li>1</li><li>1.2</li><li>1.4</li><li>1.6</li><li>1.8</li><li>2</li><li>2.2</li><li>2.4</li><li>2.6</li><li>2.8</li><li>3</li><li>3.2</li><li>3.4</li><li>3.6</li><li>3.8</li><li>4</li></ol>\n"
      ],
      "text/latex": [
       "\\begin{enumerate*}\n",
       "\\item -4\n",
       "\\item -3.8\n",
       "\\item -3.6\n",
       "\\item -3.4\n",
       "\\item -3.2\n",
       "\\item -3\n",
       "\\item -2.8\n",
       "\\item -2.6\n",
       "\\item -2.4\n",
       "\\item -2.2\n",
       "\\item -2\n",
       "\\item -1.8\n",
       "\\item -1.6\n",
       "\\item -1.4\n",
       "\\item -1.2\n",
       "\\item -1\n",
       "\\item -0.8\n",
       "\\item -0.6\n",
       "\\item -0.4\n",
       "\\item -0.2\n",
       "\\item 0\n",
       "\\item 0.2\n",
       "\\item 0.4\n",
       "\\item 0.600000000000001\n",
       "\\item 0.800000000000001\n",
       "\\item 1\n",
       "\\item 1.2\n",
       "\\item 1.4\n",
       "\\item 1.6\n",
       "\\item 1.8\n",
       "\\item 2\n",
       "\\item 2.2\n",
       "\\item 2.4\n",
       "\\item 2.6\n",
       "\\item 2.8\n",
       "\\item 3\n",
       "\\item 3.2\n",
       "\\item 3.4\n",
       "\\item 3.6\n",
       "\\item 3.8\n",
       "\\item 4\n",
       "\\end{enumerate*}\n"
      ],
      "text/markdown": [
       "1. -4\n",
       "2. -3.8\n",
       "3. -3.6\n",
       "4. -3.4\n",
       "5. -3.2\n",
       "6. -3\n",
       "7. -2.8\n",
       "8. -2.6\n",
       "9. -2.4\n",
       "10. -2.2\n",
       "11. -2\n",
       "12. -1.8\n",
       "13. -1.6\n",
       "14. -1.4\n",
       "15. -1.2\n",
       "16. -1\n",
       "17. -0.8\n",
       "18. -0.6\n",
       "19. -0.4\n",
       "20. -0.2\n",
       "21. 0\n",
       "22. 0.2\n",
       "23. 0.4\n",
       "24. 0.600000000000001\n",
       "25. 0.800000000000001\n",
       "26. 1\n",
       "27. 1.2\n",
       "28. 1.4\n",
       "29. 1.6\n",
       "30. 1.8\n",
       "31. 2\n",
       "32. 2.2\n",
       "33. 2.4\n",
       "34. 2.6\n",
       "35. 2.8\n",
       "36. 3\n",
       "37. 3.2\n",
       "38. 3.4\n",
       "39. 3.6\n",
       "40. 3.8\n",
       "41. 4\n",
       "\n",
       "\n"
      ],
      "text/plain": [
       " [1] -4.0 -3.8 -3.6 -3.4 -3.2 -3.0 -2.8 -2.6 -2.4 -2.2 -2.0 -1.8 -1.6 -1.4 -1.2\n",
       "[16] -1.0 -0.8 -0.6 -0.4 -0.2  0.0  0.2  0.4  0.6  0.8  1.0  1.2  1.4  1.6  1.8\n",
       "[31]  2.0  2.2  2.4  2.6  2.8  3.0  3.2  3.4  3.6  3.8  4.0"
      ]
     },
     "metadata": {},
     "output_type": "display_data"
    }
   ],
   "source": [
    "seq(-4,4,0.2)"
   ]
  },
  {
   "cell_type": "markdown",
   "id": "fcfe4fc3",
   "metadata": {},
   "source": [
    "### b"
   ]
  },
  {
   "cell_type": "code",
   "execution_count": 23,
   "id": "0e24460a",
   "metadata": {},
   "outputs": [
    {
     "data": {
      "text/html": [
       "<style>\n",
       ".list-inline {list-style: none; margin:0; padding: 0}\n",
       ".list-inline>li {display: inline-block}\n",
       ".list-inline>li:not(:last-child)::after {content: \"\\00b7\"; padding: 0 .5ex}\n",
       "</style>\n",
       "<ol class=list-inline><li>1</li><li>2</li><li>1</li><li>2</li><li>1</li><li>2</li></ol>\n"
      ],
      "text/latex": [
       "\\begin{enumerate*}\n",
       "\\item 1\n",
       "\\item 2\n",
       "\\item 1\n",
       "\\item 2\n",
       "\\item 1\n",
       "\\item 2\n",
       "\\end{enumerate*}\n"
      ],
      "text/markdown": [
       "1. 1\n",
       "2. 2\n",
       "3. 1\n",
       "4. 2\n",
       "5. 1\n",
       "6. 2\n",
       "\n",
       "\n"
      ],
      "text/plain": [
       "[1] 1 2 1 2 1 2"
      ]
     },
     "metadata": {},
     "output_type": "display_data"
    }
   ],
   "source": [
    "#i\n",
    "#mixed, data is positional\n",
    "\n",
    "#ii\n",
    "#positional\n",
    "\n",
    "#iii\n",
    "# exact\n",
    "\n",
    "#iv\n",
    "#exact\n",
    "\n",
    "#v\n",
    "#positional\n",
    "\n",
    "#vi\n",
    "#mixed"
   ]
  },
  {
   "cell_type": "markdown",
   "id": "81969837",
   "metadata": {},
   "source": [
    "### c"
   ]
  },
  {
   "cell_type": "code",
   "execution_count": null,
   "id": "5e4d3b46",
   "metadata": {},
   "outputs": [],
   "source": [
    "# pch, lwd, lty"
   ]
  }
 ],
 "metadata": {
  "kernelspec": {
   "display_name": "R",
   "language": "R",
   "name": "ir"
  },
  "language_info": {
   "codemirror_mode": "r",
   "file_extension": ".r",
   "mimetype": "text/x-r-source",
   "name": "R",
   "pygments_lexer": "r",
   "version": "3.6.3"
  }
 },
 "nbformat": 4,
 "nbformat_minor": 5
}
