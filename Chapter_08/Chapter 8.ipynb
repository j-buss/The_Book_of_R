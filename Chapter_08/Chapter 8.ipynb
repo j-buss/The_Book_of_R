{
 "cells": [
  {
   "cell_type": "markdown",
   "id": "371064ab",
   "metadata": {},
   "source": [
    "# 8.1"
   ]
  },
  {
   "cell_type": "code",
   "execution_count": 52,
   "id": "a01a4988",
   "metadata": {},
   "outputs": [],
   "source": [
    "library(car)\n",
    "library(ggplot2)"
   ]
  },
  {
   "cell_type": "markdown",
   "id": "5c7bc158",
   "metadata": {},
   "source": [
    "### a"
   ]
  },
  {
   "cell_type": "code",
   "execution_count": 42,
   "id": "4d6c85e1",
   "metadata": {},
   "outputs": [],
   "source": [
    "#i\n",
    "write.table(x=quakes[quakes$mag>=5,],file=\"q5.txt\",col.names=FALSE,sep=\"!\",row.names = FALSE)"
   ]
  },
  {
   "cell_type": "code",
   "execution_count": 43,
   "id": "78fbe865",
   "metadata": {},
   "outputs": [],
   "source": [
    "#ii\n",
    "q5.dframe <- read.table(file = \"q5.txt\",sep = \"!\")"
   ]
  },
  {
   "cell_type": "code",
   "execution_count": 44,
   "id": "6f01cf10",
   "metadata": {},
   "outputs": [
    {
     "data": {
      "text/html": [
       "<table class=\"dataframe\">\n",
       "<caption>A data.frame: 198 × 5</caption>\n",
       "<thead>\n",
       "\t<tr><th scope=col>V1</th><th scope=col>V2</th><th scope=col>V3</th><th scope=col>V4</th><th scope=col>V5</th></tr>\n",
       "\t<tr><th scope=col>&lt;dbl&gt;</th><th scope=col>&lt;dbl&gt;</th><th scope=col>&lt;int&gt;</th><th scope=col>&lt;dbl&gt;</th><th scope=col>&lt;int&gt;</th></tr>\n",
       "</thead>\n",
       "<tbody>\n",
       "\t<tr><td>-26.00</td><td>184.10</td><td> 42</td><td>5.4</td><td> 43</td></tr>\n",
       "\t<tr><td>-20.70</td><td>169.92</td><td>139</td><td>6.1</td><td> 94</td></tr>\n",
       "\t<tr><td>-13.64</td><td>165.96</td><td> 50</td><td>6.0</td><td> 83</td></tr>\n",
       "\t<tr><td>-19.66</td><td>180.28</td><td>431</td><td>5.4</td><td> 57</td></tr>\n",
       "\t<tr><td>-16.46</td><td>180.79</td><td>498</td><td>5.2</td><td> 79</td></tr>\n",
       "\t<tr><td>-18.97</td><td>185.25</td><td>129</td><td>5.1</td><td> 73</td></tr>\n",
       "\t<tr><td>-13.82</td><td>172.38</td><td>613</td><td>5.0</td><td> 61</td></tr>\n",
       "\t<tr><td>-21.96</td><td>179.62</td><td>627</td><td>5.0</td><td> 45</td></tr>\n",
       "\t<tr><td>-15.46</td><td>187.81</td><td> 40</td><td>5.5</td><td> 91</td></tr>\n",
       "\t<tr><td>-23.74</td><td>179.99</td><td>506</td><td>5.2</td><td> 75</td></tr>\n",
       "\t<tr><td>-28.98</td><td>181.11</td><td>304</td><td>5.3</td><td> 60</td></tr>\n",
       "\t<tr><td>-34.02</td><td>180.21</td><td> 75</td><td>5.2</td><td> 65</td></tr>\n",
       "\t<tr><td>-15.48</td><td>167.53</td><td>128</td><td>5.1</td><td> 61</td></tr>\n",
       "\t<tr><td>-20.64</td><td>182.02</td><td>497</td><td>5.2</td><td> 64</td></tr>\n",
       "\t<tr><td>-18.16</td><td>183.41</td><td>306</td><td>5.2</td><td> 54</td></tr>\n",
       "\t<tr><td>-13.66</td><td>166.54</td><td> 50</td><td>5.1</td><td> 45</td></tr>\n",
       "\t<tr><td>-22.55</td><td>185.90</td><td> 42</td><td>5.7</td><td> 76</td></tr>\n",
       "\t<tr><td>-36.95</td><td>177.81</td><td>146</td><td>5.0</td><td> 35</td></tr>\n",
       "\t<tr><td>-13.66</td><td>172.23</td><td> 46</td><td>5.3</td><td> 67</td></tr>\n",
       "\t<tr><td>-17.93</td><td>167.89</td><td> 49</td><td>5.1</td><td> 43</td></tr>\n",
       "\t<tr><td>-26.53</td><td>178.57</td><td>600</td><td>5.0</td><td> 69</td></tr>\n",
       "\t<tr><td>-16.14</td><td>187.32</td><td> 42</td><td>5.1</td><td> 68</td></tr>\n",
       "\t<tr><td>-13.23</td><td>167.10</td><td>220</td><td>5.0</td><td> 46</td></tr>\n",
       "\t<tr><td>-23.58</td><td>180.17</td><td>462</td><td>5.3</td><td> 63</td></tr>\n",
       "\t<tr><td>-23.34</td><td>184.50</td><td> 56</td><td>5.7</td><td>106</td></tr>\n",
       "\t<tr><td>-15.56</td><td>167.62</td><td>127</td><td>6.4</td><td>122</td></tr>\n",
       "\t<tr><td>-34.20</td><td>179.43</td><td> 40</td><td>5.0</td><td> 37</td></tr>\n",
       "\t<tr><td>-26.00</td><td>182.12</td><td>205</td><td>5.6</td><td> 98</td></tr>\n",
       "\t<tr><td>-19.89</td><td>183.84</td><td>244</td><td>5.3</td><td> 73</td></tr>\n",
       "\t<tr><td>-32.22</td><td>180.20</td><td>216</td><td>5.7</td><td> 90</td></tr>\n",
       "\t<tr><td>⋮</td><td>⋮</td><td>⋮</td><td>⋮</td><td>⋮</td></tr>\n",
       "\t<tr><td>-15.18</td><td>167.23</td><td> 71</td><td>5.2</td><td> 59</td></tr>\n",
       "\t<tr><td>-21.14</td><td>174.21</td><td> 40</td><td>5.7</td><td> 78</td></tr>\n",
       "\t<tr><td>-12.23</td><td>167.02</td><td>242</td><td>6.0</td><td>132</td></tr>\n",
       "\t<tr><td>-12.00</td><td>166.20</td><td> 94</td><td>5.0</td><td> 31</td></tr>\n",
       "\t<tr><td>-26.72</td><td>182.69</td><td>162</td><td>5.2</td><td> 64</td></tr>\n",
       "\t<tr><td>-21.35</td><td>170.04</td><td> 56</td><td>5.0</td><td> 22</td></tr>\n",
       "\t<tr><td>-22.82</td><td>184.52</td><td> 49</td><td>5.0</td><td> 52</td></tr>\n",
       "\t<tr><td>-38.28</td><td>177.10</td><td>100</td><td>5.4</td><td> 71</td></tr>\n",
       "\t<tr><td>-13.80</td><td>166.53</td><td> 42</td><td>5.5</td><td> 70</td></tr>\n",
       "\t<tr><td>-19.30</td><td>185.86</td><td> 48</td><td>5.0</td><td> 40</td></tr>\n",
       "\t<tr><td>-21.53</td><td>170.52</td><td>129</td><td>5.2</td><td> 30</td></tr>\n",
       "\t<tr><td>-28.05</td><td>182.39</td><td>117</td><td>5.1</td><td> 43</td></tr>\n",
       "\t<tr><td>-21.52</td><td>169.75</td><td> 61</td><td>5.1</td><td> 40</td></tr>\n",
       "\t<tr><td>-17.85</td><td>181.44</td><td>589</td><td>5.6</td><td>115</td></tr>\n",
       "\t<tr><td>-15.99</td><td>167.95</td><td>190</td><td>5.3</td><td> 81</td></tr>\n",
       "\t<tr><td>-20.56</td><td>184.41</td><td>138</td><td>5.0</td><td> 82</td></tr>\n",
       "\t<tr><td>-27.64</td><td>182.22</td><td>162</td><td>5.1</td><td> 67</td></tr>\n",
       "\t<tr><td>-29.33</td><td>182.72</td><td> 57</td><td>5.4</td><td> 61</td></tr>\n",
       "\t<tr><td>-20.25</td><td>184.75</td><td>107</td><td>5.6</td><td>121</td></tr>\n",
       "\t<tr><td>-19.33</td><td>186.16</td><td> 44</td><td>5.4</td><td>110</td></tr>\n",
       "\t<tr><td>-22.41</td><td>183.99</td><td>128</td><td>5.2</td><td> 72</td></tr>\n",
       "\t<tr><td>-23.60</td><td>183.99</td><td>118</td><td>5.4</td><td> 88</td></tr>\n",
       "\t<tr><td>-27.89</td><td>182.92</td><td> 87</td><td>5.5</td><td> 67</td></tr>\n",
       "\t<tr><td>-35.94</td><td>178.52</td><td>138</td><td>5.5</td><td> 78</td></tr>\n",
       "\t<tr><td>-22.04</td><td>183.95</td><td>109</td><td>5.4</td><td> 61</td></tr>\n",
       "\t<tr><td>-23.95</td><td>184.64</td><td> 43</td><td>5.4</td><td> 45</td></tr>\n",
       "\t<tr><td>-23.75</td><td>184.50</td><td> 54</td><td>5.2</td><td> 74</td></tr>\n",
       "\t<tr><td>-20.82</td><td>181.67</td><td>577</td><td>5.0</td><td> 67</td></tr>\n",
       "\t<tr><td>-22.33</td><td>171.66</td><td>125</td><td>5.2</td><td> 51</td></tr>\n",
       "\t<tr><td>-21.59</td><td>170.56</td><td>165</td><td>6.0</td><td>119</td></tr>\n",
       "</tbody>\n",
       "</table>\n"
      ],
      "text/latex": [
       "A data.frame: 198 × 5\n",
       "\\begin{tabular}{lllll}\n",
       " V1 & V2 & V3 & V4 & V5\\\\\n",
       " <dbl> & <dbl> & <int> & <dbl> & <int>\\\\\n",
       "\\hline\n",
       "\t -26.00 & 184.10 &  42 & 5.4 &  43\\\\\n",
       "\t -20.70 & 169.92 & 139 & 6.1 &  94\\\\\n",
       "\t -13.64 & 165.96 &  50 & 6.0 &  83\\\\\n",
       "\t -19.66 & 180.28 & 431 & 5.4 &  57\\\\\n",
       "\t -16.46 & 180.79 & 498 & 5.2 &  79\\\\\n",
       "\t -18.97 & 185.25 & 129 & 5.1 &  73\\\\\n",
       "\t -13.82 & 172.38 & 613 & 5.0 &  61\\\\\n",
       "\t -21.96 & 179.62 & 627 & 5.0 &  45\\\\\n",
       "\t -15.46 & 187.81 &  40 & 5.5 &  91\\\\\n",
       "\t -23.74 & 179.99 & 506 & 5.2 &  75\\\\\n",
       "\t -28.98 & 181.11 & 304 & 5.3 &  60\\\\\n",
       "\t -34.02 & 180.21 &  75 & 5.2 &  65\\\\\n",
       "\t -15.48 & 167.53 & 128 & 5.1 &  61\\\\\n",
       "\t -20.64 & 182.02 & 497 & 5.2 &  64\\\\\n",
       "\t -18.16 & 183.41 & 306 & 5.2 &  54\\\\\n",
       "\t -13.66 & 166.54 &  50 & 5.1 &  45\\\\\n",
       "\t -22.55 & 185.90 &  42 & 5.7 &  76\\\\\n",
       "\t -36.95 & 177.81 & 146 & 5.0 &  35\\\\\n",
       "\t -13.66 & 172.23 &  46 & 5.3 &  67\\\\\n",
       "\t -17.93 & 167.89 &  49 & 5.1 &  43\\\\\n",
       "\t -26.53 & 178.57 & 600 & 5.0 &  69\\\\\n",
       "\t -16.14 & 187.32 &  42 & 5.1 &  68\\\\\n",
       "\t -13.23 & 167.10 & 220 & 5.0 &  46\\\\\n",
       "\t -23.58 & 180.17 & 462 & 5.3 &  63\\\\\n",
       "\t -23.34 & 184.50 &  56 & 5.7 & 106\\\\\n",
       "\t -15.56 & 167.62 & 127 & 6.4 & 122\\\\\n",
       "\t -34.20 & 179.43 &  40 & 5.0 &  37\\\\\n",
       "\t -26.00 & 182.12 & 205 & 5.6 &  98\\\\\n",
       "\t -19.89 & 183.84 & 244 & 5.3 &  73\\\\\n",
       "\t -32.22 & 180.20 & 216 & 5.7 &  90\\\\\n",
       "\t ⋮ & ⋮ & ⋮ & ⋮ & ⋮\\\\\n",
       "\t -15.18 & 167.23 &  71 & 5.2 &  59\\\\\n",
       "\t -21.14 & 174.21 &  40 & 5.7 &  78\\\\\n",
       "\t -12.23 & 167.02 & 242 & 6.0 & 132\\\\\n",
       "\t -12.00 & 166.20 &  94 & 5.0 &  31\\\\\n",
       "\t -26.72 & 182.69 & 162 & 5.2 &  64\\\\\n",
       "\t -21.35 & 170.04 &  56 & 5.0 &  22\\\\\n",
       "\t -22.82 & 184.52 &  49 & 5.0 &  52\\\\\n",
       "\t -38.28 & 177.10 & 100 & 5.4 &  71\\\\\n",
       "\t -13.80 & 166.53 &  42 & 5.5 &  70\\\\\n",
       "\t -19.30 & 185.86 &  48 & 5.0 &  40\\\\\n",
       "\t -21.53 & 170.52 & 129 & 5.2 &  30\\\\\n",
       "\t -28.05 & 182.39 & 117 & 5.1 &  43\\\\\n",
       "\t -21.52 & 169.75 &  61 & 5.1 &  40\\\\\n",
       "\t -17.85 & 181.44 & 589 & 5.6 & 115\\\\\n",
       "\t -15.99 & 167.95 & 190 & 5.3 &  81\\\\\n",
       "\t -20.56 & 184.41 & 138 & 5.0 &  82\\\\\n",
       "\t -27.64 & 182.22 & 162 & 5.1 &  67\\\\\n",
       "\t -29.33 & 182.72 &  57 & 5.4 &  61\\\\\n",
       "\t -20.25 & 184.75 & 107 & 5.6 & 121\\\\\n",
       "\t -19.33 & 186.16 &  44 & 5.4 & 110\\\\\n",
       "\t -22.41 & 183.99 & 128 & 5.2 &  72\\\\\n",
       "\t -23.60 & 183.99 & 118 & 5.4 &  88\\\\\n",
       "\t -27.89 & 182.92 &  87 & 5.5 &  67\\\\\n",
       "\t -35.94 & 178.52 & 138 & 5.5 &  78\\\\\n",
       "\t -22.04 & 183.95 & 109 & 5.4 &  61\\\\\n",
       "\t -23.95 & 184.64 &  43 & 5.4 &  45\\\\\n",
       "\t -23.75 & 184.50 &  54 & 5.2 &  74\\\\\n",
       "\t -20.82 & 181.67 & 577 & 5.0 &  67\\\\\n",
       "\t -22.33 & 171.66 & 125 & 5.2 &  51\\\\\n",
       "\t -21.59 & 170.56 & 165 & 6.0 & 119\\\\\n",
       "\\end{tabular}\n"
      ],
      "text/markdown": [
       "\n",
       "A data.frame: 198 × 5\n",
       "\n",
       "| V1 &lt;dbl&gt; | V2 &lt;dbl&gt; | V3 &lt;int&gt; | V4 &lt;dbl&gt; | V5 &lt;int&gt; |\n",
       "|---|---|---|---|---|\n",
       "| -26.00 | 184.10 |  42 | 5.4 |  43 |\n",
       "| -20.70 | 169.92 | 139 | 6.1 |  94 |\n",
       "| -13.64 | 165.96 |  50 | 6.0 |  83 |\n",
       "| -19.66 | 180.28 | 431 | 5.4 |  57 |\n",
       "| -16.46 | 180.79 | 498 | 5.2 |  79 |\n",
       "| -18.97 | 185.25 | 129 | 5.1 |  73 |\n",
       "| -13.82 | 172.38 | 613 | 5.0 |  61 |\n",
       "| -21.96 | 179.62 | 627 | 5.0 |  45 |\n",
       "| -15.46 | 187.81 |  40 | 5.5 |  91 |\n",
       "| -23.74 | 179.99 | 506 | 5.2 |  75 |\n",
       "| -28.98 | 181.11 | 304 | 5.3 |  60 |\n",
       "| -34.02 | 180.21 |  75 | 5.2 |  65 |\n",
       "| -15.48 | 167.53 | 128 | 5.1 |  61 |\n",
       "| -20.64 | 182.02 | 497 | 5.2 |  64 |\n",
       "| -18.16 | 183.41 | 306 | 5.2 |  54 |\n",
       "| -13.66 | 166.54 |  50 | 5.1 |  45 |\n",
       "| -22.55 | 185.90 |  42 | 5.7 |  76 |\n",
       "| -36.95 | 177.81 | 146 | 5.0 |  35 |\n",
       "| -13.66 | 172.23 |  46 | 5.3 |  67 |\n",
       "| -17.93 | 167.89 |  49 | 5.1 |  43 |\n",
       "| -26.53 | 178.57 | 600 | 5.0 |  69 |\n",
       "| -16.14 | 187.32 |  42 | 5.1 |  68 |\n",
       "| -13.23 | 167.10 | 220 | 5.0 |  46 |\n",
       "| -23.58 | 180.17 | 462 | 5.3 |  63 |\n",
       "| -23.34 | 184.50 |  56 | 5.7 | 106 |\n",
       "| -15.56 | 167.62 | 127 | 6.4 | 122 |\n",
       "| -34.20 | 179.43 |  40 | 5.0 |  37 |\n",
       "| -26.00 | 182.12 | 205 | 5.6 |  98 |\n",
       "| -19.89 | 183.84 | 244 | 5.3 |  73 |\n",
       "| -32.22 | 180.20 | 216 | 5.7 |  90 |\n",
       "| ⋮ | ⋮ | ⋮ | ⋮ | ⋮ |\n",
       "| -15.18 | 167.23 |  71 | 5.2 |  59 |\n",
       "| -21.14 | 174.21 |  40 | 5.7 |  78 |\n",
       "| -12.23 | 167.02 | 242 | 6.0 | 132 |\n",
       "| -12.00 | 166.20 |  94 | 5.0 |  31 |\n",
       "| -26.72 | 182.69 | 162 | 5.2 |  64 |\n",
       "| -21.35 | 170.04 |  56 | 5.0 |  22 |\n",
       "| -22.82 | 184.52 |  49 | 5.0 |  52 |\n",
       "| -38.28 | 177.10 | 100 | 5.4 |  71 |\n",
       "| -13.80 | 166.53 |  42 | 5.5 |  70 |\n",
       "| -19.30 | 185.86 |  48 | 5.0 |  40 |\n",
       "| -21.53 | 170.52 | 129 | 5.2 |  30 |\n",
       "| -28.05 | 182.39 | 117 | 5.1 |  43 |\n",
       "| -21.52 | 169.75 |  61 | 5.1 |  40 |\n",
       "| -17.85 | 181.44 | 589 | 5.6 | 115 |\n",
       "| -15.99 | 167.95 | 190 | 5.3 |  81 |\n",
       "| -20.56 | 184.41 | 138 | 5.0 |  82 |\n",
       "| -27.64 | 182.22 | 162 | 5.1 |  67 |\n",
       "| -29.33 | 182.72 |  57 | 5.4 |  61 |\n",
       "| -20.25 | 184.75 | 107 | 5.6 | 121 |\n",
       "| -19.33 | 186.16 |  44 | 5.4 | 110 |\n",
       "| -22.41 | 183.99 | 128 | 5.2 |  72 |\n",
       "| -23.60 | 183.99 | 118 | 5.4 |  88 |\n",
       "| -27.89 | 182.92 |  87 | 5.5 |  67 |\n",
       "| -35.94 | 178.52 | 138 | 5.5 |  78 |\n",
       "| -22.04 | 183.95 | 109 | 5.4 |  61 |\n",
       "| -23.95 | 184.64 |  43 | 5.4 |  45 |\n",
       "| -23.75 | 184.50 |  54 | 5.2 |  74 |\n",
       "| -20.82 | 181.67 | 577 | 5.0 |  67 |\n",
       "| -22.33 | 171.66 | 125 | 5.2 |  51 |\n",
       "| -21.59 | 170.56 | 165 | 6.0 | 119 |\n",
       "\n"
      ],
      "text/plain": [
       "    V1     V2     V3  V4  V5 \n",
       "1   -26.00 184.10  42 5.4  43\n",
       "2   -20.70 169.92 139 6.1  94\n",
       "3   -13.64 165.96  50 6.0  83\n",
       "4   -19.66 180.28 431 5.4  57\n",
       "5   -16.46 180.79 498 5.2  79\n",
       "6   -18.97 185.25 129 5.1  73\n",
       "7   -13.82 172.38 613 5.0  61\n",
       "8   -21.96 179.62 627 5.0  45\n",
       "9   -15.46 187.81  40 5.5  91\n",
       "10  -23.74 179.99 506 5.2  75\n",
       "11  -28.98 181.11 304 5.3  60\n",
       "12  -34.02 180.21  75 5.2  65\n",
       "13  -15.48 167.53 128 5.1  61\n",
       "14  -20.64 182.02 497 5.2  64\n",
       "15  -18.16 183.41 306 5.2  54\n",
       "16  -13.66 166.54  50 5.1  45\n",
       "17  -22.55 185.90  42 5.7  76\n",
       "18  -36.95 177.81 146 5.0  35\n",
       "19  -13.66 172.23  46 5.3  67\n",
       "20  -17.93 167.89  49 5.1  43\n",
       "21  -26.53 178.57 600 5.0  69\n",
       "22  -16.14 187.32  42 5.1  68\n",
       "23  -13.23 167.10 220 5.0  46\n",
       "24  -23.58 180.17 462 5.3  63\n",
       "25  -23.34 184.50  56 5.7 106\n",
       "26  -15.56 167.62 127 6.4 122\n",
       "27  -34.20 179.43  40 5.0  37\n",
       "28  -26.00 182.12 205 5.6  98\n",
       "29  -19.89 183.84 244 5.3  73\n",
       "30  -32.22 180.20 216 5.7  90\n",
       "⋮   ⋮      ⋮      ⋮   ⋮   ⋮  \n",
       "169 -15.18 167.23  71 5.2  59\n",
       "170 -21.14 174.21  40 5.7  78\n",
       "171 -12.23 167.02 242 6.0 132\n",
       "172 -12.00 166.20  94 5.0  31\n",
       "173 -26.72 182.69 162 5.2  64\n",
       "174 -21.35 170.04  56 5.0  22\n",
       "175 -22.82 184.52  49 5.0  52\n",
       "176 -38.28 177.10 100 5.4  71\n",
       "177 -13.80 166.53  42 5.5  70\n",
       "178 -19.30 185.86  48 5.0  40\n",
       "179 -21.53 170.52 129 5.2  30\n",
       "180 -28.05 182.39 117 5.1  43\n",
       "181 -21.52 169.75  61 5.1  40\n",
       "182 -17.85 181.44 589 5.6 115\n",
       "183 -15.99 167.95 190 5.3  81\n",
       "184 -20.56 184.41 138 5.0  82\n",
       "185 -27.64 182.22 162 5.1  67\n",
       "186 -29.33 182.72  57 5.4  61\n",
       "187 -20.25 184.75 107 5.6 121\n",
       "188 -19.33 186.16  44 5.4 110\n",
       "189 -22.41 183.99 128 5.2  72\n",
       "190 -23.60 183.99 118 5.4  88\n",
       "191 -27.89 182.92  87 5.5  67\n",
       "192 -35.94 178.52 138 5.5  78\n",
       "193 -22.04 183.95 109 5.4  61\n",
       "194 -23.95 184.64  43 5.4  45\n",
       "195 -23.75 184.50  54 5.2  74\n",
       "196 -20.82 181.67 577 5.0  67\n",
       "197 -22.33 171.66 125 5.2  51\n",
       "198 -21.59 170.56 165 6.0 119"
      ]
     },
     "metadata": {},
     "output_type": "display_data"
    }
   ],
   "source": [
    "q5.dframe"
   ]
  },
  {
   "cell_type": "markdown",
   "id": "7d37ec18",
   "metadata": {},
   "source": [
    "## b"
   ]
  },
  {
   "cell_type": "code",
   "execution_count": 46,
   "id": "26845a99",
   "metadata": {},
   "outputs": [
    {
     "name": "stderr",
     "output_type": "stream",
     "text": [
      "Loading required package: carData\n",
      "\n"
     ]
    }
   ],
   "source": [
    "#i\n"
   ]
  },
  {
   "cell_type": "code",
   "execution_count": 48,
   "id": "13179a70",
   "metadata": {},
   "outputs": [],
   "source": [
    "?Duncan"
   ]
  },
  {
   "cell_type": "code",
   "execution_count": 49,
   "id": "f0f11851",
   "metadata": {},
   "outputs": [
    {
     "data": {
      "text/html": [
       "<table class=\"dataframe\">\n",
       "<caption>A data.frame: 6 × 4</caption>\n",
       "<thead>\n",
       "\t<tr><th></th><th scope=col>type</th><th scope=col>income</th><th scope=col>education</th><th scope=col>prestige</th></tr>\n",
       "\t<tr><th></th><th scope=col>&lt;fct&gt;</th><th scope=col>&lt;int&gt;</th><th scope=col>&lt;int&gt;</th><th scope=col>&lt;int&gt;</th></tr>\n",
       "</thead>\n",
       "<tbody>\n",
       "\t<tr><th scope=row>accountant</th><td>prof</td><td>62</td><td>86</td><td>82</td></tr>\n",
       "\t<tr><th scope=row>pilot</th><td>prof</td><td>72</td><td>76</td><td>83</td></tr>\n",
       "\t<tr><th scope=row>architect</th><td>prof</td><td>75</td><td>92</td><td>90</td></tr>\n",
       "\t<tr><th scope=row>author</th><td>prof</td><td>55</td><td>90</td><td>76</td></tr>\n",
       "\t<tr><th scope=row>chemist</th><td>prof</td><td>64</td><td>86</td><td>90</td></tr>\n",
       "\t<tr><th scope=row>minister</th><td>prof</td><td>21</td><td>84</td><td>87</td></tr>\n",
       "</tbody>\n",
       "</table>\n"
      ],
      "text/latex": [
       "A data.frame: 6 × 4\n",
       "\\begin{tabular}{r|llll}\n",
       "  & type & income & education & prestige\\\\\n",
       "  & <fct> & <int> & <int> & <int>\\\\\n",
       "\\hline\n",
       "\taccountant & prof & 62 & 86 & 82\\\\\n",
       "\tpilot & prof & 72 & 76 & 83\\\\\n",
       "\tarchitect & prof & 75 & 92 & 90\\\\\n",
       "\tauthor & prof & 55 & 90 & 76\\\\\n",
       "\tchemist & prof & 64 & 86 & 90\\\\\n",
       "\tminister & prof & 21 & 84 & 87\\\\\n",
       "\\end{tabular}\n"
      ],
      "text/markdown": [
       "\n",
       "A data.frame: 6 × 4\n",
       "\n",
       "| <!--/--> | type &lt;fct&gt; | income &lt;int&gt; | education &lt;int&gt; | prestige &lt;int&gt; |\n",
       "|---|---|---|---|---|\n",
       "| accountant | prof | 62 | 86 | 82 |\n",
       "| pilot | prof | 72 | 76 | 83 |\n",
       "| architect | prof | 75 | 92 | 90 |\n",
       "| author | prof | 55 | 90 | 76 |\n",
       "| chemist | prof | 64 | 86 | 90 |\n",
       "| minister | prof | 21 | 84 | 87 |\n",
       "\n"
      ],
      "text/plain": [
       "           type income education prestige\n",
       "accountant prof 62     86        82      \n",
       "pilot      prof 72     76        83      \n",
       "architect  prof 75     92        90      \n",
       "author     prof 55     90        76      \n",
       "chemist    prof 64     86        90      \n",
       "minister   prof 21     84        87      "
      ]
     },
     "metadata": {},
     "output_type": "display_data"
    }
   ],
   "source": [
    "head(Duncan)"
   ]
  },
  {
   "cell_type": "code",
   "execution_count": 60,
   "id": "8947d10c",
   "metadata": {},
   "outputs": [],
   "source": [
    "Duncan.Prestige.Factor <- rep(NA, length=(nrow(Duncan)))"
   ]
  },
  {
   "cell_type": "code",
   "execution_count": 65,
   "id": "bc14ad2f",
   "metadata": {},
   "outputs": [],
   "source": [
    "Duncan.Prestige.Factor[Duncan$prestige >= 80] <- \"High\""
   ]
  },
  {
   "cell_type": "code",
   "execution_count": 66,
   "id": "8ebb6f4f",
   "metadata": {},
   "outputs": [],
   "source": [
    "Duncan.Prestige.Factor[Duncan$prestige < 80] <- \"Low\""
   ]
  },
  {
   "cell_type": "code",
   "execution_count": 68,
   "id": "01982add",
   "metadata": {},
   "outputs": [],
   "source": [
    "Duncan.Prestige.Factor <- factor(Duncan.Prestige.Factor)"
   ]
  },
  {
   "cell_type": "code",
   "execution_count": 69,
   "id": "b5284a61",
   "metadata": {},
   "outputs": [
    {
     "data": {
      "text/html": [
       "<style>\n",
       ".list-inline {list-style: none; margin:0; padding: 0}\n",
       ".list-inline>li {display: inline-block}\n",
       ".list-inline>li:not(:last-child)::after {content: \"\\00b7\"; padding: 0 .5ex}\n",
       "</style>\n",
       "<ol class=list-inline><li>High</li><li>High</li><li>High</li><li>Low</li><li>High</li><li>High</li><li>High</li><li>High</li><li>Low</li><li>High</li><li>Low</li><li>High</li><li>High</li><li>Low</li><li>Low</li><li>Low</li><li>Low</li><li>High</li><li>Low</li><li>High</li><li>Low</li><li>Low</li><li>Low</li><li>Low</li><li>Low</li><li>Low</li><li>Low</li><li>Low</li><li>Low</li><li>Low</li><li>Low</li><li>Low</li><li>Low</li><li>Low</li><li>Low</li><li>Low</li><li>Low</li><li>Low</li><li>Low</li><li>Low</li><li>Low</li><li>Low</li><li>Low</li><li>Low</li><li>Low</li></ol>\n",
       "\n",
       "<details>\n",
       "\t<summary style=display:list-item;cursor:pointer>\n",
       "\t\t<strong>Levels</strong>:\n",
       "\t</summary>\n",
       "\t<style>\n",
       "\t.list-inline {list-style: none; margin:0; padding: 0}\n",
       "\t.list-inline>li {display: inline-block}\n",
       "\t.list-inline>li:not(:last-child)::after {content: \"\\00b7\"; padding: 0 .5ex}\n",
       "\t</style>\n",
       "\t<ol class=list-inline><li>'High'</li><li>'Low'</li></ol>\n",
       "</details>"
      ],
      "text/latex": [
       "\\begin{enumerate*}\n",
       "\\item High\n",
       "\\item High\n",
       "\\item High\n",
       "\\item Low\n",
       "\\item High\n",
       "\\item High\n",
       "\\item High\n",
       "\\item High\n",
       "\\item Low\n",
       "\\item High\n",
       "\\item Low\n",
       "\\item High\n",
       "\\item High\n",
       "\\item Low\n",
       "\\item Low\n",
       "\\item Low\n",
       "\\item Low\n",
       "\\item High\n",
       "\\item Low\n",
       "\\item High\n",
       "\\item Low\n",
       "\\item Low\n",
       "\\item Low\n",
       "\\item Low\n",
       "\\item Low\n",
       "\\item Low\n",
       "\\item Low\n",
       "\\item Low\n",
       "\\item Low\n",
       "\\item Low\n",
       "\\item Low\n",
       "\\item Low\n",
       "\\item Low\n",
       "\\item Low\n",
       "\\item Low\n",
       "\\item Low\n",
       "\\item Low\n",
       "\\item Low\n",
       "\\item Low\n",
       "\\item Low\n",
       "\\item Low\n",
       "\\item Low\n",
       "\\item Low\n",
       "\\item Low\n",
       "\\item Low\n",
       "\\end{enumerate*}\n",
       "\n",
       "\\emph{Levels}: \\begin{enumerate*}\n",
       "\\item 'High'\n",
       "\\item 'Low'\n",
       "\\end{enumerate*}\n"
      ],
      "text/markdown": [
       "1. High\n",
       "2. High\n",
       "3. High\n",
       "4. Low\n",
       "5. High\n",
       "6. High\n",
       "7. High\n",
       "8. High\n",
       "9. Low\n",
       "10. High\n",
       "11. Low\n",
       "12. High\n",
       "13. High\n",
       "14. Low\n",
       "15. Low\n",
       "16. Low\n",
       "17. Low\n",
       "18. High\n",
       "19. Low\n",
       "20. High\n",
       "21. Low\n",
       "22. Low\n",
       "23. Low\n",
       "24. Low\n",
       "25. Low\n",
       "26. Low\n",
       "27. Low\n",
       "28. Low\n",
       "29. Low\n",
       "30. Low\n",
       "31. Low\n",
       "32. Low\n",
       "33. Low\n",
       "34. Low\n",
       "35. Low\n",
       "36. Low\n",
       "37. Low\n",
       "38. Low\n",
       "39. Low\n",
       "40. Low\n",
       "41. Low\n",
       "42. Low\n",
       "43. Low\n",
       "44. Low\n",
       "45. Low\n",
       "\n",
       "\n",
       "\n",
       "**Levels**: 1. 'High'\n",
       "2. 'Low'\n",
       "\n",
       "\n"
      ],
      "text/plain": [
       " [1] High High High Low  High High High High Low  High Low  High High Low  Low \n",
       "[16] Low  Low  High Low  High Low  Low  Low  Low  Low  Low  Low  Low  Low  Low \n",
       "[31] Low  Low  Low  Low  Low  Low  Low  Low  Low  Low  Low  Low  Low  Low  Low \n",
       "Levels: High Low"
      ]
     },
     "metadata": {},
     "output_type": "display_data"
    }
   ],
   "source": [
    "Duncan.Prestige.Factor"
   ]
  },
  {
   "cell_type": "code",
   "execution_count": 70,
   "id": "f9855ca6",
   "metadata": {},
   "outputs": [
    {
     "data": {
      "image/png": "[encoded data removed]",
      "text/plain": [
       "plot without title"
      ]
     },
     "metadata": {
      "image/png": {
       "height": 420,
       "width": 420
      }
     },
     "output_type": "display_data"
    }
   ],
   "source": [
    "qplot(Duncan$education, Duncan$income, color=Duncan.Prestige.Factor)"
   ]
  },
  {
   "cell_type": "code",
   "execution_count": 107,
   "id": "95691186",
   "metadata": {},
   "outputs": [
    {
     "data": {
      "image/png": "[encoded data removed]",
      "text/plain": [
       "plot without title"
      ]
     },
     "metadata": {
      "image/png": {
       "height": 420,
       "width": 420
      }
     },
     "output_type": "display_data"
    }
   ],
   "source": [
    "qplot(Duncan$education, Duncan$income, color=Duncan.Prestige.Factor) + \n",
    "xlim(0,100) + ylim(0,100) + xlab(\"Education\") + \n",
    "ylab(\"Income\") + ggtitle(\"Income vs. Education\")"
   ]
  },
  {
   "cell_type": "code",
   "execution_count": 109,
   "id": "003c3997",
   "metadata": {},
   "outputs": [
    {
     "data": {
      "image/png": "[encoded data removed]",
      "text/plain": [
       "plot without title"
      ]
     },
     "metadata": {
      "image/png": {
       "height": 420,
       "width": 420
      }
     },
     "output_type": "display_data"
    }
   ],
   "source": [
    "plot(Duncan$education[Duncan$prestige<=80],Duncan$income[Duncan$prestige<=80],xlim=c(0,100),ylim=c(0,100),xlab=\"Education\",ylab=\"Income\")\n",
    "points(Duncan$education[Duncan$prestige>80],Duncan$income[Duncan$prestige>80],pch=19,col=\"blue\")\n",
    "legend(\"topleft\",legend=c(\"prestige > 80\",\"prestige <= 80\"),pch=c(19,1),col=c(\"blue\",\"black\"))"
   ]
  },
  {
   "cell_type": "code",
   "execution_count": 110,
   "id": "0c1035db",
   "metadata": {},
   "outputs": [
    {
     "data": {
      "text/html": [
       "<strong>png:</strong> 2"
      ],
      "text/latex": [
       "\\textbf{png:} 2"
      ],
      "text/markdown": [
       "**png:** 2"
      ],
      "text/plain": [
       "png \n",
       "  2 "
      ]
     },
     "metadata": {},
     "output_type": "display_data"
    }
   ],
   "source": [
    "png(\"8.1.b.png\",height=500,width=500)\n",
    "plot(Duncan$education[Duncan$prestige<=80],Duncan$income[Duncan$prestige<=80],xlim=c(0,100),ylim=c(0,100),xlab=\"Education\",ylab=\"Income\")\n",
    "points(Duncan$education[Duncan$prestige>80],Duncan$income[Duncan$prestige>80],pch=19,col=\"blue\")\n",
    "legend(\"topleft\",legend=c(\"prestige > 80\",\"prestige <= 80\"),pch=c(19,1),col=c(\"blue\",\"black\"))\n",
    "dev.off()"
   ]
  },
  {
   "cell_type": "markdown",
   "id": "eeeaea56",
   "metadata": {},
   "source": [
    "### C"
   ]
  },
  {
   "cell_type": "code",
   "execution_count": 112,
   "id": "e401bb0b",
   "metadata": {},
   "outputs": [],
   "source": [
    "exer <- list(quakes, q5.dframe, Duncan)"
   ]
  },
  {
   "cell_type": "code",
   "execution_count": 114,
   "id": "2a628fb3",
   "metadata": {},
   "outputs": [],
   "source": [
    "dput(x=exer, file=\"Exercise8-1.txt\")"
   ]
  },
  {
   "cell_type": "code",
   "execution_count": 115,
   "id": "d1d6ca24",
   "metadata": {},
   "outputs": [],
   "source": [
    "list.of.dataframes <- dget(file = \"Exercise8-1.txt\")"
   ]
  },
  {
   "cell_type": "markdown",
   "id": "7ddb3857",
   "metadata": {},
   "source": [
    "### d"
   ]
  },
  {
   "cell_type": "code",
   "execution_count": 117,
   "id": "222a4cf5",
   "metadata": {},
   "outputs": [],
   "source": [
    "sex.vec <- c(\"female\",\"male\",\"male\",\"female\",\"male\",\"male\",\"female\",\"male\",\"male\",\"female\")\n",
    "sex.vec.fac <-factor(sex.vec)"
   ]
  },
  {
   "cell_type": "code",
   "execution_count": 118,
   "id": "1589ab6a",
   "metadata": {},
   "outputs": [],
   "source": [
    "b_df <- data.frame(\n",
    "    weight=c(55,85,75,42,93,63,58,75,89,67),\n",
    "    height=c(161,185,174,154,188,178,170,17,181,178),\n",
    "    sex=sex.vec.fac\n",
    ")"
   ]
  },
  {
   "cell_type": "code",
   "execution_count": 119,
   "id": "5a27e172",
   "metadata": {},
   "outputs": [
    {
     "data": {
      "image/png": "[encoded data removed]",
      "text/plain": [
       "plot without title"
      ]
     },
     "metadata": {
      "image/png": {
       "height": 420,
       "width": 420
      }
     },
     "output_type": "display_data"
    }
   ],
   "source": [
    "qplot(b_df$weight,b_df$height,color=b_df$sex,xlab = \"Weight\", ylab=\"Height\") + geom_point() +\n",
    "theme(legend.position=\"bottom\") + labs(color='sex')"
   ]
  },
  {
   "cell_type": "code",
   "execution_count": 120,
   "id": "2896a66e",
   "metadata": {},
   "outputs": [
    {
     "name": "stderr",
     "output_type": "stream",
     "text": [
      "Saving 6.67 x 6.67 in image\n",
      "\n"
     ]
    }
   ],
   "source": [
    "ggsave(\"weight_height.tiff\")"
   ]
  },
  {
   "cell_type": "code",
   "execution_count": null,
   "id": "f8585e2f",
   "metadata": {},
   "outputs": [],
   "source": []
  }
 ],
 "metadata": {
  "kernelspec": {
   "display_name": "R",
   "language": "R",
   "name": "ir"
  },
  "language_info": {
   "codemirror_mode": "r",
   "file_extension": ".r",
   "mimetype": "text/x-r-source",
   "name": "R",
   "pygments_lexer": "r",
   "version": "3.6.3"
  }
 },
 "nbformat": 4,
 "nbformat_minor": 5
}
